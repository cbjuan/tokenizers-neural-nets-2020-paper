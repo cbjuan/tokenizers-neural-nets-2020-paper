{
 "cells": [
  {
   "cell_type": "code",
   "execution_count": 1,
   "metadata": {
    "colab": {
     "base_uri": "https://localhost:8080/",
     "height": 34
    },
    "colab_type": "code",
    "executionInfo": {
     "elapsed": 13120,
     "status": "ok",
     "timestamp": 1597942478143,
     "user": {
      "displayName": "Juan Cruz Benito",
      "photoUrl": "https://lh3.googleusercontent.com/a-/AOh14GigYykdPwcdpDFRrHCJKUA0O1J-WMCBr6bE1yEgLg=s64",
      "userId": "12666034062746600529"
     },
     "user_tz": -120
    },
    "id": "-zwfLakOt-Wf",
    "outputId": "af390e2d-8ca8-4311-8bae-18161188221d"
   },
   "outputs": [
    {
     "name": "stdout",
     "output_type": "stream",
     "text": [
      "Current cuda device in use:  0\n"
     ]
    }
   ],
   "source": [
    "import torch\n",
    "print ('Current cuda device in use: ', torch.cuda.current_device())"
   ]
  },
  {
   "cell_type": "code",
   "execution_count": 2,
   "metadata": {
    "colab": {},
    "colab_type": "code",
    "executionInfo": {
     "elapsed": 13816,
     "status": "ok",
     "timestamp": 1597942478869,
     "user": {
      "displayName": "Juan Cruz Benito",
      "photoUrl": "https://lh3.googleusercontent.com/a-/AOh14GigYykdPwcdpDFRrHCJKUA0O1J-WMCBr6bE1yEgLg=s64",
      "userId": "12666034062746600529"
     },
     "user_tz": -120
    },
    "id": "O1xN8ljUuE_H"
   },
   "outputs": [],
   "source": [
    "from fastai.text import *\n",
    "import sentencepiece as spm #https://github.com/google/sentencepiece\n",
    "import os"
   ]
  },
  {
   "cell_type": "code",
   "execution_count": 3,
   "metadata": {
    "colab": {},
    "colab_type": "code",
    "executionInfo": {
     "elapsed": 13800,
     "status": "ok",
     "timestamp": 1597942478881,
     "user": {
      "displayName": "Juan Cruz Benito",
      "photoUrl": "https://lh3.googleusercontent.com/a-/AOh14GigYykdPwcdpDFRrHCJKUA0O1J-WMCBr6bE1yEgLg=s64",
      "userId": "12666034062746600529"
     },
     "user_tz": -120
    },
    "id": "Xmp7yJ4huHHi"
   },
   "outputs": [],
   "source": [
    "from tokenizer_utils import CustomTokenizer, SPTokenizer"
   ]
  },
  {
   "cell_type": "code",
   "execution_count": 4,
   "metadata": {
    "colab": {},
    "colab_type": "code",
    "executionInfo": {
     "elapsed": 13779,
     "status": "ok",
     "timestamp": 1597942478888,
     "user": {
      "displayName": "Juan Cruz Benito",
      "photoUrl": "https://lh3.googleusercontent.com/a-/AOh14GigYykdPwcdpDFRrHCJKUA0O1J-WMCBr6bE1yEgLg=s64",
      "userId": "12666034062746600529"
     },
     "user_tz": -120
    },
    "id": "AZQiYVgluZAw"
   },
   "outputs": [],
   "source": [
    "vocab_size = 600\n",
    "model_prefix = 'unigram_model'"
   ]
  },
  {
   "cell_type": "code",
   "execution_count": 5,
   "metadata": {
    "colab": {
     "base_uri": "https://localhost:8080/",
     "height": 34
    },
    "colab_type": "code",
    "executionInfo": {
     "elapsed": 13731,
     "status": "ok",
     "timestamp": 1597942478893,
     "user": {
      "displayName": "Juan Cruz Benito",
      "photoUrl": "https://lh3.googleusercontent.com/a-/AOh14GigYykdPwcdpDFRrHCJKUA0O1J-WMCBr6bE1yEgLg=s64",
      "userId": "12666034062746600529"
     },
     "user_tz": -120
    },
    "id": "1xmvMyOyucAt",
    "outputId": "cb5d35df-319e-494a-9251-7ba1ef6595c9"
   },
   "outputs": [
    {
     "data": {
      "text/plain": [
       "True"
      ]
     },
     "execution_count": 5,
     "metadata": {},
     "output_type": "execute_result"
    }
   ],
   "source": [
    "## load up the Processor\n",
    "sp = spm.SentencePieceProcessor()\n",
    "sp.load(f'{model_prefix}.model')"
   ]
  },
  {
   "cell_type": "code",
   "execution_count": 6,
   "metadata": {
    "colab": {},
    "colab_type": "code",
    "executionInfo": {
     "elapsed": 13702,
     "status": "ok",
     "timestamp": 1597942478898,
     "user": {
      "displayName": "Juan Cruz Benito",
      "photoUrl": "https://lh3.googleusercontent.com/a-/AOh14GigYykdPwcdpDFRrHCJKUA0O1J-WMCBr6bE1yEgLg=s64",
      "userId": "12666034062746600529"
     },
     "user_tz": -120
    },
    "id": "u65dz1HgupEV"
   },
   "outputs": [],
   "source": [
    "itos = []\n",
    "with open(f'{model_prefix}.vocab','r') as f:\n",
    "    for line_num,line in enumerate(f):\n",
    "        itos.append(line.split(\"\\t\")[0])"
   ]
  },
  {
   "cell_type": "code",
   "execution_count": 7,
   "metadata": {
    "colab": {},
    "colab_type": "code",
    "executionInfo": {
     "elapsed": 13688,
     "status": "ok",
     "timestamp": 1597942478902,
     "user": {
      "displayName": "Juan Cruz Benito",
      "photoUrl": "https://lh3.googleusercontent.com/a-/AOh14GigYykdPwcdpDFRrHCJKUA0O1J-WMCBr6bE1yEgLg=s64",
      "userId": "12666034062746600529"
     },
     "user_tz": -120
    },
    "id": "uWYFP0kUu0Nq"
   },
   "outputs": [],
   "source": [
    "mycust_tok = CustomTokenizer(SPTokenizer, model_prefix)"
   ]
  },
  {
   "cell_type": "code",
   "execution_count": 8,
   "metadata": {
    "colab": {},
    "colab_type": "code",
    "executionInfo": {
     "elapsed": 13675,
     "status": "ok",
     "timestamp": 1597942478908,
     "user": {
      "displayName": "Juan Cruz Benito",
      "photoUrl": "https://lh3.googleusercontent.com/a-/AOh14GigYykdPwcdpDFRrHCJKUA0O1J-WMCBr6bE1yEgLg=s64",
      "userId": "12666034062746600529"
     },
     "user_tz": -120
    },
    "id": "YHAqN0m9u2kb"
   },
   "outputs": [],
   "source": [
    "#setup Vocab object for use in LM\n",
    "sp_vocab = Vocab(itos)"
   ]
  },
  {
   "cell_type": "code",
   "execution_count": 9,
   "metadata": {
    "colab": {},
    "colab_type": "code",
    "executionInfo": {
     "elapsed": 4229,
     "status": "ok",
     "timestamp": 1597942483178,
     "user": {
      "displayName": "Juan Cruz Benito",
      "photoUrl": "https://lh3.googleusercontent.com/a-/AOh14GigYykdPwcdpDFRrHCJKUA0O1J-WMCBr6bE1yEgLg=s64",
      "userId": "12666034062746600529"
     },
     "user_tz": -120
    },
    "id": "KrCaXbmJu4Sc"
   },
   "outputs": [],
   "source": [
    "data = load_data('./','20200811_unigram_model_databunch_data_save.pkl', bs=1200) "
   ]
  },
  {
   "cell_type": "code",
   "execution_count": 10,
   "metadata": {
    "colab": {
     "base_uri": "https://localhost:8080/",
     "height": 72
    },
    "colab_type": "code",
    "executionInfo": {
     "elapsed": 10077,
     "status": "ok",
     "timestamp": 1597942489079,
     "user": {
      "displayName": "Juan Cruz Benito",
      "photoUrl": "https://lh3.googleusercontent.com/a-/AOh14GigYykdPwcdpDFRrHCJKUA0O1J-WMCBr6bE1yEgLg=s64",
      "userId": "12666034062746600529"
     },
     "user_tz": -120
    },
    "id": "dAzTGUnCvG4v",
    "outputId": "ef3d9415-77e1-4f1a-9219-07838729f3bf",
    "scrolled": false
   },
   "outputs": [],
   "source": [
    "config = awd_lstm_lm_config.copy()\n",
    "config['qrnn'] = True\n",
    "\n",
    "learn = language_model_learner(data, AWD_LSTM, pretrained=False, config=config, drop_mult=0.3)"
   ]
  },
  {
   "cell_type": "code",
   "execution_count": 11,
   "metadata": {
    "colab": {
     "base_uri": "https://localhost:8080/",
     "height": 833
    },
    "colab_type": "code",
    "executionInfo": {
     "elapsed": 10021,
     "status": "ok",
     "timestamp": 1597942489088,
     "user": {
      "displayName": "Juan Cruz Benito",
      "photoUrl": "https://lh3.googleusercontent.com/a-/AOh14GigYykdPwcdpDFRrHCJKUA0O1J-WMCBr6bE1yEgLg=s64",
      "userId": "12666034062746600529"
     },
     "user_tz": -120
    },
    "id": "vyA0TaHIxFkY",
    "outputId": "d390dec3-1701-48fc-fbe2-aae688590513"
   },
   "outputs": [
    {
     "name": "stdout",
     "output_type": "stream",
     "text": [
      "SequentialRNN(\n",
      "  (0): AWD_LSTM(\n",
      "    (encoder): Embedding(600, 400, padding_idx=1)\n",
      "    (encoder_dp): EmbeddingDropout(\n",
      "      (emb): Embedding(600, 400, padding_idx=1)\n",
      "    )\n",
      "    (rnns): ModuleList(\n",
      "      (0): QRNN(\n",
      "        (layers): ModuleList(\n",
      "          (0): QRNNLayer(\n",
      "            (linear): WeightDropout(\n",
      "              (module): Linear(in_features=800, out_features=3456, bias=True)\n",
      "            )\n",
      "          )\n",
      "        )\n",
      "      )\n",
      "      (1): QRNN(\n",
      "        (layers): ModuleList(\n",
      "          (0): QRNNLayer(\n",
      "            (linear): WeightDropout(\n",
      "              (module): Linear(in_features=1152, out_features=3456, bias=True)\n",
      "            )\n",
      "          )\n",
      "        )\n",
      "      )\n",
      "      (2): QRNN(\n",
      "        (layers): ModuleList(\n",
      "          (0): QRNNLayer(\n",
      "            (linear): WeightDropout(\n",
      "              (module): Linear(in_features=1152, out_features=1200, bias=True)\n",
      "            )\n",
      "          )\n",
      "        )\n",
      "      )\n",
      "    )\n",
      "    (input_dp): RNNDropout()\n",
      "    (hidden_dps): ModuleList(\n",
      "      (0): RNNDropout()\n",
      "      (1): RNNDropout()\n",
      "      (2): RNNDropout()\n",
      "    )\n",
      "  )\n",
      "  (1): LinearDecoder(\n",
      "    (decoder): Linear(in_features=400, out_features=600, bias=True)\n",
      "    (output_dp): RNNDropout()\n",
      "  )\n",
      ")\n"
     ]
    }
   ],
   "source": [
    "print(learn.model)"
   ]
  },
  {
   "cell_type": "code",
   "execution_count": 12,
   "metadata": {
    "colab": {
     "base_uri": "https://localhost:8080/",
     "height": 113
    },
    "colab_type": "code",
    "executionInfo": {
     "elapsed": 91843,
     "status": "ok",
     "timestamp": 1597942570955,
     "user": {
      "displayName": "Juan Cruz Benito",
      "photoUrl": "https://lh3.googleusercontent.com/a-/AOh14GigYykdPwcdpDFRrHCJKUA0O1J-WMCBr6bE1yEgLg=s64",
      "userId": "12666034062746600529"
     },
     "user_tz": -120
    },
    "id": "TrD7DLrBxQd1",
    "outputId": "d5b42c0e-d719-48c6-b49b-624cf837d115"
   },
   "outputs": [
    {
     "data": {
      "text/html": [
       "\n",
       "    <div>\n",
       "        <style>\n",
       "            /* Turns off some styling */\n",
       "            progress {\n",
       "                /* gets rid of default border in Firefox and Opera. */\n",
       "                border: none;\n",
       "                /* Needs to be in here for Safari polyfill so background images work as expected. */\n",
       "                background-size: auto;\n",
       "            }\n",
       "            .progress-bar-interrupted, .progress-bar-interrupted::-webkit-progress-bar {\n",
       "                background: #F44336;\n",
       "            }\n",
       "        </style>\n",
       "      <progress value='0' class='' max='1', style='width:300px; height:20px; vertical-align: middle;'></progress>\n",
       "      0.00% [0/1 00:00<00:00]\n",
       "    </div>\n",
       "    \n",
       "<table border=\"1\" class=\"dataframe\">\n",
       "  <thead>\n",
       "    <tr style=\"text-align: left;\">\n",
       "      <th>epoch</th>\n",
       "      <th>train_loss</th>\n",
       "      <th>valid_loss</th>\n",
       "      <th>accuracy</th>\n",
       "      <th>time</th>\n",
       "    </tr>\n",
       "  </thead>\n",
       "  <tbody>\n",
       "  </tbody>\n",
       "</table><p>\n",
       "\n",
       "    <div>\n",
       "        <style>\n",
       "            /* Turns off some styling */\n",
       "            progress {\n",
       "                /* gets rid of default border in Firefox and Opera. */\n",
       "                border: none;\n",
       "                /* Needs to be in here for Safari polyfill so background images work as expected. */\n",
       "                background-size: auto;\n",
       "            }\n",
       "            .progress-bar-interrupted, .progress-bar-interrupted::-webkit-progress-bar {\n",
       "                background: #F44336;\n",
       "            }\n",
       "        </style>\n",
       "      <progress value='99' class='' max='1597', style='width:300px; height:20px; vertical-align: middle;'></progress>\n",
       "      6.20% [99/1597 00:46<11:39 13.9912]\n",
       "    </div>\n",
       "    "
      ],
      "text/plain": [
       "<IPython.core.display.HTML object>"
      ]
     },
     "metadata": {},
     "output_type": "display_data"
    },
    {
     "name": "stdout",
     "output_type": "stream",
     "text": [
      "LR Finder is complete, type {learner_name}.recorder.plot() to see the graph.\n"
     ]
    }
   ],
   "source": [
    "learn.lr_find()"
   ]
  },
  {
   "cell_type": "code",
   "execution_count": 13,
   "metadata": {
    "colab": {
     "base_uri": "https://localhost:8080/",
     "height": 314
    },
    "colab_type": "code",
    "executionInfo": {
     "elapsed": 92272,
     "status": "ok",
     "timestamp": 1597942571427,
     "user": {
      "displayName": "Juan Cruz Benito",
      "photoUrl": "https://lh3.googleusercontent.com/a-/AOh14GigYykdPwcdpDFRrHCJKUA0O1J-WMCBr6bE1yEgLg=s64",
      "userId": "12666034062746600529"
     },
     "user_tz": -120
    },
    "id": "S3Y3W6c4xRm6",
    "outputId": "e84f1562-cd2c-4563-ec14-c68c3d715a94"
   },
   "outputs": [
    {
     "name": "stdout",
     "output_type": "stream",
     "text": [
      "Min numerical gradient: 1.45E-03\n",
      "Min loss divided by 10: 3.02E-02\n"
     ]
    },
    {
     "data": {
      "image/png": "[encoded data removed]",
      "text/plain": [
       "<Figure size 432x288 with 1 Axes>"
      ]
     },
     "metadata": {
      "needs_background": "light"
     },
     "output_type": "display_data"
    }
   ],
   "source": [
    "learn.recorder.plot(suggestion=True)"
   ]
  },
  {
   "cell_type": "code",
   "execution_count": 14,
   "metadata": {
    "colab": {
     "base_uri": "https://localhost:8080/",
     "height": 81
    },
    "colab_type": "code",
    "executionInfo": {
     "elapsed": 537483,
     "status": "ok",
     "timestamp": 1597943123599,
     "user": {
      "displayName": "Juan Cruz Benito",
      "photoUrl": "https://lh3.googleusercontent.com/a-/AOh14GigYykdPwcdpDFRrHCJKUA0O1J-WMCBr6bE1yEgLg=s64",
      "userId": "12666034062746600529"
     },
     "user_tz": -120
    },
    "id": "Zcodm6pzx2my",
    "outputId": "009916f9-1b61-4507-93ee-f258c8dc5c46"
   },
   "outputs": [
    {
     "data": {
      "text/html": [
       "<table border=\"1\" class=\"dataframe\">\n",
       "  <thead>\n",
       "    <tr style=\"text-align: left;\">\n",
       "      <th>epoch</th>\n",
       "      <th>train_loss</th>\n",
       "      <th>valid_loss</th>\n",
       "      <th>accuracy</th>\n",
       "      <th>time</th>\n",
       "    </tr>\n",
       "  </thead>\n",
       "  <tbody>\n",
       "    <tr>\n",
       "      <td>0</td>\n",
       "      <td>2.270355</td>\n",
       "      <td>2.278681</td>\n",
       "      <td>0.475198</td>\n",
       "      <td>13:58</td>\n",
       "    </tr>\n",
       "  </tbody>\n",
       "</table>"
      ],
      "text/plain": [
       "<IPython.core.display.HTML object>"
      ]
     },
     "metadata": {},
     "output_type": "display_data"
    }
   ],
   "source": [
    "learn.fit_one_cycle(1, slice(1e-2, 1e-3))"
   ]
  },
  {
   "cell_type": "code",
   "execution_count": 15,
   "metadata": {
    "colab": {},
    "colab_type": "code",
    "executionInfo": {
     "elapsed": 530087,
     "status": "ok",
     "timestamp": 1597943123604,
     "user": {
      "displayName": "Juan Cruz Benito",
      "photoUrl": "https://lh3.googleusercontent.com/a-/AOh14GigYykdPwcdpDFRrHCJKUA0O1J-WMCBr6bE1yEgLg=s64",
      "userId": "12666034062746600529"
     },
     "user_tz": -120
    },
    "id": "wzavpe7jyBWf"
   },
   "outputs": [],
   "source": [
    "learn.save('20200820_fit_head_unigram_model_qrnn')"
   ]
  },
  {
   "cell_type": "code",
   "execution_count": 16,
   "metadata": {
    "colab": {},
    "colab_type": "code",
    "executionInfo": {
     "elapsed": 529901,
     "status": "ok",
     "timestamp": 1597943123879,
     "user": {
      "displayName": "Juan Cruz Benito",
      "photoUrl": "https://lh3.googleusercontent.com/a-/AOh14GigYykdPwcdpDFRrHCJKUA0O1J-WMCBr6bE1yEgLg=s64",
      "userId": "12666034062746600529"
     },
     "user_tz": -120
    },
    "id": "E48aFe-NyFvy"
   },
   "outputs": [],
   "source": [
    "learn.load('20200820_fit_head_unigram_model_qrnn');"
   ]
  },
  {
   "cell_type": "code",
   "execution_count": 17,
   "metadata": {
    "colab": {},
    "colab_type": "code",
    "executionInfo": {
     "elapsed": 528989,
     "status": "ok",
     "timestamp": 1597943123881,
     "user": {
      "displayName": "Juan Cruz Benito",
      "photoUrl": "https://lh3.googleusercontent.com/a-/AOh14GigYykdPwcdpDFRrHCJKUA0O1J-WMCBr6bE1yEgLg=s64",
      "userId": "12666034062746600529"
     },
     "user_tz": -120
    },
    "id": "qO75m8IzyLib"
   },
   "outputs": [],
   "source": [
    "learn.unfreeze()"
   ]
  },
  {
   "cell_type": "code",
   "execution_count": 18,
   "metadata": {
    "colab": {
     "base_uri": "https://localhost:8080/",
     "height": 990
    },
    "colab_type": "code",
    "executionInfo": {
     "elapsed": 16114966,
     "status": "ok",
     "timestamp": 1597959238860,
     "user": {
      "displayName": "Juan Cruz Benito",
      "photoUrl": "https://lh3.googleusercontent.com/a-/AOh14GigYykdPwcdpDFRrHCJKUA0O1J-WMCBr6bE1yEgLg=s64",
      "userId": "12666034062746600529"
     },
     "user_tz": -120
    },
    "id": "lCScFPa3yZ6A",
    "outputId": "8ae5e92c-d061-4e13-a2f8-88b97aa3f386"
   },
   "outputs": [
    {
     "data": {
      "text/html": [
       "<table border=\"1\" class=\"dataframe\">\n",
       "  <thead>\n",
       "    <tr style=\"text-align: left;\">\n",
       "      <th>epoch</th>\n",
       "      <th>train_loss</th>\n",
       "      <th>valid_loss</th>\n",
       "      <th>accuracy</th>\n",
       "      <th>time</th>\n",
       "    </tr>\n",
       "  </thead>\n",
       "  <tbody>\n",
       "    <tr>\n",
       "      <td>0</td>\n",
       "      <td>2.214699</td>\n",
       "      <td>2.237679</td>\n",
       "      <td>0.481865</td>\n",
       "      <td>14:00</td>\n",
       "    </tr>\n",
       "    <tr>\n",
       "      <td>1</td>\n",
       "      <td>2.163913</td>\n",
       "      <td>2.198416</td>\n",
       "      <td>0.487911</td>\n",
       "      <td>13:59</td>\n",
       "    </tr>\n",
       "    <tr>\n",
       "      <td>2</td>\n",
       "      <td>2.098856</td>\n",
       "      <td>2.160469</td>\n",
       "      <td>0.493419</td>\n",
       "      <td>13:59</td>\n",
       "    </tr>\n",
       "    <tr>\n",
       "      <td>3</td>\n",
       "      <td>2.058215</td>\n",
       "      <td>2.134384</td>\n",
       "      <td>0.497109</td>\n",
       "      <td>14:01</td>\n",
       "    </tr>\n",
       "    <tr>\n",
       "      <td>4</td>\n",
       "      <td>2.036539</td>\n",
       "      <td>2.114402</td>\n",
       "      <td>0.499685</td>\n",
       "      <td>14:00</td>\n",
       "    </tr>\n",
       "    <tr>\n",
       "      <td>5</td>\n",
       "      <td>2.028574</td>\n",
       "      <td>2.108875</td>\n",
       "      <td>0.500313</td>\n",
       "      <td>14:01</td>\n",
       "    </tr>\n",
       "    <tr>\n",
       "      <td>6</td>\n",
       "      <td>2.008492</td>\n",
       "      <td>2.095479</td>\n",
       "      <td>0.501855</td>\n",
       "      <td>14:00</td>\n",
       "    </tr>\n",
       "    <tr>\n",
       "      <td>7</td>\n",
       "      <td>2.001233</td>\n",
       "      <td>2.092030</td>\n",
       "      <td>0.502543</td>\n",
       "      <td>14:01</td>\n",
       "    </tr>\n",
       "    <tr>\n",
       "      <td>8</td>\n",
       "      <td>1.997252</td>\n",
       "      <td>2.078012</td>\n",
       "      <td>0.504857</td>\n",
       "      <td>14:01</td>\n",
       "    </tr>\n",
       "    <tr>\n",
       "      <td>9</td>\n",
       "      <td>1.983610</td>\n",
       "      <td>2.065966</td>\n",
       "      <td>0.506488</td>\n",
       "      <td>14:02</td>\n",
       "    </tr>\n",
       "    <tr>\n",
       "      <td>10</td>\n",
       "      <td>1.974481</td>\n",
       "      <td>2.052381</td>\n",
       "      <td>0.508916</td>\n",
       "      <td>14:02</td>\n",
       "    </tr>\n",
       "    <tr>\n",
       "      <td>11</td>\n",
       "      <td>1.955212</td>\n",
       "      <td>2.042827</td>\n",
       "      <td>0.510937</td>\n",
       "      <td>14:01</td>\n",
       "    </tr>\n",
       "    <tr>\n",
       "      <td>12</td>\n",
       "      <td>1.947583</td>\n",
       "      <td>2.035185</td>\n",
       "      <td>0.512474</td>\n",
       "      <td>14:01</td>\n",
       "    </tr>\n",
       "    <tr>\n",
       "      <td>13</td>\n",
       "      <td>1.944580</td>\n",
       "      <td>2.019596</td>\n",
       "      <td>0.515168</td>\n",
       "      <td>14:01</td>\n",
       "    </tr>\n",
       "    <tr>\n",
       "      <td>14</td>\n",
       "      <td>1.935703</td>\n",
       "      <td>2.009516</td>\n",
       "      <td>0.517249</td>\n",
       "      <td>14:02</td>\n",
       "    </tr>\n",
       "    <tr>\n",
       "      <td>15</td>\n",
       "      <td>1.919773</td>\n",
       "      <td>1.997247</td>\n",
       "      <td>0.519366</td>\n",
       "      <td>14:02</td>\n",
       "    </tr>\n",
       "    <tr>\n",
       "      <td>16</td>\n",
       "      <td>1.898457</td>\n",
       "      <td>1.988149</td>\n",
       "      <td>0.521350</td>\n",
       "      <td>14:03</td>\n",
       "    </tr>\n",
       "    <tr>\n",
       "      <td>17</td>\n",
       "      <td>1.901153</td>\n",
       "      <td>1.976274</td>\n",
       "      <td>0.523726</td>\n",
       "      <td>14:02</td>\n",
       "    </tr>\n",
       "    <tr>\n",
       "      <td>18</td>\n",
       "      <td>1.884219</td>\n",
       "      <td>1.964472</td>\n",
       "      <td>0.525677</td>\n",
       "      <td>14:02</td>\n",
       "    </tr>\n",
       "    <tr>\n",
       "      <td>19</td>\n",
       "      <td>1.878264</td>\n",
       "      <td>1.954334</td>\n",
       "      <td>0.528080</td>\n",
       "      <td>13:58</td>\n",
       "    </tr>\n",
       "    <tr>\n",
       "      <td>20</td>\n",
       "      <td>1.851182</td>\n",
       "      <td>1.944046</td>\n",
       "      <td>0.529854</td>\n",
       "      <td>13:52</td>\n",
       "    </tr>\n",
       "    <tr>\n",
       "      <td>21</td>\n",
       "      <td>1.847393</td>\n",
       "      <td>1.933007</td>\n",
       "      <td>0.531930</td>\n",
       "      <td>13:52</td>\n",
       "    </tr>\n",
       "    <tr>\n",
       "      <td>22</td>\n",
       "      <td>1.841264</td>\n",
       "      <td>1.925086</td>\n",
       "      <td>0.533896</td>\n",
       "      <td>13:52</td>\n",
       "    </tr>\n",
       "    <tr>\n",
       "      <td>23</td>\n",
       "      <td>1.821394</td>\n",
       "      <td>1.914587</td>\n",
       "      <td>0.535515</td>\n",
       "      <td>13:52</td>\n",
       "    </tr>\n",
       "    <tr>\n",
       "      <td>24</td>\n",
       "      <td>1.819339</td>\n",
       "      <td>1.908863</td>\n",
       "      <td>0.536943</td>\n",
       "      <td>13:52</td>\n",
       "    </tr>\n",
       "    <tr>\n",
       "      <td>25</td>\n",
       "      <td>1.809696</td>\n",
       "      <td>1.902674</td>\n",
       "      <td>0.538198</td>\n",
       "      <td>13:52</td>\n",
       "    </tr>\n",
       "    <tr>\n",
       "      <td>26</td>\n",
       "      <td>1.811851</td>\n",
       "      <td>1.898466</td>\n",
       "      <td>0.539038</td>\n",
       "      <td>13:52</td>\n",
       "    </tr>\n",
       "    <tr>\n",
       "      <td>27</td>\n",
       "      <td>1.798095</td>\n",
       "      <td>1.895772</td>\n",
       "      <td>0.539604</td>\n",
       "      <td>13:52</td>\n",
       "    </tr>\n",
       "    <tr>\n",
       "      <td>28</td>\n",
       "      <td>1.799042</td>\n",
       "      <td>1.894883</td>\n",
       "      <td>0.539941</td>\n",
       "      <td>13:52</td>\n",
       "    </tr>\n",
       "    <tr>\n",
       "      <td>29</td>\n",
       "      <td>1.790150</td>\n",
       "      <td>1.894901</td>\n",
       "      <td>0.539951</td>\n",
       "      <td>13:53</td>\n",
       "    </tr>\n",
       "  </tbody>\n",
       "</table>"
      ],
      "text/plain": [
       "<IPython.core.display.HTML object>"
      ]
     },
     "metadata": {},
     "output_type": "display_data"
    }
   ],
   "source": [
    "learn.fit_one_cycle(30, slice(1e-2, 1e-3))"
   ]
  },
  {
   "cell_type": "code",
   "execution_count": 19,
   "metadata": {
    "colab": {},
    "colab_type": "code",
    "executionInfo": {
     "elapsed": 16115232,
     "status": "ok",
     "timestamp": 1597959239134,
     "user": {
      "displayName": "Juan Cruz Benito",
      "photoUrl": "https://lh3.googleusercontent.com/a-/AOh14GigYykdPwcdpDFRrHCJKUA0O1J-WMCBr6bE1yEgLg=s64",
      "userId": "12666034062746600529"
     },
     "user_tz": -120
    },
    "id": "vDDUHmq7yaMg"
   },
   "outputs": [],
   "source": [
    "learn.save('20200820_fine_tuned_unigram_model_qrnn')"
   ]
  },
  {
   "cell_type": "code",
   "execution_count": 20,
   "metadata": {
    "colab": {},
    "colab_type": "code",
    "executionInfo": {
     "elapsed": 16115228,
     "status": "ok",
     "timestamp": 1597959239137,
     "user": {
      "displayName": "Juan Cruz Benito",
      "photoUrl": "https://lh3.googleusercontent.com/a-/AOh14GigYykdPwcdpDFRrHCJKUA0O1J-WMCBr6bE1yEgLg=s64",
      "userId": "12666034062746600529"
     },
     "user_tz": -120
    },
    "id": "ZeRznFOQyaJq"
   },
   "outputs": [],
   "source": [
    "learn.load('20200820_fine_tuned_unigram_model_qrnn');"
   ]
  },
  {
   "cell_type": "code",
   "execution_count": 21,
   "metadata": {
    "colab": {
     "base_uri": "https://localhost:8080/",
     "height": 89
    },
    "colab_type": "code",
    "executionInfo": {
     "elapsed": 16115539,
     "status": "ok",
     "timestamp": 1597959239453,
     "user": {
      "displayName": "Juan Cruz Benito",
      "photoUrl": "https://lh3.googleusercontent.com/a-/AOh14GigYykdPwcdpDFRrHCJKUA0O1J-WMCBr6bE1yEgLg=s64",
      "userId": "12666034062746600529"
     },
     "user_tz": -120
    },
    "id": "m7vlV1C0yaHB",
    "outputId": "b6ad40b1-ef4b-4a27-9147-a8a167d3f758"
   },
   "outputs": [
    {
     "name": "stdout",
     "output_type": "stream",
     "text": [
      "import from _any absolute_uri(list(button_sort_attribute\n",
      "import from .bin import BlockNumber, from_pygments=100, \n",
      "import from _url as proxy_url = ('https: / / support.b\n"
     ]
    }
   ],
   "source": [
    "TEXT = \"import from\"\n",
    "N_WORDS = 25\n",
    "N_SENTENCES = 3\n",
    "for _ in range(N_SENTENCES):\n",
    "    predicted = learn.predict(TEXT, N_WORDS, temperature=0.9)\n",
    "    val = predicted.replace(TEXT, '')\n",
    "    decoded = sp.decode_pieces(val.split())\n",
    "    print(TEXT + \" \"+  decoded)"
   ]
  },
  {
   "cell_type": "code",
   "execution_count": 22,
   "metadata": {
    "colab": {
     "base_uri": "https://localhost:8080/",
     "height": 434
    },
    "colab_type": "code",
    "executionInfo": {
     "elapsed": 16115538,
     "status": "ok",
     "timestamp": 1597959239456,
     "user": {
      "displayName": "Juan Cruz Benito",
      "photoUrl": "https://lh3.googleusercontent.com/a-/AOh14GigYykdPwcdpDFRrHCJKUA0O1J-WMCBr6bE1yEgLg=s64",
      "userId": "12666034062746600529"
     },
     "user_tz": -120
    },
    "id": "n4DDhJ7CygyH",
    "outputId": "244adb33-19f7-4780-8618-62d771ea7b51"
   },
   "outputs": [
    {
     "name": "stdout",
     "output_type": "stream",
     "text": [
      "SequentialRNN\n",
      "======================================================================\n",
      "Layer (type)         Output Shape         Param #    Trainable \n",
      "======================================================================\n",
      "RNNDropout           [70, 400]            0          False     \n",
      "______________________________________________________________________\n",
      "RNNDropout           [70, 1152]           0          False     \n",
      "______________________________________________________________________\n",
      "RNNDropout           [70, 1152]           0          False     \n",
      "______________________________________________________________________\n",
      "Linear               [70, 600]            240,600    True      \n",
      "______________________________________________________________________\n",
      "RNNDropout           [70, 400]            0          False     \n",
      "______________________________________________________________________\n",
      "\n",
      "Total params: 240,600\n",
      "Total trainable params: 240,600\n",
      "Total non-trainable params: 0\n",
      "Optimized with 'torch.optim.adam.Adam', betas=(0.9, 0.99)\n",
      "Using true weight decay as discussed in https://www.fast.ai/2018/07/02/adam-weight-decay/ \n",
      "Loss function : FlattenedLoss\n",
      "======================================================================\n",
      "Callbacks functions applied \n",
      "    RNNTrainer\n"
     ]
    }
   ],
   "source": [
    "print(learn.summary()) "
   ]
  },
  {
   "cell_type": "code",
   "execution_count": 23,
   "metadata": {
    "colab": {},
    "colab_type": "code",
    "id": "b7rt9TFVzW1B"
   },
   "outputs": [
    {
     "name": "stdout",
     "output_type": "stream",
     "text": [
      "from pandas import convertible_pages if len(x) > 1: for page in x\n",
      "from pandas import SourceProblems xxrep 8 - Not propag\n",
      "from pandas import final_image FIRST_MIN_DIRECTORY_\n",
      "from pandas import effective_slice, check_for_slice, la\n",
      "from pandas import DataFrame siblings if x == locals()[x]:\n"
     ]
    }
   ],
   "source": [
    "TEXT = \"from pandas import\"\n",
    "N_WORDS = 25\n",
    "N_SENTENCES = 5\n",
    "for _ in range(N_SENTENCES):\n",
    "    predicted = learn.predict(TEXT, N_WORDS, temperature=0.9)\n",
    "    val = predicted.replace(TEXT, '')\n",
    "    decoded = sp.decode_pieces(val.split())\n",
    "    print(TEXT + \" \"+  decoded)"
   ]
  },
  {
   "cell_type": "code",
   "execution_count": null,
   "metadata": {},
   "outputs": [],
   "source": [
    "2"
   ]
  }
 ],
 "metadata": {
  "accelerator": "GPU",
  "colab": {
   "authorship_tag": "ABX9TyO780VpG479jT8T1pIV7OvL",
   "mount_file_id": "1tcon1-WKSfddBGya7OwZwdhrGJfdimX0",
   "name": "20200820_word_model_training-qrnn",
   "provenance": []
  },
  "kernelspec": {
   "display_name": "Python 3",
   "language": "python",
   "name": "python3"
  },
  "language_info": {
   "codemirror_mode": {
    "name": "ipython",
    "version": 3
   },
   "file_extension": ".py",
   "mimetype": "text/x-python",
   "name": "python",
   "nbconvert_exporter": "python",
   "pygments_lexer": "ipython3",
   "version": "3.7.3"
  }
 },
 "nbformat": 4,
 "nbformat_minor": 1
}