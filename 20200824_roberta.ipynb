{
 "cells": [
  {
   "cell_type": "code",
   "execution_count": 75,
   "metadata": {},
   "outputs": [],
   "source": [
    "%reload_ext autoreload\n",
    "%autoreload 2\n",
    "%matplotlib inline"
   ]
  },
  {
   "cell_type": "markdown",
   "metadata": {},
   "source": [
    "## Download the codeSearchNetChallenge dataset \n",
    "_If needed_"
   ]
  },
  {
   "cell_type": "code",
   "execution_count": 2,
   "metadata": {},
   "outputs": [
    {
     "name": "stdout",
     "output_type": "stream",
     "text": [
      "CodeSearchNet challenge dataset ready to use!\n"
     ]
    }
   ],
   "source": [
    "%run downloading_cleaning_codeSearchNetChallenge_dataset.ipynb"
   ]
  },
  {
   "cell_type": "markdown",
   "metadata": {},
   "source": [
    "## Exporting the codeSearchNetChallenge dataset to CSV files\n",
    "\n",
    "_If needed_"
   ]
  },
  {
   "cell_type": "code",
   "execution_count": 3,
   "metadata": {},
   "outputs": [
    {
     "name": "stdout",
     "output_type": "stream",
     "text": [
      "Total lines of Python code in the dataset (after removing empty lines)\n",
      "11206193\n",
      "\n",
      "\n",
      "Total lines of Python code in the dataset's train folder (after removing empty lines)\n",
      "10054266\n",
      "\n",
      "\n",
      "Total lines of Python in the dataset's test folder (after removing empty lines)\n",
      "541338\n",
      "\n",
      "\n",
      "Total lines of Python in the dataset's valid folder\n",
      "610589\n"
     ]
    }
   ],
   "source": [
    "%run preparing_csv_files_from_codeSearchNetChallenge_dataset.ipynb"
   ]
  },
  {
   "cell_type": "markdown",
   "metadata": {},
   "source": [
    "Source: https://dev.fast.ai/tutorial.transformers"
   ]
  },
  {
   "cell_type": "code",
   "execution_count": 4,
   "metadata": {},
   "outputs": [
    {
     "name": "stdout",
     "output_type": "stream",
     "text": [
      "Current cuda device  1\n"
     ]
    }
   ],
   "source": [
    "import torch\n",
    "torch.cuda.set_device(1)\n",
    "print ('Current cuda device ', torch.cuda.current_device())"
   ]
  },
  {
   "cell_type": "code",
   "execution_count": 5,
   "metadata": {},
   "outputs": [],
   "source": [
    "from transformers import RobertaForMaskedLM, RobertaTokenizerFast"
   ]
  },
  {
   "cell_type": "code",
   "execution_count": 6,
   "metadata": {},
   "outputs": [
    {
     "name": "stderr",
     "output_type": "stream",
     "text": [
      "Some weights of RobertaForMaskedLM were not initialized from the model checkpoint at roberta-base and are newly initialized: ['lm_head.decoder.bias']\n",
      "You should probably TRAIN this model on a down-stream task to be able to use it for predictions and inference.\n"
     ]
    }
   ],
   "source": [
    "pretrained_weights = 'roberta-base'\n",
    "tokenizer = RobertaTokenizerFast.from_pretrained(pretrained_weights)\n",
    "model = RobertaForMaskedLM.from_pretrained(pretrained_weights)"
   ]
  },
  {
   "cell_type": "code",
   "execution_count": 7,
   "metadata": {},
   "outputs": [
    {
     "data": {
      "text/plain": [
       "[0, 713, 16, 41, 1246, 9, 2788, 6, 8, 2]"
      ]
     },
     "execution_count": 7,
     "metadata": {},
     "output_type": "execute_result"
    }
   ],
   "source": [
    "ids = tokenizer.encode('This is an example of text, and')\n",
    "ids"
   ]
  },
  {
   "cell_type": "code",
   "execution_count": 8,
   "metadata": {},
   "outputs": [
    {
     "data": {
      "text/plain": [
       "'<s>This is an example of text, and</s>'"
      ]
     },
     "execution_count": 8,
     "metadata": {},
     "output_type": "execute_result"
    }
   ],
   "source": [
    "tokenizer.decode(ids)"
   ]
  },
  {
   "cell_type": "code",
   "execution_count": 9,
   "metadata": {},
   "outputs": [],
   "source": [
    "import torch\n",
    "t = torch.LongTensor(ids)[None]\n",
    "preds = model.generate(t)"
   ]
  },
  {
   "cell_type": "code",
   "execution_count": 10,
   "metadata": {},
   "outputs": [
    {
     "data": {
      "text/plain": [
       "(torch.Size([1, 11]),\n",
       " tensor([   0,  713,   16,   41, 1246,    9, 2788,    6,    8,    2,    2]))"
      ]
     },
     "execution_count": 10,
     "metadata": {},
     "output_type": "execute_result"
    }
   ],
   "source": [
    "preds.shape,preds[0]"
   ]
  },
  {
   "cell_type": "code",
   "execution_count": 11,
   "metadata": {},
   "outputs": [
    {
     "data": {
      "text/plain": [
       "'<s>This is an example of text, and</s></s>'"
      ]
     },
     "execution_count": 11,
     "metadata": {},
     "output_type": "execute_result"
    }
   ],
   "source": [
    "tokenizer.decode(preds[0].numpy())"
   ]
  },
  {
   "cell_type": "code",
   "execution_count": 12,
   "metadata": {},
   "outputs": [],
   "source": [
    "from fastai2.text.all import *"
   ]
  },
  {
   "cell_type": "code",
   "execution_count": 13,
   "metadata": {},
   "outputs": [],
   "source": [
    "codeSearchNet_challenge_path = './CodeSearchNet_challenge_dataset'\n",
    "all_csv_path = './CodeSearchNet_challenge_dataset/CodeSearchNet_challenge_dataset.csv'\n",
    "train_csv_path = './CodeSearchNet_challenge_dataset/python/final/jsonl/train/train_CodeSearchNet_challenge_dataset.csv'\n",
    "test_csv_path = './CodeSearchNet_challenge_dataset/python/final/jsonl/test/test_CodeSearchNet_challenge_dataset.csv'\n",
    "valid_csv_path = './CodeSearchNet_challenge_dataset/python/final/jsonl/valid/valid_CodeSearchNet_challenge_dataset.csv'"
   ]
  },
  {
   "cell_type": "code",
   "execution_count": 14,
   "metadata": {},
   "outputs": [
    {
     "data": {
      "text/html": [
       "<div>\n",
       "<style scoped>\n",
       "    .dataframe tbody tr th:only-of-type {\n",
       "        vertical-align: middle;\n",
       "    }\n",
       "\n",
       "    .dataframe tbody tr th {\n",
       "        vertical-align: top;\n",
       "    }\n",
       "\n",
       "    .dataframe thead th {\n",
       "        text-align: right;\n",
       "    }\n",
       "</style>\n",
       "<table border=\"1\" class=\"dataframe\">\n",
       "  <thead>\n",
       "    <tr style=\"text-align: right;\">\n",
       "      <th></th>\n",
       "      <th>filename</th>\n",
       "      <th>text</th>\n",
       "    </tr>\n",
       "  </thead>\n",
       "  <tbody>\n",
       "    <tr>\n",
       "      <th>0</th>\n",
       "      <td>CodeSearchNet_challenge_dataset/python/final/jsonl/train/python_train_11.py</td>\n",
       "      <td>def show_slug_with_level(context, page, lang=None, fallback=True):\\n    \"\"\"Display slug with level by language.\"\"\"\\n    if not lang:\\n        lang = context.get('lang', pages_settings.PAGE_DEFAULT_LANGUAGE)\\n\\n    page = get_page_from_string_or_id(page, lang)\\n    if not page:\\n        return ''\\n\\n    return {'content': page.slug_with_level(lang)}\\n\\n\\ndef show_revisions(context, page, content_type, lang=None):\\n    \"\"\"Render the last 10 revisions of a page content with a list using\\n        the ``pages/revisions.html`` template\"\"\"\\n    if not pages_settings.PAGE_CONTENT_REVISION:\\n      ...</td>\n",
       "    </tr>\n",
       "    <tr>\n",
       "      <th>1</th>\n",
       "      <td>CodeSearchNet_challenge_dataset/python/final/jsonl/train/python_train_8.py</td>\n",
       "      <td>def public(self):\\n    \"\"\"True if the Slot is public.\"\"\"\\n    return bool(lib.EnvSlotPublicP(self._env, self._cls, self._name))\\n\\n\\ndef initializable(self):\\n    \"\"\"True if the Slot is initializable.\"\"\"\\n    return bool(lib.EnvSlotInitableP(self._env, self._cls, self._name))\\n\\n\\ndef writable(self):\\n    \"\"\"True if the Slot is writable.\"\"\"\\n    return bool(lib.EnvSlotWritableP(self._env, self._cls, self._name))\\n\\n\\ndef accessible(self):\\n    \"\"\"True if the Slot is directly accessible.\"\"\"\\n    return bool(lib.EnvSlotDirectAccessP(self._env, self._cls, self._name))\\n\\n\\ndef types(self):\\n ...</td>\n",
       "    </tr>\n",
       "    <tr>\n",
       "      <th>2</th>\n",
       "      <td>CodeSearchNet_challenge_dataset/python/final/jsonl/train/python_train_1.py</td>\n",
       "      <td>def zmq_device(self):\\n    '''\\n    Multiprocessing target for the zmq queue device\\n    '''\\n    self.__setup_signals()\\n    salt.utils.process.appendproctitle('MWorkerQueue')\\n    self.context = zmq.Context(self.opts['worker_threads'])\\n    # Prepare the zeromq sockets\\n    self.uri = 'tcp://{interface}:{ret_port}'.format(**self.opts)\\n    self.clients = self.context.socket(zmq.ROUTER)\\n    if self.opts['ipv6'] is True and hasattr(zmq, 'IPV4ONLY'):\\n        # IPv6 sockets work for both IPv6 and IPv4 addresses\\n        self.clients.setsockopt(zmq.IPV4ONLY, 0)\\n    self.clients.setsockopt(...</td>\n",
       "    </tr>\n",
       "    <tr>\n",
       "      <th>3</th>\n",
       "      <td>CodeSearchNet_challenge_dataset/python/final/jsonl/train/python_train_13.py</td>\n",
       "      <td>def get_datetime_sorted_rows(dbconn, table_name, uuid=None, column=None):\\n    \"\"\"\\n    Get a list of datetime sorted rows from a table in the database\\n    :param dbconn: database connection\\n    :param table_name: name of table in the database\\n    :param uuid: optional uuid to pull from\\n    :param column: optional column/field in the table to pull instead of rows\\n    :returns: a list of tuples containing (datetime, row) pairs or (datetime, column) pairs if columns is specified.\\n    \"\"\"\\n    rows = get_rows(dbconn, table_name, uuid=uuid)\\n    data = []\\n    for r in rows:\\n        dt ...</td>\n",
       "    </tr>\n",
       "    <tr>\n",
       "      <th>4</th>\n",
       "      <td>CodeSearchNet_challenge_dataset/python/final/jsonl/train/python_train_5.py</td>\n",
       "      <td>def export_ruptures_csv(ekey, dstore):\\n    \"\"\"\\n    :param ekey: export key, i.e. a pair (datastore key, fmt)\\n    :param dstore: datastore object\\n    \"\"\"\\n    oq = dstore['oqparam']\\n    if 'scenario' in oq.calculation_mode:\\n        return []\\n    dest = dstore.export_path('ruptures.csv')\\n    header = ('rupid multiplicity mag centroid_lon centroid_lat '\\n              'centroid_depth trt strike dip rake boundary').split()\\n    rows = []\\n    for rgetter in gen_rupture_getters(dstore):\\n        rups = rgetter.get_ruptures()\\n        rup_data = calc.RuptureData(rgetter.trt, rgetter.rlzs...</td>\n",
       "    </tr>\n",
       "  </tbody>\n",
       "</table>\n",
       "</div>"
      ],
      "text/plain": [
       "                                                                      filename  \\\n",
       "0  CodeSearchNet_challenge_dataset/python/final/jsonl/train/python_train_11.py   \n",
       "1   CodeSearchNet_challenge_dataset/python/final/jsonl/train/python_train_8.py   \n",
       "2   CodeSearchNet_challenge_dataset/python/final/jsonl/train/python_train_1.py   \n",
       "3  CodeSearchNet_challenge_dataset/python/final/jsonl/train/python_train_13.py   \n",
       "4   CodeSearchNet_challenge_dataset/python/final/jsonl/train/python_train_5.py   \n",
       "\n",
       "                                                                                                                                                                                                                                                                                                                                                                                                                                                                                                                                                                                                                      text  \n",
       "0  def show_slug_with_level(context, page, lang=None, fallback=True):\\n    \"\"\"Display slug with level by language.\"\"\"\\n    if not lang:\\n        lang = context.get('lang', pages_settings.PAGE_DEFAULT_LANGUAGE)\\n\\n    page = get_page_from_string_or_id(page, lang)\\n    if not page:\\n        return ''\\n\\n    return {'content': page.slug_with_level(lang)}\\n\\n\\ndef show_revisions(context, page, content_type, lang=None):\\n    \"\"\"Render the last 10 revisions of a page content with a list using\\n        the ``pages/revisions.html`` template\"\"\"\\n    if not pages_settings.PAGE_CONTENT_REVISION:\\n      ...  \n",
       "1  def public(self):\\n    \"\"\"True if the Slot is public.\"\"\"\\n    return bool(lib.EnvSlotPublicP(self._env, self._cls, self._name))\\n\\n\\ndef initializable(self):\\n    \"\"\"True if the Slot is initializable.\"\"\"\\n    return bool(lib.EnvSlotInitableP(self._env, self._cls, self._name))\\n\\n\\ndef writable(self):\\n    \"\"\"True if the Slot is writable.\"\"\"\\n    return bool(lib.EnvSlotWritableP(self._env, self._cls, self._name))\\n\\n\\ndef accessible(self):\\n    \"\"\"True if the Slot is directly accessible.\"\"\"\\n    return bool(lib.EnvSlotDirectAccessP(self._env, self._cls, self._name))\\n\\n\\ndef types(self):\\n ...  \n",
       "2  def zmq_device(self):\\n    '''\\n    Multiprocessing target for the zmq queue device\\n    '''\\n    self.__setup_signals()\\n    salt.utils.process.appendproctitle('MWorkerQueue')\\n    self.context = zmq.Context(self.opts['worker_threads'])\\n    # Prepare the zeromq sockets\\n    self.uri = 'tcp://{interface}:{ret_port}'.format(**self.opts)\\n    self.clients = self.context.socket(zmq.ROUTER)\\n    if self.opts['ipv6'] is True and hasattr(zmq, 'IPV4ONLY'):\\n        # IPv6 sockets work for both IPv6 and IPv4 addresses\\n        self.clients.setsockopt(zmq.IPV4ONLY, 0)\\n    self.clients.setsockopt(...  \n",
       "3  def get_datetime_sorted_rows(dbconn, table_name, uuid=None, column=None):\\n    \"\"\"\\n    Get a list of datetime sorted rows from a table in the database\\n    :param dbconn: database connection\\n    :param table_name: name of table in the database\\n    :param uuid: optional uuid to pull from\\n    :param column: optional column/field in the table to pull instead of rows\\n    :returns: a list of tuples containing (datetime, row) pairs or (datetime, column) pairs if columns is specified.\\n    \"\"\"\\n    rows = get_rows(dbconn, table_name, uuid=uuid)\\n    data = []\\n    for r in rows:\\n        dt ...  \n",
       "4  def export_ruptures_csv(ekey, dstore):\\n    \"\"\"\\n    :param ekey: export key, i.e. a pair (datastore key, fmt)\\n    :param dstore: datastore object\\n    \"\"\"\\n    oq = dstore['oqparam']\\n    if 'scenario' in oq.calculation_mode:\\n        return []\\n    dest = dstore.export_path('ruptures.csv')\\n    header = ('rupid multiplicity mag centroid_lon centroid_lat '\\n              'centroid_depth trt strike dip rake boundary').split()\\n    rows = []\\n    for rgetter in gen_rupture_getters(dstore):\\n        rups = rgetter.get_ruptures()\\n        rup_data = calc.RuptureData(rgetter.trt, rgetter.rlzs...  "
      ]
     },
     "execution_count": 14,
     "metadata": {},
     "output_type": "execute_result"
    }
   ],
   "source": [
    "df_train = pd.read_csv(train_csv_path)\n",
    "df_valid = pd.read_csv(test_csv_path)\n",
    "df_train.head()"
   ]
  },
  {
   "cell_type": "code",
   "execution_count": 15,
   "metadata": {
    "scrolled": false
   },
   "outputs": [
    {
     "data": {
      "text/html": [
       "<div>\n",
       "<style scoped>\n",
       "    .dataframe tbody tr th:only-of-type {\n",
       "        vertical-align: middle;\n",
       "    }\n",
       "\n",
       "    .dataframe tbody tr th {\n",
       "        vertical-align: top;\n",
       "    }\n",
       "\n",
       "    .dataframe thead th {\n",
       "        text-align: right;\n",
       "    }\n",
       "</style>\n",
       "<table border=\"1\" class=\"dataframe\">\n",
       "  <thead>\n",
       "    <tr style=\"text-align: right;\">\n",
       "      <th></th>\n",
       "      <th>text</th>\n",
       "    </tr>\n",
       "  </thead>\n",
       "  <tbody>\n",
       "    <tr>\n",
       "      <th>0</th>\n",
       "      <td>def show_slug_with_level(context, page, lang=None, fallback=True):\\n    \"\"\"Display slug with level by language.\"\"\"\\n    if not lang:\\n        lang = context.get('lang', pages_settings.PAGE_DEFAULT_LANGUAGE)\\n\\n    page = get_page_from_string_or_id(page, lang)\\n    if not page:\\n        return ''\\n\\n    return {'content': page.slug_with_level(lang)}\\n\\n\\ndef show_revisions(context, page, content_type, lang=None):\\n    \"\"\"Render the last 10 revisions of a page content with a list using\\n        the ``pages/revisions.html`` template\"\"\"\\n    if not pages_settings.PAGE_CONTENT_REVISION:\\n      ...</td>\n",
       "    </tr>\n",
       "    <tr>\n",
       "      <th>1</th>\n",
       "      <td>def public(self):\\n    \"\"\"True if the Slot is public.\"\"\"\\n    return bool(lib.EnvSlotPublicP(self._env, self._cls, self._name))\\n\\n\\ndef initializable(self):\\n    \"\"\"True if the Slot is initializable.\"\"\"\\n    return bool(lib.EnvSlotInitableP(self._env, self._cls, self._name))\\n\\n\\ndef writable(self):\\n    \"\"\"True if the Slot is writable.\"\"\"\\n    return bool(lib.EnvSlotWritableP(self._env, self._cls, self._name))\\n\\n\\ndef accessible(self):\\n    \"\"\"True if the Slot is directly accessible.\"\"\"\\n    return bool(lib.EnvSlotDirectAccessP(self._env, self._cls, self._name))\\n\\n\\ndef types(self):\\n ...</td>\n",
       "    </tr>\n",
       "    <tr>\n",
       "      <th>2</th>\n",
       "      <td>def zmq_device(self):\\n    '''\\n    Multiprocessing target for the zmq queue device\\n    '''\\n    self.__setup_signals()\\n    salt.utils.process.appendproctitle('MWorkerQueue')\\n    self.context = zmq.Context(self.opts['worker_threads'])\\n    # Prepare the zeromq sockets\\n    self.uri = 'tcp://{interface}:{ret_port}'.format(**self.opts)\\n    self.clients = self.context.socket(zmq.ROUTER)\\n    if self.opts['ipv6'] is True and hasattr(zmq, 'IPV4ONLY'):\\n        # IPv6 sockets work for both IPv6 and IPv4 addresses\\n        self.clients.setsockopt(zmq.IPV4ONLY, 0)\\n    self.clients.setsockopt(...</td>\n",
       "    </tr>\n",
       "    <tr>\n",
       "      <th>3</th>\n",
       "      <td>def get_datetime_sorted_rows(dbconn, table_name, uuid=None, column=None):\\n    \"\"\"\\n    Get a list of datetime sorted rows from a table in the database\\n    :param dbconn: database connection\\n    :param table_name: name of table in the database\\n    :param uuid: optional uuid to pull from\\n    :param column: optional column/field in the table to pull instead of rows\\n    :returns: a list of tuples containing (datetime, row) pairs or (datetime, column) pairs if columns is specified.\\n    \"\"\"\\n    rows = get_rows(dbconn, table_name, uuid=uuid)\\n    data = []\\n    for r in rows:\\n        dt ...</td>\n",
       "    </tr>\n",
       "    <tr>\n",
       "      <th>4</th>\n",
       "      <td>def export_ruptures_csv(ekey, dstore):\\n    \"\"\"\\n    :param ekey: export key, i.e. a pair (datastore key, fmt)\\n    :param dstore: datastore object\\n    \"\"\"\\n    oq = dstore['oqparam']\\n    if 'scenario' in oq.calculation_mode:\\n        return []\\n    dest = dstore.export_path('ruptures.csv')\\n    header = ('rupid multiplicity mag centroid_lon centroid_lat '\\n              'centroid_depth trt strike dip rake boundary').split()\\n    rows = []\\n    for rgetter in gen_rupture_getters(dstore):\\n        rups = rgetter.get_ruptures()\\n        rup_data = calc.RuptureData(rgetter.trt, rgetter.rlzs...</td>\n",
       "    </tr>\n",
       "  </tbody>\n",
       "</table>\n",
       "</div>"
      ],
      "text/plain": [
       "                                                                                                                                                                                                                                                                                                                                                                                                                                                                                                                                                                                                                      text\n",
       "0  def show_slug_with_level(context, page, lang=None, fallback=True):\\n    \"\"\"Display slug with level by language.\"\"\"\\n    if not lang:\\n        lang = context.get('lang', pages_settings.PAGE_DEFAULT_LANGUAGE)\\n\\n    page = get_page_from_string_or_id(page, lang)\\n    if not page:\\n        return ''\\n\\n    return {'content': page.slug_with_level(lang)}\\n\\n\\ndef show_revisions(context, page, content_type, lang=None):\\n    \"\"\"Render the last 10 revisions of a page content with a list using\\n        the ``pages/revisions.html`` template\"\"\"\\n    if not pages_settings.PAGE_CONTENT_REVISION:\\n      ...\n",
       "1  def public(self):\\n    \"\"\"True if the Slot is public.\"\"\"\\n    return bool(lib.EnvSlotPublicP(self._env, self._cls, self._name))\\n\\n\\ndef initializable(self):\\n    \"\"\"True if the Slot is initializable.\"\"\"\\n    return bool(lib.EnvSlotInitableP(self._env, self._cls, self._name))\\n\\n\\ndef writable(self):\\n    \"\"\"True if the Slot is writable.\"\"\"\\n    return bool(lib.EnvSlotWritableP(self._env, self._cls, self._name))\\n\\n\\ndef accessible(self):\\n    \"\"\"True if the Slot is directly accessible.\"\"\"\\n    return bool(lib.EnvSlotDirectAccessP(self._env, self._cls, self._name))\\n\\n\\ndef types(self):\\n ...\n",
       "2  def zmq_device(self):\\n    '''\\n    Multiprocessing target for the zmq queue device\\n    '''\\n    self.__setup_signals()\\n    salt.utils.process.appendproctitle('MWorkerQueue')\\n    self.context = zmq.Context(self.opts['worker_threads'])\\n    # Prepare the zeromq sockets\\n    self.uri = 'tcp://{interface}:{ret_port}'.format(**self.opts)\\n    self.clients = self.context.socket(zmq.ROUTER)\\n    if self.opts['ipv6'] is True and hasattr(zmq, 'IPV4ONLY'):\\n        # IPv6 sockets work for both IPv6 and IPv4 addresses\\n        self.clients.setsockopt(zmq.IPV4ONLY, 0)\\n    self.clients.setsockopt(...\n",
       "3  def get_datetime_sorted_rows(dbconn, table_name, uuid=None, column=None):\\n    \"\"\"\\n    Get a list of datetime sorted rows from a table in the database\\n    :param dbconn: database connection\\n    :param table_name: name of table in the database\\n    :param uuid: optional uuid to pull from\\n    :param column: optional column/field in the table to pull instead of rows\\n    :returns: a list of tuples containing (datetime, row) pairs or (datetime, column) pairs if columns is specified.\\n    \"\"\"\\n    rows = get_rows(dbconn, table_name, uuid=uuid)\\n    data = []\\n    for r in rows:\\n        dt ...\n",
       "4  def export_ruptures_csv(ekey, dstore):\\n    \"\"\"\\n    :param ekey: export key, i.e. a pair (datastore key, fmt)\\n    :param dstore: datastore object\\n    \"\"\"\\n    oq = dstore['oqparam']\\n    if 'scenario' in oq.calculation_mode:\\n        return []\\n    dest = dstore.export_path('ruptures.csv')\\n    header = ('rupid multiplicity mag centroid_lon centroid_lat '\\n              'centroid_depth trt strike dip rake boundary').split()\\n    rows = []\\n    for rgetter in gen_rupture_getters(dstore):\\n        rups = rgetter.get_ruptures()\\n        rup_data = calc.RuptureData(rgetter.trt, rgetter.rlzs..."
      ]
     },
     "metadata": {},
     "output_type": "display_data"
    },
    {
     "data": {
      "text/html": [
       "<div>\n",
       "<style scoped>\n",
       "    .dataframe tbody tr th:only-of-type {\n",
       "        vertical-align: middle;\n",
       "    }\n",
       "\n",
       "    .dataframe tbody tr th {\n",
       "        vertical-align: top;\n",
       "    }\n",
       "\n",
       "    .dataframe thead th {\n",
       "        text-align: right;\n",
       "    }\n",
       "</style>\n",
       "<table border=\"1\" class=\"dataframe\">\n",
       "  <thead>\n",
       "    <tr style=\"text-align: right;\">\n",
       "      <th></th>\n",
       "      <th>text</th>\n",
       "    </tr>\n",
       "  </thead>\n",
       "  <tbody>\n",
       "    <tr>\n",
       "      <th>0</th>\n",
       "      <td>def get_vid_from_url(url):\\n    \"\"\"Extracts video ID from URL.\\n    \"\"\"\\n    return match1(url, r'youtu\\.be/([^?/]+)') or \\\\n        match1(url, r'youtube\\.com/embed/([^/?]+)') or \\\\n        match1(url, r'youtube\\.com/v/([^/?]+)') or \\\\n        match1(url, r'youtube\\.com/watch/([^/?]+)') or \\\\n        parse_query_param(url, 'v') or \\\\n        parse_query_param(parse_query_param(url, 'u'), 'v')\\n\\n\\ndef sina_xml_to_url_list(xml_data):\\n    \"\"\"str-&gt;list\\n    Convert XML to URL List.\\n    From Biligrab.\\n    \"\"\"\\n    rawurl = []\\n    dom = parseString(xml_data)\\n    for node in dom.getElement...</td>\n",
       "    </tr>\n",
       "  </tbody>\n",
       "</table>\n",
       "</div>"
      ],
      "text/plain": [
       "                                                                                                                                                                                                                                                                                                                                                                                                                                                                                                                                                                                                                      text\n",
       "0  def get_vid_from_url(url):\\n    \"\"\"Extracts video ID from URL.\\n    \"\"\"\\n    return match1(url, r'youtu\\.be/([^?/]+)') or \\\\n        match1(url, r'youtube\\.com/embed/([^/?]+)') or \\\\n        match1(url, r'youtube\\.com/v/([^/?]+)') or \\\\n        match1(url, r'youtube\\.com/watch/([^/?]+)') or \\\\n        parse_query_param(url, 'v') or \\\\n        parse_query_param(parse_query_param(url, 'u'), 'v')\\n\\n\\ndef sina_xml_to_url_list(xml_data):\\n    \"\"\"str->list\\n    Convert XML to URL List.\\n    From Biligrab.\\n    \"\"\"\\n    rawurl = []\\n    dom = parseString(xml_data)\\n    for node in dom.getElement..."
      ]
     },
     "metadata": {},
     "output_type": "display_data"
    }
   ],
   "source": [
    "df_train = df_train[[\"text\"]]\n",
    "df_valid = df_valid[[\"text\"]]\n",
    "\n",
    "display(df_train.head())\n",
    "display(df_valid.head())"
   ]
  },
  {
   "cell_type": "code",
   "execution_count": 16,
   "metadata": {},
   "outputs": [],
   "source": [
    "all_texts = np.concatenate([df_train[\"text\"].values, df_valid[\"text\"].values])"
   ]
  },
  {
   "cell_type": "code",
   "execution_count": 17,
   "metadata": {},
   "outputs": [],
   "source": [
    "class TransformersTokenizer(Transform):\n",
    "    def __init__(self, tokenizer): self.tokenizer = tokenizer\n",
    "    def encodes(self, x): \n",
    "        toks = self.tokenizer.tokenize(x)\n",
    "        return tensor(self.tokenizer.convert_tokens_to_ids(toks))\n",
    "    def decodes(self, x): return TitledStr(self.tokenizer.decode(x.cpu().numpy()))"
   ]
  },
  {
   "cell_type": "code",
   "execution_count": 18,
   "metadata": {},
   "outputs": [],
   "source": [
    "splits = [list(range_of(df_train)), list(range(len(df_train), len(all_texts)))]\n",
    "tls = TfmdLists(all_texts, TransformersTokenizer(tokenizer), splits=splits, dl_type=LMDataLoader)"
   ]
  },
  {
   "cell_type": "code",
   "execution_count": 19,
   "metadata": {},
   "outputs": [
    {
     "data": {
      "text/plain": [
       "(tensor([ 9232,   311,  1215,  ..., 43163,    43, 50118]),\n",
       " tensor([ 9232,   120,  1215,  ...,  1215, 25867, 50118]))"
      ]
     },
     "execution_count": 19,
     "metadata": {},
     "output_type": "execute_result"
    }
   ],
   "source": [
    "tls.train[0],tls.valid[0]"
   ]
  },
  {
   "cell_type": "code",
   "execution_count": 20,
   "metadata": {},
   "outputs": [
    {
     "data": {
      "text/plain": [
       "(torch.Size([11983775]), torch.Size([10037601]))"
      ]
     },
     "execution_count": 20,
     "metadata": {},
     "output_type": "execute_result"
    }
   ],
   "source": [
    "tls.tfms(tls.train.items[0]).shape, tls.tfms(tls.valid.items[0]).shape"
   ]
  },
  {
   "cell_type": "code",
   "execution_count": 21,
   "metadata": {},
   "outputs": [
    {
     "name": "stderr",
     "output_type": "stream",
     "text": [
      "IOPub data rate exceeded.\n",
      "The notebook server will temporarily stop sending output\n",
      "to the client in order to avoid crashing it.\n",
      "To change this limit, set the config variable\n",
      "`--NotebookApp.iopub_data_rate_limit`.\n",
      "\n",
      "Current values:\n",
      "NotebookApp.iopub_data_rate_limit=1000000.0 (bytes/sec)\n",
      "NotebookApp.rate_limit_window=3.0 (secs)\n",
      "\n"
     ]
    }
   ],
   "source": [
    "show_at(tls.train, 0)"
   ]
  },
  {
   "cell_type": "code",
   "execution_count": 22,
   "metadata": {},
   "outputs": [
    {
     "name": "stderr",
     "output_type": "stream",
     "text": [
      "IOPub data rate exceeded.\n",
      "The notebook server will temporarily stop sending output\n",
      "to the client in order to avoid crashing it.\n",
      "To change this limit, set the config variable\n",
      "`--NotebookApp.iopub_data_rate_limit`.\n",
      "\n",
      "Current values:\n",
      "NotebookApp.iopub_data_rate_limit=1000000.0 (bytes/sec)\n",
      "NotebookApp.rate_limit_window=3.0 (secs)\n",
      "\n"
     ]
    }
   ],
   "source": [
    "show_at(tls.valid, 0)"
   ]
  },
  {
   "cell_type": "code",
   "execution_count": 23,
   "metadata": {},
   "outputs": [],
   "source": [
    "bs,sl = 8,512\n",
    "dls = tls.dataloaders(bs=bs, seq_len=sl)"
   ]
  },
  {
   "cell_type": "code",
   "execution_count": 24,
   "metadata": {},
   "outputs": [
    {
     "data": {
      "text/html": [
       "<table border=\"1\" class=\"dataframe\">\n",
       "  <thead>\n",
       "    <tr style=\"text-align: right;\">\n",
       "      <th></th>\n",
       "      <th>text</th>\n",
       "      <th>text_</th>\n",
       "    </tr>\n",
       "  </thead>\n",
       "  <tbody>\n",
       "    <tr>\n",
       "      <th>0</th>\n",
       "      <td>def show_clock_output_clock_time_timezone(self, **kwargs):\\n    \"\"\"Auto Generated Code\\n    \"\"\"\\n    config = ET.Element(\"config\")\\n    show_clock = ET.Element(\"show_clock\")\\n    config = show_clock\\n    output = ET.SubElement(show_clock, \"output\")\\n    clock_time = ET.SubElement(output, \"clock-time\")\\n    timezone = ET.SubElement(clock_time, \"timezone\")\\n    timezone.text = kwargs.pop('timezone')\\n\\n    callback = kwargs.pop('callback', self._callback)\\n    return callback(config)\\n\\n\\ndef get_system_uptime_input_rbridge_id(self, **kwargs):\\n    \"\"\"Auto Generated Code\\n    \"\"\"\\n    config = ET.Element(\"config\")\\n    get_system_uptime = ET.Element(\"get_system_uptime\")\\n    config = get_system_uptime\\n    input = ET.SubElement(get_system_uptime, \"input\")\\n    rbridge_id = ET.SubElement(input, \"rbridge-id\")\\n    rbridge_id.text = kwargs.pop('rbridge_id')\\n\\n    callback = kwargs.pop('callback', self._callback)\\n    return callback(config)\\n\\n\\ndef get_system_uptime_output_show_system_uptime_rbridge_id(self, **kwargs):\\n    \"\"\"Auto Generated Code\\n    \"\"\"\\n    config = ET.Element(\"config\")\\n</td>\n",
       "      <td>show_clock_output_clock_time_timezone(self, **kwargs):\\n    \"\"\"Auto Generated Code\\n    \"\"\"\\n    config = ET.Element(\"config\")\\n    show_clock = ET.Element(\"show_clock\")\\n    config = show_clock\\n    output = ET.SubElement(show_clock, \"output\")\\n    clock_time = ET.SubElement(output, \"clock-time\")\\n    timezone = ET.SubElement(clock_time, \"timezone\")\\n    timezone.text = kwargs.pop('timezone')\\n\\n    callback = kwargs.pop('callback', self._callback)\\n    return callback(config)\\n\\n\\ndef get_system_uptime_input_rbridge_id(self, **kwargs):\\n    \"\"\"Auto Generated Code\\n    \"\"\"\\n    config = ET.Element(\"config\")\\n    get_system_uptime = ET.Element(\"get_system_uptime\")\\n    config = get_system_uptime\\n    input = ET.SubElement(get_system_uptime, \"input\")\\n    rbridge_id = ET.SubElement(input, \"rbridge-id\")\\n    rbridge_id.text = kwargs.pop('rbridge_id')\\n\\n    callback = kwargs.pop('callback', self._callback)\\n    return callback(config)\\n\\n\\ndef get_system_uptime_output_show_system_uptime_rbridge_id(self, **kwargs):\\n    \"\"\"Auto Generated Code\\n    \"\"\"\\n    config = ET.Element(\"config\")\\n</td>\n",
       "    </tr>\n",
       "    <tr>\n",
       "      <th>1</th>\n",
       "      <td>through. This will succeed where the previous connection fails under\\n        the conditions of REMOTE_USER and galaxy running under uWSGI.\\n    \"\"\"\\n    history_id = history_id or os.environ['HISTORY_ID']\\n    key = os.environ['API_KEY']\\n\\n    ### Customised/Raw galaxy_url ###\\n    galaxy_ip = _get_ip()\\n    # Substitute $DOCKER_HOST with real IP\\n    url = Template(os.environ['GALAXY_URL']).safe_substitute(\\n        {'DOCKER_HOST': galaxy_ip})\\n    gi = _test_url(url, key, history_id, obj=obj)\\n    if gi is not None:\\n        return gi\\n\\n    ### Failover, fully auto-detected URL ###\\n    # Remove trailing slashes\\n    app_path = os.environ['GALAXY_URL'].rstrip('/')\\n    # Remove protocol+host:port if included\\n    app_path = ''.join(app_path.split('/')[3:])\\n\\n    if</td>\n",
       "      <td>through. This will succeed where the previous connection fails under\\n        the conditions of REMOTE_USER and galaxy running under uWSGI.\\n    \"\"\"\\n    history_id = history_id or os.environ['HISTORY_ID']\\n    key = os.environ['API_KEY']\\n\\n    ### Customised/Raw galaxy_url ###\\n    galaxy_ip = _get_ip()\\n    # Substitute $DOCKER_HOST with real IP\\n    url = Template(os.environ['GALAXY_URL']).safe_substitute(\\n        {'DOCKER_HOST': galaxy_ip})\\n    gi = _test_url(url, key, history_id, obj=obj)\\n    if gi is not None:\\n        return gi\\n\\n    ### Failover, fully auto-detected URL ###\\n    # Remove trailing slashes\\n    app_path = os.environ['GALAXY_URL'].rstrip('/')\\n    # Remove protocol+host:port if included\\n    app_path = ''.join(app_path.split('/')[3:])\\n\\n    if 'GALAXY_WEB_PORT'</td>\n",
       "    </tr>\n",
       "    <tr>\n",
       "      <th>2</th>\n",
       "      <td>\\n    \"\"\"\\n    # decode the seed\\n    seed = encoder.decode(seed)\\n    # Verify the given seed type and size are correct\\n    if not (isinstance(seed, bytes) and len(seed) == cls.SEED_SIZE):\\n        raise exc.TypeError((\"PrivateKey seed must be a {0} bytes long \"\\n                             \"binary sequence\").format(cls.SEED_SIZE)\\n                            )\\n    # generate a raw keypair from the given seed\\n    raw_pk, raw_sk = nacl.bindings.crypto_box_seed_keypair(seed)\\n    # construct a instance from the raw secret key\\n</td>\n",
       "      <td>\"\"\"\\n    # decode the seed\\n    seed = encoder.decode(seed)\\n    # Verify the given seed type and size are correct\\n    if not (isinstance(seed, bytes) and len(seed) == cls.SEED_SIZE):\\n        raise exc.TypeError((\"PrivateKey seed must be a {0} bytes long \"\\n                             \"binary sequence\").format(cls.SEED_SIZE)\\n                            )\\n    # generate a raw keypair from the given seed\\n    raw_pk, raw_sk = nacl.bindings.crypto_box_seed_keypair(seed)\\n    # construct a instance from the raw secret key\\n</td>\n",
       "    </tr>\n",
       "    <tr>\n",
       "      <th>3</th>\n",
       "      <td>}\\n                                      }\\n                                  },\\n                                  **kwargs)\\n    buckets = results['facets']['categories']['buckets']\\n</td>\n",
       "      <td>}\\n                                      }\\n                                  },\\n                                  **kwargs)\\n    buckets = results['facets']['categories']['buckets']\\n</td>\n",
       "    </tr>\n",
       "    <tr>\n",
       "      <th>4</th>\n",
       "      <td>.config['VUE_CONFIGURATION']))\\n    if not target:\\n        raise ValueError('Can not find resource from configuration.')\\n    target = target[0]\\n    use_minified = (isinstance(use_minified, bool) and use_minified) or current_app.config['VUE_USE_MINIFIED']\\n    CdnClass = LocalCDN if target['use_local'] else getattr(cdn, target['cdn'], CDN)\\n    resource_url = CdnClass(name=name, version=target.get('version', ''),\\n                            use_minified=use_minified).get_resource_url()\\n    if resource_url.startswith('//') and current_app.config['VUE_CDN_FORCE_SSL']:\\n        resource_url = 'https:%s' % resource_url\\n    return resource_url\\n\\ndef humantime(time):\\n    \"\"\"Converts a time in seconds to a reasonable human readable time\\n\\n    Parameters\\n    ----------\\n    t : float\\n        The number of seconds\\n\\n</td>\n",
       "      <td>config['VUE_CONFIGURATION']))\\n    if not target:\\n        raise ValueError('Can not find resource from configuration.')\\n    target = target[0]\\n    use_minified = (isinstance(use_minified, bool) and use_minified) or current_app.config['VUE_USE_MINIFIED']\\n    CdnClass = LocalCDN if target['use_local'] else getattr(cdn, target['cdn'], CDN)\\n    resource_url = CdnClass(name=name, version=target.get('version', ''),\\n                            use_minified=use_minified).get_resource_url()\\n    if resource_url.startswith('//') and current_app.config['VUE_CDN_FORCE_SSL']:\\n        resource_url = 'https:%s' % resource_url\\n    return resource_url\\n\\ndef humantime(time):\\n    \"\"\"Converts a time in seconds to a reasonable human readable time\\n\\n    Parameters\\n    ----------\\n    t : float\\n        The number of seconds\\n\\n</td>\n",
       "    </tr>\n",
       "  </tbody>\n",
       "</table>"
      ],
      "text/plain": [
       "<IPython.core.display.HTML object>"
      ]
     },
     "metadata": {},
     "output_type": "display_data"
    }
   ],
   "source": [
    "dls.show_batch(max_n=5)"
   ]
  },
  {
   "cell_type": "code",
   "execution_count": 25,
   "metadata": {},
   "outputs": [
    {
     "data": {
      "text/html": [
       "\n",
       "    <div>\n",
       "        <style>\n",
       "            /* Turns off some styling */\n",
       "            progress {\n",
       "                /* gets rid of default border in Firefox and Opera. */\n",
       "                border: none;\n",
       "                /* Needs to be in here for Safari polyfill so background images work as expected. */\n",
       "                background-size: auto;\n",
       "            }\n",
       "            .progress-bar-interrupted, .progress-bar-interrupted::-webkit-progress-bar {\n",
       "                background: #F44336;\n",
       "            }\n",
       "        </style>\n",
       "      <progress value='15' class='' max='15', style='width:300px; height:20px; vertical-align: middle;'></progress>\n",
       "      100.00% [15/15 12:56<00:00]\n",
       "    </div>\n",
       "    "
      ],
      "text/plain": [
       "<IPython.core.display.HTML object>"
      ]
     },
     "metadata": {},
     "output_type": "display_data"
    }
   ],
   "source": [
    "def tokenize(text):\n",
    "    toks = tokenizer.tokenize(text)\n",
    "    return tensor(tokenizer.convert_tokens_to_ids(toks))\n",
    "\n",
    "tokenized = [tokenize(t) for t in progress_bar(all_texts)]"
   ]
  },
  {
   "cell_type": "code",
   "execution_count": 26,
   "metadata": {},
   "outputs": [],
   "source": [
    "class TransformersTokenizer(Transform):\n",
    "    def __init__(self, tokenizer): self.tokenizer = tokenizer\n",
    "    def encodes(self, x): \n",
    "        return x if isinstance(x, Tensor) else tokenize(x)\n",
    "        \n",
    "    def decodes(self, x): return TitledStr(self.tokenizer.decode(x.cpu().numpy()))"
   ]
  },
  {
   "cell_type": "code",
   "execution_count": 27,
   "metadata": {},
   "outputs": [],
   "source": [
    "tls = TfmdLists(tokenized, TransformersTokenizer(tokenizer), splits=splits, dl_type=LMDataLoader)\n",
    "dls = tls.dataloaders(bs=bs, seq_len=sl)"
   ]
  },
  {
   "cell_type": "code",
   "execution_count": 28,
   "metadata": {},
   "outputs": [
    {
     "data": {
      "text/html": [
       "<table border=\"1\" class=\"dataframe\">\n",
       "  <thead>\n",
       "    <tr style=\"text-align: right;\">\n",
       "      <th></th>\n",
       "      <th>text</th>\n",
       "      <th>text_</th>\n",
       "    </tr>\n",
       "  </thead>\n",
       "  <tbody>\n",
       "    <tr>\n",
       "      <th>0</th>\n",
       "      <td>async def ensure_open(self) -&gt; None:\\n    \"\"\"\\n    Check that the WebSocket connection is open.\\n\\n    Raise :exc:`~websockets.exceptions.ConnectionClosed` if it isn't.\\n\\n    \"\"\"\\n    # Handle cases from most common to least common for performance.\\n    if self.state is State.OPEN:\\n        # If self.transfer_data_task exited without a closing handshake,\\n        # self.close_connection_task may be closing it, going straight\\n        # from OPEN to CLOSED.\\n        if self.transfer_data_task.done():\\n            await asyncio.shield(self.close_connection_task)\\n            raise ConnectionClosed(\\n                self.close_code, self.close_reason\\n</td>\n",
       "      <td>ync def ensure_open(self) -&gt; None:\\n    \"\"\"\\n    Check that the WebSocket connection is open.\\n\\n    Raise :exc:`~websockets.exceptions.ConnectionClosed` if it isn't.\\n\\n    \"\"\"\\n    # Handle cases from most common to least common for performance.\\n    if self.state is State.OPEN:\\n        # If self.transfer_data_task exited without a closing handshake,\\n        # self.close_connection_task may be closing it, going straight\\n        # from OPEN to CLOSED.\\n        if self.transfer_data_task.done():\\n            await asyncio.shield(self.close_connection_task)\\n            raise ConnectionClosed(\\n                self.close_code, self.close_reason\\n</td>\n",
       "    </tr>\n",
       "    <tr>\n",
       "      <th>1</th>\n",
       "      <td>mq_channel.queue_delete(queue=self._hb_response_q)\\n            mq_channel.queue_delete(queue=self._hb_request_q)\\n\\n            mq_connection.close()\\n\\n\\ndef terminate_manager(self):\\n    \"\"\"\\n    **Purpose**: Method to terminate the tmgr process. This method is\\n    blocking as it waits for the tmgr process to terminate (aka join).\\n    \"\"\"\\n\\n    try:\\n\\n        if self._tmgr_process:\\n\\n            if not self._tmgr_terminate.is_set():\\n                self._tmgr_terminate.set()\\n\\n            if self.check_manager():\\n                self._tmgr_process.join()\\n\\n</td>\n",
       "      <td>mq_channel.queue_delete(queue=self._hb_response_q)\\n            mq_channel.queue_delete(queue=self._hb_request_q)\\n\\n            mq_connection.close()\\n\\n\\ndef terminate_manager(self):\\n    \"\"\"\\n    **Purpose**: Method to terminate the tmgr process. This method is\\n    blocking as it waits for the tmgr process to terminate (aka join).\\n    \"\"\"\\n\\n    try:\\n\\n        if self._tmgr_process:\\n\\n            if not self._tmgr_terminate.is_set():\\n                self._tmgr_terminate.set()\\n\\n            if self.check_manager():\\n                self._tmgr_process.join()\\n\\n</td>\n",
       "    </tr>\n",
       "    <tr>\n",
       "      <th>2</th>\n",
       "      <td>XTY, XTDY, XTFY, X0TX0, X0TDX0, X0TFX0,\\n                  XTX0, XTDX0, XTFX0, X0TY, X0TDY, X0TFY,\\n                  current_logSNR2, l_idx, n_C,\\n                  n_T, n_V, n_run, n_X0, idx_param_fitU, rank),\\n            method=self.optimizer, jac=True, tol=tol,\\n            options=self.minimize_options)\\n        current_vec_U_chlsk_l = \\\\n            res_fitU.x[idx_param_fitU['Cholesky']]\\n        current_a1 = res_fitU.x[idx_param_fitU['a1']]\\n        norm_fitUchange = np.linalg.norm(res_fitU.x - param0_fitU)\\n</td>\n",
       "      <td>XTY, XTDY, XTFY, X0TX0, X0TDX0, X0TFX0,\\n                  XTX0, XTDX0, XTFX0, X0TY, X0TDY, X0TFY,\\n                  current_logSNR2, l_idx, n_C,\\n                  n_T, n_V, n_run, n_X0, idx_param_fitU, rank),\\n            method=self.optimizer, jac=True, tol=tol,\\n            options=self.minimize_options)\\n        current_vec_U_chlsk_l = \\\\n            res_fitU.x[idx_param_fitU['Cholesky']]\\n        current_a1 = res_fitU.x[idx_param_fitU['a1']]\\n        norm_fitUchange = np.linalg.norm(res_fitU.x - param0_fitU)\\n</td>\n",
       "    </tr>\n",
       "    <tr>\n",
       "      <th>3</th>\n",
       "      <td>_attention.attention_bias_lower_triangle(\\n                common_layers.shape_list(targets)[1]))\\n    decoder_input = common_layers.shift_right_3d(targets)\\n    if hparams.pos == \"timing\":\\n        decoder_input = common_attention.add_timing_signal_1d(decoder_input)\\n    return (decoder_input, decoder_self_attention_bias)\\n\\n\\ndef attention_lm_decoder(decoder_input,\\n                         decoder_self_attention_bias,\\n                         hparams,\\n                         name=\"decoder\"):\\n    \"\"\"A stack of attention_lm layers.\\n\\n    Args:\\n      decoder_input: a Tensor\\n      decoder_self_attention_bias: bias Tensor</td>\n",
       "      <td>attention.attention_bias_lower_triangle(\\n                common_layers.shape_list(targets)[1]))\\n    decoder_input = common_layers.shift_right_3d(targets)\\n    if hparams.pos == \"timing\":\\n        decoder_input = common_attention.add_timing_signal_1d(decoder_input)\\n    return (decoder_input, decoder_self_attention_bias)\\n\\n\\ndef attention_lm_decoder(decoder_input,\\n                         decoder_self_attention_bias,\\n                         hparams,\\n                         name=\"decoder\"):\\n    \"\"\"A stack of attention_lm layers.\\n\\n    Args:\\n      decoder_input: a Tensor\\n      decoder_self_attention_bias: bias Tensor</td>\n",
       "    </tr>\n",
       "    <tr>\n",
       "      <th>4</th>\n",
       "      <td>,\\n            'additional_parameter': None,\\n            'linkname':'surface_sample',\\n            'docstring': \"surface sample generated by zeo++\",\\n        },\\n        \"cell\": {\\n            'valid_types': SinglefileData,\\n            'additional_parameter': None,\\n            'linkname': 'cell',\\n            'docstring': \"cell file containing cell vectors\",\\n        },\\n    })\\n    return use_dict\\n\\n\\ndef _validate_inputs(self, inputdict):\\n    \"\"\" Validate input links.\\n    \"\"\"\\n    #</td>\n",
       "      <td>\\n            'additional_parameter': None,\\n            'linkname':'surface_sample',\\n            'docstring': \"surface sample generated by zeo++\",\\n        },\\n        \"cell\": {\\n            'valid_types': SinglefileData,\\n            'additional_parameter': None,\\n            'linkname': 'cell',\\n            'docstring': \"cell file containing cell vectors\",\\n        },\\n    })\\n    return use_dict\\n\\n\\ndef _validate_inputs(self, inputdict):\\n    \"\"\" Validate input links.\\n    \"\"\"\\n    #</td>\n",
       "    </tr>\n",
       "  </tbody>\n",
       "</table>"
      ],
      "text/plain": [
       "<IPython.core.display.HTML object>"
      ]
     },
     "metadata": {},
     "output_type": "display_data"
    }
   ],
   "source": [
    "dls.show_batch(max_n=5)"
   ]
  },
  {
   "cell_type": "code",
   "execution_count": 29,
   "metadata": {},
   "outputs": [],
   "source": [
    "class DropOutput(Callback):\n",
    "    def after_pred(self): self.learn.pred = self.pred[0]"
   ]
  },
  {
   "cell_type": "code",
   "execution_count": 30,
   "metadata": {},
   "outputs": [],
   "source": [
    "learn = Learner(dls, model, \n",
    "                loss_func=CrossEntropyLossFlat(), \n",
    "                cbs=[DropOutput,TerminateOnNaNCallback()], \n",
    "                metrics=[Perplexity(),accuracy]\n",
    "               ).to_fp16()"
   ]
  },
  {
   "cell_type": "code",
   "execution_count": 31,
   "metadata": {
    "scrolled": false
   },
   "outputs": [
    {
     "data": {
      "text/html": [],
      "text/plain": [
       "<IPython.core.display.HTML object>"
      ]
     },
     "metadata": {},
     "output_type": "display_data"
    },
    {
     "data": {
      "text/plain": [
       "(#3) [15.721566200256348,6726504.5,0.3398023843765259]"
      ]
     },
     "execution_count": 31,
     "metadata": {},
     "output_type": "execute_result"
    }
   ],
   "source": [
    "learn.validate()"
   ]
  },
  {
   "cell_type": "code",
   "execution_count": 32,
   "metadata": {
    "scrolled": false
   },
   "outputs": [
    {
     "name": "stdout",
     "output_type": "stream",
     "text": [
      "RobertaForMaskedLM(\n",
      "  (roberta): RobertaModel(\n",
      "    (embeddings): RobertaEmbeddings(\n",
      "      (word_embeddings): Embedding(50265, 768, padding_idx=1)\n",
      "      (position_embeddings): Embedding(514, 768, padding_idx=1)\n",
      "      (token_type_embeddings): Embedding(1, 768)\n",
      "      (LayerNorm): LayerNorm((768,), eps=1e-05, elementwise_affine=True)\n",
      "      (dropout): Dropout(p=0.1, inplace=False)\n",
      "    )\n",
      "    (encoder): BertEncoder(\n",
      "      (layer): ModuleList(\n",
      "        (0): BertLayer(\n",
      "          (attention): BertAttention(\n",
      "            (self): BertSelfAttention(\n",
      "              (query): Linear(in_features=768, out_features=768, bias=True)\n",
      "              (key): Linear(in_features=768, out_features=768, bias=True)\n",
      "              (value): Linear(in_features=768, out_features=768, bias=True)\n",
      "              (dropout): Dropout(p=0.1, inplace=False)\n",
      "            )\n",
      "            (output): BertSelfOutput(\n",
      "              (dense): Linear(in_features=768, out_features=768, bias=True)\n",
      "              (LayerNorm): LayerNorm((768,), eps=1e-05, elementwise_affine=True)\n",
      "              (dropout): Dropout(p=0.1, inplace=False)\n",
      "            )\n",
      "          )\n",
      "          (intermediate): BertIntermediate(\n",
      "            (dense): Linear(in_features=768, out_features=3072, bias=True)\n",
      "          )\n",
      "          (output): BertOutput(\n",
      "            (dense): Linear(in_features=3072, out_features=768, bias=True)\n",
      "            (LayerNorm): LayerNorm((768,), eps=1e-05, elementwise_affine=True)\n",
      "            (dropout): Dropout(p=0.1, inplace=False)\n",
      "          )\n",
      "        )\n",
      "        (1): BertLayer(\n",
      "          (attention): BertAttention(\n",
      "            (self): BertSelfAttention(\n",
      "              (query): Linear(in_features=768, out_features=768, bias=True)\n",
      "              (key): Linear(in_features=768, out_features=768, bias=True)\n",
      "              (value): Linear(in_features=768, out_features=768, bias=True)\n",
      "              (dropout): Dropout(p=0.1, inplace=False)\n",
      "            )\n",
      "            (output): BertSelfOutput(\n",
      "              (dense): Linear(in_features=768, out_features=768, bias=True)\n",
      "              (LayerNorm): LayerNorm((768,), eps=1e-05, elementwise_affine=True)\n",
      "              (dropout): Dropout(p=0.1, inplace=False)\n",
      "            )\n",
      "          )\n",
      "          (intermediate): BertIntermediate(\n",
      "            (dense): Linear(in_features=768, out_features=3072, bias=True)\n",
      "          )\n",
      "          (output): BertOutput(\n",
      "            (dense): Linear(in_features=3072, out_features=768, bias=True)\n",
      "            (LayerNorm): LayerNorm((768,), eps=1e-05, elementwise_affine=True)\n",
      "            (dropout): Dropout(p=0.1, inplace=False)\n",
      "          )\n",
      "        )\n",
      "        (2): BertLayer(\n",
      "          (attention): BertAttention(\n",
      "            (self): BertSelfAttention(\n",
      "              (query): Linear(in_features=768, out_features=768, bias=True)\n",
      "              (key): Linear(in_features=768, out_features=768, bias=True)\n",
      "              (value): Linear(in_features=768, out_features=768, bias=True)\n",
      "              (dropout): Dropout(p=0.1, inplace=False)\n",
      "            )\n",
      "            (output): BertSelfOutput(\n",
      "              (dense): Linear(in_features=768, out_features=768, bias=True)\n",
      "              (LayerNorm): LayerNorm((768,), eps=1e-05, elementwise_affine=True)\n",
      "              (dropout): Dropout(p=0.1, inplace=False)\n",
      "            )\n",
      "          )\n",
      "          (intermediate): BertIntermediate(\n",
      "            (dense): Linear(in_features=768, out_features=3072, bias=True)\n",
      "          )\n",
      "          (output): BertOutput(\n",
      "            (dense): Linear(in_features=3072, out_features=768, bias=True)\n",
      "            (LayerNorm): LayerNorm((768,), eps=1e-05, elementwise_affine=True)\n",
      "            (dropout): Dropout(p=0.1, inplace=False)\n",
      "          )\n",
      "        )\n",
      "        (3): BertLayer(\n",
      "          (attention): BertAttention(\n",
      "            (self): BertSelfAttention(\n",
      "              (query): Linear(in_features=768, out_features=768, bias=True)\n",
      "              (key): Linear(in_features=768, out_features=768, bias=True)\n",
      "              (value): Linear(in_features=768, out_features=768, bias=True)\n",
      "              (dropout): Dropout(p=0.1, inplace=False)\n",
      "            )\n",
      "            (output): BertSelfOutput(\n",
      "              (dense): Linear(in_features=768, out_features=768, bias=True)\n",
      "              (LayerNorm): LayerNorm((768,), eps=1e-05, elementwise_affine=True)\n",
      "              (dropout): Dropout(p=0.1, inplace=False)\n",
      "            )\n",
      "          )\n",
      "          (intermediate): BertIntermediate(\n",
      "            (dense): Linear(in_features=768, out_features=3072, bias=True)\n",
      "          )\n",
      "          (output): BertOutput(\n",
      "            (dense): Linear(in_features=3072, out_features=768, bias=True)\n",
      "            (LayerNorm): LayerNorm((768,), eps=1e-05, elementwise_affine=True)\n",
      "            (dropout): Dropout(p=0.1, inplace=False)\n",
      "          )\n",
      "        )\n",
      "        (4): BertLayer(\n",
      "          (attention): BertAttention(\n",
      "            (self): BertSelfAttention(\n",
      "              (query): Linear(in_features=768, out_features=768, bias=True)\n",
      "              (key): Linear(in_features=768, out_features=768, bias=True)\n",
      "              (value): Linear(in_features=768, out_features=768, bias=True)\n",
      "              (dropout): Dropout(p=0.1, inplace=False)\n",
      "            )\n",
      "            (output): BertSelfOutput(\n",
      "              (dense): Linear(in_features=768, out_features=768, bias=True)\n",
      "              (LayerNorm): LayerNorm((768,), eps=1e-05, elementwise_affine=True)\n",
      "              (dropout): Dropout(p=0.1, inplace=False)\n",
      "            )\n",
      "          )\n",
      "          (intermediate): BertIntermediate(\n",
      "            (dense): Linear(in_features=768, out_features=3072, bias=True)\n",
      "          )\n",
      "          (output): BertOutput(\n",
      "            (dense): Linear(in_features=3072, out_features=768, bias=True)\n",
      "            (LayerNorm): LayerNorm((768,), eps=1e-05, elementwise_affine=True)\n",
      "            (dropout): Dropout(p=0.1, inplace=False)\n",
      "          )\n",
      "        )\n",
      "        (5): BertLayer(\n",
      "          (attention): BertAttention(\n",
      "            (self): BertSelfAttention(\n",
      "              (query): Linear(in_features=768, out_features=768, bias=True)\n",
      "              (key): Linear(in_features=768, out_features=768, bias=True)\n",
      "              (value): Linear(in_features=768, out_features=768, bias=True)\n",
      "              (dropout): Dropout(p=0.1, inplace=False)\n",
      "            )\n",
      "            (output): BertSelfOutput(\n",
      "              (dense): Linear(in_features=768, out_features=768, bias=True)\n",
      "              (LayerNorm): LayerNorm((768,), eps=1e-05, elementwise_affine=True)\n",
      "              (dropout): Dropout(p=0.1, inplace=False)\n",
      "            )\n",
      "          )\n",
      "          (intermediate): BertIntermediate(\n",
      "            (dense): Linear(in_features=768, out_features=3072, bias=True)\n",
      "          )\n",
      "          (output): BertOutput(\n",
      "            (dense): Linear(in_features=3072, out_features=768, bias=True)\n",
      "            (LayerNorm): LayerNorm((768,), eps=1e-05, elementwise_affine=True)\n",
      "            (dropout): Dropout(p=0.1, inplace=False)\n",
      "          )\n",
      "        )\n",
      "        (6): BertLayer(\n",
      "          (attention): BertAttention(\n",
      "            (self): BertSelfAttention(\n",
      "              (query): Linear(in_features=768, out_features=768, bias=True)\n",
      "              (key): Linear(in_features=768, out_features=768, bias=True)\n",
      "              (value): Linear(in_features=768, out_features=768, bias=True)\n",
      "              (dropout): Dropout(p=0.1, inplace=False)\n",
      "            )\n",
      "            (output): BertSelfOutput(\n",
      "              (dense): Linear(in_features=768, out_features=768, bias=True)\n",
      "              (LayerNorm): LayerNorm((768,), eps=1e-05, elementwise_affine=True)\n",
      "              (dropout): Dropout(p=0.1, inplace=False)\n",
      "            )\n",
      "          )\n",
      "          (intermediate): BertIntermediate(\n",
      "            (dense): Linear(in_features=768, out_features=3072, bias=True)\n",
      "          )\n",
      "          (output): BertOutput(\n",
      "            (dense): Linear(in_features=3072, out_features=768, bias=True)\n",
      "            (LayerNorm): LayerNorm((768,), eps=1e-05, elementwise_affine=True)\n",
      "            (dropout): Dropout(p=0.1, inplace=False)\n",
      "          )\n",
      "        )\n",
      "        (7): BertLayer(\n",
      "          (attention): BertAttention(\n",
      "            (self): BertSelfAttention(\n",
      "              (query): Linear(in_features=768, out_features=768, bias=True)\n",
      "              (key): Linear(in_features=768, out_features=768, bias=True)\n",
      "              (value): Linear(in_features=768, out_features=768, bias=True)\n",
      "              (dropout): Dropout(p=0.1, inplace=False)\n",
      "            )\n",
      "            (output): BertSelfOutput(\n",
      "              (dense): Linear(in_features=768, out_features=768, bias=True)\n",
      "              (LayerNorm): LayerNorm((768,), eps=1e-05, elementwise_affine=True)\n",
      "              (dropout): Dropout(p=0.1, inplace=False)\n",
      "            )\n",
      "          )\n",
      "          (intermediate): BertIntermediate(\n",
      "            (dense): Linear(in_features=768, out_features=3072, bias=True)\n",
      "          )\n",
      "          (output): BertOutput(\n",
      "            (dense): Linear(in_features=3072, out_features=768, bias=True)\n",
      "            (LayerNorm): LayerNorm((768,), eps=1e-05, elementwise_affine=True)\n",
      "            (dropout): Dropout(p=0.1, inplace=False)\n",
      "          )\n",
      "        )\n",
      "        (8): BertLayer(\n",
      "          (attention): BertAttention(\n",
      "            (self): BertSelfAttention(\n",
      "              (query): Linear(in_features=768, out_features=768, bias=True)\n",
      "              (key): Linear(in_features=768, out_features=768, bias=True)\n",
      "              (value): Linear(in_features=768, out_features=768, bias=True)\n",
      "              (dropout): Dropout(p=0.1, inplace=False)\n",
      "            )\n",
      "            (output): BertSelfOutput(\n",
      "              (dense): Linear(in_features=768, out_features=768, bias=True)\n",
      "              (LayerNorm): LayerNorm((768,), eps=1e-05, elementwise_affine=True)\n",
      "              (dropout): Dropout(p=0.1, inplace=False)\n",
      "            )\n",
      "          )\n",
      "          (intermediate): BertIntermediate(\n",
      "            (dense): Linear(in_features=768, out_features=3072, bias=True)\n",
      "          )\n",
      "          (output): BertOutput(\n",
      "            (dense): Linear(in_features=3072, out_features=768, bias=True)\n",
      "            (LayerNorm): LayerNorm((768,), eps=1e-05, elementwise_affine=True)\n",
      "            (dropout): Dropout(p=0.1, inplace=False)\n",
      "          )\n",
      "        )\n",
      "        (9): BertLayer(\n",
      "          (attention): BertAttention(\n",
      "            (self): BertSelfAttention(\n",
      "              (query): Linear(in_features=768, out_features=768, bias=True)\n",
      "              (key): Linear(in_features=768, out_features=768, bias=True)\n",
      "              (value): Linear(in_features=768, out_features=768, bias=True)\n",
      "              (dropout): Dropout(p=0.1, inplace=False)\n",
      "            )\n",
      "            (output): BertSelfOutput(\n",
      "              (dense): Linear(in_features=768, out_features=768, bias=True)\n",
      "              (LayerNorm): LayerNorm((768,), eps=1e-05, elementwise_affine=True)\n",
      "              (dropout): Dropout(p=0.1, inplace=False)\n",
      "            )\n",
      "          )\n",
      "          (intermediate): BertIntermediate(\n",
      "            (dense): Linear(in_features=768, out_features=3072, bias=True)\n",
      "          )\n",
      "          (output): BertOutput(\n",
      "            (dense): Linear(in_features=3072, out_features=768, bias=True)\n",
      "            (LayerNorm): LayerNorm((768,), eps=1e-05, elementwise_affine=True)\n",
      "            (dropout): Dropout(p=0.1, inplace=False)\n",
      "          )\n",
      "        )\n",
      "        (10): BertLayer(\n",
      "          (attention): BertAttention(\n",
      "            (self): BertSelfAttention(\n",
      "              (query): Linear(in_features=768, out_features=768, bias=True)\n",
      "              (key): Linear(in_features=768, out_features=768, bias=True)\n",
      "              (value): Linear(in_features=768, out_features=768, bias=True)\n",
      "              (dropout): Dropout(p=0.1, inplace=False)\n",
      "            )\n",
      "            (output): BertSelfOutput(\n",
      "              (dense): Linear(in_features=768, out_features=768, bias=True)\n",
      "              (LayerNorm): LayerNorm((768,), eps=1e-05, elementwise_affine=True)\n",
      "              (dropout): Dropout(p=0.1, inplace=False)\n",
      "            )\n",
      "          )\n",
      "          (intermediate): BertIntermediate(\n",
      "            (dense): Linear(in_features=768, out_features=3072, bias=True)\n",
      "          )\n",
      "          (output): BertOutput(\n",
      "            (dense): Linear(in_features=3072, out_features=768, bias=True)\n",
      "            (LayerNorm): LayerNorm((768,), eps=1e-05, elementwise_affine=True)\n",
      "            (dropout): Dropout(p=0.1, inplace=False)\n",
      "          )\n",
      "        )\n",
      "        (11): BertLayer(\n",
      "          (attention): BertAttention(\n",
      "            (self): BertSelfAttention(\n",
      "              (query): Linear(in_features=768, out_features=768, bias=True)\n",
      "              (key): Linear(in_features=768, out_features=768, bias=True)\n",
      "              (value): Linear(in_features=768, out_features=768, bias=True)\n",
      "              (dropout): Dropout(p=0.1, inplace=False)\n",
      "            )\n",
      "            (output): BertSelfOutput(\n",
      "              (dense): Linear(in_features=768, out_features=768, bias=True)\n",
      "              (LayerNorm): LayerNorm((768,), eps=1e-05, elementwise_affine=True)\n",
      "              (dropout): Dropout(p=0.1, inplace=False)\n",
      "            )\n",
      "          )\n",
      "          (intermediate): BertIntermediate(\n",
      "            (dense): Linear(in_features=768, out_features=3072, bias=True)\n",
      "          )\n",
      "          (output): BertOutput(\n",
      "            (dense): Linear(in_features=3072, out_features=768, bias=True)\n",
      "            (LayerNorm): LayerNorm((768,), eps=1e-05, elementwise_affine=True)\n",
      "            (dropout): Dropout(p=0.1, inplace=False)\n",
      "          )\n",
      "        )\n",
      "      )\n",
      "    )\n",
      "    (pooler): BertPooler(\n",
      "      (dense): Linear(in_features=768, out_features=768, bias=True)\n",
      "      (activation): Tanh()\n",
      "    )\n",
      "  )\n",
      "  (lm_head): RobertaLMHead(\n",
      "    (dense): Linear(in_features=768, out_features=768, bias=True)\n",
      "    (layer_norm): LayerNorm((768,), eps=1e-05, elementwise_affine=True)\n",
      "    (decoder): Linear(in_features=768, out_features=50265, bias=True)\n",
      "  )\n",
      ")\n"
     ]
    }
   ],
   "source": [
    "print(learn.model)"
   ]
  },
  {
   "cell_type": "code",
   "execution_count": 33,
   "metadata": {
    "scrolled": false
   },
   "outputs": [
    {
     "name": "stdout",
     "output_type": "stream",
     "text": [
      "RobertaForMaskedLM (Input shape: ['8 x 512'])\n",
      "================================================================\n",
      "Layer (type)         Output Shape         Param #    Trainable \n",
      "================================================================\n",
      "Embedding            8 x 512 x 768        38,603,520 True      \n",
      "________________________________________________________________\n",
      "Embedding            8 x 512 x 768        394,752    True      \n",
      "________________________________________________________________\n",
      "Embedding            8 x 512 x 768        768        True      \n",
      "________________________________________________________________\n",
      "LayerNorm            8 x 512 x 768        1,536      True      \n",
      "________________________________________________________________\n",
      "Dropout              8 x 512 x 768        0          False     \n",
      "________________________________________________________________\n",
      "Linear               8 x 512 x 768        590,592    True      \n",
      "________________________________________________________________\n",
      "Linear               8 x 512 x 768        590,592    True      \n",
      "________________________________________________________________\n",
      "Linear               8 x 512 x 768        590,592    True      \n",
      "________________________________________________________________\n",
      "Dropout              8 x 12 x 512 x 512   0          False     \n",
      "________________________________________________________________\n",
      "Linear               8 x 512 x 768        590,592    True      \n",
      "________________________________________________________________\n",
      "LayerNorm            8 x 512 x 768        1,536      True      \n",
      "________________________________________________________________\n",
      "Dropout              8 x 512 x 768        0          False     \n",
      "________________________________________________________________\n",
      "Linear               8 x 512 x 3072       2,362,368  True      \n",
      "________________________________________________________________\n",
      "Linear               8 x 512 x 768        2,360,064  True      \n",
      "________________________________________________________________\n",
      "LayerNorm            8 x 512 x 768        1,536      True      \n",
      "________________________________________________________________\n",
      "Dropout              8 x 512 x 768        0          False     \n",
      "________________________________________________________________\n",
      "Linear               8 x 512 x 768        590,592    True      \n",
      "________________________________________________________________\n",
      "Linear               8 x 512 x 768        590,592    True      \n",
      "________________________________________________________________\n",
      "Linear               8 x 512 x 768        590,592    True      \n",
      "________________________________________________________________\n",
      "Dropout              8 x 12 x 512 x 512   0          False     \n",
      "________________________________________________________________\n",
      "Linear               8 x 512 x 768        590,592    True      \n",
      "________________________________________________________________\n",
      "LayerNorm            8 x 512 x 768        1,536      True      \n",
      "________________________________________________________________\n",
      "Dropout              8 x 512 x 768        0          False     \n",
      "________________________________________________________________\n",
      "Linear               8 x 512 x 3072       2,362,368  True      \n",
      "________________________________________________________________\n",
      "Linear               8 x 512 x 768        2,360,064  True      \n",
      "________________________________________________________________\n",
      "LayerNorm            8 x 512 x 768        1,536      True      \n",
      "________________________________________________________________\n",
      "Dropout              8 x 512 x 768        0          False     \n",
      "________________________________________________________________\n",
      "Linear               8 x 512 x 768        590,592    True      \n",
      "________________________________________________________________\n",
      "Linear               8 x 512 x 768        590,592    True      \n",
      "________________________________________________________________\n",
      "Linear               8 x 512 x 768        590,592    True      \n",
      "________________________________________________________________\n",
      "Dropout              8 x 12 x 512 x 512   0          False     \n",
      "________________________________________________________________\n",
      "Linear               8 x 512 x 768        590,592    True      \n",
      "________________________________________________________________\n",
      "LayerNorm            8 x 512 x 768        1,536      True      \n",
      "________________________________________________________________\n",
      "Dropout              8 x 512 x 768        0          False     \n",
      "________________________________________________________________\n",
      "Linear               8 x 512 x 3072       2,362,368  True      \n",
      "________________________________________________________________\n",
      "Linear               8 x 512 x 768        2,360,064  True      \n",
      "________________________________________________________________\n",
      "LayerNorm            8 x 512 x 768        1,536      True      \n",
      "________________________________________________________________\n",
      "Dropout              8 x 512 x 768        0          False     \n",
      "________________________________________________________________\n",
      "Linear               8 x 512 x 768        590,592    True      \n",
      "________________________________________________________________\n",
      "Linear               8 x 512 x 768        590,592    True      \n",
      "________________________________________________________________\n",
      "Linear               8 x 512 x 768        590,592    True      \n",
      "________________________________________________________________\n",
      "Dropout              8 x 12 x 512 x 512   0          False     \n",
      "________________________________________________________________\n",
      "Linear               8 x 512 x 768        590,592    True      \n",
      "________________________________________________________________\n",
      "LayerNorm            8 x 512 x 768        1,536      True      \n",
      "________________________________________________________________\n",
      "Dropout              8 x 512 x 768        0          False     \n",
      "________________________________________________________________\n",
      "Linear               8 x 512 x 3072       2,362,368  True      \n",
      "________________________________________________________________\n",
      "Linear               8 x 512 x 768        2,360,064  True      \n",
      "________________________________________________________________\n",
      "LayerNorm            8 x 512 x 768        1,536      True      \n",
      "________________________________________________________________\n",
      "Dropout              8 x 512 x 768        0          False     \n",
      "________________________________________________________________\n",
      "Linear               8 x 512 x 768        590,592    True      \n",
      "________________________________________________________________\n",
      "Linear               8 x 512 x 768        590,592    True      \n",
      "________________________________________________________________\n",
      "Linear               8 x 512 x 768        590,592    True      \n",
      "________________________________________________________________\n",
      "Dropout              8 x 12 x 512 x 512   0          False     \n",
      "________________________________________________________________\n",
      "Linear               8 x 512 x 768        590,592    True      \n",
      "________________________________________________________________\n",
      "LayerNorm            8 x 512 x 768        1,536      True      \n",
      "________________________________________________________________\n",
      "Dropout              8 x 512 x 768        0          False     \n",
      "________________________________________________________________\n",
      "Linear               8 x 512 x 3072       2,362,368  True      \n",
      "________________________________________________________________\n",
      "Linear               8 x 512 x 768        2,360,064  True      \n",
      "________________________________________________________________\n",
      "LayerNorm            8 x 512 x 768        1,536      True      \n",
      "________________________________________________________________\n",
      "Dropout              8 x 512 x 768        0          False     \n",
      "________________________________________________________________\n",
      "Linear               8 x 512 x 768        590,592    True      \n",
      "________________________________________________________________\n",
      "Linear               8 x 512 x 768        590,592    True      \n",
      "________________________________________________________________\n",
      "Linear               8 x 512 x 768        590,592    True      \n",
      "________________________________________________________________\n",
      "Dropout              8 x 12 x 512 x 512   0          False     \n",
      "________________________________________________________________\n",
      "Linear               8 x 512 x 768        590,592    True      \n",
      "________________________________________________________________\n",
      "LayerNorm            8 x 512 x 768        1,536      True      \n",
      "________________________________________________________________\n",
      "Dropout              8 x 512 x 768        0          False     \n",
      "________________________________________________________________\n",
      "Linear               8 x 512 x 3072       2,362,368  True      \n",
      "________________________________________________________________\n",
      "Linear               8 x 512 x 768        2,360,064  True      \n",
      "________________________________________________________________\n",
      "LayerNorm            8 x 512 x 768        1,536      True      \n",
      "________________________________________________________________\n",
      "Dropout              8 x 512 x 768        0          False     \n",
      "________________________________________________________________\n",
      "Linear               8 x 512 x 768        590,592    True      \n",
      "________________________________________________________________\n",
      "Linear               8 x 512 x 768        590,592    True      \n",
      "________________________________________________________________\n",
      "Linear               8 x 512 x 768        590,592    True      \n",
      "________________________________________________________________\n",
      "Dropout              8 x 12 x 512 x 512   0          False     \n",
      "________________________________________________________________\n",
      "Linear               8 x 512 x 768        590,592    True      \n",
      "________________________________________________________________\n",
      "LayerNorm            8 x 512 x 768        1,536      True      \n",
      "________________________________________________________________\n",
      "Dropout              8 x 512 x 768        0          False     \n",
      "________________________________________________________________\n",
      "Linear               8 x 512 x 3072       2,362,368  True      \n",
      "________________________________________________________________\n",
      "Linear               8 x 512 x 768        2,360,064  True      \n",
      "________________________________________________________________\n",
      "LayerNorm            8 x 512 x 768        1,536      True      \n",
      "________________________________________________________________\n",
      "Dropout              8 x 512 x 768        0          False     \n",
      "________________________________________________________________\n",
      "Linear               8 x 512 x 768        590,592    True      \n",
      "________________________________________________________________\n",
      "Linear               8 x 512 x 768        590,592    True      \n",
      "________________________________________________________________\n",
      "Linear               8 x 512 x 768        590,592    True      \n",
      "________________________________________________________________\n",
      "Dropout              8 x 12 x 512 x 512   0          False     \n",
      "________________________________________________________________\n",
      "Linear               8 x 512 x 768        590,592    True      \n",
      "________________________________________________________________\n",
      "LayerNorm            8 x 512 x 768        1,536      True      \n",
      "________________________________________________________________\n",
      "Dropout              8 x 512 x 768        0          False     \n",
      "________________________________________________________________\n",
      "Linear               8 x 512 x 3072       2,362,368  True      \n",
      "________________________________________________________________\n",
      "Linear               8 x 512 x 768        2,360,064  True      \n",
      "________________________________________________________________\n",
      "LayerNorm            8 x 512 x 768        1,536      True      \n",
      "________________________________________________________________\n",
      "Dropout              8 x 512 x 768        0          False     \n",
      "________________________________________________________________\n",
      "Linear               8 x 512 x 768        590,592    True      \n",
      "________________________________________________________________\n",
      "Linear               8 x 512 x 768        590,592    True      \n",
      "________________________________________________________________\n",
      "Linear               8 x 512 x 768        590,592    True      \n",
      "________________________________________________________________\n",
      "Dropout              8 x 12 x 512 x 512   0          False     \n",
      "________________________________________________________________\n",
      "Linear               8 x 512 x 768        590,592    True      \n",
      "________________________________________________________________\n",
      "LayerNorm            8 x 512 x 768        1,536      True      \n",
      "________________________________________________________________\n",
      "Dropout              8 x 512 x 768        0          False     \n",
      "________________________________________________________________\n",
      "Linear               8 x 512 x 3072       2,362,368  True      \n",
      "________________________________________________________________\n",
      "Linear               8 x 512 x 768        2,360,064  True      \n",
      "________________________________________________________________\n",
      "LayerNorm            8 x 512 x 768        1,536      True      \n",
      "________________________________________________________________\n",
      "Dropout              8 x 512 x 768        0          False     \n",
      "________________________________________________________________\n",
      "Linear               8 x 512 x 768        590,592    True      \n",
      "________________________________________________________________\n",
      "Linear               8 x 512 x 768        590,592    True      \n",
      "________________________________________________________________\n",
      "Linear               8 x 512 x 768        590,592    True      \n",
      "________________________________________________________________\n",
      "Dropout              8 x 12 x 512 x 512   0          False     \n",
      "________________________________________________________________\n",
      "Linear               8 x 512 x 768        590,592    True      \n",
      "________________________________________________________________\n",
      "LayerNorm            8 x 512 x 768        1,536      True      \n",
      "________________________________________________________________\n",
      "Dropout              8 x 512 x 768        0          False     \n",
      "________________________________________________________________\n",
      "Linear               8 x 512 x 3072       2,362,368  True      \n",
      "________________________________________________________________\n",
      "Linear               8 x 512 x 768        2,360,064  True      \n",
      "________________________________________________________________\n",
      "LayerNorm            8 x 512 x 768        1,536      True      \n",
      "________________________________________________________________\n",
      "Dropout              8 x 512 x 768        0          False     \n",
      "________________________________________________________________\n",
      "Linear               8 x 512 x 768        590,592    True      \n",
      "________________________________________________________________\n",
      "Linear               8 x 512 x 768        590,592    True      \n",
      "________________________________________________________________\n",
      "Linear               8 x 512 x 768        590,592    True      \n",
      "________________________________________________________________\n",
      "Dropout              8 x 12 x 512 x 512   0          False     \n",
      "________________________________________________________________\n",
      "Linear               8 x 512 x 768        590,592    True      \n",
      "________________________________________________________________\n",
      "LayerNorm            8 x 512 x 768        1,536      True      \n",
      "________________________________________________________________\n",
      "Dropout              8 x 512 x 768        0          False     \n",
      "________________________________________________________________\n",
      "Linear               8 x 512 x 3072       2,362,368  True      \n",
      "________________________________________________________________\n",
      "Linear               8 x 512 x 768        2,360,064  True      \n",
      "________________________________________________________________\n",
      "LayerNorm            8 x 512 x 768        1,536      True      \n",
      "________________________________________________________________\n",
      "Dropout              8 x 512 x 768        0          False     \n",
      "________________________________________________________________\n",
      "Linear               8 x 512 x 768        590,592    True      \n",
      "________________________________________________________________\n",
      "Linear               8 x 512 x 768        590,592    True      \n",
      "________________________________________________________________\n",
      "Linear               8 x 512 x 768        590,592    True      \n",
      "________________________________________________________________\n",
      "Dropout              8 x 12 x 512 x 512   0          False     \n",
      "________________________________________________________________\n",
      "Linear               8 x 512 x 768        590,592    True      \n",
      "________________________________________________________________\n",
      "LayerNorm            8 x 512 x 768        1,536      True      \n",
      "________________________________________________________________\n",
      "Dropout              8 x 512 x 768        0          False     \n",
      "________________________________________________________________\n",
      "Linear               8 x 512 x 3072       2,362,368  True      \n",
      "________________________________________________________________\n",
      "Linear               8 x 512 x 768        2,360,064  True      \n",
      "________________________________________________________________\n",
      "LayerNorm            8 x 512 x 768        1,536      True      \n",
      "________________________________________________________________\n",
      "Dropout              8 x 512 x 768        0          False     \n",
      "________________________________________________________________\n",
      "Linear               8 x 768              590,592    True      \n",
      "________________________________________________________________\n",
      "Tanh                 8 x 768              0          False     \n",
      "________________________________________________________________\n",
      "Linear               8 x 512 x 768        590,592    True      \n",
      "________________________________________________________________\n",
      "LayerNorm            8 x 512 x 768        1,536      True      \n",
      "________________________________________________________________\n",
      "Linear               8 x 512 x 50265      38,653,785 True      \n",
      "________________________________________________________________\n",
      "\n",
      "Total params: 163,891,545\n",
      "Total trainable params: 163,891,545\n",
      "Total non-trainable params: 0\n",
      "\n",
      "Optimizer used: <function Adam at 0x7f40970056a8>\n",
      "Loss function: FlattenedLoss of CrossEntropyLoss()\n",
      "\n",
      "Model unfrozen\n",
      "\n",
      "Callbacks:\n",
      "  - DropOutput\n",
      "  - TerminateOnNaNCallback\n",
      "  - ModelToHalf\n",
      "  - TrainEvalCallback\n",
      "  - Recorder\n",
      "  - ProgressCallback\n",
      "  - MixedPrecision\n"
     ]
    }
   ],
   "source": [
    "print(learn.summary()) "
   ]
  },
  {
   "cell_type": "code",
   "execution_count": 34,
   "metadata": {},
   "outputs": [
    {
     "data": {
      "text/html": [],
      "text/plain": [
       "<IPython.core.display.HTML object>"
      ]
     },
     "metadata": {},
     "output_type": "display_data"
    },
    {
     "data": {
      "text/plain": [
       "SuggestedLRs(lr_min=0.00020892962347716094, lr_steep=9.999999747378752e-06)"
      ]
     },
     "execution_count": 34,
     "metadata": {},
     "output_type": "execute_result"
    },
    {
     "data": {
      "image/png": "[encoded data removed]",
      "text/plain": [
       "<Figure size 432x288 with 1 Axes>"
      ]
     },
     "metadata": {
      "needs_background": "light"
     },
     "output_type": "display_data"
    }
   ],
   "source": [
    "learn.lr_find()"
   ]
  },
  {
   "cell_type": "code",
   "execution_count": 36,
   "metadata": {},
   "outputs": [
    {
     "data": {
      "text/html": [
       "<table border=\"1\" class=\"dataframe\">\n",
       "  <thead>\n",
       "    <tr style=\"text-align: left;\">\n",
       "      <th>epoch</th>\n",
       "      <th>train_loss</th>\n",
       "      <th>valid_loss</th>\n",
       "      <th>perplexity</th>\n",
       "      <th>accuracy</th>\n",
       "      <th>time</th>\n",
       "    </tr>\n",
       "  </thead>\n",
       "  <tbody>\n",
       "    <tr>\n",
       "      <td>0</td>\n",
       "      <td>0.016402</td>\n",
       "      <td>0.003944</td>\n",
       "      <td>1.003952</td>\n",
       "      <td>0.999346</td>\n",
       "      <td>3:09:52</td>\n",
       "    </tr>\n",
       "  </tbody>\n",
       "</table>"
      ],
      "text/plain": [
       "<IPython.core.display.HTML object>"
      ]
     },
     "metadata": {},
     "output_type": "display_data"
    }
   ],
   "source": [
    "learn.fit_one_cycle(1, 1e-5)"
   ]
  },
  {
   "cell_type": "code",
   "execution_count": 37,
   "metadata": {},
   "outputs": [
    {
     "data": {
      "text/html": [
       "<div>\n",
       "<style scoped>\n",
       "    .dataframe tbody tr th:only-of-type {\n",
       "        vertical-align: middle;\n",
       "    }\n",
       "\n",
       "    .dataframe tbody tr th {\n",
       "        vertical-align: top;\n",
       "    }\n",
       "\n",
       "    .dataframe thead th {\n",
       "        text-align: right;\n",
       "    }\n",
       "</style>\n",
       "<table border=\"1\" class=\"dataframe\">\n",
       "  <thead>\n",
       "    <tr style=\"text-align: right;\">\n",
       "      <th></th>\n",
       "      <th>text</th>\n",
       "    </tr>\n",
       "  </thead>\n",
       "  <tbody>\n",
       "    <tr>\n",
       "      <th>0</th>\n",
       "      <td>def get_vid_from_url(url):\\n    \"\"\"Extracts video ID from URL.\\n    \"\"\"\\n    return match1(url, r'youtu\\.be/([^?/]+)') or \\\\n        match1(url, r'youtube\\.com/embed/([^/?]+)') or \\\\n        match1(url, r'youtube\\.com/v/([^/?]+)') or \\\\n        match1(url, r'youtube\\.com/watch/([^/?]+)') or \\\\n        parse_query_param(url, 'v') or \\\\n        parse_query_param(parse_query_param(url, 'u'), 'v')\\n\\n\\ndef sina_xml_to_url_list(xml_data):\\n    \"\"\"str-&gt;list\\n    Convert XML to URL List.\\n    From Biligrab.\\n    \"\"\"\\n    rawurl = []\\n    dom = parseString(xml_data)\\n    for node in dom.getElement...</td>\n",
       "    </tr>\n",
       "  </tbody>\n",
       "</table>\n",
       "</div>"
      ],
      "text/plain": [
       "                                                                                                                                                                                                                                                                                                                                                                                                                                                                                                                                                                                                                      text\n",
       "0  def get_vid_from_url(url):\\n    \"\"\"Extracts video ID from URL.\\n    \"\"\"\\n    return match1(url, r'youtu\\.be/([^?/]+)') or \\\\n        match1(url, r'youtube\\.com/embed/([^/?]+)') or \\\\n        match1(url, r'youtube\\.com/v/([^/?]+)') or \\\\n        match1(url, r'youtube\\.com/watch/([^/?]+)') or \\\\n        parse_query_param(url, 'v') or \\\\n        parse_query_param(parse_query_param(url, 'u'), 'v')\\n\\n\\ndef sina_xml_to_url_list(xml_data):\\n    \"\"\"str->list\\n    Convert XML to URL List.\\n    From Biligrab.\\n    \"\"\"\\n    rawurl = []\\n    dom = parseString(xml_data)\\n    for node in dom.getElement..."
      ]
     },
     "execution_count": 37,
     "metadata": {},
     "output_type": "execute_result"
    }
   ],
   "source": [
    "df_valid.head(1)"
   ]
  },
  {
   "cell_type": "code",
   "execution_count": 38,
   "metadata": {},
   "outputs": [],
   "source": [
    "# learn.save('fine_tuned')\n",
    "learn.save('20200824_fit_head_roberta_model')"
   ]
  },
  {
   "cell_type": "code",
   "execution_count": 39,
   "metadata": {},
   "outputs": [],
   "source": [
    "learn.load('20200824_fit_head_roberta_model');"
   ]
  },
  {
   "cell_type": "code",
   "execution_count": 40,
   "metadata": {},
   "outputs": [],
   "source": [
    "prompt = \"A unicorn is a magical creature with a rainbow tail and a horn\""
   ]
  },
  {
   "cell_type": "code",
   "execution_count": 41,
   "metadata": {},
   "outputs": [
    {
     "data": {
      "text/plain": [
       "torch.Size([1, 15])"
      ]
     },
     "execution_count": 41,
     "metadata": {},
     "output_type": "execute_result"
    }
   ],
   "source": [
    "prompt_ids = tokenizer.encode(prompt)\n",
    "inp = tensor(prompt_ids)[None].cuda()\n",
    "inp.shape"
   ]
  },
  {
   "cell_type": "code",
   "execution_count": 42,
   "metadata": {},
   "outputs": [],
   "source": [
    "preds = learn.model.generate(inp, max_length=40, num_beams=5, temperature=1.5)"
   ]
  },
  {
   "cell_type": "code",
   "execution_count": 43,
   "metadata": {},
   "outputs": [
    {
     "data": {
      "text/plain": [
       "'<s>A unicorn is a magical creature with a rainbow tail and a horn</s>AAAAAAAAAAAAAAAAAAAAAAAAA'"
      ]
     },
     "execution_count": 43,
     "metadata": {},
     "output_type": "execute_result"
    }
   ],
   "source": [
    "tokenizer.decode(preds[0].cpu().numpy())\n",
    "# tokenizer.decode(preds[0])"
   ]
  },
  {
   "cell_type": "code",
   "execution_count": 44,
   "metadata": {},
   "outputs": [
    {
     "data": {
      "text/plain": [
       "tensor([[    0,   250, 35545,    16,    10, 13867, 20397,    19,    10, 20927,\n",
       "          7886,     8,    10, 21305,     2,   250,   250,   250,   250,   250,\n",
       "           250,   250,   250,   250,   250,   250,   250,   250,   250,   250,\n",
       "           250,   250,   250,   250,   250,   250,   250,   250,   250,   250]],\n",
       "       device='cuda:1')"
      ]
     },
     "execution_count": 44,
     "metadata": {},
     "output_type": "execute_result"
    }
   ],
   "source": [
    "preds"
   ]
  },
  {
   "cell_type": "code",
   "execution_count": 45,
   "metadata": {},
   "outputs": [
    {
     "data": {
      "text/plain": [
       "tensor([    0,   250, 35545,    16,    10, 13867, 20397,    19,    10, 20927,\n",
       "         7886,     8,    10, 21305,     2,   250,   250,   250,   250,   250,\n",
       "          250,   250,   250,   250,   250,   250,   250,   250,   250,   250,\n",
       "          250,   250,   250,   250,   250,   250,   250,   250,   250,   250],\n",
       "       device='cuda:1')"
      ]
     },
     "execution_count": 45,
     "metadata": {},
     "output_type": "execute_result"
    }
   ],
   "source": [
    "preds[0]"
   ]
  },
  {
   "cell_type": "code",
   "execution_count": 46,
   "metadata": {},
   "outputs": [
    {
     "data": {
      "text/plain": [
       "'<s>import</s>importimportimportimportimportimportimportimportimportimportimportimportimportimportimportimportimportimportimportimportimportimportimportimportimportimportimportimportimportimportimportimportimportimportimportimportimport'"
      ]
     },
     "execution_count": 46,
     "metadata": {},
     "output_type": "execute_result"
    }
   ],
   "source": [
    "prompt = \"import\"\n",
    "prompt_ids = tokenizer.encode(prompt)\n",
    "inp = tensor(prompt_ids)[None].cuda()\n",
    "inp.shape\n",
    "preds = learn.model.generate(inp, max_length=40, num_beams=5, temperature=1.5)\n",
    "tokenizer.decode(preds[0].cpu().numpy())"
   ]
  },
  {
   "cell_type": "code",
   "execution_count": 50,
   "metadata": {},
   "outputs": [
    {
     "data": {
      "text/plain": [
       "'<s>import <MASK> from</s>importimportimportimportimportimportimportimportimportimportimportimportimportimportimportimportimportimportimportimportimportimportimportimportimportimportimportimportimportimportimportimport'"
      ]
     },
     "execution_count": 50,
     "metadata": {},
     "output_type": "execute_result"
    }
   ],
   "source": [
    "prompt = \"import <MASK> from\"\n",
    "prompt_ids = tokenizer.encode(prompt)\n",
    "inp = tensor(prompt_ids)[None].cuda()\n",
    "inp.shape\n",
    "preds = learn.model.generate(inp, max_length=40, num_beams=5, temperature=1.5)\n",
    "tokenizer.decode(preds[0].cpu().numpy())"
   ]
  },
  {
   "cell_type": "code",
   "execution_count": 60,
   "metadata": {},
   "outputs": [
    {
     "data": {
      "text/plain": [
       "('20200824_roberta-CodeSearchNet_fit_head/vocab.json',\n",
       " '20200824_roberta-CodeSearchNet_fit_head/merges.txt',\n",
       " '20200824_roberta-CodeSearchNet_fit_head/special_tokens_map.json',\n",
       " '20200824_roberta-CodeSearchNet_fit_head/added_tokens.json')"
      ]
     },
     "execution_count": 60,
     "metadata": {},
     "output_type": "execute_result"
    }
   ],
   "source": [
    "_model_roberta = learn.model\n",
    "# save tokenizer and model\n",
    "model_path= '20200824_roberta-CodeSearchNet_fit_head'\n",
    "!mkdir {model_path}\n",
    "_model_roberta.save_pretrained(f\"{str(model_path)}\")\n",
    "tokenizer.save_pretrained(f\"{str(model_path)}\")"
   ]
  },
  {
   "cell_type": "code",
   "execution_count": 69,
   "metadata": {},
   "outputs": [
    {
     "data": {
      "text/plain": [
       "[{'sequence': '<s>from pandas import.</s>',\n",
       "  'score': 0.9145868420600891,\n",
       "  'token': 4,\n",
       "  'token_str': '.'},\n",
       " {'sequence': '<s>from pandas import.</s>',\n",
       "  'score': 0.015848614275455475,\n",
       "  'token': 479,\n",
       "  'token_str': 'Ġ.'},\n",
       " {'sequence': '<s>from pandas importfrom</s>',\n",
       "  'score': 0.0070899128913879395,\n",
       "  'token': 7761,\n",
       "  'token_str': 'from'},\n",
       " {'sequence': '<s>from pandas import,</s>',\n",
       "  'score': 0.0038756707217544317,\n",
       "  'token': 6,\n",
       "  'token_str': ','},\n",
       " {'sequence': '<s>from pandas import from</s>',\n",
       "  'score': 0.0038681819569319487,\n",
       "  'token': 31,\n",
       "  'token_str': 'Ġfrom'}]"
      ]
     },
     "execution_count": 69,
     "metadata": {},
     "output_type": "execute_result"
    }
   ],
   "source": [
    "from transformers import pipeline\n",
    "\n",
    "fill_mask = pipeline(\n",
    "    \"fill-mask\",\n",
    "    model=\"./20200824_roberta-CodeSearchNet_fit_head\",\n",
    "    tokenizer=\"./20200824_roberta-CodeSearchNet_fit_head\"\n",
    ")\n",
    "\n",
    "fill_mask(\"from pandas import <mask>\")"
   ]
  },
  {
   "cell_type": "code",
   "execution_count": 70,
   "metadata": {},
   "outputs": [],
   "source": [
    "learn.unfreeze()"
   ]
  },
  {
   "cell_type": "code",
   "execution_count": 71,
   "metadata": {},
   "outputs": [
    {
     "data": {
      "text/html": [
       "<table border=\"1\" class=\"dataframe\">\n",
       "  <thead>\n",
       "    <tr style=\"text-align: left;\">\n",
       "      <th>epoch</th>\n",
       "      <th>train_loss</th>\n",
       "      <th>valid_loss</th>\n",
       "      <th>perplexity</th>\n",
       "      <th>accuracy</th>\n",
       "      <th>time</th>\n",
       "    </tr>\n",
       "  </thead>\n",
       "  <tbody>\n",
       "    <tr>\n",
       "      <td>0</td>\n",
       "      <td>0.018979</td>\n",
       "      <td>0.003823</td>\n",
       "      <td>1.003831</td>\n",
       "      <td>0.999359</td>\n",
       "      <td>3:10:39</td>\n",
       "    </tr>\n",
       "    <tr>\n",
       "      <td>1</td>\n",
       "      <td>0.011861</td>\n",
       "      <td>0.003552</td>\n",
       "      <td>1.003558</td>\n",
       "      <td>0.999390</td>\n",
       "      <td>3:11:20</td>\n",
       "    </tr>\n",
       "    <tr>\n",
       "      <td>2</td>\n",
       "      <td>0.013500</td>\n",
       "      <td>0.003378</td>\n",
       "      <td>1.003384</td>\n",
       "      <td>0.999406</td>\n",
       "      <td>3:11:51</td>\n",
       "    </tr>\n",
       "    <tr>\n",
       "      <td>3</td>\n",
       "      <td>0.014181</td>\n",
       "      <td>0.003216</td>\n",
       "      <td>1.003221</td>\n",
       "      <td>0.999431</td>\n",
       "      <td>3:11:44</td>\n",
       "    </tr>\n",
       "    <tr>\n",
       "      <td>4</td>\n",
       "      <td>0.014843</td>\n",
       "      <td>0.003123</td>\n",
       "      <td>1.003128</td>\n",
       "      <td>0.999436</td>\n",
       "      <td>3:12:28</td>\n",
       "    </tr>\n",
       "    <tr>\n",
       "      <td>5</td>\n",
       "      <td>0.009306</td>\n",
       "      <td>0.003086</td>\n",
       "      <td>1.003091</td>\n",
       "      <td>0.999446</td>\n",
       "      <td>3:13:13</td>\n",
       "    </tr>\n",
       "    <tr>\n",
       "      <td>6</td>\n",
       "      <td>0.011828</td>\n",
       "      <td>0.003004</td>\n",
       "      <td>1.003009</td>\n",
       "      <td>0.999457</td>\n",
       "      <td>3:12:07</td>\n",
       "    </tr>\n",
       "    <tr>\n",
       "      <td>7</td>\n",
       "      <td>0.010157</td>\n",
       "      <td>0.002951</td>\n",
       "      <td>1.002956</td>\n",
       "      <td>0.999461</td>\n",
       "      <td>3:11:38</td>\n",
       "    </tr>\n",
       "    <tr>\n",
       "      <td>8</td>\n",
       "      <td>0.014581</td>\n",
       "      <td>0.002925</td>\n",
       "      <td>1.002929</td>\n",
       "      <td>0.999467</td>\n",
       "      <td>3:11:12</td>\n",
       "    </tr>\n",
       "    <tr>\n",
       "      <td>9</td>\n",
       "      <td>0.010569</td>\n",
       "      <td>0.002920</td>\n",
       "      <td>1.002925</td>\n",
       "      <td>0.999468</td>\n",
       "      <td>3:11:12</td>\n",
       "    </tr>\n",
       "  </tbody>\n",
       "</table>"
      ],
      "text/plain": [
       "<IPython.core.display.HTML object>"
      ]
     },
     "metadata": {},
     "output_type": "display_data"
    }
   ],
   "source": [
    "learn.fit_one_cycle(10, 1e-5)"
   ]
  },
  {
   "cell_type": "code",
   "execution_count": 72,
   "metadata": {},
   "outputs": [
    {
     "data": {
      "text/plain": [
       "('20200824_roberta-CodeSearchNet-fine-tuned/vocab.json',\n",
       " '20200824_roberta-CodeSearchNet-fine-tuned/merges.txt',\n",
       " '20200824_roberta-CodeSearchNet-fine-tuned/special_tokens_map.json',\n",
       " '20200824_roberta-CodeSearchNet-fine-tuned/added_tokens.json')"
      ]
     },
     "execution_count": 72,
     "metadata": {},
     "output_type": "execute_result"
    }
   ],
   "source": [
    "learn.save('20200824_fine_tuned_roberta_model')\n",
    "_model_roberta_fine = learn.model\n",
    "# save tokenizer and model\n",
    "model_path= '20200824_roberta-CodeSearchNet-fine-tuned'\n",
    "!mkdir {model_path}\n",
    "_model_roberta_fine.save_pretrained(f\"{str(model_path)}\")\n",
    "tokenizer.save_pretrained(f\"{str(model_path)}\")"
   ]
  },
  {
   "cell_type": "code",
   "execution_count": 73,
   "metadata": {
    "scrolled": false
   },
   "outputs": [
    {
     "name": "stdout",
     "output_type": "stream",
     "text": [
      "RobertaForMaskedLM (Input shape: ['8 x 512'])\n",
      "================================================================\n",
      "Layer (type)         Output Shape         Param #    Trainable \n",
      "================================================================\n",
      "Embedding            8 x 512 x 768        38,603,520 True      \n",
      "________________________________________________________________\n",
      "Embedding            8 x 512 x 768        394,752    True      \n",
      "________________________________________________________________\n",
      "Embedding            8 x 512 x 768        768        True      \n",
      "________________________________________________________________\n",
      "LayerNorm            8 x 512 x 768        1,536      True      \n",
      "________________________________________________________________\n",
      "Dropout              8 x 512 x 768        0          False     \n",
      "________________________________________________________________\n",
      "Linear               8 x 512 x 768        590,592    True      \n",
      "________________________________________________________________\n",
      "Linear               8 x 512 x 768        590,592    True      \n",
      "________________________________________________________________\n",
      "Linear               8 x 512 x 768        590,592    True      \n",
      "________________________________________________________________\n",
      "Dropout              8 x 12 x 512 x 512   0          False     \n",
      "________________________________________________________________\n",
      "Linear               8 x 512 x 768        590,592    True      \n",
      "________________________________________________________________\n",
      "LayerNorm            8 x 512 x 768        1,536      True      \n",
      "________________________________________________________________\n",
      "Dropout              8 x 512 x 768        0          False     \n",
      "________________________________________________________________\n",
      "Linear               8 x 512 x 3072       2,362,368  True      \n",
      "________________________________________________________________\n",
      "Linear               8 x 512 x 768        2,360,064  True      \n",
      "________________________________________________________________\n",
      "LayerNorm            8 x 512 x 768        1,536      True      \n",
      "________________________________________________________________\n",
      "Dropout              8 x 512 x 768        0          False     \n",
      "________________________________________________________________\n",
      "Linear               8 x 512 x 768        590,592    True      \n",
      "________________________________________________________________\n",
      "Linear               8 x 512 x 768        590,592    True      \n",
      "________________________________________________________________\n",
      "Linear               8 x 512 x 768        590,592    True      \n",
      "________________________________________________________________\n",
      "Dropout              8 x 12 x 512 x 512   0          False     \n",
      "________________________________________________________________\n",
      "Linear               8 x 512 x 768        590,592    True      \n",
      "________________________________________________________________\n",
      "LayerNorm            8 x 512 x 768        1,536      True      \n",
      "________________________________________________________________\n",
      "Dropout              8 x 512 x 768        0          False     \n",
      "________________________________________________________________\n",
      "Linear               8 x 512 x 3072       2,362,368  True      \n",
      "________________________________________________________________\n",
      "Linear               8 x 512 x 768        2,360,064  True      \n",
      "________________________________________________________________\n",
      "LayerNorm            8 x 512 x 768        1,536      True      \n",
      "________________________________________________________________\n",
      "Dropout              8 x 512 x 768        0          False     \n",
      "________________________________________________________________\n",
      "Linear               8 x 512 x 768        590,592    True      \n",
      "________________________________________________________________\n",
      "Linear               8 x 512 x 768        590,592    True      \n",
      "________________________________________________________________\n",
      "Linear               8 x 512 x 768        590,592    True      \n",
      "________________________________________________________________\n",
      "Dropout              8 x 12 x 512 x 512   0          False     \n",
      "________________________________________________________________\n",
      "Linear               8 x 512 x 768        590,592    True      \n",
      "________________________________________________________________\n",
      "LayerNorm            8 x 512 x 768        1,536      True      \n",
      "________________________________________________________________\n",
      "Dropout              8 x 512 x 768        0          False     \n",
      "________________________________________________________________\n",
      "Linear               8 x 512 x 3072       2,362,368  True      \n",
      "________________________________________________________________\n",
      "Linear               8 x 512 x 768        2,360,064  True      \n",
      "________________________________________________________________\n",
      "LayerNorm            8 x 512 x 768        1,536      True      \n",
      "________________________________________________________________\n",
      "Dropout              8 x 512 x 768        0          False     \n",
      "________________________________________________________________\n",
      "Linear               8 x 512 x 768        590,592    True      \n",
      "________________________________________________________________\n",
      "Linear               8 x 512 x 768        590,592    True      \n",
      "________________________________________________________________\n",
      "Linear               8 x 512 x 768        590,592    True      \n",
      "________________________________________________________________\n",
      "Dropout              8 x 12 x 512 x 512   0          False     \n",
      "________________________________________________________________\n",
      "Linear               8 x 512 x 768        590,592    True      \n",
      "________________________________________________________________\n",
      "LayerNorm            8 x 512 x 768        1,536      True      \n",
      "________________________________________________________________\n",
      "Dropout              8 x 512 x 768        0          False     \n",
      "________________________________________________________________\n",
      "Linear               8 x 512 x 3072       2,362,368  True      \n",
      "________________________________________________________________\n",
      "Linear               8 x 512 x 768        2,360,064  True      \n",
      "________________________________________________________________\n",
      "LayerNorm            8 x 512 x 768        1,536      True      \n",
      "________________________________________________________________\n",
      "Dropout              8 x 512 x 768        0          False     \n",
      "________________________________________________________________\n",
      "Linear               8 x 512 x 768        590,592    True      \n",
      "________________________________________________________________\n",
      "Linear               8 x 512 x 768        590,592    True      \n",
      "________________________________________________________________\n",
      "Linear               8 x 512 x 768        590,592    True      \n",
      "________________________________________________________________\n",
      "Dropout              8 x 12 x 512 x 512   0          False     \n",
      "________________________________________________________________\n",
      "Linear               8 x 512 x 768        590,592    True      \n",
      "________________________________________________________________\n",
      "LayerNorm            8 x 512 x 768        1,536      True      \n",
      "________________________________________________________________\n",
      "Dropout              8 x 512 x 768        0          False     \n",
      "________________________________________________________________\n",
      "Linear               8 x 512 x 3072       2,362,368  True      \n",
      "________________________________________________________________\n",
      "Linear               8 x 512 x 768        2,360,064  True      \n",
      "________________________________________________________________\n",
      "LayerNorm            8 x 512 x 768        1,536      True      \n",
      "________________________________________________________________\n",
      "Dropout              8 x 512 x 768        0          False     \n",
      "________________________________________________________________\n",
      "Linear               8 x 512 x 768        590,592    True      \n",
      "________________________________________________________________\n",
      "Linear               8 x 512 x 768        590,592    True      \n",
      "________________________________________________________________\n",
      "Linear               8 x 512 x 768        590,592    True      \n",
      "________________________________________________________________\n",
      "Dropout              8 x 12 x 512 x 512   0          False     \n",
      "________________________________________________________________\n",
      "Linear               8 x 512 x 768        590,592    True      \n",
      "________________________________________________________________\n",
      "LayerNorm            8 x 512 x 768        1,536      True      \n",
      "________________________________________________________________\n",
      "Dropout              8 x 512 x 768        0          False     \n",
      "________________________________________________________________\n",
      "Linear               8 x 512 x 3072       2,362,368  True      \n",
      "________________________________________________________________\n",
      "Linear               8 x 512 x 768        2,360,064  True      \n",
      "________________________________________________________________\n",
      "LayerNorm            8 x 512 x 768        1,536      True      \n",
      "________________________________________________________________\n",
      "Dropout              8 x 512 x 768        0          False     \n",
      "________________________________________________________________\n",
      "Linear               8 x 512 x 768        590,592    True      \n",
      "________________________________________________________________\n",
      "Linear               8 x 512 x 768        590,592    True      \n",
      "________________________________________________________________\n",
      "Linear               8 x 512 x 768        590,592    True      \n",
      "________________________________________________________________\n",
      "Dropout              8 x 12 x 512 x 512   0          False     \n",
      "________________________________________________________________\n",
      "Linear               8 x 512 x 768        590,592    True      \n",
      "________________________________________________________________\n",
      "LayerNorm            8 x 512 x 768        1,536      True      \n",
      "________________________________________________________________\n",
      "Dropout              8 x 512 x 768        0          False     \n",
      "________________________________________________________________\n",
      "Linear               8 x 512 x 3072       2,362,368  True      \n",
      "________________________________________________________________\n",
      "Linear               8 x 512 x 768        2,360,064  True      \n",
      "________________________________________________________________\n",
      "LayerNorm            8 x 512 x 768        1,536      True      \n",
      "________________________________________________________________\n",
      "Dropout              8 x 512 x 768        0          False     \n",
      "________________________________________________________________\n",
      "Linear               8 x 512 x 768        590,592    True      \n",
      "________________________________________________________________\n",
      "Linear               8 x 512 x 768        590,592    True      \n",
      "________________________________________________________________\n",
      "Linear               8 x 512 x 768        590,592    True      \n",
      "________________________________________________________________\n",
      "Dropout              8 x 12 x 512 x 512   0          False     \n",
      "________________________________________________________________\n",
      "Linear               8 x 512 x 768        590,592    True      \n",
      "________________________________________________________________\n",
      "LayerNorm            8 x 512 x 768        1,536      True      \n",
      "________________________________________________________________\n",
      "Dropout              8 x 512 x 768        0          False     \n",
      "________________________________________________________________\n",
      "Linear               8 x 512 x 3072       2,362,368  True      \n",
      "________________________________________________________________\n",
      "Linear               8 x 512 x 768        2,360,064  True      \n",
      "________________________________________________________________\n",
      "LayerNorm            8 x 512 x 768        1,536      True      \n",
      "________________________________________________________________\n",
      "Dropout              8 x 512 x 768        0          False     \n",
      "________________________________________________________________\n",
      "Linear               8 x 512 x 768        590,592    True      \n",
      "________________________________________________________________\n",
      "Linear               8 x 512 x 768        590,592    True      \n",
      "________________________________________________________________\n",
      "Linear               8 x 512 x 768        590,592    True      \n",
      "________________________________________________________________\n",
      "Dropout              8 x 12 x 512 x 512   0          False     \n",
      "________________________________________________________________\n",
      "Linear               8 x 512 x 768        590,592    True      \n",
      "________________________________________________________________\n",
      "LayerNorm            8 x 512 x 768        1,536      True      \n",
      "________________________________________________________________\n",
      "Dropout              8 x 512 x 768        0          False     \n",
      "________________________________________________________________\n",
      "Linear               8 x 512 x 3072       2,362,368  True      \n",
      "________________________________________________________________\n",
      "Linear               8 x 512 x 768        2,360,064  True      \n",
      "________________________________________________________________\n",
      "LayerNorm            8 x 512 x 768        1,536      True      \n",
      "________________________________________________________________\n",
      "Dropout              8 x 512 x 768        0          False     \n",
      "________________________________________________________________\n",
      "Linear               8 x 512 x 768        590,592    True      \n",
      "________________________________________________________________\n",
      "Linear               8 x 512 x 768        590,592    True      \n",
      "________________________________________________________________\n",
      "Linear               8 x 512 x 768        590,592    True      \n",
      "________________________________________________________________\n",
      "Dropout              8 x 12 x 512 x 512   0          False     \n",
      "________________________________________________________________\n",
      "Linear               8 x 512 x 768        590,592    True      \n",
      "________________________________________________________________\n",
      "LayerNorm            8 x 512 x 768        1,536      True      \n",
      "________________________________________________________________\n",
      "Dropout              8 x 512 x 768        0          False     \n",
      "________________________________________________________________\n",
      "Linear               8 x 512 x 3072       2,362,368  True      \n",
      "________________________________________________________________\n",
      "Linear               8 x 512 x 768        2,360,064  True      \n",
      "________________________________________________________________\n",
      "LayerNorm            8 x 512 x 768        1,536      True      \n",
      "________________________________________________________________\n",
      "Dropout              8 x 512 x 768        0          False     \n",
      "________________________________________________________________\n",
      "Linear               8 x 512 x 768        590,592    True      \n",
      "________________________________________________________________\n",
      "Linear               8 x 512 x 768        590,592    True      \n",
      "________________________________________________________________\n",
      "Linear               8 x 512 x 768        590,592    True      \n",
      "________________________________________________________________\n",
      "Dropout              8 x 12 x 512 x 512   0          False     \n",
      "________________________________________________________________\n",
      "Linear               8 x 512 x 768        590,592    True      \n",
      "________________________________________________________________\n",
      "LayerNorm            8 x 512 x 768        1,536      True      \n",
      "________________________________________________________________\n",
      "Dropout              8 x 512 x 768        0          False     \n",
      "________________________________________________________________\n",
      "Linear               8 x 512 x 3072       2,362,368  True      \n",
      "________________________________________________________________\n",
      "Linear               8 x 512 x 768        2,360,064  True      \n",
      "________________________________________________________________\n",
      "LayerNorm            8 x 512 x 768        1,536      True      \n",
      "________________________________________________________________\n",
      "Dropout              8 x 512 x 768        0          False     \n",
      "________________________________________________________________\n",
      "Linear               8 x 512 x 768        590,592    True      \n",
      "________________________________________________________________\n",
      "Linear               8 x 512 x 768        590,592    True      \n",
      "________________________________________________________________\n",
      "Linear               8 x 512 x 768        590,592    True      \n",
      "________________________________________________________________\n",
      "Dropout              8 x 12 x 512 x 512   0          False     \n",
      "________________________________________________________________\n",
      "Linear               8 x 512 x 768        590,592    True      \n",
      "________________________________________________________________\n",
      "LayerNorm            8 x 512 x 768        1,536      True      \n",
      "________________________________________________________________\n",
      "Dropout              8 x 512 x 768        0          False     \n",
      "________________________________________________________________\n",
      "Linear               8 x 512 x 3072       2,362,368  True      \n",
      "________________________________________________________________\n",
      "Linear               8 x 512 x 768        2,360,064  True      \n",
      "________________________________________________________________\n",
      "LayerNorm            8 x 512 x 768        1,536      True      \n",
      "________________________________________________________________\n",
      "Dropout              8 x 512 x 768        0          False     \n",
      "________________________________________________________________\n",
      "Linear               8 x 768              590,592    True      \n",
      "________________________________________________________________\n",
      "Tanh                 8 x 768              0          False     \n",
      "________________________________________________________________\n",
      "Linear               8 x 512 x 768        590,592    True      \n",
      "________________________________________________________________\n",
      "LayerNorm            8 x 512 x 768        1,536      True      \n",
      "________________________________________________________________\n",
      "Linear               8 x 512 x 50265      38,653,785 True      \n",
      "________________________________________________________________\n",
      "\n",
      "Total params: 163,891,545\n",
      "Total trainable params: 163,891,545\n",
      "Total non-trainable params: 0\n",
      "\n",
      "Optimizer used: <function Adam at 0x7f40970056a8>\n",
      "Loss function: FlattenedLoss of CrossEntropyLoss()\n",
      "\n",
      "Model unfrozen\n",
      "\n",
      "Callbacks:\n",
      "  - DropOutput\n",
      "  - TerminateOnNaNCallback\n",
      "  - ModelToHalf\n",
      "  - TrainEvalCallback\n",
      "  - Recorder\n",
      "  - ProgressCallback\n",
      "  - MixedPrecision\n"
     ]
    }
   ],
   "source": [
    "print(learn.summary()) "
   ]
  },
  {
   "cell_type": "code",
   "execution_count": 74,
   "metadata": {},
   "outputs": [
    {
     "data": {
      "text/plain": [
       "[{'sequence': '<s>from pandas import\\n</s>',\n",
       "  'score': 0.6224209666252136,\n",
       "  'token': 50118,\n",
       "  'token_str': 'Ċ'},\n",
       " {'sequence': '<s>from pandas import.</s>',\n",
       "  'score': 0.22222988307476044,\n",
       "  'token': 4,\n",
       "  'token_str': '.'},\n",
       " {'sequence': '<s>from pandas import </s>',\n",
       "  'score': 0.038354743272066116,\n",
       "  'token': 1437,\n",
       "  'token_str': 'Ġ'},\n",
       " {'sequence': '<s>from pandas import\\n\\n</s>',\n",
       "  'score': 0.028566861525177956,\n",
       "  'token': 50140,\n",
       "  'token_str': 'ĊĊ'},\n",
       " {'sequence': '<s>from pandas import.</s>',\n",
       "  'score': 0.021909384056925774,\n",
       "  'token': 479,\n",
       "  'token_str': 'Ġ.'}]"
      ]
     },
     "execution_count": 74,
     "metadata": {},
     "output_type": "execute_result"
    }
   ],
   "source": [
    "from transformers import pipeline\n",
    "\n",
    "fill_mask = pipeline(\n",
    "    \"fill-mask\",\n",
    "    model=\"./20200824_roberta-CodeSearchNet-fine-tuned\",\n",
    "    tokenizer=\"./20200824_roberta-CodeSearchNet-fine-tuned\"\n",
    ")\n",
    "\n",
    "fill_mask(\"from pandas import <mask>\")"
   ]
  },
  {
   "cell_type": "code",
   "execution_count": 76,
   "metadata": {},
   "outputs": [
    {
     "ename": "NotImplementedError",
     "evalue": "Generation is currently not supported for RobertaForMaskedLM. Please select a model from ['XLNetLMHeadModel', 'TransfoXLLMHeadModel', 'ReformerModelWithLMHead', 'GPT2LMHeadModel', 'OpenAIGPTLMHeadModel', 'CTRLLMHeadModel', 'TFXLNetLMHeadModel', 'TFTransfoXLLMHeadModel', 'TFGPT2LMHeadModel', 'TFOpenAIGPTLMHeadModel', 'TFCTRLLMHeadModel'] for generation.",
     "output_type": "error",
     "traceback": [
      "\u001b[0;31m---------------------------------------------------------------------------\u001b[0m",
      "\u001b[0;31mNotImplementedError\u001b[0m                       Traceback (most recent call last)",
      "\u001b[0;32m<ipython-input-76-35d84976fbcc>\u001b[0m in \u001b[0;36m<module>\u001b[0;34m\u001b[0m\n\u001b[1;32m      7\u001b[0m )\n\u001b[1;32m      8\u001b[0m \u001b[0;34m\u001b[0m\u001b[0m\n\u001b[0;32m----> 9\u001b[0;31m \u001b[0mtext_generation\u001b[0m\u001b[0;34m(\u001b[0m\u001b[0;34m\"from pandas import <mask>\"\u001b[0m\u001b[0;34m)\u001b[0m\u001b[0;34m\u001b[0m\u001b[0;34m\u001b[0m\u001b[0m\n\u001b[0m",
      "\u001b[0;32m/opt/tljh/user/lib/python3.7/site-packages/transformers/pipelines.py\u001b[0m in \u001b[0;36m__call__\u001b[0;34m(self, return_tensors, return_text, clean_up_tokenization_spaces, *args, **generate_kwargs)\u001b[0m\n\u001b[1;32m    644\u001b[0m             raise NotImplementedError(\n\u001b[1;32m    645\u001b[0m                 \"Generation is currently not supported for {}. Please select a model from {} for generation.\".format(\n\u001b[0;32m--> 646\u001b[0;31m                     \u001b[0mself\u001b[0m\u001b[0;34m.\u001b[0m\u001b[0mmodel\u001b[0m\u001b[0;34m.\u001b[0m\u001b[0m__class__\u001b[0m\u001b[0;34m.\u001b[0m\u001b[0m__name__\u001b[0m\u001b[0;34m,\u001b[0m \u001b[0mself\u001b[0m\u001b[0;34m.\u001b[0m\u001b[0mALLOWED_MODELS\u001b[0m\u001b[0;34m\u001b[0m\u001b[0;34m\u001b[0m\u001b[0m\n\u001b[0m\u001b[1;32m    647\u001b[0m                 )\n\u001b[1;32m    648\u001b[0m             )\n",
      "\u001b[0;31mNotImplementedError\u001b[0m: Generation is currently not supported for RobertaForMaskedLM. Please select a model from ['XLNetLMHeadModel', 'TransfoXLLMHeadModel', 'ReformerModelWithLMHead', 'GPT2LMHeadModel', 'OpenAIGPTLMHeadModel', 'CTRLLMHeadModel', 'TFXLNetLMHeadModel', 'TFTransfoXLLMHeadModel', 'TFGPT2LMHeadModel', 'TFOpenAIGPTLMHeadModel', 'TFCTRLLMHeadModel'] for generation."
     ]
    }
   ],
   "source": [
    "from transformers import pipeline\n",
    "\n",
    "text_generation = pipeline(\n",
    "    \"text-generation\",\n",
    "    model=\"./20200824_roberta-CodeSearchNet-fine-tuned\",\n",
    "    tokenizer=\"./20200824_roberta-CodeSearchNet-fine-tuned\"\n",
    ")\n",
    "\n",
    "text_generation(\"from pandas import <mask>\")"
   ]
  },
  {
   "cell_type": "code",
   "execution_count": null,
   "metadata": {},
   "outputs": [],
   "source": []
  }
 ],
 "metadata": {
  "kernelspec": {
   "display_name": "Python 3",
   "language": "python",
   "name": "python3"
  },
  "language_info": {
   "codemirror_mode": {
    "name": "ipython",
    "version": 3
   },
   "file_extension": ".py",
   "mimetype": "text/x-python",
   "name": "python",
   "nbconvert_exporter": "python",
   "pygments_lexer": "ipython3",
   "version": "3.7.3"
  }
 },
 "nbformat": 4,
 "nbformat_minor": 4
}
