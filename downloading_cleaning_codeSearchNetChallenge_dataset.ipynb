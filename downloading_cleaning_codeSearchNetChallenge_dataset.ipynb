{
 "cells": [
  {
   "cell_type": "markdown",
   "metadata": {},
   "source": [
    "# Downloading and preparing the CodeSearchNet Challenge dataset \n",
    "\n",
    "## Get it if it does not exist in the expected path, removing comments and autoformatting using autopep8\n",
    "\n",
    "Take care, the `autopep8` process can take ours up to days"
   ]
  },
  {
   "cell_type": "code",
   "execution_count": 1,
   "metadata": {},
   "outputs": [],
   "source": [
    "%reload_ext autoreload\n",
    "%autoreload 2\n",
    "%matplotlib inline"
   ]
  },
  {
   "cell_type": "markdown",
   "metadata": {},
   "source": [
    "## Downloading the dataset if it does not exist in local"
   ]
  },
  {
   "cell_type": "code",
   "execution_count": 2,
   "metadata": {},
   "outputs": [],
   "source": [
    "import os\n",
    "\n",
    "codeSearchNet_challenge_path = './CodeSearchNet_challenge_dataset'"
   ]
  },
  {
   "cell_type": "code",
   "execution_count": 3,
   "metadata": {},
   "outputs": [],
   "source": [
    "def check_codesearchnet_dataset_exists(dataset_path=codeSearchNet_challenge_path):\n",
    "    if os.path.exists(dataset_path):\n",
    "        contents = os.listdir(dataset_path) \n",
    "        if len(contents) > 0:\n",
    "            return True\n",
    "    return False\n",
    "\n",
    "def download_codesearchnet_dataset():\n",
    "    !wget https://s3.amazonaws.com/code-search-net/CodeSearchNet/v2/python.zip\n",
    "    !unzip python.zip -d {codeSearchNet_challenge_path}"
   ]
  },
  {
   "cell_type": "code",
   "execution_count": 4,
   "metadata": {},
   "outputs": [
    {
     "name": "stdout",
     "output_type": "stream",
     "text": [
      "--2020-08-11 16:00:18--  https://s3.amazonaws.com/code-search-net/CodeSearchNet/v2/python.zip\n",
      "Resolving s3.amazonaws.com (s3.amazonaws.com)... 52.217.46.238\n",
      "Connecting to s3.amazonaws.com (s3.amazonaws.com)|52.217.46.238|:443... connected.\n",
      "HTTP request sent, awaiting response... 200 OK\n",
      "Length: 940909997 (897M) [application/zip]\n",
      "Saving to: ‘python.zip’\n",
      "\n",
      "python.zip          100%[===================>] 897.32M  79.7MB/s    in 11s     \n",
      "\n",
      "2020-08-11 16:00:29 (82.4 MB/s) - ‘python.zip’ saved [940909997/940909997]\n",
      "\n",
      "Archive:  python.zip\n",
      "   creating: ./CodeSearchNet_challenge_dataset/python/\n",
      "   creating: ./CodeSearchNet_challenge_dataset/python/final/\n",
      "   creating: ./CodeSearchNet_challenge_dataset/python/final/jsonl/\n",
      "   creating: ./CodeSearchNet_challenge_dataset/python/final/jsonl/train/\n",
      "  inflating: ./CodeSearchNet_challenge_dataset/python/final/jsonl/train/python_train_9.jsonl.gz  \n",
      "  inflating: ./CodeSearchNet_challenge_dataset/python/final/jsonl/train/python_train_12.jsonl.gz  \n",
      "  inflating: ./CodeSearchNet_challenge_dataset/python/final/jsonl/train/python_train_10.jsonl.gz  \n",
      "  inflating: ./CodeSearchNet_challenge_dataset/python/final/jsonl/train/python_train_0.jsonl.gz  \n",
      "  inflating: ./CodeSearchNet_challenge_dataset/python/final/jsonl/train/python_train_6.jsonl.gz  \n",
      "  inflating: ./CodeSearchNet_challenge_dataset/python/final/jsonl/train/python_train_2.jsonl.gz  \n",
      "  inflating: ./CodeSearchNet_challenge_dataset/python/final/jsonl/train/python_train_4.jsonl.gz  \n",
      "  inflating: ./CodeSearchNet_challenge_dataset/python/final/jsonl/train/python_train_8.jsonl.gz  \n",
      "  inflating: ./CodeSearchNet_challenge_dataset/python/final/jsonl/train/python_train_11.jsonl.gz  \n",
      "  inflating: ./CodeSearchNet_challenge_dataset/python/final/jsonl/train/python_train_5.jsonl.gz  \n",
      "  inflating: ./CodeSearchNet_challenge_dataset/python/final/jsonl/train/python_train_13.jsonl.gz  \n",
      "  inflating: ./CodeSearchNet_challenge_dataset/python/final/jsonl/train/python_train_3.jsonl.gz  \n",
      "  inflating: ./CodeSearchNet_challenge_dataset/python/final/jsonl/train/python_train_1.jsonl.gz  \n",
      "  inflating: ./CodeSearchNet_challenge_dataset/python/final/jsonl/train/python_train_7.jsonl.gz  \n",
      "   creating: ./CodeSearchNet_challenge_dataset/python/final/jsonl/test/\n",
      "  inflating: ./CodeSearchNet_challenge_dataset/python/final/jsonl/test/python_test_0.jsonl.gz  \n",
      "   creating: ./CodeSearchNet_challenge_dataset/python/final/jsonl/valid/\n",
      "  inflating: ./CodeSearchNet_challenge_dataset/python/final/jsonl/valid/python_valid_0.jsonl.gz  \n",
      "  inflating: ./CodeSearchNet_challenge_dataset/python_dedupe_definitions_v2.pkl  \n",
      "  inflating: ./CodeSearchNet_challenge_dataset/python_licenses.pkl  \n"
     ]
    }
   ],
   "source": [
    "if not check_codesearchnet_dataset_exists():\n",
    "    download_codesearchnet_dataset()"
   ]
  },
  {
   "cell_type": "markdown",
   "metadata": {},
   "source": [
    "## Unpacking jsonl.gz files from dataset and clean them if needed"
   ]
  },
  {
   "cell_type": "code",
   "execution_count": 5,
   "metadata": {},
   "outputs": [],
   "source": [
    "from pathlib import Path\n",
    "import gzip"
   ]
  },
  {
   "cell_type": "code",
   "execution_count": 6,
   "metadata": {},
   "outputs": [],
   "source": [
    "def check_python_files_exist_dataset(dataset_path=codeSearchNet_challenge_path):\n",
    "    py_file_array = []\n",
    "    for _file in Path(dataset_path).rglob('*.py'):\n",
    "        py_file_array.append(str(_file))\n",
    "    if len(py_file_array) > 0:\n",
    "        return True\n",
    "    return False\n",
    "    \n",
    "def unpack_jsonl_files_dataset(dataset_path=codeSearchNet_challenge_path):\n",
    "    paths_array = []\n",
    "    for _file in Path(dataset_path).rglob('*.jsonl.gz'):\n",
    "        paths_array.append(str(_file))\n",
    "        with gzip.open(str(_file), 'rb') as gzipped_file:\n",
    "            new_filename = str(_file).strip('.jsonl.gz')\n",
    "            print(f\"Decompressing file: {_file} -> {new_filename}.py\")\n",
    "            with open(f\"{new_filename}.py\", \"a\") as output_py_file:\n",
    "                for line in gzipped_file:\n",
    "                    decoded_line = line.decode()\n",
    "                    d = json.loads(decoded_line)\n",
    "                    output_py_file.write(d['original_string'])\n",
    "                    output_py_file.write(\"\\n\\n\")\n",
    "\n",
    "                    \n",
    "# Retrieved from https://stackoverflow.com/a/62074206\n",
    "import io, tokenize, re\n",
    "def remove_comments_and_docstrings(source):\n",
    "    io_obj = io.StringIO(source)\n",
    "    out = \"\"\n",
    "    prev_toktype = tokenize.INDENT\n",
    "    last_lineno = -1\n",
    "    last_col = 0\n",
    "    for tok in tokenize.generate_tokens(io_obj.readline):\n",
    "        token_type = tok[0]\n",
    "        token_string = tok[1]\n",
    "        start_line, start_col = tok[2]\n",
    "        end_line, end_col = tok[3]\n",
    "        ltext = tok[4]\n",
    "        if start_line > last_lineno:\n",
    "            last_col = 0\n",
    "        if start_col > last_col:\n",
    "            out += (\" \" * (start_col - last_col))\n",
    "        if token_type == tokenize.COMMENT:\n",
    "            pass\n",
    "        elif token_type == tokenize.STRING:\n",
    "            if prev_toktype != tokenize.INDENT:\n",
    "                if prev_toktype != tokenize.NEWLINE:\n",
    "                    if start_col > 0:\n",
    "                        out += token_string\n",
    "        else:\n",
    "            out += token_string\n",
    "        prev_toktype = token_type\n",
    "        last_col = end_col\n",
    "        last_lineno = end_line\n",
    "    out = '\\n'.join(l for l in out.splitlines() if l.strip())\n",
    "    return out\n",
    "\n",
    "import subprocess\n",
    "def clean_and_autoformat_py_files(dataset_path=codeSearchNet_challenge_path):\n",
    "    _subprocesses=[]\n",
    "    for py_file_path in Path(dataset_path).rglob('*.py'):\n",
    "        print(f'Removing comments and formatting file: {py_file_path}')\n",
    "        try:\n",
    "            remove_comments_and_docstrings(str(py_file_path))\n",
    "        except BaseException as e:\n",
    "            print(f'Unable to remove comments and docstrings from {str(py_file_path)} because of {e}')\n",
    "        \n",
    "        _subprocesses.append(subprocess.Popen([\"autopep8\",\"--in-place\",\"--aggressive\",py_file_path]))\n",
    "    \n",
    "    exit_codes = [p.wait() for p in _subprocesses]\n",
    "    print(\"\\n\\nDone!\")\n",
    "    \n",
    "    return True"
   ]
  },
  {
   "cell_type": "code",
   "execution_count": 7,
   "metadata": {
    "scrolled": false
   },
   "outputs": [
    {
     "name": "stdout",
     "output_type": "stream",
     "text": [
      "Decompressing file: CodeSearchNet_challenge_dataset/python/final/jsonl/valid/python_valid_0.jsonl.gz -> CodeSearchNet_challenge_dataset/python/final/jsonl/valid/python_valid_0.py\n",
      "Decompressing file: CodeSearchNet_challenge_dataset/python/final/jsonl/train/python_train_12.jsonl.gz -> CodeSearchNet_challenge_dataset/python/final/jsonl/train/python_train_12.py\n",
      "Decompressing file: CodeSearchNet_challenge_dataset/python/final/jsonl/train/python_train_1.jsonl.gz -> CodeSearchNet_challenge_dataset/python/final/jsonl/train/python_train_1.py\n",
      "Decompressing file: CodeSearchNet_challenge_dataset/python/final/jsonl/train/python_train_5.jsonl.gz -> CodeSearchNet_challenge_dataset/python/final/jsonl/train/python_train_5.py\n",
      "Decompressing file: CodeSearchNet_challenge_dataset/python/final/jsonl/train/python_train_3.jsonl.gz -> CodeSearchNet_challenge_dataset/python/final/jsonl/train/python_train_3.py\n",
      "Decompressing file: CodeSearchNet_challenge_dataset/python/final/jsonl/train/python_train_10.jsonl.gz -> CodeSearchNet_challenge_dataset/python/final/jsonl/train/python_train_10.py\n",
      "Decompressing file: CodeSearchNet_challenge_dataset/python/final/jsonl/train/python_train_9.jsonl.gz -> CodeSearchNet_challenge_dataset/python/final/jsonl/train/python_train_9.py\n",
      "Decompressing file: CodeSearchNet_challenge_dataset/python/final/jsonl/train/python_train_2.jsonl.gz -> CodeSearchNet_challenge_dataset/python/final/jsonl/train/python_train_2.py\n",
      "Decompressing file: CodeSearchNet_challenge_dataset/python/final/jsonl/train/python_train_7.jsonl.gz -> CodeSearchNet_challenge_dataset/python/final/jsonl/train/python_train_7.py\n",
      "Decompressing file: CodeSearchNet_challenge_dataset/python/final/jsonl/train/python_train_11.jsonl.gz -> CodeSearchNet_challenge_dataset/python/final/jsonl/train/python_train_11.py\n",
      "Decompressing file: CodeSearchNet_challenge_dataset/python/final/jsonl/train/python_train_4.jsonl.gz -> CodeSearchNet_challenge_dataset/python/final/jsonl/train/python_train_4.py\n",
      "Decompressing file: CodeSearchNet_challenge_dataset/python/final/jsonl/train/python_train_6.jsonl.gz -> CodeSearchNet_challenge_dataset/python/final/jsonl/train/python_train_6.py\n",
      "Decompressing file: CodeSearchNet_challenge_dataset/python/final/jsonl/train/python_train_8.jsonl.gz -> CodeSearchNet_challenge_dataset/python/final/jsonl/train/python_train_8.py\n",
      "Decompressing file: CodeSearchNet_challenge_dataset/python/final/jsonl/train/python_train_13.jsonl.gz -> CodeSearchNet_challenge_dataset/python/final/jsonl/train/python_train_13.py\n",
      "Decompressing file: CodeSearchNet_challenge_dataset/python/final/jsonl/train/python_train_0.jsonl.gz -> CodeSearchNet_challenge_dataset/python/final/jsonl/train/python_train_0.py\n",
      "Decompressing file: CodeSearchNet_challenge_dataset/python/final/jsonl/test/python_test_0.jsonl.gz -> CodeSearchNet_challenge_dataset/python/final/jsonl/test/python_test_0.py\n",
      "Removing comments and formatting file: CodeSearchNet_challenge_dataset/python/final/jsonl/valid/python_valid_0.py\n",
      "Removing comments and formatting file: CodeSearchNet_challenge_dataset/python/final/jsonl/train/python_train_11.py\n",
      "Removing comments and formatting file: CodeSearchNet_challenge_dataset/python/final/jsonl/train/python_train_8.py\n",
      "Removing comments and formatting file: CodeSearchNet_challenge_dataset/python/final/jsonl/train/python_train_1.py\n",
      "Removing comments and formatting file: CodeSearchNet_challenge_dataset/python/final/jsonl/train/python_train_13.py\n",
      "Removing comments and formatting file: CodeSearchNet_challenge_dataset/python/final/jsonl/train/python_train_5.py\n",
      "Removing comments and formatting file: CodeSearchNet_challenge_dataset/python/final/jsonl/train/python_train_12.py\n",
      "Removing comments and formatting file: CodeSearchNet_challenge_dataset/python/final/jsonl/train/python_train_4.py\n",
      "Removing comments and formatting file: CodeSearchNet_challenge_dataset/python/final/jsonl/train/python_train_10.py\n",
      "Removing comments and formatting file: CodeSearchNet_challenge_dataset/python/final/jsonl/train/python_train_6.py\n",
      "Removing comments and formatting file: CodeSearchNet_challenge_dataset/python/final/jsonl/train/python_train_0.py\n",
      "Removing comments and formatting file: CodeSearchNet_challenge_dataset/python/final/jsonl/train/python_train_9.py\n",
      "Removing comments and formatting file: CodeSearchNet_challenge_dataset/python/final/jsonl/train/python_train_3.py\n",
      "Removing comments and formatting file: CodeSearchNet_challenge_dataset/python/final/jsonl/train/python_train_2.py\n",
      "Removing comments and formatting file: CodeSearchNet_challenge_dataset/python/final/jsonl/train/python_train_7.py\n",
      "Removing comments and formatting file: CodeSearchNet_challenge_dataset/python/final/jsonl/test/python_test_0.py\n",
      "\n",
      "\n",
      "Done!\n"
     ]
    }
   ],
   "source": [
    "if not check_python_files_exist_dataset():\n",
    "    unpack_jsonl_files_dataset()\n",
    "    clean_and_autoformat_py_files()"
   ]
  },
  {
   "cell_type": "code",
   "execution_count": 8,
   "metadata": {},
   "outputs": [
    {
     "name": "stdout",
     "output_type": "stream",
     "text": [
      "CodeSearchNet challenge dataset ready to use!\n"
     ]
    }
   ],
   "source": [
    "print(\"CodeSearchNet challenge dataset ready to use!\")"
   ]
  },
  {
   "cell_type": "code",
   "execution_count": null,
   "metadata": {},
   "outputs": [],
   "source": []
  }
 ],
 "metadata": {
  "kernelspec": {
   "display_name": "Python 3",
   "language": "python",
   "name": "python3"
  },
  "language_info": {
   "codemirror_mode": {
    "name": "ipython",
    "version": 3
   },
   "file_extension": ".py",
   "mimetype": "text/x-python",
   "name": "python",
   "nbconvert_exporter": "python",
   "pygments_lexer": "ipython3",
   "version": "3.7.3"
  }
 },
 "nbformat": 4,
 "nbformat_minor": 4
}
