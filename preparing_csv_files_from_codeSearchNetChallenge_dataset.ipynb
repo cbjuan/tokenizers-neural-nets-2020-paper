{
 "cells": [
  {
   "cell_type": "markdown",
   "metadata": {},
   "source": [
    "# Preparing the CodeSearchNet Challenge dataset as CSV files\n",
    "\n",
    "## Ready to be loaded into the models"
   ]
  },
  {
   "cell_type": "code",
   "execution_count": 1,
   "metadata": {},
   "outputs": [],
   "source": [
    "%reload_ext autoreload\n",
    "%autoreload 2\n",
    "%matplotlib inline"
   ]
  },
  {
   "cell_type": "code",
   "execution_count": 2,
   "metadata": {},
   "outputs": [],
   "source": [
    "codeSearchNet_challenge_path = './CodeSearchNet_challenge_dataset'\n",
    "all_csv_path = './CodeSearchNet_challenge_dataset/CodeSearchNet_challenge_dataset.csv'\n",
    "train_csv_path = './CodeSearchNet_challenge_dataset/python/final/jsonl/train/train_CodeSearchNet_challenge_dataset.csv'\n",
    "test_csv_path = './CodeSearchNet_challenge_dataset/python/final/jsonl/test/test_CodeSearchNet_challenge_dataset.csv'\n",
    "valid_csv_path = './CodeSearchNet_challenge_dataset/python/final/jsonl/valid/valid_CodeSearchNet_challenge_dataset.csv'"
   ]
  },
  {
   "cell_type": "code",
   "execution_count": 3,
   "metadata": {},
   "outputs": [],
   "source": [
    "import pandas as pd\n",
    "import glob\n",
    "import os\n",
    "from pathlib import Path"
   ]
  },
  {
   "cell_type": "code",
   "execution_count": 4,
   "metadata": {},
   "outputs": [],
   "source": [
    "def get_train_py_files(dataset_path=codeSearchNet_challenge_path):\n",
    "    train_files = []\n",
    "    for path in Path(f'{dataset_path}/python/final/jsonl/train').rglob('*.py'):\n",
    "        train_files.append(path)\n",
    "\n",
    "    return train_files\n",
    "\n",
    "def get_test_py_files(dataset_path=codeSearchNet_challenge_path):\n",
    "    test_files = []\n",
    "    for path in Path(f'{dataset_path}/python/final/jsonl/test').rglob('*.py'):\n",
    "        test_files.append(path)\n",
    "\n",
    "    return test_files\n",
    "\n",
    "def get_valid_py_files(dataset_path=codeSearchNet_challenge_path):\n",
    "    valid_files = []\n",
    "    for path in Path(f'{dataset_path}/python/final/jsonl/valid').rglob('*.py'):\n",
    "        valid_files.append(path)\n",
    "\n",
    "    return valid_files\n",
    "\n",
    "\n",
    "def get_dataset_py_files(dataset_path=codeSearchNet_challenge_path):\n",
    "    train_files = get_train_py_files()\n",
    "    test_files = get_test_py_files()\n",
    "    valid_files = get_valid_py_files()\n",
    "    \n",
    "    return train_files, test_files, valid_files"
   ]
  },
  {
   "cell_type": "code",
   "execution_count": 5,
   "metadata": {},
   "outputs": [],
   "source": [
    "def export_py_files_into_csv(_files, csv_file_path):\n",
    "    li = []\n",
    "    for filename in _files:\n",
    "        with open(filename) as file:  \n",
    "            try:\n",
    "                data = file.read() \n",
    "\n",
    "                df = pd.DataFrame({'filename': [filename], 'text': [data]})   \n",
    "                li.append(df)\n",
    "            except:\n",
    "                pass # File not readable. Skipping for ingesting data\n",
    "\n",
    "    df = pd.concat(li, axis=0, ignore_index=True)\n",
    "    df.dropna(inplace=True)\n",
    "    df.to_csv(csv_file_path, index=False)\n",
    "    df = pd.read_csv(csv_file_path)\n",
    "    df.dropna(inplace=True)\n",
    "    df.to_csv(csv_file_path, index=False)\n",
    "    display(df.head())\n",
    "    display(df.shape)\n",
    "    return True"
   ]
  },
  {
   "cell_type": "code",
   "execution_count": 6,
   "metadata": {
    "scrolled": false
   },
   "outputs": [
    {
     "name": "stdout",
     "output_type": "stream",
     "text": [
      "Exporting /train python files to CSV\n"
     ]
    },
    {
     "data": {
      "text/html": [
       "<div>\n",
       "<style scoped>\n",
       "    .dataframe tbody tr th:only-of-type {\n",
       "        vertical-align: middle;\n",
       "    }\n",
       "\n",
       "    .dataframe tbody tr th {\n",
       "        vertical-align: top;\n",
       "    }\n",
       "\n",
       "    .dataframe thead th {\n",
       "        text-align: right;\n",
       "    }\n",
       "</style>\n",
       "<table border=\"1\" class=\"dataframe\">\n",
       "  <thead>\n",
       "    <tr style=\"text-align: right;\">\n",
       "      <th></th>\n",
       "      <th>filename</th>\n",
       "      <th>text</th>\n",
       "    </tr>\n",
       "  </thead>\n",
       "  <tbody>\n",
       "    <tr>\n",
       "      <th>0</th>\n",
       "      <td>CodeSearchNet_challenge_dataset/python/final/j...</td>\n",
       "      <td>def show_slug_with_level(context, page, lang=N...</td>\n",
       "    </tr>\n",
       "    <tr>\n",
       "      <th>1</th>\n",
       "      <td>CodeSearchNet_challenge_dataset/python/final/j...</td>\n",
       "      <td>def public(self):\\n    \"\"\"True if the Slot is ...</td>\n",
       "    </tr>\n",
       "    <tr>\n",
       "      <th>2</th>\n",
       "      <td>CodeSearchNet_challenge_dataset/python/final/j...</td>\n",
       "      <td>def zmq_device(self):\\n    '''\\n    Multiproce...</td>\n",
       "    </tr>\n",
       "    <tr>\n",
       "      <th>3</th>\n",
       "      <td>CodeSearchNet_challenge_dataset/python/final/j...</td>\n",
       "      <td>def get_datetime_sorted_rows(dbconn, table_nam...</td>\n",
       "    </tr>\n",
       "    <tr>\n",
       "      <th>4</th>\n",
       "      <td>CodeSearchNet_challenge_dataset/python/final/j...</td>\n",
       "      <td>def export_ruptures_csv(ekey, dstore):\\n    \"\"...</td>\n",
       "    </tr>\n",
       "  </tbody>\n",
       "</table>\n",
       "</div>"
      ],
      "text/plain": [
       "                                            filename  \\\n",
       "0  CodeSearchNet_challenge_dataset/python/final/j...   \n",
       "1  CodeSearchNet_challenge_dataset/python/final/j...   \n",
       "2  CodeSearchNet_challenge_dataset/python/final/j...   \n",
       "3  CodeSearchNet_challenge_dataset/python/final/j...   \n",
       "4  CodeSearchNet_challenge_dataset/python/final/j...   \n",
       "\n",
       "                                                text  \n",
       "0  def show_slug_with_level(context, page, lang=N...  \n",
       "1  def public(self):\\n    \"\"\"True if the Slot is ...  \n",
       "2  def zmq_device(self):\\n    '''\\n    Multiproce...  \n",
       "3  def get_datetime_sorted_rows(dbconn, table_nam...  \n",
       "4  def export_ruptures_csv(ekey, dstore):\\n    \"\"...  "
      ]
     },
     "metadata": {},
     "output_type": "display_data"
    },
    {
     "data": {
      "text/plain": [
       "(14, 2)"
      ]
     },
     "metadata": {},
     "output_type": "display_data"
    },
    {
     "name": "stdout",
     "output_type": "stream",
     "text": [
      "Exporting /test python files to CSV\n"
     ]
    },
    {
     "data": {
      "text/html": [
       "<div>\n",
       "<style scoped>\n",
       "    .dataframe tbody tr th:only-of-type {\n",
       "        vertical-align: middle;\n",
       "    }\n",
       "\n",
       "    .dataframe tbody tr th {\n",
       "        vertical-align: top;\n",
       "    }\n",
       "\n",
       "    .dataframe thead th {\n",
       "        text-align: right;\n",
       "    }\n",
       "</style>\n",
       "<table border=\"1\" class=\"dataframe\">\n",
       "  <thead>\n",
       "    <tr style=\"text-align: right;\">\n",
       "      <th></th>\n",
       "      <th>filename</th>\n",
       "      <th>text</th>\n",
       "    </tr>\n",
       "  </thead>\n",
       "  <tbody>\n",
       "    <tr>\n",
       "      <th>0</th>\n",
       "      <td>CodeSearchNet_challenge_dataset/python/final/j...</td>\n",
       "      <td>def get_vid_from_url(url):\\n    \"\"\"Extracts vi...</td>\n",
       "    </tr>\n",
       "  </tbody>\n",
       "</table>\n",
       "</div>"
      ],
      "text/plain": [
       "                                            filename  \\\n",
       "0  CodeSearchNet_challenge_dataset/python/final/j...   \n",
       "\n",
       "                                                text  \n",
       "0  def get_vid_from_url(url):\\n    \"\"\"Extracts vi...  "
      ]
     },
     "metadata": {},
     "output_type": "display_data"
    },
    {
     "data": {
      "text/plain": [
       "(1, 2)"
      ]
     },
     "metadata": {},
     "output_type": "display_data"
    },
    {
     "name": "stdout",
     "output_type": "stream",
     "text": [
      "Exporting /valid python files to CSV\n"
     ]
    },
    {
     "data": {
      "text/html": [
       "<div>\n",
       "<style scoped>\n",
       "    .dataframe tbody tr th:only-of-type {\n",
       "        vertical-align: middle;\n",
       "    }\n",
       "\n",
       "    .dataframe tbody tr th {\n",
       "        vertical-align: top;\n",
       "    }\n",
       "\n",
       "    .dataframe thead th {\n",
       "        text-align: right;\n",
       "    }\n",
       "</style>\n",
       "<table border=\"1\" class=\"dataframe\">\n",
       "  <thead>\n",
       "    <tr style=\"text-align: right;\">\n",
       "      <th></th>\n",
       "      <th>filename</th>\n",
       "      <th>text</th>\n",
       "    </tr>\n",
       "  </thead>\n",
       "  <tbody>\n",
       "    <tr>\n",
       "      <th>0</th>\n",
       "      <td>CodeSearchNet_challenge_dataset/python/final/j...</td>\n",
       "      <td>def learn(env,\\n          network,\\n          ...</td>\n",
       "    </tr>\n",
       "  </tbody>\n",
       "</table>\n",
       "</div>"
      ],
      "text/plain": [
       "                                            filename  \\\n",
       "0  CodeSearchNet_challenge_dataset/python/final/j...   \n",
       "\n",
       "                                                text  \n",
       "0  def learn(env,\\n          network,\\n          ...  "
      ]
     },
     "metadata": {},
     "output_type": "display_data"
    },
    {
     "data": {
      "text/plain": [
       "(1, 2)"
      ]
     },
     "metadata": {},
     "output_type": "display_data"
    },
    {
     "name": "stdout",
     "output_type": "stream",
     "text": [
      "Exporting every python files to CSV\n"
     ]
    },
    {
     "data": {
      "text/html": [
       "<div>\n",
       "<style scoped>\n",
       "    .dataframe tbody tr th:only-of-type {\n",
       "        vertical-align: middle;\n",
       "    }\n",
       "\n",
       "    .dataframe tbody tr th {\n",
       "        vertical-align: top;\n",
       "    }\n",
       "\n",
       "    .dataframe thead th {\n",
       "        text-align: right;\n",
       "    }\n",
       "</style>\n",
       "<table border=\"1\" class=\"dataframe\">\n",
       "  <thead>\n",
       "    <tr style=\"text-align: right;\">\n",
       "      <th></th>\n",
       "      <th>filename</th>\n",
       "      <th>text</th>\n",
       "    </tr>\n",
       "  </thead>\n",
       "  <tbody>\n",
       "    <tr>\n",
       "      <th>0</th>\n",
       "      <td>CodeSearchNet_challenge_dataset/python/final/j...</td>\n",
       "      <td>def show_slug_with_level(context, page, lang=N...</td>\n",
       "    </tr>\n",
       "    <tr>\n",
       "      <th>1</th>\n",
       "      <td>CodeSearchNet_challenge_dataset/python/final/j...</td>\n",
       "      <td>def public(self):\\n    \"\"\"True if the Slot is ...</td>\n",
       "    </tr>\n",
       "    <tr>\n",
       "      <th>2</th>\n",
       "      <td>CodeSearchNet_challenge_dataset/python/final/j...</td>\n",
       "      <td>def zmq_device(self):\\n    '''\\n    Multiproce...</td>\n",
       "    </tr>\n",
       "    <tr>\n",
       "      <th>3</th>\n",
       "      <td>CodeSearchNet_challenge_dataset/python/final/j...</td>\n",
       "      <td>def get_datetime_sorted_rows(dbconn, table_nam...</td>\n",
       "    </tr>\n",
       "    <tr>\n",
       "      <th>4</th>\n",
       "      <td>CodeSearchNet_challenge_dataset/python/final/j...</td>\n",
       "      <td>def export_ruptures_csv(ekey, dstore):\\n    \"\"...</td>\n",
       "    </tr>\n",
       "  </tbody>\n",
       "</table>\n",
       "</div>"
      ],
      "text/plain": [
       "                                            filename  \\\n",
       "0  CodeSearchNet_challenge_dataset/python/final/j...   \n",
       "1  CodeSearchNet_challenge_dataset/python/final/j...   \n",
       "2  CodeSearchNet_challenge_dataset/python/final/j...   \n",
       "3  CodeSearchNet_challenge_dataset/python/final/j...   \n",
       "4  CodeSearchNet_challenge_dataset/python/final/j...   \n",
       "\n",
       "                                                text  \n",
       "0  def show_slug_with_level(context, page, lang=N...  \n",
       "1  def public(self):\\n    \"\"\"True if the Slot is ...  \n",
       "2  def zmq_device(self):\\n    '''\\n    Multiproce...  \n",
       "3  def get_datetime_sorted_rows(dbconn, table_nam...  \n",
       "4  def export_ruptures_csv(ekey, dstore):\\n    \"\"...  "
      ]
     },
     "metadata": {},
     "output_type": "display_data"
    },
    {
     "data": {
      "text/plain": [
       "(16, 2)"
      ]
     },
     "metadata": {},
     "output_type": "display_data"
    }
   ],
   "source": [
    "train_files, test_files, valid_files = get_dataset_py_files()\n",
    "\n",
    "# Exporting train files into a CSV if it does not exist\n",
    "if not os.path.exists(train_csv_path):\n",
    "    print('Exporting /train python files to CSV')\n",
    "    export_py_files_into_csv(train_files, train_csv_path)\n",
    "\n",
    "# Exporting test files into a CSV if it does not exist\n",
    "if not os.path.exists(test_csv_path):\n",
    "    print('Exporting /test python files to CSV')\n",
    "    export_py_files_into_csv(test_files, test_csv_path)\n",
    "\n",
    "# Exporting valid files into a CSV if it does not exist\n",
    "if not os.path.exists(valid_csv_path):\n",
    "    print('Exporting /valid python files to CSV')\n",
    "    export_py_files_into_csv(valid_files, valid_csv_path)\n",
    "\n",
    "# Exporting all the python files into a CSV if it does not exist\n",
    "if not os.path.exists(all_csv_path):\n",
    "    print('Exporting every python files to CSV')\n",
    "    all_files = train_files + test_files + valid_files\n",
    "    export_py_files_into_csv(all_files, all_csv_path)\n"
   ]
  },
  {
   "cell_type": "code",
   "execution_count": 7,
   "metadata": {},
   "outputs": [
    {
     "name": "stdout",
     "output_type": "stream",
     "text": [
      "Total lines of Python code in the dataset (after removing empty lines)\n",
      "11206193\n",
      "\n",
      "\n",
      "Total lines of Python code in the dataset's train folder (after removing empty lines)\n",
      "10054266\n",
      "\n",
      "\n",
      "Total lines of Python in the dataset's test folder (after removing empty lines)\n",
      "541338\n",
      "\n",
      "\n",
      "Total lines of Python in the dataset's valid folder\n",
      "610589\n"
     ]
    }
   ],
   "source": [
    "print(\"Total lines of Python code in the dataset (after removing empty lines)\")\n",
    "!find ./CodeSearchNet_challenge_dataset/ -name '*.py' | xargs cat | sed '/^\\s*$/d' | wc -l \n",
    "\n",
    "print(\"\\n\\nTotal lines of Python code in the dataset's train folder (after removing empty lines)\")\n",
    "!find ./CodeSearchNet_challenge_dataset/python/final/jsonl/train/ -name '*.py' | xargs cat | sed '/^\\s*$/d' | wc -l \n",
    "\n",
    "print(\"\\n\\nTotal lines of Python in the dataset's test folder (after removing empty lines)\")\n",
    "!find ./CodeSearchNet_challenge_dataset/python/final/jsonl/test/ -name '*.py' | xargs cat | sed '/^\\s*$/d' | wc -l \n",
    "\n",
    "print(\"\\n\\nTotal lines of Python in the dataset's valid folder\")\n",
    "!find ./CodeSearchNet_challenge_dataset/python/final/jsonl/valid/ -name '*.py' | xargs cat | sed '/^\\s*$/d' | wc -l "
   ]
  },
  {
   "cell_type": "code",
   "execution_count": null,
   "metadata": {},
   "outputs": [],
   "source": []
  }
 ],
 "metadata": {
  "kernelspec": {
   "display_name": "Python 3",
   "language": "python",
   "name": "python3"
  },
  "language_info": {
   "codemirror_mode": {
    "name": "ipython",
    "version": 3
   },
   "file_extension": ".py",
   "mimetype": "text/x-python",
   "name": "python",
   "nbconvert_exporter": "python",
   "pygments_lexer": "ipython3",
   "version": "3.7.3"
  }
 },
 "nbformat": 4,
 "nbformat_minor": 4
}
