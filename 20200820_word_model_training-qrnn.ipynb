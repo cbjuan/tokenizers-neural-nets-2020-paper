{
 "cells": [
  {
   "cell_type": "code",
   "execution_count": 1,
   "metadata": {
    "colab": {
     "base_uri": "https://localhost:8080/",
     "height": 34
    },
    "colab_type": "code",
    "executionInfo": {
     "elapsed": 13120,
     "status": "ok",
     "timestamp": 1597942478143,
     "user": {
      "displayName": "Juan Cruz Benito",
      "photoUrl": "https://lh3.googleusercontent.com/a-/AOh14GigYykdPwcdpDFRrHCJKUA0O1J-WMCBr6bE1yEgLg=s64",
      "userId": "12666034062746600529"
     },
     "user_tz": -120
    },
    "id": "-zwfLakOt-Wf",
    "outputId": "af390e2d-8ca8-4311-8bae-18161188221d"
   },
   "outputs": [
    {
     "name": "stdout",
     "output_type": "stream",
     "text": [
      "Current cuda device in use:  0\n"
     ]
    }
   ],
   "source": [
    "import torch\n",
    "print ('Current cuda device in use: ', torch.cuda.current_device())"
   ]
  },
  {
   "cell_type": "code",
   "execution_count": 2,
   "metadata": {
    "colab": {},
    "colab_type": "code",
    "executionInfo": {
     "elapsed": 13816,
     "status": "ok",
     "timestamp": 1597942478869,
     "user": {
      "displayName": "Juan Cruz Benito",
      "photoUrl": "https://lh3.googleusercontent.com/a-/AOh14GigYykdPwcdpDFRrHCJKUA0O1J-WMCBr6bE1yEgLg=s64",
      "userId": "12666034062746600529"
     },
     "user_tz": -120
    },
    "id": "O1xN8ljUuE_H"
   },
   "outputs": [],
   "source": [
    "from fastai.text import *\n",
    "import sentencepiece as spm #https://github.com/google/sentencepiece\n",
    "import os"
   ]
  },
  {
   "cell_type": "code",
   "execution_count": 3,
   "metadata": {
    "colab": {},
    "colab_type": "code",
    "executionInfo": {
     "elapsed": 13800,
     "status": "ok",
     "timestamp": 1597942478881,
     "user": {
      "displayName": "Juan Cruz Benito",
      "photoUrl": "https://lh3.googleusercontent.com/a-/AOh14GigYykdPwcdpDFRrHCJKUA0O1J-WMCBr6bE1yEgLg=s64",
      "userId": "12666034062746600529"
     },
     "user_tz": -120
    },
    "id": "Xmp7yJ4huHHi"
   },
   "outputs": [],
   "source": [
    "from tokenizer_utils import CustomTokenizer, SPTokenizer"
   ]
  },
  {
   "cell_type": "code",
   "execution_count": 4,
   "metadata": {
    "colab": {},
    "colab_type": "code",
    "executionInfo": {
     "elapsed": 13779,
     "status": "ok",
     "timestamp": 1597942478888,
     "user": {
      "displayName": "Juan Cruz Benito",
      "photoUrl": "https://lh3.googleusercontent.com/a-/AOh14GigYykdPwcdpDFRrHCJKUA0O1J-WMCBr6bE1yEgLg=s64",
      "userId": "12666034062746600529"
     },
     "user_tz": -120
    },
    "id": "AZQiYVgluZAw"
   },
   "outputs": [],
   "source": [
    "vocab_size = 600\n",
    "model_prefix = 'word_model'"
   ]
  },
  {
   "cell_type": "code",
   "execution_count": 5,
   "metadata": {
    "colab": {
     "base_uri": "https://localhost:8080/",
     "height": 34
    },
    "colab_type": "code",
    "executionInfo": {
     "elapsed": 13731,
     "status": "ok",
     "timestamp": 1597942478893,
     "user": {
      "displayName": "Juan Cruz Benito",
      "photoUrl": "https://lh3.googleusercontent.com/a-/AOh14GigYykdPwcdpDFRrHCJKUA0O1J-WMCBr6bE1yEgLg=s64",
      "userId": "12666034062746600529"
     },
     "user_tz": -120
    },
    "id": "1xmvMyOyucAt",
    "outputId": "cb5d35df-319e-494a-9251-7ba1ef6595c9"
   },
   "outputs": [
    {
     "data": {
      "text/plain": [
       "True"
      ]
     },
     "execution_count": 5,
     "metadata": {},
     "output_type": "execute_result"
    }
   ],
   "source": [
    "## load up the Processor\n",
    "sp = spm.SentencePieceProcessor()\n",
    "sp.load(f'{model_prefix}.model')"
   ]
  },
  {
   "cell_type": "code",
   "execution_count": 6,
   "metadata": {
    "colab": {},
    "colab_type": "code",
    "executionInfo": {
     "elapsed": 13702,
     "status": "ok",
     "timestamp": 1597942478898,
     "user": {
      "displayName": "Juan Cruz Benito",
      "photoUrl": "https://lh3.googleusercontent.com/a-/AOh14GigYykdPwcdpDFRrHCJKUA0O1J-WMCBr6bE1yEgLg=s64",
      "userId": "12666034062746600529"
     },
     "user_tz": -120
    },
    "id": "u65dz1HgupEV"
   },
   "outputs": [],
   "source": [
    "itos = []\n",
    "with open(f'{model_prefix}.vocab','r') as f:\n",
    "    for line_num,line in enumerate(f):\n",
    "        itos.append(line.split(\"\\t\")[0])"
   ]
  },
  {
   "cell_type": "code",
   "execution_count": 7,
   "metadata": {
    "colab": {},
    "colab_type": "code",
    "executionInfo": {
     "elapsed": 13688,
     "status": "ok",
     "timestamp": 1597942478902,
     "user": {
      "displayName": "Juan Cruz Benito",
      "photoUrl": "https://lh3.googleusercontent.com/a-/AOh14GigYykdPwcdpDFRrHCJKUA0O1J-WMCBr6bE1yEgLg=s64",
      "userId": "12666034062746600529"
     },
     "user_tz": -120
    },
    "id": "uWYFP0kUu0Nq"
   },
   "outputs": [],
   "source": [
    "mycust_tok = CustomTokenizer(SPTokenizer, model_prefix)"
   ]
  },
  {
   "cell_type": "code",
   "execution_count": 8,
   "metadata": {
    "colab": {},
    "colab_type": "code",
    "executionInfo": {
     "elapsed": 13675,
     "status": "ok",
     "timestamp": 1597942478908,
     "user": {
      "displayName": "Juan Cruz Benito",
      "photoUrl": "https://lh3.googleusercontent.com/a-/AOh14GigYykdPwcdpDFRrHCJKUA0O1J-WMCBr6bE1yEgLg=s64",
      "userId": "12666034062746600529"
     },
     "user_tz": -120
    },
    "id": "YHAqN0m9u2kb"
   },
   "outputs": [],
   "source": [
    "#setup Vocab object for use in LM\n",
    "sp_vocab = Vocab(itos)"
   ]
  },
  {
   "cell_type": "code",
   "execution_count": 9,
   "metadata": {
    "colab": {},
    "colab_type": "code",
    "executionInfo": {
     "elapsed": 4229,
     "status": "ok",
     "timestamp": 1597942483178,
     "user": {
      "displayName": "Juan Cruz Benito",
      "photoUrl": "https://lh3.googleusercontent.com/a-/AOh14GigYykdPwcdpDFRrHCJKUA0O1J-WMCBr6bE1yEgLg=s64",
      "userId": "12666034062746600529"
     },
     "user_tz": -120
    },
    "id": "KrCaXbmJu4Sc"
   },
   "outputs": [],
   "source": [
    "data = load_data('./','20200811_word_model_databunch_data_save.pkl', bs=1200) "
   ]
  },
  {
   "cell_type": "code",
   "execution_count": 10,
   "metadata": {
    "colab": {
     "base_uri": "https://localhost:8080/",
     "height": 72
    },
    "colab_type": "code",
    "executionInfo": {
     "elapsed": 10077,
     "status": "ok",
     "timestamp": 1597942489079,
     "user": {
      "displayName": "Juan Cruz Benito",
      "photoUrl": "https://lh3.googleusercontent.com/a-/AOh14GigYykdPwcdpDFRrHCJKUA0O1J-WMCBr6bE1yEgLg=s64",
      "userId": "12666034062746600529"
     },
     "user_tz": -120
    },
    "id": "dAzTGUnCvG4v",
    "outputId": "ef3d9415-77e1-4f1a-9219-07838729f3bf",
    "scrolled": false
   },
   "outputs": [],
   "source": [
    "config = awd_lstm_lm_config.copy()\n",
    "config['qrnn'] = True\n",
    "\n",
    "learn = language_model_learner(data, AWD_LSTM, pretrained=False, config=config, drop_mult=0.3)"
   ]
  },
  {
   "cell_type": "code",
   "execution_count": 11,
   "metadata": {
    "colab": {
     "base_uri": "https://localhost:8080/",
     "height": 833
    },
    "colab_type": "code",
    "executionInfo": {
     "elapsed": 10021,
     "status": "ok",
     "timestamp": 1597942489088,
     "user": {
      "displayName": "Juan Cruz Benito",
      "photoUrl": "https://lh3.googleusercontent.com/a-/AOh14GigYykdPwcdpDFRrHCJKUA0O1J-WMCBr6bE1yEgLg=s64",
      "userId": "12666034062746600529"
     },
     "user_tz": -120
    },
    "id": "vyA0TaHIxFkY",
    "outputId": "d390dec3-1701-48fc-fbe2-aae688590513"
   },
   "outputs": [
    {
     "name": "stdout",
     "output_type": "stream",
     "text": [
      "SequentialRNN(\n",
      "  (0): AWD_LSTM(\n",
      "    (encoder): Embedding(600, 400, padding_idx=1)\n",
      "    (encoder_dp): EmbeddingDropout(\n",
      "      (emb): Embedding(600, 400, padding_idx=1)\n",
      "    )\n",
      "    (rnns): ModuleList(\n",
      "      (0): QRNN(\n",
      "        (layers): ModuleList(\n",
      "          (0): QRNNLayer(\n",
      "            (linear): WeightDropout(\n",
      "              (module): Linear(in_features=800, out_features=3456, bias=True)\n",
      "            )\n",
      "          )\n",
      "        )\n",
      "      )\n",
      "      (1): QRNN(\n",
      "        (layers): ModuleList(\n",
      "          (0): QRNNLayer(\n",
      "            (linear): WeightDropout(\n",
      "              (module): Linear(in_features=1152, out_features=3456, bias=True)\n",
      "            )\n",
      "          )\n",
      "        )\n",
      "      )\n",
      "      (2): QRNN(\n",
      "        (layers): ModuleList(\n",
      "          (0): QRNNLayer(\n",
      "            (linear): WeightDropout(\n",
      "              (module): Linear(in_features=1152, out_features=1200, bias=True)\n",
      "            )\n",
      "          )\n",
      "        )\n",
      "      )\n",
      "    )\n",
      "    (input_dp): RNNDropout()\n",
      "    (hidden_dps): ModuleList(\n",
      "      (0): RNNDropout()\n",
      "      (1): RNNDropout()\n",
      "      (2): RNNDropout()\n",
      "    )\n",
      "  )\n",
      "  (1): LinearDecoder(\n",
      "    (decoder): Linear(in_features=400, out_features=600, bias=True)\n",
      "    (output_dp): RNNDropout()\n",
      "  )\n",
      ")\n"
     ]
    }
   ],
   "source": [
    "print(learn.model)"
   ]
  },
  {
   "cell_type": "code",
   "execution_count": 12,
   "metadata": {
    "colab": {
     "base_uri": "https://localhost:8080/",
     "height": 113
    },
    "colab_type": "code",
    "executionInfo": {
     "elapsed": 91843,
     "status": "ok",
     "timestamp": 1597942570955,
     "user": {
      "displayName": "Juan Cruz Benito",
      "photoUrl": "https://lh3.googleusercontent.com/a-/AOh14GigYykdPwcdpDFRrHCJKUA0O1J-WMCBr6bE1yEgLg=s64",
      "userId": "12666034062746600529"
     },
     "user_tz": -120
    },
    "id": "TrD7DLrBxQd1",
    "outputId": "d5b42c0e-d719-48c6-b49b-624cf837d115"
   },
   "outputs": [
    {
     "data": {
      "text/html": [
       "\n",
       "    <div>\n",
       "        <style>\n",
       "            /* Turns off some styling */\n",
       "            progress {\n",
       "                /* gets rid of default border in Firefox and Opera. */\n",
       "                border: none;\n",
       "                /* Needs to be in here for Safari polyfill so background images work as expected. */\n",
       "                background-size: auto;\n",
       "            }\n",
       "            .progress-bar-interrupted, .progress-bar-interrupted::-webkit-progress-bar {\n",
       "                background: #F44336;\n",
       "            }\n",
       "        </style>\n",
       "      <progress value='0' class='' max='1', style='width:300px; height:20px; vertical-align: middle;'></progress>\n",
       "      0.00% [0/1 00:00<00:00]\n",
       "    </div>\n",
       "    \n",
       "<table border=\"1\" class=\"dataframe\">\n",
       "  <thead>\n",
       "    <tr style=\"text-align: left;\">\n",
       "      <th>epoch</th>\n",
       "      <th>train_loss</th>\n",
       "      <th>valid_loss</th>\n",
       "      <th>accuracy</th>\n",
       "      <th>time</th>\n",
       "    </tr>\n",
       "  </thead>\n",
       "  <tbody>\n",
       "  </tbody>\n",
       "</table><p>\n",
       "\n",
       "    <div>\n",
       "        <style>\n",
       "            /* Turns off some styling */\n",
       "            progress {\n",
       "                /* gets rid of default border in Firefox and Opera. */\n",
       "                border: none;\n",
       "                /* Needs to be in here for Safari polyfill so background images work as expected. */\n",
       "                background-size: auto;\n",
       "            }\n",
       "            .progress-bar-interrupted, .progress-bar-interrupted::-webkit-progress-bar {\n",
       "                background: #F44336;\n",
       "            }\n",
       "        </style>\n",
       "      <progress value='99' class='' max='318', style='width:300px; height:20px; vertical-align: middle;'></progress>\n",
       "      31.13% [99/318 00:46<01:42 20.0216]\n",
       "    </div>\n",
       "    "
      ],
      "text/plain": [
       "<IPython.core.display.HTML object>"
      ]
     },
     "metadata": {},
     "output_type": "display_data"
    },
    {
     "name": "stdout",
     "output_type": "stream",
     "text": [
      "LR Finder is complete, type {learner_name}.recorder.plot() to see the graph.\n"
     ]
    }
   ],
   "source": [
    "learn.lr_find()"
   ]
  },
  {
   "cell_type": "code",
   "execution_count": 13,
   "metadata": {
    "colab": {
     "base_uri": "https://localhost:8080/",
     "height": 314
    },
    "colab_type": "code",
    "executionInfo": {
     "elapsed": 92272,
     "status": "ok",
     "timestamp": 1597942571427,
     "user": {
      "displayName": "Juan Cruz Benito",
      "photoUrl": "https://lh3.googleusercontent.com/a-/AOh14GigYykdPwcdpDFRrHCJKUA0O1J-WMCBr6bE1yEgLg=s64",
      "userId": "12666034062746600529"
     },
     "user_tz": -120
    },
    "id": "S3Y3W6c4xRm6",
    "outputId": "e84f1562-cd2c-4563-ec14-c68c3d715a94"
   },
   "outputs": [
    {
     "name": "stdout",
     "output_type": "stream",
     "text": [
      "Min numerical gradient: 1.45E-03\n",
      "Min loss divided by 10: 5.25E-02\n"
     ]
    },
    {
     "data": {
      "image/png": "[encoded data removed]",
      "text/plain": [
       "<Figure size 432x288 with 1 Axes>"
      ]
     },
     "metadata": {
      "needs_background": "light"
     },
     "output_type": "display_data"
    }
   ],
   "source": [
    "learn.recorder.plot(suggestion=True)"
   ]
  },
  {
   "cell_type": "code",
   "execution_count": 14,
   "metadata": {
    "colab": {
     "base_uri": "https://localhost:8080/",
     "height": 81
    },
    "colab_type": "code",
    "executionInfo": {
     "elapsed": 537483,
     "status": "ok",
     "timestamp": 1597943123599,
     "user": {
      "displayName": "Juan Cruz Benito",
      "photoUrl": "https://lh3.googleusercontent.com/a-/AOh14GigYykdPwcdpDFRrHCJKUA0O1J-WMCBr6bE1yEgLg=s64",
      "userId": "12666034062746600529"
     },
     "user_tz": -120
    },
    "id": "Zcodm6pzx2my",
    "outputId": "009916f9-1b61-4507-93ee-f258c8dc5c46"
   },
   "outputs": [
    {
     "data": {
      "text/html": [
       "<table border=\"1\" class=\"dataframe\">\n",
       "  <thead>\n",
       "    <tr style=\"text-align: left;\">\n",
       "      <th>epoch</th>\n",
       "      <th>train_loss</th>\n",
       "      <th>valid_loss</th>\n",
       "      <th>accuracy</th>\n",
       "      <th>time</th>\n",
       "    </tr>\n",
       "  </thead>\n",
       "  <tbody>\n",
       "    <tr>\n",
       "      <td>0</td>\n",
       "      <td>2.868746</td>\n",
       "      <td>2.796912</td>\n",
       "      <td>0.462961</td>\n",
       "      <td>02:44</td>\n",
       "    </tr>\n",
       "  </tbody>\n",
       "</table>"
      ],
      "text/plain": [
       "<IPython.core.display.HTML object>"
      ]
     },
     "metadata": {},
     "output_type": "display_data"
    }
   ],
   "source": [
    "learn.fit_one_cycle(1, slice(1e-2, 1e-3))"
   ]
  },
  {
   "cell_type": "code",
   "execution_count": 15,
   "metadata": {
    "colab": {},
    "colab_type": "code",
    "executionInfo": {
     "elapsed": 530087,
     "status": "ok",
     "timestamp": 1597943123604,
     "user": {
      "displayName": "Juan Cruz Benito",
      "photoUrl": "https://lh3.googleusercontent.com/a-/AOh14GigYykdPwcdpDFRrHCJKUA0O1J-WMCBr6bE1yEgLg=s64",
      "userId": "12666034062746600529"
     },
     "user_tz": -120
    },
    "id": "wzavpe7jyBWf"
   },
   "outputs": [],
   "source": [
    "learn.save('20200820_fit_head_word_model_qrnn')"
   ]
  },
  {
   "cell_type": "code",
   "execution_count": 16,
   "metadata": {
    "colab": {},
    "colab_type": "code",
    "executionInfo": {
     "elapsed": 529901,
     "status": "ok",
     "timestamp": 1597943123879,
     "user": {
      "displayName": "Juan Cruz Benito",
      "photoUrl": "https://lh3.googleusercontent.com/a-/AOh14GigYykdPwcdpDFRrHCJKUA0O1J-WMCBr6bE1yEgLg=s64",
      "userId": "12666034062746600529"
     },
     "user_tz": -120
    },
    "id": "E48aFe-NyFvy"
   },
   "outputs": [],
   "source": [
    "learn.load('20200820_fit_head_word_model_qrnn');"
   ]
  },
  {
   "cell_type": "code",
   "execution_count": 17,
   "metadata": {
    "colab": {},
    "colab_type": "code",
    "executionInfo": {
     "elapsed": 528989,
     "status": "ok",
     "timestamp": 1597943123881,
     "user": {
      "displayName": "Juan Cruz Benito",
      "photoUrl": "https://lh3.googleusercontent.com/a-/AOh14GigYykdPwcdpDFRrHCJKUA0O1J-WMCBr6bE1yEgLg=s64",
      "userId": "12666034062746600529"
     },
     "user_tz": -120
    },
    "id": "qO75m8IzyLib"
   },
   "outputs": [],
   "source": [
    "learn.unfreeze()"
   ]
  },
  {
   "cell_type": "code",
   "execution_count": 18,
   "metadata": {
    "colab": {
     "base_uri": "https://localhost:8080/",
     "height": 990
    },
    "colab_type": "code",
    "executionInfo": {
     "elapsed": 16114966,
     "status": "ok",
     "timestamp": 1597959238860,
     "user": {
      "displayName": "Juan Cruz Benito",
      "photoUrl": "https://lh3.googleusercontent.com/a-/AOh14GigYykdPwcdpDFRrHCJKUA0O1J-WMCBr6bE1yEgLg=s64",
      "userId": "12666034062746600529"
     },
     "user_tz": -120
    },
    "id": "lCScFPa3yZ6A",
    "outputId": "8ae5e92c-d061-4e13-a2f8-88b97aa3f386"
   },
   "outputs": [
    {
     "data": {
      "text/html": [
       "<table border=\"1\" class=\"dataframe\">\n",
       "  <thead>\n",
       "    <tr style=\"text-align: left;\">\n",
       "      <th>epoch</th>\n",
       "      <th>train_loss</th>\n",
       "      <th>valid_loss</th>\n",
       "      <th>accuracy</th>\n",
       "      <th>time</th>\n",
       "    </tr>\n",
       "  </thead>\n",
       "  <tbody>\n",
       "    <tr>\n",
       "      <td>0</td>\n",
       "      <td>2.741383</td>\n",
       "      <td>2.715730</td>\n",
       "      <td>0.470505</td>\n",
       "      <td>02:45</td>\n",
       "    </tr>\n",
       "    <tr>\n",
       "      <td>1</td>\n",
       "      <td>2.635115</td>\n",
       "      <td>2.601059</td>\n",
       "      <td>0.480339</td>\n",
       "      <td>02:45</td>\n",
       "    </tr>\n",
       "    <tr>\n",
       "      <td>2</td>\n",
       "      <td>2.499521</td>\n",
       "      <td>2.489380</td>\n",
       "      <td>0.489091</td>\n",
       "      <td>02:45</td>\n",
       "    </tr>\n",
       "    <tr>\n",
       "      <td>3</td>\n",
       "      <td>2.372917</td>\n",
       "      <td>2.381460</td>\n",
       "      <td>0.497604</td>\n",
       "      <td>02:44</td>\n",
       "    </tr>\n",
       "    <tr>\n",
       "      <td>4</td>\n",
       "      <td>2.285312</td>\n",
       "      <td>2.310543</td>\n",
       "      <td>0.502051</td>\n",
       "      <td>02:45</td>\n",
       "    </tr>\n",
       "    <tr>\n",
       "      <td>5</td>\n",
       "      <td>2.213104</td>\n",
       "      <td>2.262780</td>\n",
       "      <td>0.505212</td>\n",
       "      <td>02:46</td>\n",
       "    </tr>\n",
       "    <tr>\n",
       "      <td>6</td>\n",
       "      <td>2.168427</td>\n",
       "      <td>2.237335</td>\n",
       "      <td>0.507342</td>\n",
       "      <td>02:46</td>\n",
       "    </tr>\n",
       "    <tr>\n",
       "      <td>7</td>\n",
       "      <td>2.152319</td>\n",
       "      <td>2.224918</td>\n",
       "      <td>0.507184</td>\n",
       "      <td>02:45</td>\n",
       "    </tr>\n",
       "    <tr>\n",
       "      <td>8</td>\n",
       "      <td>2.143900</td>\n",
       "      <td>2.219331</td>\n",
       "      <td>0.507360</td>\n",
       "      <td>02:45</td>\n",
       "    </tr>\n",
       "    <tr>\n",
       "      <td>9</td>\n",
       "      <td>2.114408</td>\n",
       "      <td>2.200695</td>\n",
       "      <td>0.509198</td>\n",
       "      <td>02:45</td>\n",
       "    </tr>\n",
       "    <tr>\n",
       "      <td>10</td>\n",
       "      <td>2.110512</td>\n",
       "      <td>2.195941</td>\n",
       "      <td>0.510035</td>\n",
       "      <td>02:45</td>\n",
       "    </tr>\n",
       "    <tr>\n",
       "      <td>11</td>\n",
       "      <td>2.105966</td>\n",
       "      <td>2.189955</td>\n",
       "      <td>0.510380</td>\n",
       "      <td>02:46</td>\n",
       "    </tr>\n",
       "    <tr>\n",
       "      <td>12</td>\n",
       "      <td>2.103024</td>\n",
       "      <td>2.183256</td>\n",
       "      <td>0.510928</td>\n",
       "      <td>02:45</td>\n",
       "    </tr>\n",
       "    <tr>\n",
       "      <td>13</td>\n",
       "      <td>2.090305</td>\n",
       "      <td>2.178290</td>\n",
       "      <td>0.511604</td>\n",
       "      <td>02:45</td>\n",
       "    </tr>\n",
       "    <tr>\n",
       "      <td>14</td>\n",
       "      <td>2.080156</td>\n",
       "      <td>2.177455</td>\n",
       "      <td>0.510691</td>\n",
       "      <td>02:45</td>\n",
       "    </tr>\n",
       "    <tr>\n",
       "      <td>15</td>\n",
       "      <td>2.062458</td>\n",
       "      <td>2.172697</td>\n",
       "      <td>0.512474</td>\n",
       "      <td>02:45</td>\n",
       "    </tr>\n",
       "    <tr>\n",
       "      <td>16</td>\n",
       "      <td>2.049962</td>\n",
       "      <td>2.166938</td>\n",
       "      <td>0.512933</td>\n",
       "      <td>02:45</td>\n",
       "    </tr>\n",
       "    <tr>\n",
       "      <td>17</td>\n",
       "      <td>2.034712</td>\n",
       "      <td>2.162216</td>\n",
       "      <td>0.513300</td>\n",
       "      <td>02:45</td>\n",
       "    </tr>\n",
       "    <tr>\n",
       "      <td>18</td>\n",
       "      <td>2.036012</td>\n",
       "      <td>2.159428</td>\n",
       "      <td>0.513639</td>\n",
       "      <td>02:45</td>\n",
       "    </tr>\n",
       "    <tr>\n",
       "      <td>19</td>\n",
       "      <td>2.022366</td>\n",
       "      <td>2.157094</td>\n",
       "      <td>0.514054</td>\n",
       "      <td>02:45</td>\n",
       "    </tr>\n",
       "    <tr>\n",
       "      <td>20</td>\n",
       "      <td>2.023120</td>\n",
       "      <td>2.153689</td>\n",
       "      <td>0.514616</td>\n",
       "      <td>02:44</td>\n",
       "    </tr>\n",
       "    <tr>\n",
       "      <td>21</td>\n",
       "      <td>2.000724</td>\n",
       "      <td>2.151426</td>\n",
       "      <td>0.514999</td>\n",
       "      <td>02:45</td>\n",
       "    </tr>\n",
       "    <tr>\n",
       "      <td>22</td>\n",
       "      <td>1.990193</td>\n",
       "      <td>2.148808</td>\n",
       "      <td>0.515235</td>\n",
       "      <td>02:45</td>\n",
       "    </tr>\n",
       "    <tr>\n",
       "      <td>23</td>\n",
       "      <td>1.985256</td>\n",
       "      <td>2.148195</td>\n",
       "      <td>0.515405</td>\n",
       "      <td>02:46</td>\n",
       "    </tr>\n",
       "    <tr>\n",
       "      <td>24</td>\n",
       "      <td>1.981778</td>\n",
       "      <td>2.146605</td>\n",
       "      <td>0.515061</td>\n",
       "      <td>02:45</td>\n",
       "    </tr>\n",
       "    <tr>\n",
       "      <td>25</td>\n",
       "      <td>1.973902</td>\n",
       "      <td>2.145603</td>\n",
       "      <td>0.515108</td>\n",
       "      <td>02:45</td>\n",
       "    </tr>\n",
       "    <tr>\n",
       "      <td>26</td>\n",
       "      <td>1.977742</td>\n",
       "      <td>2.144539</td>\n",
       "      <td>0.515743</td>\n",
       "      <td>02:45</td>\n",
       "    </tr>\n",
       "    <tr>\n",
       "      <td>27</td>\n",
       "      <td>1.972222</td>\n",
       "      <td>2.144239</td>\n",
       "      <td>0.515850</td>\n",
       "      <td>02:45</td>\n",
       "    </tr>\n",
       "    <tr>\n",
       "      <td>28</td>\n",
       "      <td>1.966625</td>\n",
       "      <td>2.144331</td>\n",
       "      <td>0.515710</td>\n",
       "      <td>02:45</td>\n",
       "    </tr>\n",
       "    <tr>\n",
       "      <td>29</td>\n",
       "      <td>1.972508</td>\n",
       "      <td>2.144126</td>\n",
       "      <td>0.515747</td>\n",
       "      <td>02:45</td>\n",
       "    </tr>\n",
       "  </tbody>\n",
       "</table>"
      ],
      "text/plain": [
       "<IPython.core.display.HTML object>"
      ]
     },
     "metadata": {},
     "output_type": "display_data"
    }
   ],
   "source": [
    "learn.fit_one_cycle(30, slice(1e-2, 1e-3))"
   ]
  },
  {
   "cell_type": "code",
   "execution_count": 19,
   "metadata": {
    "colab": {},
    "colab_type": "code",
    "executionInfo": {
     "elapsed": 16115232,
     "status": "ok",
     "timestamp": 1597959239134,
     "user": {
      "displayName": "Juan Cruz Benito",
      "photoUrl": "https://lh3.googleusercontent.com/a-/AOh14GigYykdPwcdpDFRrHCJKUA0O1J-WMCBr6bE1yEgLg=s64",
      "userId": "12666034062746600529"
     },
     "user_tz": -120
    },
    "id": "vDDUHmq7yaMg"
   },
   "outputs": [],
   "source": [
    "learn.save('20200820_fine_tuned_word_model_qrnn')"
   ]
  },
  {
   "cell_type": "code",
   "execution_count": 20,
   "metadata": {
    "colab": {},
    "colab_type": "code",
    "executionInfo": {
     "elapsed": 16115228,
     "status": "ok",
     "timestamp": 1597959239137,
     "user": {
      "displayName": "Juan Cruz Benito",
      "photoUrl": "https://lh3.googleusercontent.com/a-/AOh14GigYykdPwcdpDFRrHCJKUA0O1J-WMCBr6bE1yEgLg=s64",
      "userId": "12666034062746600529"
     },
     "user_tz": -120
    },
    "id": "ZeRznFOQyaJq"
   },
   "outputs": [],
   "source": [
    "learn.load('20200820_fine_tuned_word_model_qrnn');"
   ]
  },
  {
   "cell_type": "code",
   "execution_count": 21,
   "metadata": {
    "colab": {
     "base_uri": "https://localhost:8080/",
     "height": 89
    },
    "colab_type": "code",
    "executionInfo": {
     "elapsed": 16115539,
     "status": "ok",
     "timestamp": 1597959239453,
     "user": {
      "displayName": "Juan Cruz Benito",
      "photoUrl": "https://lh3.googleusercontent.com/a-/AOh14GigYykdPwcdpDFRrHCJKUA0O1J-WMCBr6bE1yEgLg=s64",
      "userId": "12666034062746600529"
     },
     "user_tz": -120
    },
    "id": "m7vlV1C0yaHB",
    "outputId": "b6ad40b1-ef4b-4a27-9147-a8a167d3f758"
   },
   "outputs": [
    {
     "name": "stdout",
     "output_type": "stream",
     "text": [
      "import from numpy import matrix try: return True except BaseException: return False def state in an array of possible global values for a given block part of\n",
      "import from a local file. The database is read from using the first method as the first argument and the second as the parent context is the\n",
      "import from this function -- load %s', None, None, None, None, None) if running is None: raise ValueError( process \\ was not found in this version of\n"
     ]
    }
   ],
   "source": [
    "TEXT = \"import from\"\n",
    "N_WORDS = 25\n",
    "N_SENTENCES = 3\n",
    "for _ in range(N_SENTENCES):\n",
    "    predicted = learn.predict(TEXT, N_WORDS, temperature=0.9)\n",
    "    val = predicted.replace(TEXT, '')\n",
    "    decoded = sp.decode_pieces(val.split())\n",
    "    print(TEXT + \" \"+  decoded)"
   ]
  },
  {
   "cell_type": "code",
   "execution_count": 22,
   "metadata": {
    "colab": {
     "base_uri": "https://localhost:8080/",
     "height": 434
    },
    "colab_type": "code",
    "executionInfo": {
     "elapsed": 16115538,
     "status": "ok",
     "timestamp": 1597959239456,
     "user": {
      "displayName": "Juan Cruz Benito",
      "photoUrl": "https://lh3.googleusercontent.com/a-/AOh14GigYykdPwcdpDFRrHCJKUA0O1J-WMCBr6bE1yEgLg=s64",
      "userId": "12666034062746600529"
     },
     "user_tz": -120
    },
    "id": "n4DDhJ7CygyH",
    "outputId": "244adb33-19f7-4780-8618-62d771ea7b51"
   },
   "outputs": [
    {
     "name": "stdout",
     "output_type": "stream",
     "text": [
      "SequentialRNN\n",
      "======================================================================\n",
      "Layer (type)         Output Shape         Param #    Trainable \n",
      "======================================================================\n",
      "RNNDropout           [70, 400]            0          False     \n",
      "______________________________________________________________________\n",
      "RNNDropout           [70, 1152]           0          False     \n",
      "______________________________________________________________________\n",
      "RNNDropout           [70, 1152]           0          False     \n",
      "______________________________________________________________________\n",
      "Linear               [70, 600]            240,600    True      \n",
      "______________________________________________________________________\n",
      "RNNDropout           [70, 400]            0          False     \n",
      "______________________________________________________________________\n",
      "\n",
      "Total params: 240,600\n",
      "Total trainable params: 240,600\n",
      "Total non-trainable params: 0\n",
      "Optimized with 'torch.optim.adam.Adam', betas=(0.9, 0.99)\n",
      "Using true weight decay as discussed in https://www.fast.ai/2018/07/02/adam-weight-decay/ \n",
      "Loss function : FlattenedLoss\n",
      "======================================================================\n",
      "Callbacks functions applied \n",
      "    RNNTrainer\n"
     ]
    }
   ],
   "source": [
    "print(learn.summary()) "
   ]
  },
  {
   "cell_type": "code",
   "execution_count": 23,
   "metadata": {
    "colab": {},
    "colab_type": "code",
    "id": "b7rt9TFVzW1B"
   },
   "outputs": [
    {
     "name": "stdout",
     "output_type": "stream",
     "text": [
      "from pandas import \\ t \\ t \\ t \\ r \\ t \\ t \\ t \\ t \\ t \\ t \\ t \\ t \\\n",
      "from pandas import read from the config file. try: with source and source Example: >>> from as a import >>> from import >>> from import with >>> from\n",
      "from pandas import ( ( # run the job in our local directory location = {} # get the load description in your current database to send the\n",
      "from pandas import ' \\ ' \\ ' such ' + ' \\ \\ \\ \\ ' and the \\ \\ ', ' \\ \\ \\ \\ ',\n",
      "from pandas import value from time import time # TODO: add time to the one using the current time here # on the order of items in the\n"
     ]
    }
   ],
   "source": [
    "TEXT = \"from pandas import\"\n",
    "N_WORDS = 25\n",
    "N_SENTENCES = 5\n",
    "for _ in range(N_SENTENCES):\n",
    "    predicted = learn.predict(TEXT, N_WORDS, temperature=0.9)\n",
    "    val = predicted.replace(TEXT, '')\n",
    "    decoded = sp.decode_pieces(val.split())\n",
    "    print(TEXT + \" \"+  decoded)"
   ]
  },
  {
   "cell_type": "code",
   "execution_count": null,
   "metadata": {},
   "outputs": [],
   "source": []
  }
 ],
 "metadata": {
  "accelerator": "GPU",
  "colab": {
   "authorship_tag": "ABX9TyO780VpG479jT8T1pIV7OvL",
   "mount_file_id": "1tcon1-WKSfddBGya7OwZwdhrGJfdimX0",
   "name": "20200820_word_model_training-qrnn",
   "provenance": []
  },
  "kernelspec": {
   "display_name": "Python 3",
   "language": "python",
   "name": "python3"
  },
  "language_info": {
   "codemirror_mode": {
    "name": "ipython",
    "version": 3
   },
   "file_extension": ".py",
   "mimetype": "text/x-python",
   "name": "python",
   "nbconvert_exporter": "python",
   "pygments_lexer": "ipython3",
   "version": "3.7.3"
  }
 },
 "nbformat": 4,
 "nbformat_minor": 1
}