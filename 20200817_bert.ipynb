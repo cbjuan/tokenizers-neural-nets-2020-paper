{
 "cells": [
  {
   "cell_type": "code",
   "execution_count": 1,
   "metadata": {},
   "outputs": [],
   "source": [
    "%reload_ext autoreload\n",
    "%autoreload 2\n",
    "%matplotlib inline"
   ]
  },
  {
   "cell_type": "markdown",
   "metadata": {},
   "source": [
    "## Download the codeSearchNetChallenge dataset \n",
    "_If needed_"
   ]
  },
  {
   "cell_type": "code",
   "execution_count": 2,
   "metadata": {},
   "outputs": [
    {
     "name": "stdout",
     "output_type": "stream",
     "text": [
      "CodeSearchNet challenge dataset ready to use!\n"
     ]
    }
   ],
   "source": [
    "%run downloading_cleaning_codeSearchNetChallenge_dataset.ipynb"
   ]
  },
  {
   "cell_type": "markdown",
   "metadata": {},
   "source": [
    "## Exporting the codeSearchNetChallenge dataset to CSV files\n",
    "\n",
    "_If needed_"
   ]
  },
  {
   "cell_type": "code",
   "execution_count": 3,
   "metadata": {},
   "outputs": [
    {
     "name": "stdout",
     "output_type": "stream",
     "text": [
      "Total lines of Python code in the dataset (after removing empty lines)\n",
      "11206193\n",
      "\n",
      "\n",
      "Total lines of Python code in the dataset's train folder (after removing empty lines)\n",
      "10054266\n",
      "\n",
      "\n",
      "Total lines of Python in the dataset's test folder (after removing empty lines)\n",
      "541338\n",
      "\n",
      "\n",
      "Total lines of Python in the dataset's valid folder\n",
      "610589\n"
     ]
    }
   ],
   "source": [
    "%run preparing_csv_files_from_codeSearchNetChallenge_dataset.ipynb"
   ]
  },
  {
   "cell_type": "markdown",
   "metadata": {},
   "source": [
    "Source: https://dev.fast.ai/tutorial.transformers"
   ]
  },
  {
   "cell_type": "code",
   "execution_count": 4,
   "metadata": {},
   "outputs": [
    {
     "name": "stdout",
     "output_type": "stream",
     "text": [
      "Current cuda device  0\n"
     ]
    }
   ],
   "source": [
    "import torch\n",
    "# torch.cuda.set_device(1)\n",
    "print ('Current cuda device ', torch.cuda.current_device())"
   ]
  },
  {
   "cell_type": "code",
   "execution_count": 5,
   "metadata": {},
   "outputs": [],
   "source": [
    "from transformers import BertForMaskedLM, BertTokenizerFast"
   ]
  },
  {
   "cell_type": "code",
   "execution_count": 6,
   "metadata": {},
   "outputs": [
    {
     "name": "stderr",
     "output_type": "stream",
     "text": [
      "Some weights of the model checkpoint at bert-base-cased were not used when initializing BertForMaskedLM: ['cls.seq_relationship.weight', 'cls.seq_relationship.bias']\n",
      "- This IS expected if you are initializing BertForMaskedLM from the checkpoint of a model trained on another task or with another architecture (e.g. initializing a BertForSequenceClassification model from a BertForPretraining model).\n",
      "- This IS NOT expected if you are initializing BertForMaskedLM from the checkpoint of a model that you expect to be exactly identical (initializing a BertForSequenceClassification model from a BertForSequenceClassification model).\n",
      "Some weights of BertForMaskedLM were not initialized from the model checkpoint at bert-base-cased and are newly initialized: ['cls.predictions.decoder.bias']\n",
      "You should probably TRAIN this model on a down-stream task to be able to use it for predictions and inference.\n"
     ]
    }
   ],
   "source": [
    "pretrained_weights = 'bert-base-cased'\n",
    "tokenizer = BertTokenizerFast.from_pretrained(pretrained_weights)\n",
    "model = BertForMaskedLM.from_pretrained(pretrained_weights)"
   ]
  },
  {
   "cell_type": "code",
   "execution_count": 7,
   "metadata": {},
   "outputs": [
    {
     "data": {
      "text/plain": [
       "[101, 1188, 1110, 1126, 1859, 1104, 3087, 117, 1105, 102]"
      ]
     },
     "execution_count": 7,
     "metadata": {},
     "output_type": "execute_result"
    }
   ],
   "source": [
    "ids = tokenizer.encode('This is an example of text, and')\n",
    "ids"
   ]
  },
  {
   "cell_type": "code",
   "execution_count": 8,
   "metadata": {},
   "outputs": [
    {
     "data": {
      "text/plain": [
       "'[CLS] This is an example of text, and [SEP]'"
      ]
     },
     "execution_count": 8,
     "metadata": {},
     "output_type": "execute_result"
    }
   ],
   "source": [
    "tokenizer.decode(ids)"
   ]
  },
  {
   "cell_type": "code",
   "execution_count": 9,
   "metadata": {},
   "outputs": [],
   "source": [
    "import torch\n",
    "t = torch.LongTensor(ids)[None]\n",
    "preds = model.generate(t)"
   ]
  },
  {
   "cell_type": "code",
   "execution_count": 10,
   "metadata": {},
   "outputs": [
    {
     "data": {
      "text/plain": [
       "(torch.Size([1, 20]),\n",
       " tensor([ 101, 1188, 1110, 1126, 1859, 1104, 3087,  117, 1105,  102, 3446,  119,\n",
       "          119,  119,  119,  117,  119,  119,  119,  119]))"
      ]
     },
     "execution_count": 10,
     "metadata": {},
     "output_type": "execute_result"
    }
   ],
   "source": [
    "preds.shape,preds[0]"
   ]
  },
  {
   "cell_type": "code",
   "execution_count": 11,
   "metadata": {},
   "outputs": [
    {
     "data": {
      "text/plain": [
       "'[CLS] This is an example of text, and [SEP] Here....,....'"
      ]
     },
     "execution_count": 11,
     "metadata": {},
     "output_type": "execute_result"
    }
   ],
   "source": [
    "tokenizer.decode(preds[0].numpy())"
   ]
  },
  {
   "cell_type": "code",
   "execution_count": 12,
   "metadata": {},
   "outputs": [],
   "source": [
    "from fastai2.text.all import *"
   ]
  },
  {
   "cell_type": "code",
   "execution_count": 13,
   "metadata": {},
   "outputs": [],
   "source": [
    "codeSearchNet_challenge_path = './CodeSearchNet_challenge_dataset'\n",
    "all_csv_path = './CodeSearchNet_challenge_dataset/CodeSearchNet_challenge_dataset.csv'\n",
    "train_csv_path = './CodeSearchNet_challenge_dataset/python/final/jsonl/train/train_CodeSearchNet_challenge_dataset.csv'\n",
    "test_csv_path = './CodeSearchNet_challenge_dataset/python/final/jsonl/test/test_CodeSearchNet_challenge_dataset.csv'\n",
    "valid_csv_path = './CodeSearchNet_challenge_dataset/python/final/jsonl/valid/valid_CodeSearchNet_challenge_dataset.csv'"
   ]
  },
  {
   "cell_type": "code",
   "execution_count": 14,
   "metadata": {},
   "outputs": [
    {
     "data": {
      "text/html": [
       "<div>\n",
       "<style scoped>\n",
       "    .dataframe tbody tr th:only-of-type {\n",
       "        vertical-align: middle;\n",
       "    }\n",
       "\n",
       "    .dataframe tbody tr th {\n",
       "        vertical-align: top;\n",
       "    }\n",
       "\n",
       "    .dataframe thead th {\n",
       "        text-align: right;\n",
       "    }\n",
       "</style>\n",
       "<table border=\"1\" class=\"dataframe\">\n",
       "  <thead>\n",
       "    <tr style=\"text-align: right;\">\n",
       "      <th></th>\n",
       "      <th>filename</th>\n",
       "      <th>text</th>\n",
       "    </tr>\n",
       "  </thead>\n",
       "  <tbody>\n",
       "    <tr>\n",
       "      <th>0</th>\n",
       "      <td>CodeSearchNet_challenge_dataset/python/final/jsonl/train/python_train_11.py</td>\n",
       "      <td>def show_slug_with_level(context, page, lang=None, fallback=True):\\n    \"\"\"Display slug with level by language.\"\"\"\\n    if not lang:\\n        lang = context.get('lang', pages_settings.PAGE_DEFAULT_LANGUAGE)\\n\\n    page = get_page_from_string_or_id(page, lang)\\n    if not page:\\n        return ''\\n\\n    return {'content': page.slug_with_level(lang)}\\n\\n\\ndef show_revisions(context, page, content_type, lang=None):\\n    \"\"\"Render the last 10 revisions of a page content with a list using\\n        the ``pages/revisions.html`` template\"\"\"\\n    if not pages_settings.PAGE_CONTENT_REVISION:\\n      ...</td>\n",
       "    </tr>\n",
       "    <tr>\n",
       "      <th>1</th>\n",
       "      <td>CodeSearchNet_challenge_dataset/python/final/jsonl/train/python_train_8.py</td>\n",
       "      <td>def public(self):\\n    \"\"\"True if the Slot is public.\"\"\"\\n    return bool(lib.EnvSlotPublicP(self._env, self._cls, self._name))\\n\\n\\ndef initializable(self):\\n    \"\"\"True if the Slot is initializable.\"\"\"\\n    return bool(lib.EnvSlotInitableP(self._env, self._cls, self._name))\\n\\n\\ndef writable(self):\\n    \"\"\"True if the Slot is writable.\"\"\"\\n    return bool(lib.EnvSlotWritableP(self._env, self._cls, self._name))\\n\\n\\ndef accessible(self):\\n    \"\"\"True if the Slot is directly accessible.\"\"\"\\n    return bool(lib.EnvSlotDirectAccessP(self._env, self._cls, self._name))\\n\\n\\ndef types(self):\\n ...</td>\n",
       "    </tr>\n",
       "    <tr>\n",
       "      <th>2</th>\n",
       "      <td>CodeSearchNet_challenge_dataset/python/final/jsonl/train/python_train_1.py</td>\n",
       "      <td>def zmq_device(self):\\n    '''\\n    Multiprocessing target for the zmq queue device\\n    '''\\n    self.__setup_signals()\\n    salt.utils.process.appendproctitle('MWorkerQueue')\\n    self.context = zmq.Context(self.opts['worker_threads'])\\n    # Prepare the zeromq sockets\\n    self.uri = 'tcp://{interface}:{ret_port}'.format(**self.opts)\\n    self.clients = self.context.socket(zmq.ROUTER)\\n    if self.opts['ipv6'] is True and hasattr(zmq, 'IPV4ONLY'):\\n        # IPv6 sockets work for both IPv6 and IPv4 addresses\\n        self.clients.setsockopt(zmq.IPV4ONLY, 0)\\n    self.clients.setsockopt(...</td>\n",
       "    </tr>\n",
       "    <tr>\n",
       "      <th>3</th>\n",
       "      <td>CodeSearchNet_challenge_dataset/python/final/jsonl/train/python_train_13.py</td>\n",
       "      <td>def get_datetime_sorted_rows(dbconn, table_name, uuid=None, column=None):\\n    \"\"\"\\n    Get a list of datetime sorted rows from a table in the database\\n    :param dbconn: database connection\\n    :param table_name: name of table in the database\\n    :param uuid: optional uuid to pull from\\n    :param column: optional column/field in the table to pull instead of rows\\n    :returns: a list of tuples containing (datetime, row) pairs or (datetime, column) pairs if columns is specified.\\n    \"\"\"\\n    rows = get_rows(dbconn, table_name, uuid=uuid)\\n    data = []\\n    for r in rows:\\n        dt ...</td>\n",
       "    </tr>\n",
       "    <tr>\n",
       "      <th>4</th>\n",
       "      <td>CodeSearchNet_challenge_dataset/python/final/jsonl/train/python_train_5.py</td>\n",
       "      <td>def export_ruptures_csv(ekey, dstore):\\n    \"\"\"\\n    :param ekey: export key, i.e. a pair (datastore key, fmt)\\n    :param dstore: datastore object\\n    \"\"\"\\n    oq = dstore['oqparam']\\n    if 'scenario' in oq.calculation_mode:\\n        return []\\n    dest = dstore.export_path('ruptures.csv')\\n    header = ('rupid multiplicity mag centroid_lon centroid_lat '\\n              'centroid_depth trt strike dip rake boundary').split()\\n    rows = []\\n    for rgetter in gen_rupture_getters(dstore):\\n        rups = rgetter.get_ruptures()\\n        rup_data = calc.RuptureData(rgetter.trt, rgetter.rlzs...</td>\n",
       "    </tr>\n",
       "  </tbody>\n",
       "</table>\n",
       "</div>"
      ],
      "text/plain": [
       "                                                                      filename  \\\n",
       "0  CodeSearchNet_challenge_dataset/python/final/jsonl/train/python_train_11.py   \n",
       "1   CodeSearchNet_challenge_dataset/python/final/jsonl/train/python_train_8.py   \n",
       "2   CodeSearchNet_challenge_dataset/python/final/jsonl/train/python_train_1.py   \n",
       "3  CodeSearchNet_challenge_dataset/python/final/jsonl/train/python_train_13.py   \n",
       "4   CodeSearchNet_challenge_dataset/python/final/jsonl/train/python_train_5.py   \n",
       "\n",
       "                                                                                                                                                                                                                                                                                                                                                                                                                                                                                                                                                                                                                      text  \n",
       "0  def show_slug_with_level(context, page, lang=None, fallback=True):\\n    \"\"\"Display slug with level by language.\"\"\"\\n    if not lang:\\n        lang = context.get('lang', pages_settings.PAGE_DEFAULT_LANGUAGE)\\n\\n    page = get_page_from_string_or_id(page, lang)\\n    if not page:\\n        return ''\\n\\n    return {'content': page.slug_with_level(lang)}\\n\\n\\ndef show_revisions(context, page, content_type, lang=None):\\n    \"\"\"Render the last 10 revisions of a page content with a list using\\n        the ``pages/revisions.html`` template\"\"\"\\n    if not pages_settings.PAGE_CONTENT_REVISION:\\n      ...  \n",
       "1  def public(self):\\n    \"\"\"True if the Slot is public.\"\"\"\\n    return bool(lib.EnvSlotPublicP(self._env, self._cls, self._name))\\n\\n\\ndef initializable(self):\\n    \"\"\"True if the Slot is initializable.\"\"\"\\n    return bool(lib.EnvSlotInitableP(self._env, self._cls, self._name))\\n\\n\\ndef writable(self):\\n    \"\"\"True if the Slot is writable.\"\"\"\\n    return bool(lib.EnvSlotWritableP(self._env, self._cls, self._name))\\n\\n\\ndef accessible(self):\\n    \"\"\"True if the Slot is directly accessible.\"\"\"\\n    return bool(lib.EnvSlotDirectAccessP(self._env, self._cls, self._name))\\n\\n\\ndef types(self):\\n ...  \n",
       "2  def zmq_device(self):\\n    '''\\n    Multiprocessing target for the zmq queue device\\n    '''\\n    self.__setup_signals()\\n    salt.utils.process.appendproctitle('MWorkerQueue')\\n    self.context = zmq.Context(self.opts['worker_threads'])\\n    # Prepare the zeromq sockets\\n    self.uri = 'tcp://{interface}:{ret_port}'.format(**self.opts)\\n    self.clients = self.context.socket(zmq.ROUTER)\\n    if self.opts['ipv6'] is True and hasattr(zmq, 'IPV4ONLY'):\\n        # IPv6 sockets work for both IPv6 and IPv4 addresses\\n        self.clients.setsockopt(zmq.IPV4ONLY, 0)\\n    self.clients.setsockopt(...  \n",
       "3  def get_datetime_sorted_rows(dbconn, table_name, uuid=None, column=None):\\n    \"\"\"\\n    Get a list of datetime sorted rows from a table in the database\\n    :param dbconn: database connection\\n    :param table_name: name of table in the database\\n    :param uuid: optional uuid to pull from\\n    :param column: optional column/field in the table to pull instead of rows\\n    :returns: a list of tuples containing (datetime, row) pairs or (datetime, column) pairs if columns is specified.\\n    \"\"\"\\n    rows = get_rows(dbconn, table_name, uuid=uuid)\\n    data = []\\n    for r in rows:\\n        dt ...  \n",
       "4  def export_ruptures_csv(ekey, dstore):\\n    \"\"\"\\n    :param ekey: export key, i.e. a pair (datastore key, fmt)\\n    :param dstore: datastore object\\n    \"\"\"\\n    oq = dstore['oqparam']\\n    if 'scenario' in oq.calculation_mode:\\n        return []\\n    dest = dstore.export_path('ruptures.csv')\\n    header = ('rupid multiplicity mag centroid_lon centroid_lat '\\n              'centroid_depth trt strike dip rake boundary').split()\\n    rows = []\\n    for rgetter in gen_rupture_getters(dstore):\\n        rups = rgetter.get_ruptures()\\n        rup_data = calc.RuptureData(rgetter.trt, rgetter.rlzs...  "
      ]
     },
     "execution_count": 14,
     "metadata": {},
     "output_type": "execute_result"
    }
   ],
   "source": [
    "df_train = pd.read_csv(train_csv_path)\n",
    "df_valid = pd.read_csv(test_csv_path)\n",
    "df_train.head()"
   ]
  },
  {
   "cell_type": "code",
   "execution_count": 15,
   "metadata": {
    "scrolled": false
   },
   "outputs": [
    {
     "data": {
      "text/html": [
       "<div>\n",
       "<style scoped>\n",
       "    .dataframe tbody tr th:only-of-type {\n",
       "        vertical-align: middle;\n",
       "    }\n",
       "\n",
       "    .dataframe tbody tr th {\n",
       "        vertical-align: top;\n",
       "    }\n",
       "\n",
       "    .dataframe thead th {\n",
       "        text-align: right;\n",
       "    }\n",
       "</style>\n",
       "<table border=\"1\" class=\"dataframe\">\n",
       "  <thead>\n",
       "    <tr style=\"text-align: right;\">\n",
       "      <th></th>\n",
       "      <th>text</th>\n",
       "    </tr>\n",
       "  </thead>\n",
       "  <tbody>\n",
       "    <tr>\n",
       "      <th>0</th>\n",
       "      <td>def show_slug_with_level(context, page, lang=None, fallback=True):\\n    \"\"\"Display slug with level by language.\"\"\"\\n    if not lang:\\n        lang = context.get('lang', pages_settings.PAGE_DEFAULT_LANGUAGE)\\n\\n    page = get_page_from_string_or_id(page, lang)\\n    if not page:\\n        return ''\\n\\n    return {'content': page.slug_with_level(lang)}\\n\\n\\ndef show_revisions(context, page, content_type, lang=None):\\n    \"\"\"Render the last 10 revisions of a page content with a list using\\n        the ``pages/revisions.html`` template\"\"\"\\n    if not pages_settings.PAGE_CONTENT_REVISION:\\n      ...</td>\n",
       "    </tr>\n",
       "    <tr>\n",
       "      <th>1</th>\n",
       "      <td>def public(self):\\n    \"\"\"True if the Slot is public.\"\"\"\\n    return bool(lib.EnvSlotPublicP(self._env, self._cls, self._name))\\n\\n\\ndef initializable(self):\\n    \"\"\"True if the Slot is initializable.\"\"\"\\n    return bool(lib.EnvSlotInitableP(self._env, self._cls, self._name))\\n\\n\\ndef writable(self):\\n    \"\"\"True if the Slot is writable.\"\"\"\\n    return bool(lib.EnvSlotWritableP(self._env, self._cls, self._name))\\n\\n\\ndef accessible(self):\\n    \"\"\"True if the Slot is directly accessible.\"\"\"\\n    return bool(lib.EnvSlotDirectAccessP(self._env, self._cls, self._name))\\n\\n\\ndef types(self):\\n ...</td>\n",
       "    </tr>\n",
       "    <tr>\n",
       "      <th>2</th>\n",
       "      <td>def zmq_device(self):\\n    '''\\n    Multiprocessing target for the zmq queue device\\n    '''\\n    self.__setup_signals()\\n    salt.utils.process.appendproctitle('MWorkerQueue')\\n    self.context = zmq.Context(self.opts['worker_threads'])\\n    # Prepare the zeromq sockets\\n    self.uri = 'tcp://{interface}:{ret_port}'.format(**self.opts)\\n    self.clients = self.context.socket(zmq.ROUTER)\\n    if self.opts['ipv6'] is True and hasattr(zmq, 'IPV4ONLY'):\\n        # IPv6 sockets work for both IPv6 and IPv4 addresses\\n        self.clients.setsockopt(zmq.IPV4ONLY, 0)\\n    self.clients.setsockopt(...</td>\n",
       "    </tr>\n",
       "    <tr>\n",
       "      <th>3</th>\n",
       "      <td>def get_datetime_sorted_rows(dbconn, table_name, uuid=None, column=None):\\n    \"\"\"\\n    Get a list of datetime sorted rows from a table in the database\\n    :param dbconn: database connection\\n    :param table_name: name of table in the database\\n    :param uuid: optional uuid to pull from\\n    :param column: optional column/field in the table to pull instead of rows\\n    :returns: a list of tuples containing (datetime, row) pairs or (datetime, column) pairs if columns is specified.\\n    \"\"\"\\n    rows = get_rows(dbconn, table_name, uuid=uuid)\\n    data = []\\n    for r in rows:\\n        dt ...</td>\n",
       "    </tr>\n",
       "    <tr>\n",
       "      <th>4</th>\n",
       "      <td>def export_ruptures_csv(ekey, dstore):\\n    \"\"\"\\n    :param ekey: export key, i.e. a pair (datastore key, fmt)\\n    :param dstore: datastore object\\n    \"\"\"\\n    oq = dstore['oqparam']\\n    if 'scenario' in oq.calculation_mode:\\n        return []\\n    dest = dstore.export_path('ruptures.csv')\\n    header = ('rupid multiplicity mag centroid_lon centroid_lat '\\n              'centroid_depth trt strike dip rake boundary').split()\\n    rows = []\\n    for rgetter in gen_rupture_getters(dstore):\\n        rups = rgetter.get_ruptures()\\n        rup_data = calc.RuptureData(rgetter.trt, rgetter.rlzs...</td>\n",
       "    </tr>\n",
       "  </tbody>\n",
       "</table>\n",
       "</div>"
      ],
      "text/plain": [
       "                                                                                                                                                                                                                                                                                                                                                                                                                                                                                                                                                                                                                      text\n",
       "0  def show_slug_with_level(context, page, lang=None, fallback=True):\\n    \"\"\"Display slug with level by language.\"\"\"\\n    if not lang:\\n        lang = context.get('lang', pages_settings.PAGE_DEFAULT_LANGUAGE)\\n\\n    page = get_page_from_string_or_id(page, lang)\\n    if not page:\\n        return ''\\n\\n    return {'content': page.slug_with_level(lang)}\\n\\n\\ndef show_revisions(context, page, content_type, lang=None):\\n    \"\"\"Render the last 10 revisions of a page content with a list using\\n        the ``pages/revisions.html`` template\"\"\"\\n    if not pages_settings.PAGE_CONTENT_REVISION:\\n      ...\n",
       "1  def public(self):\\n    \"\"\"True if the Slot is public.\"\"\"\\n    return bool(lib.EnvSlotPublicP(self._env, self._cls, self._name))\\n\\n\\ndef initializable(self):\\n    \"\"\"True if the Slot is initializable.\"\"\"\\n    return bool(lib.EnvSlotInitableP(self._env, self._cls, self._name))\\n\\n\\ndef writable(self):\\n    \"\"\"True if the Slot is writable.\"\"\"\\n    return bool(lib.EnvSlotWritableP(self._env, self._cls, self._name))\\n\\n\\ndef accessible(self):\\n    \"\"\"True if the Slot is directly accessible.\"\"\"\\n    return bool(lib.EnvSlotDirectAccessP(self._env, self._cls, self._name))\\n\\n\\ndef types(self):\\n ...\n",
       "2  def zmq_device(self):\\n    '''\\n    Multiprocessing target for the zmq queue device\\n    '''\\n    self.__setup_signals()\\n    salt.utils.process.appendproctitle('MWorkerQueue')\\n    self.context = zmq.Context(self.opts['worker_threads'])\\n    # Prepare the zeromq sockets\\n    self.uri = 'tcp://{interface}:{ret_port}'.format(**self.opts)\\n    self.clients = self.context.socket(zmq.ROUTER)\\n    if self.opts['ipv6'] is True and hasattr(zmq, 'IPV4ONLY'):\\n        # IPv6 sockets work for both IPv6 and IPv4 addresses\\n        self.clients.setsockopt(zmq.IPV4ONLY, 0)\\n    self.clients.setsockopt(...\n",
       "3  def get_datetime_sorted_rows(dbconn, table_name, uuid=None, column=None):\\n    \"\"\"\\n    Get a list of datetime sorted rows from a table in the database\\n    :param dbconn: database connection\\n    :param table_name: name of table in the database\\n    :param uuid: optional uuid to pull from\\n    :param column: optional column/field in the table to pull instead of rows\\n    :returns: a list of tuples containing (datetime, row) pairs or (datetime, column) pairs if columns is specified.\\n    \"\"\"\\n    rows = get_rows(dbconn, table_name, uuid=uuid)\\n    data = []\\n    for r in rows:\\n        dt ...\n",
       "4  def export_ruptures_csv(ekey, dstore):\\n    \"\"\"\\n    :param ekey: export key, i.e. a pair (datastore key, fmt)\\n    :param dstore: datastore object\\n    \"\"\"\\n    oq = dstore['oqparam']\\n    if 'scenario' in oq.calculation_mode:\\n        return []\\n    dest = dstore.export_path('ruptures.csv')\\n    header = ('rupid multiplicity mag centroid_lon centroid_lat '\\n              'centroid_depth trt strike dip rake boundary').split()\\n    rows = []\\n    for rgetter in gen_rupture_getters(dstore):\\n        rups = rgetter.get_ruptures()\\n        rup_data = calc.RuptureData(rgetter.trt, rgetter.rlzs..."
      ]
     },
     "metadata": {},
     "output_type": "display_data"
    },
    {
     "data": {
      "text/html": [
       "<div>\n",
       "<style scoped>\n",
       "    .dataframe tbody tr th:only-of-type {\n",
       "        vertical-align: middle;\n",
       "    }\n",
       "\n",
       "    .dataframe tbody tr th {\n",
       "        vertical-align: top;\n",
       "    }\n",
       "\n",
       "    .dataframe thead th {\n",
       "        text-align: right;\n",
       "    }\n",
       "</style>\n",
       "<table border=\"1\" class=\"dataframe\">\n",
       "  <thead>\n",
       "    <tr style=\"text-align: right;\">\n",
       "      <th></th>\n",
       "      <th>text</th>\n",
       "    </tr>\n",
       "  </thead>\n",
       "  <tbody>\n",
       "    <tr>\n",
       "      <th>0</th>\n",
       "      <td>def get_vid_from_url(url):\\n    \"\"\"Extracts video ID from URL.\\n    \"\"\"\\n    return match1(url, r'youtu\\.be/([^?/]+)') or \\\\n        match1(url, r'youtube\\.com/embed/([^/?]+)') or \\\\n        match1(url, r'youtube\\.com/v/([^/?]+)') or \\\\n        match1(url, r'youtube\\.com/watch/([^/?]+)') or \\\\n        parse_query_param(url, 'v') or \\\\n        parse_query_param(parse_query_param(url, 'u'), 'v')\\n\\n\\ndef sina_xml_to_url_list(xml_data):\\n    \"\"\"str-&gt;list\\n    Convert XML to URL List.\\n    From Biligrab.\\n    \"\"\"\\n    rawurl = []\\n    dom = parseString(xml_data)\\n    for node in dom.getElement...</td>\n",
       "    </tr>\n",
       "  </tbody>\n",
       "</table>\n",
       "</div>"
      ],
      "text/plain": [
       "                                                                                                                                                                                                                                                                                                                                                                                                                                                                                                                                                                                                                      text\n",
       "0  def get_vid_from_url(url):\\n    \"\"\"Extracts video ID from URL.\\n    \"\"\"\\n    return match1(url, r'youtu\\.be/([^?/]+)') or \\\\n        match1(url, r'youtube\\.com/embed/([^/?]+)') or \\\\n        match1(url, r'youtube\\.com/v/([^/?]+)') or \\\\n        match1(url, r'youtube\\.com/watch/([^/?]+)') or \\\\n        parse_query_param(url, 'v') or \\\\n        parse_query_param(parse_query_param(url, 'u'), 'v')\\n\\n\\ndef sina_xml_to_url_list(xml_data):\\n    \"\"\"str->list\\n    Convert XML to URL List.\\n    From Biligrab.\\n    \"\"\"\\n    rawurl = []\\n    dom = parseString(xml_data)\\n    for node in dom.getElement..."
      ]
     },
     "metadata": {},
     "output_type": "display_data"
    }
   ],
   "source": [
    "df_train = df_train[[\"text\"]]\n",
    "df_valid = df_valid[[\"text\"]]\n",
    "\n",
    "display(df_train.head())\n",
    "display(df_valid.head())"
   ]
  },
  {
   "cell_type": "code",
   "execution_count": 16,
   "metadata": {},
   "outputs": [],
   "source": [
    "all_texts = np.concatenate([df_train[\"text\"].values, df_valid[\"text\"].values])"
   ]
  },
  {
   "cell_type": "code",
   "execution_count": 17,
   "metadata": {},
   "outputs": [],
   "source": [
    "class TransformersTokenizer(Transform):\n",
    "    def __init__(self, tokenizer): self.tokenizer = tokenizer\n",
    "    def encodes(self, x): \n",
    "        toks = self.tokenizer.tokenize(x)\n",
    "        return tensor(self.tokenizer.convert_tokens_to_ids(toks))\n",
    "    def decodes(self, x): return TitledStr(self.tokenizer.decode(x.cpu().numpy()))"
   ]
  },
  {
   "cell_type": "code",
   "execution_count": 18,
   "metadata": {},
   "outputs": [],
   "source": [
    "splits = [list(range_of(df_train)), list(range(len(df_train), len(all_texts)))]\n",
    "tls = TfmdLists(all_texts, TransformersTokenizer(tokenizer), splits=splits, dl_type=LMDataLoader)"
   ]
  },
  {
   "cell_type": "code",
   "execution_count": 19,
   "metadata": {},
   "outputs": [
    {
     "data": {
      "text/plain": [
       "(tensor([19353,  1437,   168,  ...,  8702,  1403,   114]),\n",
       " tensor([19353,  1243,   168,  ...,   168,  4267,  5822]))"
      ]
     },
     "execution_count": 19,
     "metadata": {},
     "output_type": "execute_result"
    }
   ],
   "source": [
    "tls.train[0],tls.valid[0]"
   ]
  },
  {
   "cell_type": "code",
   "execution_count": 20,
   "metadata": {},
   "outputs": [
    {
     "data": {
      "text/plain": [
       "(torch.Size([8333005]), torch.Size([6819279]))"
      ]
     },
     "execution_count": 20,
     "metadata": {},
     "output_type": "execute_result"
    }
   ],
   "source": [
    "tls.tfms(tls.train.items[0]).shape, tls.tfms(tls.valid.items[0]).shape"
   ]
  },
  {
   "cell_type": "code",
   "execution_count": 21,
   "metadata": {
    "scrolled": false
   },
   "outputs": [
    {
     "name": "stderr",
     "output_type": "stream",
     "text": [
      "IOPub data rate exceeded.\n",
      "The notebook server will temporarily stop sending output\n",
      "to the client in order to avoid crashing it.\n",
      "To change this limit, set the config variable\n",
      "`--NotebookApp.iopub_data_rate_limit`.\n",
      "\n",
      "Current values:\n",
      "NotebookApp.iopub_data_rate_limit=1000000.0 (bytes/sec)\n",
      "NotebookApp.rate_limit_window=3.0 (secs)\n",
      "\n"
     ]
    }
   ],
   "source": [
    "show_at(tls.train, 0)"
   ]
  },
  {
   "cell_type": "code",
   "execution_count": 22,
   "metadata": {},
   "outputs": [
    {
     "name": "stderr",
     "output_type": "stream",
     "text": [
      "IOPub data rate exceeded.\n",
      "The notebook server will temporarily stop sending output\n",
      "to the client in order to avoid crashing it.\n",
      "To change this limit, set the config variable\n",
      "`--NotebookApp.iopub_data_rate_limit`.\n",
      "\n",
      "Current values:\n",
      "NotebookApp.iopub_data_rate_limit=1000000.0 (bytes/sec)\n",
      "NotebookApp.rate_limit_window=3.0 (secs)\n",
      "\n"
     ]
    }
   ],
   "source": [
    "show_at(tls.valid, 0)"
   ]
  },
  {
   "cell_type": "code",
   "execution_count": 23,
   "metadata": {},
   "outputs": [],
   "source": [
    "bs,sl = 16,512\n",
    "dls = tls.dataloaders(bs=bs, seq_len=sl)"
   ]
  },
  {
   "cell_type": "code",
   "execution_count": 24,
   "metadata": {},
   "outputs": [
    {
     "data": {
      "text/html": [
       "<table border=\"1\" class=\"dataframe\">\n",
       "  <thead>\n",
       "    <tr style=\"text-align: right;\">\n",
       "      <th></th>\n",
       "      <th>text</th>\n",
       "      <th>text_</th>\n",
       "    </tr>\n",
       "  </thead>\n",
       "  <tbody>\n",
       "    <tr>\n",
       "      <th>0</th>\n",
       "      <td>def show _ clock _ output _ clock _ time _ timezone ( self, * * kwargs ) : \" \" \" Auto Generated Code \" \" \" config = ET. Element ( \" config \" ) show _ clock = ET. Element ( \" show _ clock \" ) config = show _ clock output = ET. SubElement ( show _ clock, \" output \" ) clock _ time = ET. SubElement ( output, \" clock - time \" ) timezone = ET. SubElement ( clock _ time, \" timezone \" ) timezone. text = kwargs. pop ('timezone') callback = kwargs. pop ('callback ', self. _ callback ) return callback ( config ) def get _ system _ uptime _ input _ rbridge _ id ( self, * * kwargs ) : \" \" \" Auto Generated Code \" \" \" config = ET. Element ( \" config \"</td>\n",
       "      <td>show _ clock _ output _ clock _ time _ timezone ( self, * * kwargs ) : \" \" \" Auto Generated Code \" \" \" config = ET. Element ( \" config \" ) show _ clock = ET. Element ( \" show _ clock \" ) config = show _ clock output = ET. SubElement ( show _ clock, \" output \" ) clock _ time = ET. SubElement ( output, \" clock - time \" ) timezone = ET. SubElement ( clock _ time, \" timezone \" ) timezone. text = kwargs. pop ('timezone') callback = kwargs. pop ('callback ', self. _ callback ) return callback ( config ) def get _ system _ uptime _ input _ rbridge _ id ( self, * * kwargs ) : \" \" \" Auto Generated Code \" \" \" config = ET. Element ( \" config \" )</td>\n",
       "    </tr>\n",
       "    <tr>\n",
       "      <th>1</th>\n",
       "      <td>] ) def get _ socket ( self ) : \" \" \" Create listener socket based on bottle server parameters. \" \" \" import eventlet # Separate out socket. listen arguments socket _ args = { } for arg in ('backlog ','family') : try : socket _ args [ arg ] = self. options. pop ( arg ) except KeyError : pass # Separate out wrap _ ssl arguments ssl _ args = { } for arg in ('keyfile ','certfile ','server _ side ','cert _ reqs ','ssl _ version ','ca _ certs ','do _ handshake _ on _ connect ','suppress _ ragged _ eofs ','ciphers') : try : ssl _ args [ arg ] = self. options. pop ( arg ) except KeyError : pass address = ( self. host, self. port ) try : sock = eventlet. listen ( address, * * socket _ args ) except TypeError</td>\n",
       "      <td>) def get _ socket ( self ) : \" \" \" Create listener socket based on bottle server parameters. \" \" \" import eventlet # Separate out socket. listen arguments socket _ args = { } for arg in ('backlog ','family') : try : socket _ args [ arg ] = self. options. pop ( arg ) except KeyError : pass # Separate out wrap _ ssl arguments ssl _ args = { } for arg in ('keyfile ','certfile ','server _ side ','cert _ reqs ','ssl _ version ','ca _ certs ','do _ handshake _ on _ connect ','suppress _ ragged _ eofs ','ciphers') : try : ssl _ args [ arg ] = self. options. pop ( arg ) except KeyError : pass address = ( self. host, self. port ) try : sock = eventlet. listen ( address, * * socket _ args ) except TypeError :</td>\n",
       "    </tr>\n",
       "    <tr>\n",
       "      <th>2</th>\n",
       "      <td>: \" \" \" [UNK] [UNK] [UNK] \" \" \" # try : self. fenum. write ('\\ n') self. fcpp = open ( os. path. join ( os. path. abspath ( self. ctp _ dir ),'ThostFtdcUserApiDataType. h'),'r') for idx, line in enumerate ( self. fcpp ) : l = self. process _ line ( idx, line ) self. f _ data _ type. write ( l ) self. fcpp. close ( ) self. f _ data _ type. close ( ) self. fenum. close ( ) print ('ctp _ data _ type. py 生 [UNK] [UNK] [UNK] [UNK] [UNK]') def run ( self ) : \" \" \" [UNK] [UNK] [UNK] \" \" \" fcpp = open ( os. path. join ( os. path. abspath ( self. ctp _ dir ),'ThostFtdcUserApiStruct. h'),'r') fpy = open ( os. path. join ( self. out _ path,'ctp _ struct. cs'),'w ', encoding ='utf</td>\n",
       "      <td>\" \" \" [UNK] [UNK] [UNK] \" \" \" # try : self. fenum. write ('\\ n') self. fcpp = open ( os. path. join ( os. path. abspath ( self. ctp _ dir ),'ThostFtdcUserApiDataType. h'),'r') for idx, line in enumerate ( self. fcpp ) : l = self. process _ line ( idx, line ) self. f _ data _ type. write ( l ) self. fcpp. close ( ) self. f _ data _ type. close ( ) self. fenum. close ( ) print ('ctp _ data _ type. py 生 [UNK] [UNK] [UNK] [UNK] [UNK]') def run ( self ) : \" \" \" [UNK] [UNK] [UNK] \" \" \" fcpp = open ( os. path. join ( os. path. abspath ( self. ctp _ dir ),'ThostFtdcUserApiStruct. h'),'r') fpy = open ( os. path. join ( self. out _ path,'ctp _ struct. cs'),'w ', encoding ='utf -</td>\n",
       "    </tr>\n",
       "    <tr>\n",
       "      <th>3</th>\n",
       "      <td>##rs ( self, dataset ) :'''int crs ; / /.......................................................... RECOMMENDED - A container variable storing information about the grid _ mapping. All the attributes within a grid _ mapping variable are described in http : / / cf - pcmdi. llnl. gov / documents / cf - conventions / 1. 6 / cf - conventions. html # appendix - grid - mappings. For all the measurements based on WSG84, the default coordinate system used for GPS measurements, the values shown here should be used. crs : grid _ mapping _ name = \" latitude _ longitude \" ; / /............. RECOMMENDED crs : epsg _ code = \" EPSG : 4326 \" ; / /............................. RECOMMENDED - European Petroleum Survey Group code for the grid mapping name. crs : semi _ major _ axis = 6378137. 0 ; / /......................... RECOMMENDED crs : inverse _ flattening = 298. 257223563</td>\n",
       "      <td>( self, dataset ) :'''int crs ; / /.......................................................... RECOMMENDED - A container variable storing information about the grid _ mapping. All the attributes within a grid _ mapping variable are described in http : / / cf - pcmdi. llnl. gov / documents / cf - conventions / 1. 6 / cf - conventions. html # appendix - grid - mappings. For all the measurements based on WSG84, the default coordinate system used for GPS measurements, the values shown here should be used. crs : grid _ mapping _ name = \" latitude _ longitude \" ; / /............. RECOMMENDED crs : epsg _ code = \" EPSG : 4326 \" ; / /............................. RECOMMENDED - European Petroleum Survey Group code for the grid mapping name. crs : semi _ major _ axis = 6378137. 0 ; / /......................... RECOMMENDED crs : inverse _ flattening = 298. 257223563 ;</td>\n",
       "    </tr>\n",
       "    <tr>\n",
       "      <th>4</th>\n",
       "      <td># Already completed task already _ in _ db = True else : # If worker has not accepted the hit worker _ id = None try : part = Participant. query. \\ filter ( Participant. hitid = = hit _ id ). \\ filter ( Participant. assignmentid = = assignment _ id ). \\ filter ( Participant. workerid = = worker _ id ). \\ one ( ) status = part. status except exc. SQLAlchemyError : status = None allow _ repeats = CONFIG. getboolean ('HIT Configuration ','allow _ repeats') if ( status = = STARTED or status = = QUITEARLY ) and not debug _ mode : # Once participants have finished the instructions, we don't allow # them to start the task again. raise ExperimentError ('already _ started _ exp _ mturk') elif status = = COMPLETED or ( status = = SUBMITTED and not already _</td>\n",
       "      <td>Already completed task already _ in _ db = True else : # If worker has not accepted the hit worker _ id = None try : part = Participant. query. \\ filter ( Participant. hitid = = hit _ id ). \\ filter ( Participant. assignmentid = = assignment _ id ). \\ filter ( Participant. workerid = = worker _ id ). \\ one ( ) status = part. status except exc. SQLAlchemyError : status = None allow _ repeats = CONFIG. getboolean ('HIT Configuration ','allow _ repeats') if ( status = = STARTED or status = = QUITEARLY ) and not debug _ mode : # Once participants have finished the instructions, we don't allow # them to start the task again. raise ExperimentError ('already _ started _ exp _ mturk') elif status = = COMPLETED or ( status = = SUBMITTED and not already _ in</td>\n",
       "    </tr>\n",
       "  </tbody>\n",
       "</table>"
      ],
      "text/plain": [
       "<IPython.core.display.HTML object>"
      ]
     },
     "metadata": {},
     "output_type": "display_data"
    }
   ],
   "source": [
    "dls.show_batch(max_n=5)"
   ]
  },
  {
   "cell_type": "code",
   "execution_count": 25,
   "metadata": {},
   "outputs": [
    {
     "data": {
      "text/html": [
       "\n",
       "    <div>\n",
       "        <style>\n",
       "            /* Turns off some styling */\n",
       "            progress {\n",
       "                /* gets rid of default border in Firefox and Opera. */\n",
       "                border: none;\n",
       "                /* Needs to be in here for Safari polyfill so background images work as expected. */\n",
       "                background-size: auto;\n",
       "            }\n",
       "            .progress-bar-interrupted, .progress-bar-interrupted::-webkit-progress-bar {\n",
       "                background: #F44336;\n",
       "            }\n",
       "        </style>\n",
       "      <progress value='15' class='' max='15', style='width:300px; height:20px; vertical-align: middle;'></progress>\n",
       "      100.00% [15/15 06:23<00:00]\n",
       "    </div>\n",
       "    "
      ],
      "text/plain": [
       "<IPython.core.display.HTML object>"
      ]
     },
     "metadata": {},
     "output_type": "display_data"
    }
   ],
   "source": [
    "def tokenize(text):\n",
    "    toks = tokenizer.tokenize(text)\n",
    "    return tensor(tokenizer.convert_tokens_to_ids(toks))\n",
    "\n",
    "tokenized = [tokenize(t) for t in progress_bar(all_texts)]"
   ]
  },
  {
   "cell_type": "code",
   "execution_count": 26,
   "metadata": {},
   "outputs": [],
   "source": [
    "class TransformersTokenizer(Transform):\n",
    "    def __init__(self, tokenizer): self.tokenizer = tokenizer\n",
    "    def encodes(self, x): \n",
    "        return x if isinstance(x, Tensor) else tokenize(x)\n",
    "        \n",
    "    def decodes(self, x): return TitledStr(self.tokenizer.decode(x.cpu().numpy()))"
   ]
  },
  {
   "cell_type": "code",
   "execution_count": 27,
   "metadata": {},
   "outputs": [],
   "source": [
    "tls = TfmdLists(tokenized, TransformersTokenizer(tokenizer), splits=splits, dl_type=LMDataLoader)\n",
    "dls = tls.dataloaders(bs=bs, seq_len=sl)"
   ]
  },
  {
   "cell_type": "code",
   "execution_count": 28,
   "metadata": {},
   "outputs": [
    {
     "data": {
      "text/html": [
       "<table border=\"1\" class=\"dataframe\">\n",
       "  <thead>\n",
       "    <tr style=\"text-align: right;\">\n",
       "      <th></th>\n",
       "      <th>text</th>\n",
       "      <th>text_</th>\n",
       "    </tr>\n",
       "  </thead>\n",
       "  <tbody>\n",
       "    <tr>\n",
       "      <th>0</th>\n",
       "      <td>def write _ map _ file ( mapFNH, items, header ) : \" \" \" Given a list of mapping items ( in the form described by the parse _ mapping _ file method ) and a header line, write each row to the given input file with fields separated by tabs. : type mapFNH : file or str : param mapFNH : Either the full path to the map file or an open file handle : type items : list : param item : The list of row entries to be written to the mapping file : type header : list or str : param header : The descriptive column names that are required as the first line of the mapping file : rtype : None \" \" \" if isinstance ( header, list ) : header = \" \\ t \". join ( header ) + \" \\</td>\n",
       "      <td>write _ map _ file ( mapFNH, items, header ) : \" \" \" Given a list of mapping items ( in the form described by the parse _ mapping _ file method ) and a header line, write each row to the given input file with fields separated by tabs. : type mapFNH : file or str : param mapFNH : Either the full path to the map file or an open file handle : type items : list : param item : The list of row entries to be written to the mapping file : type header : list or str : param header : The descriptive column names that are required as the first line of the mapping file : rtype : None \" \" \" if isinstance ( header, list ) : header = \" \\ t \". join ( header ) + \" \\ n</td>\n",
       "    </tr>\n",
       "    <tr>\n",
       "      <th>1</th>\n",
       "      <td>reverse _ translate [ '.'] if include _ stop and last _ codon not in stop _ codons : codon _ list. append ( stop _ codons [ 0 ] ) return codon _ list def sanitize _ codon _ list ( codon _ list, forbidden _ seqs = ( ) ) : \" \" \" Make silent mutations to the given codon lists to remove any undesirable sequences that are present within it. Undesirable sequences include restriction sites, which may be optionally specified as a second argument, and homopolymers above a pre - defined length. The return value is the number of corrections made to the codon list. \" \" \" # Unit test missing for : # Homopolymer fixing for codon in codon _ list : if len ( codon )! = 3 : raise ValueError ( \" Codons must have exactly 3 bases :'{ }'\". format (</td>\n",
       "      <td>_ translate [ '.'] if include _ stop and last _ codon not in stop _ codons : codon _ list. append ( stop _ codons [ 0 ] ) return codon _ list def sanitize _ codon _ list ( codon _ list, forbidden _ seqs = ( ) ) : \" \" \" Make silent mutations to the given codon lists to remove any undesirable sequences that are present within it. Undesirable sequences include restriction sites, which may be optionally specified as a second argument, and homopolymers above a pre - defined length. The return value is the number of corrections made to the codon list. \" \" \" # Unit test missing for : # Homopolymer fixing for codon in codon _ list : if len ( codon )! = 3 : raise ValueError ( \" Codons must have exactly 3 bases :'{ }'\". format ( codon</td>\n",
       "    </tr>\n",
       "    <tr>\n",
       "      <th>2</th>\n",
       "      <td>index is None : location = getattr ( path _ spec,'location ', None ) if location is None or not location. startswith ('/ vss') : return None store _ index = None try : store _ index = int ( location [ 4 : ], 10 ) - 1 except ( TypeError, ValueError ) : pass if store _ index is None or store _ index &lt; 0 : return None return store _ index def _ GetMemberForOffset ( self, offset ) : \" \" \" Finds the member whose data includes the provided offset. Args : offset ( int ) : offset in the uncompressed data to find the containing member for. Returns : gzipfile. GzipMember : gzip file member or None if not available. Raises : ValueError : if the provided offset is outside of the bounds of the uncompressed data. \" \" \" if offset &lt; 0</td>\n",
       "      <td>is None : location = getattr ( path _ spec,'location ', None ) if location is None or not location. startswith ('/ vss') : return None store _ index = None try : store _ index = int ( location [ 4 : ], 10 ) - 1 except ( TypeError, ValueError ) : pass if store _ index is None or store _ index &lt; 0 : return None return store _ index def _ GetMemberForOffset ( self, offset ) : \" \" \" Finds the member whose data includes the provided offset. Args : offset ( int ) : offset in the uncompressed data to find the containing member for. Returns : gzipfile. GzipMember : gzip file member or None if not available. Raises : ValueError : if the provided offset is outside of the bounds of the uncompressed data. \" \" \" if offset &lt; 0 or</td>\n",
       "    </tr>\n",
       "    <tr>\n",
       "      <th>3</th>\n",
       "      <td>be a dynamic field and in this case, create a copy with the given name and associate it to the instance. \" \" \" try : field = super ( ModelWithDynamicFieldMixin, self ). get _ instance _ field ( field _ name ) except AttributeError : # the \" has _ field \" returned True but getattr raised... we have a # DynamicField dynamic _ field = self. _ get _ dynamic _ field _ for ( field _ name ) # it's a model bound field # we now have an instance bound field dynamic _ field = self. get _ field ( dynamic _ field. name ) field = self. _ add _ dynamic _ field _ to _ instance ( dynamic _ field, field _ name ) return field def _ add _ dynamic _ field _ to _ model ( cls, field, field _ name )</td>\n",
       "      <td>a dynamic field and in this case, create a copy with the given name and associate it to the instance. \" \" \" try : field = super ( ModelWithDynamicFieldMixin, self ). get _ instance _ field ( field _ name ) except AttributeError : # the \" has _ field \" returned True but getattr raised... we have a # DynamicField dynamic _ field = self. _ get _ dynamic _ field _ for ( field _ name ) # it's a model bound field # we now have an instance bound field dynamic _ field = self. get _ field ( dynamic _ field. name ) field = self. _ add _ dynamic _ field _ to _ instance ( dynamic _ field, field _ name ) return field def _ add _ dynamic _ field _ to _ model ( cls, field, field _ name ) :</td>\n",
       "    </tr>\n",
       "    <tr>\n",
       "      <th>4</th>\n",
       "      <td>self. get _ groups _ of _ account _ user _ with _ http _ info ( account _ id, user _ id, * * kwargs ) # noqa : E501 return data def get _ users _ of _ account _ group ( self, account _ id, group _ id, * * kwargs ) : # noqa : E501 \" \" \" Get users of a group. # noqa : E501 An endpoint for listing users of the group with details. * * Example usage : * * ` curl https : / / api. us - east - 1. mbedcloud. com / v3 / accounts / { accountID } / policy - groups / { groupID } / users - H'Authorization : Bearer API _ KEY'` # noqa : E501 This method makes a synchronous HTTP request by default. To make an asynchronous HTTP request, please pass asynchronous</td>\n",
       "      <td>. get _ groups _ of _ account _ user _ with _ http _ info ( account _ id, user _ id, * * kwargs ) # noqa : E501 return data def get _ users _ of _ account _ group ( self, account _ id, group _ id, * * kwargs ) : # noqa : E501 \" \" \" Get users of a group. # noqa : E501 An endpoint for listing users of the group with details. * * Example usage : * * ` curl https : / / api. us - east - 1. mbedcloud. com / v3 / accounts / { accountID } / policy - groups / { groupID } / users - H'Authorization : Bearer API _ KEY'` # noqa : E501 This method makes a synchronous HTTP request by default. To make an asynchronous HTTP request, please pass asynchronous</td>\n",
       "    </tr>\n",
       "  </tbody>\n",
       "</table>"
      ],
      "text/plain": [
       "<IPython.core.display.HTML object>"
      ]
     },
     "metadata": {},
     "output_type": "display_data"
    }
   ],
   "source": [
    "dls.show_batch(max_n=5)"
   ]
  },
  {
   "cell_type": "code",
   "execution_count": 29,
   "metadata": {},
   "outputs": [],
   "source": [
    "class DropOutput(Callback):\n",
    "    def after_pred(self): self.learn.pred = self.pred[0]"
   ]
  },
  {
   "cell_type": "code",
   "execution_count": 30,
   "metadata": {},
   "outputs": [],
   "source": [
    "learn = Learner(dls, model, \n",
    "                loss_func=CrossEntropyLossFlat(), \n",
    "                cbs=[DropOutput,TerminateOnNaNCallback()], \n",
    "                metrics=[Perplexity(),accuracy]\n",
    "               ).to_fp16()"
   ]
  },
  {
   "cell_type": "code",
   "execution_count": 31,
   "metadata": {
    "scrolled": false
   },
   "outputs": [
    {
     "data": {
      "text/html": [],
      "text/plain": [
       "<IPython.core.display.HTML object>"
      ]
     },
     "metadata": {},
     "output_type": "display_data"
    },
    {
     "data": {
      "text/plain": [
       "(#3) [13.44275951385498,688836.6875,0.03746901452541351]"
      ]
     },
     "execution_count": 31,
     "metadata": {},
     "output_type": "execute_result"
    }
   ],
   "source": [
    "learn.validate()"
   ]
  },
  {
   "cell_type": "code",
   "execution_count": 32,
   "metadata": {
    "scrolled": false
   },
   "outputs": [
    {
     "name": "stdout",
     "output_type": "stream",
     "text": [
      "BertForMaskedLM(\n",
      "  (bert): BertModel(\n",
      "    (embeddings): BertEmbeddings(\n",
      "      (word_embeddings): Embedding(28996, 768, padding_idx=0)\n",
      "      (position_embeddings): Embedding(512, 768)\n",
      "      (token_type_embeddings): Embedding(2, 768)\n",
      "      (LayerNorm): LayerNorm((768,), eps=1e-12, elementwise_affine=True)\n",
      "      (dropout): Dropout(p=0.1, inplace=False)\n",
      "    )\n",
      "    (encoder): BertEncoder(\n",
      "      (layer): ModuleList(\n",
      "        (0): BertLayer(\n",
      "          (attention): BertAttention(\n",
      "            (self): BertSelfAttention(\n",
      "              (query): Linear(in_features=768, out_features=768, bias=True)\n",
      "              (key): Linear(in_features=768, out_features=768, bias=True)\n",
      "              (value): Linear(in_features=768, out_features=768, bias=True)\n",
      "              (dropout): Dropout(p=0.1, inplace=False)\n",
      "            )\n",
      "            (output): BertSelfOutput(\n",
      "              (dense): Linear(in_features=768, out_features=768, bias=True)\n",
      "              (LayerNorm): LayerNorm((768,), eps=1e-12, elementwise_affine=True)\n",
      "              (dropout): Dropout(p=0.1, inplace=False)\n",
      "            )\n",
      "          )\n",
      "          (intermediate): BertIntermediate(\n",
      "            (dense): Linear(in_features=768, out_features=3072, bias=True)\n",
      "          )\n",
      "          (output): BertOutput(\n",
      "            (dense): Linear(in_features=3072, out_features=768, bias=True)\n",
      "            (LayerNorm): LayerNorm((768,), eps=1e-12, elementwise_affine=True)\n",
      "            (dropout): Dropout(p=0.1, inplace=False)\n",
      "          )\n",
      "        )\n",
      "        (1): BertLayer(\n",
      "          (attention): BertAttention(\n",
      "            (self): BertSelfAttention(\n",
      "              (query): Linear(in_features=768, out_features=768, bias=True)\n",
      "              (key): Linear(in_features=768, out_features=768, bias=True)\n",
      "              (value): Linear(in_features=768, out_features=768, bias=True)\n",
      "              (dropout): Dropout(p=0.1, inplace=False)\n",
      "            )\n",
      "            (output): BertSelfOutput(\n",
      "              (dense): Linear(in_features=768, out_features=768, bias=True)\n",
      "              (LayerNorm): LayerNorm((768,), eps=1e-12, elementwise_affine=True)\n",
      "              (dropout): Dropout(p=0.1, inplace=False)\n",
      "            )\n",
      "          )\n",
      "          (intermediate): BertIntermediate(\n",
      "            (dense): Linear(in_features=768, out_features=3072, bias=True)\n",
      "          )\n",
      "          (output): BertOutput(\n",
      "            (dense): Linear(in_features=3072, out_features=768, bias=True)\n",
      "            (LayerNorm): LayerNorm((768,), eps=1e-12, elementwise_affine=True)\n",
      "            (dropout): Dropout(p=0.1, inplace=False)\n",
      "          )\n",
      "        )\n",
      "        (2): BertLayer(\n",
      "          (attention): BertAttention(\n",
      "            (self): BertSelfAttention(\n",
      "              (query): Linear(in_features=768, out_features=768, bias=True)\n",
      "              (key): Linear(in_features=768, out_features=768, bias=True)\n",
      "              (value): Linear(in_features=768, out_features=768, bias=True)\n",
      "              (dropout): Dropout(p=0.1, inplace=False)\n",
      "            )\n",
      "            (output): BertSelfOutput(\n",
      "              (dense): Linear(in_features=768, out_features=768, bias=True)\n",
      "              (LayerNorm): LayerNorm((768,), eps=1e-12, elementwise_affine=True)\n",
      "              (dropout): Dropout(p=0.1, inplace=False)\n",
      "            )\n",
      "          )\n",
      "          (intermediate): BertIntermediate(\n",
      "            (dense): Linear(in_features=768, out_features=3072, bias=True)\n",
      "          )\n",
      "          (output): BertOutput(\n",
      "            (dense): Linear(in_features=3072, out_features=768, bias=True)\n",
      "            (LayerNorm): LayerNorm((768,), eps=1e-12, elementwise_affine=True)\n",
      "            (dropout): Dropout(p=0.1, inplace=False)\n",
      "          )\n",
      "        )\n",
      "        (3): BertLayer(\n",
      "          (attention): BertAttention(\n",
      "            (self): BertSelfAttention(\n",
      "              (query): Linear(in_features=768, out_features=768, bias=True)\n",
      "              (key): Linear(in_features=768, out_features=768, bias=True)\n",
      "              (value): Linear(in_features=768, out_features=768, bias=True)\n",
      "              (dropout): Dropout(p=0.1, inplace=False)\n",
      "            )\n",
      "            (output): BertSelfOutput(\n",
      "              (dense): Linear(in_features=768, out_features=768, bias=True)\n",
      "              (LayerNorm): LayerNorm((768,), eps=1e-12, elementwise_affine=True)\n",
      "              (dropout): Dropout(p=0.1, inplace=False)\n",
      "            )\n",
      "          )\n",
      "          (intermediate): BertIntermediate(\n",
      "            (dense): Linear(in_features=768, out_features=3072, bias=True)\n",
      "          )\n",
      "          (output): BertOutput(\n",
      "            (dense): Linear(in_features=3072, out_features=768, bias=True)\n",
      "            (LayerNorm): LayerNorm((768,), eps=1e-12, elementwise_affine=True)\n",
      "            (dropout): Dropout(p=0.1, inplace=False)\n",
      "          )\n",
      "        )\n",
      "        (4): BertLayer(\n",
      "          (attention): BertAttention(\n",
      "            (self): BertSelfAttention(\n",
      "              (query): Linear(in_features=768, out_features=768, bias=True)\n",
      "              (key): Linear(in_features=768, out_features=768, bias=True)\n",
      "              (value): Linear(in_features=768, out_features=768, bias=True)\n",
      "              (dropout): Dropout(p=0.1, inplace=False)\n",
      "            )\n",
      "            (output): BertSelfOutput(\n",
      "              (dense): Linear(in_features=768, out_features=768, bias=True)\n",
      "              (LayerNorm): LayerNorm((768,), eps=1e-12, elementwise_affine=True)\n",
      "              (dropout): Dropout(p=0.1, inplace=False)\n",
      "            )\n",
      "          )\n",
      "          (intermediate): BertIntermediate(\n",
      "            (dense): Linear(in_features=768, out_features=3072, bias=True)\n",
      "          )\n",
      "          (output): BertOutput(\n",
      "            (dense): Linear(in_features=3072, out_features=768, bias=True)\n",
      "            (LayerNorm): LayerNorm((768,), eps=1e-12, elementwise_affine=True)\n",
      "            (dropout): Dropout(p=0.1, inplace=False)\n",
      "          )\n",
      "        )\n",
      "        (5): BertLayer(\n",
      "          (attention): BertAttention(\n",
      "            (self): BertSelfAttention(\n",
      "              (query): Linear(in_features=768, out_features=768, bias=True)\n",
      "              (key): Linear(in_features=768, out_features=768, bias=True)\n",
      "              (value): Linear(in_features=768, out_features=768, bias=True)\n",
      "              (dropout): Dropout(p=0.1, inplace=False)\n",
      "            )\n",
      "            (output): BertSelfOutput(\n",
      "              (dense): Linear(in_features=768, out_features=768, bias=True)\n",
      "              (LayerNorm): LayerNorm((768,), eps=1e-12, elementwise_affine=True)\n",
      "              (dropout): Dropout(p=0.1, inplace=False)\n",
      "            )\n",
      "          )\n",
      "          (intermediate): BertIntermediate(\n",
      "            (dense): Linear(in_features=768, out_features=3072, bias=True)\n",
      "          )\n",
      "          (output): BertOutput(\n",
      "            (dense): Linear(in_features=3072, out_features=768, bias=True)\n",
      "            (LayerNorm): LayerNorm((768,), eps=1e-12, elementwise_affine=True)\n",
      "            (dropout): Dropout(p=0.1, inplace=False)\n",
      "          )\n",
      "        )\n",
      "        (6): BertLayer(\n",
      "          (attention): BertAttention(\n",
      "            (self): BertSelfAttention(\n",
      "              (query): Linear(in_features=768, out_features=768, bias=True)\n",
      "              (key): Linear(in_features=768, out_features=768, bias=True)\n",
      "              (value): Linear(in_features=768, out_features=768, bias=True)\n",
      "              (dropout): Dropout(p=0.1, inplace=False)\n",
      "            )\n",
      "            (output): BertSelfOutput(\n",
      "              (dense): Linear(in_features=768, out_features=768, bias=True)\n",
      "              (LayerNorm): LayerNorm((768,), eps=1e-12, elementwise_affine=True)\n",
      "              (dropout): Dropout(p=0.1, inplace=False)\n",
      "            )\n",
      "          )\n",
      "          (intermediate): BertIntermediate(\n",
      "            (dense): Linear(in_features=768, out_features=3072, bias=True)\n",
      "          )\n",
      "          (output): BertOutput(\n",
      "            (dense): Linear(in_features=3072, out_features=768, bias=True)\n",
      "            (LayerNorm): LayerNorm((768,), eps=1e-12, elementwise_affine=True)\n",
      "            (dropout): Dropout(p=0.1, inplace=False)\n",
      "          )\n",
      "        )\n",
      "        (7): BertLayer(\n",
      "          (attention): BertAttention(\n",
      "            (self): BertSelfAttention(\n",
      "              (query): Linear(in_features=768, out_features=768, bias=True)\n",
      "              (key): Linear(in_features=768, out_features=768, bias=True)\n",
      "              (value): Linear(in_features=768, out_features=768, bias=True)\n",
      "              (dropout): Dropout(p=0.1, inplace=False)\n",
      "            )\n",
      "            (output): BertSelfOutput(\n",
      "              (dense): Linear(in_features=768, out_features=768, bias=True)\n",
      "              (LayerNorm): LayerNorm((768,), eps=1e-12, elementwise_affine=True)\n",
      "              (dropout): Dropout(p=0.1, inplace=False)\n",
      "            )\n",
      "          )\n",
      "          (intermediate): BertIntermediate(\n",
      "            (dense): Linear(in_features=768, out_features=3072, bias=True)\n",
      "          )\n",
      "          (output): BertOutput(\n",
      "            (dense): Linear(in_features=3072, out_features=768, bias=True)\n",
      "            (LayerNorm): LayerNorm((768,), eps=1e-12, elementwise_affine=True)\n",
      "            (dropout): Dropout(p=0.1, inplace=False)\n",
      "          )\n",
      "        )\n",
      "        (8): BertLayer(\n",
      "          (attention): BertAttention(\n",
      "            (self): BertSelfAttention(\n",
      "              (query): Linear(in_features=768, out_features=768, bias=True)\n",
      "              (key): Linear(in_features=768, out_features=768, bias=True)\n",
      "              (value): Linear(in_features=768, out_features=768, bias=True)\n",
      "              (dropout): Dropout(p=0.1, inplace=False)\n",
      "            )\n",
      "            (output): BertSelfOutput(\n",
      "              (dense): Linear(in_features=768, out_features=768, bias=True)\n",
      "              (LayerNorm): LayerNorm((768,), eps=1e-12, elementwise_affine=True)\n",
      "              (dropout): Dropout(p=0.1, inplace=False)\n",
      "            )\n",
      "          )\n",
      "          (intermediate): BertIntermediate(\n",
      "            (dense): Linear(in_features=768, out_features=3072, bias=True)\n",
      "          )\n",
      "          (output): BertOutput(\n",
      "            (dense): Linear(in_features=3072, out_features=768, bias=True)\n",
      "            (LayerNorm): LayerNorm((768,), eps=1e-12, elementwise_affine=True)\n",
      "            (dropout): Dropout(p=0.1, inplace=False)\n",
      "          )\n",
      "        )\n",
      "        (9): BertLayer(\n",
      "          (attention): BertAttention(\n",
      "            (self): BertSelfAttention(\n",
      "              (query): Linear(in_features=768, out_features=768, bias=True)\n",
      "              (key): Linear(in_features=768, out_features=768, bias=True)\n",
      "              (value): Linear(in_features=768, out_features=768, bias=True)\n",
      "              (dropout): Dropout(p=0.1, inplace=False)\n",
      "            )\n",
      "            (output): BertSelfOutput(\n",
      "              (dense): Linear(in_features=768, out_features=768, bias=True)\n",
      "              (LayerNorm): LayerNorm((768,), eps=1e-12, elementwise_affine=True)\n",
      "              (dropout): Dropout(p=0.1, inplace=False)\n",
      "            )\n",
      "          )\n",
      "          (intermediate): BertIntermediate(\n",
      "            (dense): Linear(in_features=768, out_features=3072, bias=True)\n",
      "          )\n",
      "          (output): BertOutput(\n",
      "            (dense): Linear(in_features=3072, out_features=768, bias=True)\n",
      "            (LayerNorm): LayerNorm((768,), eps=1e-12, elementwise_affine=True)\n",
      "            (dropout): Dropout(p=0.1, inplace=False)\n",
      "          )\n",
      "        )\n",
      "        (10): BertLayer(\n",
      "          (attention): BertAttention(\n",
      "            (self): BertSelfAttention(\n",
      "              (query): Linear(in_features=768, out_features=768, bias=True)\n",
      "              (key): Linear(in_features=768, out_features=768, bias=True)\n",
      "              (value): Linear(in_features=768, out_features=768, bias=True)\n",
      "              (dropout): Dropout(p=0.1, inplace=False)\n",
      "            )\n",
      "            (output): BertSelfOutput(\n",
      "              (dense): Linear(in_features=768, out_features=768, bias=True)\n",
      "              (LayerNorm): LayerNorm((768,), eps=1e-12, elementwise_affine=True)\n",
      "              (dropout): Dropout(p=0.1, inplace=False)\n",
      "            )\n",
      "          )\n",
      "          (intermediate): BertIntermediate(\n",
      "            (dense): Linear(in_features=768, out_features=3072, bias=True)\n",
      "          )\n",
      "          (output): BertOutput(\n",
      "            (dense): Linear(in_features=3072, out_features=768, bias=True)\n",
      "            (LayerNorm): LayerNorm((768,), eps=1e-12, elementwise_affine=True)\n",
      "            (dropout): Dropout(p=0.1, inplace=False)\n",
      "          )\n",
      "        )\n",
      "        (11): BertLayer(\n",
      "          (attention): BertAttention(\n",
      "            (self): BertSelfAttention(\n",
      "              (query): Linear(in_features=768, out_features=768, bias=True)\n",
      "              (key): Linear(in_features=768, out_features=768, bias=True)\n",
      "              (value): Linear(in_features=768, out_features=768, bias=True)\n",
      "              (dropout): Dropout(p=0.1, inplace=False)\n",
      "            )\n",
      "            (output): BertSelfOutput(\n",
      "              (dense): Linear(in_features=768, out_features=768, bias=True)\n",
      "              (LayerNorm): LayerNorm((768,), eps=1e-12, elementwise_affine=True)\n",
      "              (dropout): Dropout(p=0.1, inplace=False)\n",
      "            )\n",
      "          )\n",
      "          (intermediate): BertIntermediate(\n",
      "            (dense): Linear(in_features=768, out_features=3072, bias=True)\n",
      "          )\n",
      "          (output): BertOutput(\n",
      "            (dense): Linear(in_features=3072, out_features=768, bias=True)\n",
      "            (LayerNorm): LayerNorm((768,), eps=1e-12, elementwise_affine=True)\n",
      "            (dropout): Dropout(p=0.1, inplace=False)\n",
      "          )\n",
      "        )\n",
      "      )\n",
      "    )\n",
      "    (pooler): BertPooler(\n",
      "      (dense): Linear(in_features=768, out_features=768, bias=True)\n",
      "      (activation): Tanh()\n",
      "    )\n",
      "  )\n",
      "  (cls): BertOnlyMLMHead(\n",
      "    (predictions): BertLMPredictionHead(\n",
      "      (transform): BertPredictionHeadTransform(\n",
      "        (dense): Linear(in_features=768, out_features=768, bias=True)\n",
      "        (LayerNorm): LayerNorm((768,), eps=1e-12, elementwise_affine=True)\n",
      "      )\n",
      "      (decoder): Linear(in_features=768, out_features=28996, bias=True)\n",
      "    )\n",
      "  )\n",
      ")\n"
     ]
    }
   ],
   "source": [
    "print(learn.model)"
   ]
  },
  {
   "cell_type": "code",
   "execution_count": 33,
   "metadata": {
    "scrolled": false
   },
   "outputs": [
    {
     "name": "stdout",
     "output_type": "stream",
     "text": [
      "BertForMaskedLM (Input shape: ['16 x 512'])\n",
      "================================================================\n",
      "Layer (type)         Output Shape         Param #    Trainable \n",
      "================================================================\n",
      "Embedding            16 x 512 x 768       22,268,928 True      \n",
      "________________________________________________________________\n",
      "Embedding            16 x 512 x 768       393,216    True      \n",
      "________________________________________________________________\n",
      "Embedding            16 x 512 x 768       1,536      True      \n",
      "________________________________________________________________\n",
      "LayerNorm            16 x 512 x 768       1,536      True      \n",
      "________________________________________________________________\n",
      "Dropout              16 x 512 x 768       0          False     \n",
      "________________________________________________________________\n",
      "Linear               16 x 512 x 768       590,592    True      \n",
      "________________________________________________________________\n",
      "Linear               16 x 512 x 768       590,592    True      \n",
      "________________________________________________________________\n",
      "Linear               16 x 512 x 768       590,592    True      \n",
      "________________________________________________________________\n",
      "Dropout              16 x 12 x 512 x 512  0          False     \n",
      "________________________________________________________________\n",
      "Linear               16 x 512 x 768       590,592    True      \n",
      "________________________________________________________________\n",
      "LayerNorm            16 x 512 x 768       1,536      True      \n",
      "________________________________________________________________\n",
      "Dropout              16 x 512 x 768       0          False     \n",
      "________________________________________________________________\n",
      "Linear               16 x 512 x 3072      2,362,368  True      \n",
      "________________________________________________________________\n",
      "Linear               16 x 512 x 768       2,360,064  True      \n",
      "________________________________________________________________\n",
      "LayerNorm            16 x 512 x 768       1,536      True      \n",
      "________________________________________________________________\n",
      "Dropout              16 x 512 x 768       0          False     \n",
      "________________________________________________________________\n",
      "Linear               16 x 512 x 768       590,592    True      \n",
      "________________________________________________________________\n",
      "Linear               16 x 512 x 768       590,592    True      \n",
      "________________________________________________________________\n",
      "Linear               16 x 512 x 768       590,592    True      \n",
      "________________________________________________________________\n",
      "Dropout              16 x 12 x 512 x 512  0          False     \n",
      "________________________________________________________________\n",
      "Linear               16 x 512 x 768       590,592    True      \n",
      "________________________________________________________________\n",
      "LayerNorm            16 x 512 x 768       1,536      True      \n",
      "________________________________________________________________\n",
      "Dropout              16 x 512 x 768       0          False     \n",
      "________________________________________________________________\n",
      "Linear               16 x 512 x 3072      2,362,368  True      \n",
      "________________________________________________________________\n",
      "Linear               16 x 512 x 768       2,360,064  True      \n",
      "________________________________________________________________\n",
      "LayerNorm            16 x 512 x 768       1,536      True      \n",
      "________________________________________________________________\n",
      "Dropout              16 x 512 x 768       0          False     \n",
      "________________________________________________________________\n",
      "Linear               16 x 512 x 768       590,592    True      \n",
      "________________________________________________________________\n",
      "Linear               16 x 512 x 768       590,592    True      \n",
      "________________________________________________________________\n",
      "Linear               16 x 512 x 768       590,592    True      \n",
      "________________________________________________________________\n",
      "Dropout              16 x 12 x 512 x 512  0          False     \n",
      "________________________________________________________________\n",
      "Linear               16 x 512 x 768       590,592    True      \n",
      "________________________________________________________________\n",
      "LayerNorm            16 x 512 x 768       1,536      True      \n",
      "________________________________________________________________\n",
      "Dropout              16 x 512 x 768       0          False     \n",
      "________________________________________________________________\n",
      "Linear               16 x 512 x 3072      2,362,368  True      \n",
      "________________________________________________________________\n",
      "Linear               16 x 512 x 768       2,360,064  True      \n",
      "________________________________________________________________\n",
      "LayerNorm            16 x 512 x 768       1,536      True      \n",
      "________________________________________________________________\n",
      "Dropout              16 x 512 x 768       0          False     \n",
      "________________________________________________________________\n",
      "Linear               16 x 512 x 768       590,592    True      \n",
      "________________________________________________________________\n",
      "Linear               16 x 512 x 768       590,592    True      \n",
      "________________________________________________________________\n",
      "Linear               16 x 512 x 768       590,592    True      \n",
      "________________________________________________________________\n",
      "Dropout              16 x 12 x 512 x 512  0          False     \n",
      "________________________________________________________________\n",
      "Linear               16 x 512 x 768       590,592    True      \n",
      "________________________________________________________________\n",
      "LayerNorm            16 x 512 x 768       1,536      True      \n",
      "________________________________________________________________\n",
      "Dropout              16 x 512 x 768       0          False     \n",
      "________________________________________________________________\n",
      "Linear               16 x 512 x 3072      2,362,368  True      \n",
      "________________________________________________________________\n",
      "Linear               16 x 512 x 768       2,360,064  True      \n",
      "________________________________________________________________\n",
      "LayerNorm            16 x 512 x 768       1,536      True      \n",
      "________________________________________________________________\n",
      "Dropout              16 x 512 x 768       0          False     \n",
      "________________________________________________________________\n",
      "Linear               16 x 512 x 768       590,592    True      \n",
      "________________________________________________________________\n",
      "Linear               16 x 512 x 768       590,592    True      \n",
      "________________________________________________________________\n",
      "Linear               16 x 512 x 768       590,592    True      \n",
      "________________________________________________________________\n",
      "Dropout              16 x 12 x 512 x 512  0          False     \n",
      "________________________________________________________________\n",
      "Linear               16 x 512 x 768       590,592    True      \n",
      "________________________________________________________________\n",
      "LayerNorm            16 x 512 x 768       1,536      True      \n",
      "________________________________________________________________\n",
      "Dropout              16 x 512 x 768       0          False     \n",
      "________________________________________________________________\n",
      "Linear               16 x 512 x 3072      2,362,368  True      \n",
      "________________________________________________________________\n",
      "Linear               16 x 512 x 768       2,360,064  True      \n",
      "________________________________________________________________\n",
      "LayerNorm            16 x 512 x 768       1,536      True      \n",
      "________________________________________________________________\n",
      "Dropout              16 x 512 x 768       0          False     \n",
      "________________________________________________________________\n",
      "Linear               16 x 512 x 768       590,592    True      \n",
      "________________________________________________________________\n",
      "Linear               16 x 512 x 768       590,592    True      \n",
      "________________________________________________________________\n",
      "Linear               16 x 512 x 768       590,592    True      \n",
      "________________________________________________________________\n",
      "Dropout              16 x 12 x 512 x 512  0          False     \n",
      "________________________________________________________________\n",
      "Linear               16 x 512 x 768       590,592    True      \n",
      "________________________________________________________________\n",
      "LayerNorm            16 x 512 x 768       1,536      True      \n",
      "________________________________________________________________\n",
      "Dropout              16 x 512 x 768       0          False     \n",
      "________________________________________________________________\n",
      "Linear               16 x 512 x 3072      2,362,368  True      \n",
      "________________________________________________________________\n",
      "Linear               16 x 512 x 768       2,360,064  True      \n",
      "________________________________________________________________\n",
      "LayerNorm            16 x 512 x 768       1,536      True      \n",
      "________________________________________________________________\n",
      "Dropout              16 x 512 x 768       0          False     \n",
      "________________________________________________________________\n",
      "Linear               16 x 512 x 768       590,592    True      \n",
      "________________________________________________________________\n",
      "Linear               16 x 512 x 768       590,592    True      \n",
      "________________________________________________________________\n",
      "Linear               16 x 512 x 768       590,592    True      \n",
      "________________________________________________________________\n",
      "Dropout              16 x 12 x 512 x 512  0          False     \n",
      "________________________________________________________________\n",
      "Linear               16 x 512 x 768       590,592    True      \n",
      "________________________________________________________________\n",
      "LayerNorm            16 x 512 x 768       1,536      True      \n",
      "________________________________________________________________\n",
      "Dropout              16 x 512 x 768       0          False     \n",
      "________________________________________________________________\n",
      "Linear               16 x 512 x 3072      2,362,368  True      \n",
      "________________________________________________________________\n",
      "Linear               16 x 512 x 768       2,360,064  True      \n",
      "________________________________________________________________\n",
      "LayerNorm            16 x 512 x 768       1,536      True      \n",
      "________________________________________________________________\n",
      "Dropout              16 x 512 x 768       0          False     \n",
      "________________________________________________________________\n",
      "Linear               16 x 512 x 768       590,592    True      \n",
      "________________________________________________________________\n",
      "Linear               16 x 512 x 768       590,592    True      \n",
      "________________________________________________________________\n",
      "Linear               16 x 512 x 768       590,592    True      \n",
      "________________________________________________________________\n",
      "Dropout              16 x 12 x 512 x 512  0          False     \n",
      "________________________________________________________________\n",
      "Linear               16 x 512 x 768       590,592    True      \n",
      "________________________________________________________________\n",
      "LayerNorm            16 x 512 x 768       1,536      True      \n",
      "________________________________________________________________\n",
      "Dropout              16 x 512 x 768       0          False     \n",
      "________________________________________________________________\n",
      "Linear               16 x 512 x 3072      2,362,368  True      \n",
      "________________________________________________________________\n",
      "Linear               16 x 512 x 768       2,360,064  True      \n",
      "________________________________________________________________\n",
      "LayerNorm            16 x 512 x 768       1,536      True      \n",
      "________________________________________________________________\n",
      "Dropout              16 x 512 x 768       0          False     \n",
      "________________________________________________________________\n",
      "Linear               16 x 512 x 768       590,592    True      \n",
      "________________________________________________________________\n",
      "Linear               16 x 512 x 768       590,592    True      \n",
      "________________________________________________________________\n",
      "Linear               16 x 512 x 768       590,592    True      \n",
      "________________________________________________________________\n",
      "Dropout              16 x 12 x 512 x 512  0          False     \n",
      "________________________________________________________________\n",
      "Linear               16 x 512 x 768       590,592    True      \n",
      "________________________________________________________________\n",
      "LayerNorm            16 x 512 x 768       1,536      True      \n",
      "________________________________________________________________\n",
      "Dropout              16 x 512 x 768       0          False     \n",
      "________________________________________________________________\n",
      "Linear               16 x 512 x 3072      2,362,368  True      \n",
      "________________________________________________________________\n",
      "Linear               16 x 512 x 768       2,360,064  True      \n",
      "________________________________________________________________\n",
      "LayerNorm            16 x 512 x 768       1,536      True      \n",
      "________________________________________________________________\n",
      "Dropout              16 x 512 x 768       0          False     \n",
      "________________________________________________________________\n",
      "Linear               16 x 512 x 768       590,592    True      \n",
      "________________________________________________________________\n",
      "Linear               16 x 512 x 768       590,592    True      \n",
      "________________________________________________________________\n",
      "Linear               16 x 512 x 768       590,592    True      \n",
      "________________________________________________________________\n",
      "Dropout              16 x 12 x 512 x 512  0          False     \n",
      "________________________________________________________________\n",
      "Linear               16 x 512 x 768       590,592    True      \n",
      "________________________________________________________________\n",
      "LayerNorm            16 x 512 x 768       1,536      True      \n",
      "________________________________________________________________\n",
      "Dropout              16 x 512 x 768       0          False     \n",
      "________________________________________________________________\n",
      "Linear               16 x 512 x 3072      2,362,368  True      \n",
      "________________________________________________________________\n",
      "Linear               16 x 512 x 768       2,360,064  True      \n",
      "________________________________________________________________\n",
      "LayerNorm            16 x 512 x 768       1,536      True      \n",
      "________________________________________________________________\n",
      "Dropout              16 x 512 x 768       0          False     \n",
      "________________________________________________________________\n",
      "Linear               16 x 512 x 768       590,592    True      \n",
      "________________________________________________________________\n",
      "Linear               16 x 512 x 768       590,592    True      \n",
      "________________________________________________________________\n",
      "Linear               16 x 512 x 768       590,592    True      \n",
      "________________________________________________________________\n",
      "Dropout              16 x 12 x 512 x 512  0          False     \n",
      "________________________________________________________________\n",
      "Linear               16 x 512 x 768       590,592    True      \n",
      "________________________________________________________________\n",
      "LayerNorm            16 x 512 x 768       1,536      True      \n",
      "________________________________________________________________\n",
      "Dropout              16 x 512 x 768       0          False     \n",
      "________________________________________________________________\n",
      "Linear               16 x 512 x 3072      2,362,368  True      \n",
      "________________________________________________________________\n",
      "Linear               16 x 512 x 768       2,360,064  True      \n",
      "________________________________________________________________\n",
      "LayerNorm            16 x 512 x 768       1,536      True      \n",
      "________________________________________________________________\n",
      "Dropout              16 x 512 x 768       0          False     \n",
      "________________________________________________________________\n",
      "Linear               16 x 512 x 768       590,592    True      \n",
      "________________________________________________________________\n",
      "Linear               16 x 512 x 768       590,592    True      \n",
      "________________________________________________________________\n",
      "Linear               16 x 512 x 768       590,592    True      \n",
      "________________________________________________________________\n",
      "Dropout              16 x 12 x 512 x 512  0          False     \n",
      "________________________________________________________________\n",
      "Linear               16 x 512 x 768       590,592    True      \n",
      "________________________________________________________________\n",
      "LayerNorm            16 x 512 x 768       1,536      True      \n",
      "________________________________________________________________\n",
      "Dropout              16 x 512 x 768       0          False     \n",
      "________________________________________________________________\n",
      "Linear               16 x 512 x 3072      2,362,368  True      \n",
      "________________________________________________________________\n",
      "Linear               16 x 512 x 768       2,360,064  True      \n",
      "________________________________________________________________\n",
      "LayerNorm            16 x 512 x 768       1,536      True      \n",
      "________________________________________________________________\n",
      "Dropout              16 x 512 x 768       0          False     \n",
      "________________________________________________________________\n",
      "Linear               16 x 768             590,592    True      \n",
      "________________________________________________________________\n",
      "Tanh                 16 x 768             0          False     \n",
      "________________________________________________________________\n",
      "Linear               16 x 512 x 768       590,592    True      \n",
      "________________________________________________________________\n",
      "LayerNorm            16 x 512 x 768       1,536      True      \n",
      "________________________________________________________________\n",
      "Linear               16 x 512 x 28996     22,297,924 True      \n",
      "________________________________________________________________\n",
      "\n",
      "Total params: 131,200,324\n",
      "Total trainable params: 131,200,324\n",
      "Total non-trainable params: 0\n",
      "\n",
      "Optimizer used: <function Adam at 0x7f81f4298840>\n",
      "Loss function: FlattenedLoss of CrossEntropyLoss()\n",
      "\n",
      "Model unfrozen\n",
      "\n",
      "Callbacks:\n",
      "  - DropOutput\n",
      "  - TerminateOnNaNCallback\n",
      "  - ModelToHalf\n",
      "  - TrainEvalCallback\n",
      "  - Recorder\n",
      "  - ProgressCallback\n",
      "  - MixedPrecision\n"
     ]
    }
   ],
   "source": [
    "print(learn.summary()) "
   ]
  },
  {
   "cell_type": "code",
   "execution_count": 34,
   "metadata": {},
   "outputs": [
    {
     "data": {
      "text/html": [],
      "text/plain": [
       "<IPython.core.display.HTML object>"
      ]
     },
     "metadata": {},
     "output_type": "display_data"
    },
    {
     "data": {
      "text/plain": [
       "SuggestedLRs(lr_min=0.002754228748381138, lr_steep=5.754399353463668e-06)"
      ]
     },
     "execution_count": 34,
     "metadata": {},
     "output_type": "execute_result"
    },
    {
     "data": {
      "image/png": "[encoded data removed]",
      "text/plain": [
       "<Figure size 432x288 with 1 Axes>"
      ]
     },
     "metadata": {
      "needs_background": "light"
     },
     "output_type": "display_data"
    }
   ],
   "source": [
    "learn.lr_find()"
   ]
  },
  {
   "cell_type": "code",
   "execution_count": 35,
   "metadata": {},
   "outputs": [
    {
     "data": {
      "text/html": [
       "<table border=\"1\" class=\"dataframe\">\n",
       "  <thead>\n",
       "    <tr style=\"text-align: left;\">\n",
       "      <th>epoch</th>\n",
       "      <th>train_loss</th>\n",
       "      <th>valid_loss</th>\n",
       "      <th>perplexity</th>\n",
       "      <th>accuracy</th>\n",
       "      <th>time</th>\n",
       "    </tr>\n",
       "  </thead>\n",
       "  <tbody>\n",
       "    <tr>\n",
       "      <td>0</td>\n",
       "      <td>0.016708</td>\n",
       "      <td>0.005406</td>\n",
       "      <td>1.005420</td>\n",
       "      <td>0.999065</td>\n",
       "      <td>1:23:56</td>\n",
       "    </tr>\n",
       "  </tbody>\n",
       "</table>"
      ],
      "text/plain": [
       "<IPython.core.display.HTML object>"
      ]
     },
     "metadata": {},
     "output_type": "display_data"
    },
    {
     "name": "stderr",
     "output_type": "stream",
     "text": [
      "/opt/tljh/user/lib/python3.7/site-packages/fastai2/callback/schedule.py:68: UserWarning: This overload of nonzero is deprecated:\n",
      "\tnonzero()\n",
      "Consider using one of the following signatures instead:\n",
      "\tnonzero(*, bool as_tuple) (Triggered internally at  /pytorch/torch/csrc/utils/python_arg_parser.cpp:766.)\n",
      "  idx = (pos >= pcts).nonzero().max()\n"
     ]
    }
   ],
   "source": [
    "learn.fit_one_cycle(1, 1e-4)"
   ]
  },
  {
   "cell_type": "code",
   "execution_count": 36,
   "metadata": {},
   "outputs": [
    {
     "data": {
      "text/html": [
       "<div>\n",
       "<style scoped>\n",
       "    .dataframe tbody tr th:only-of-type {\n",
       "        vertical-align: middle;\n",
       "    }\n",
       "\n",
       "    .dataframe tbody tr th {\n",
       "        vertical-align: top;\n",
       "    }\n",
       "\n",
       "    .dataframe thead th {\n",
       "        text-align: right;\n",
       "    }\n",
       "</style>\n",
       "<table border=\"1\" class=\"dataframe\">\n",
       "  <thead>\n",
       "    <tr style=\"text-align: right;\">\n",
       "      <th></th>\n",
       "      <th>text</th>\n",
       "    </tr>\n",
       "  </thead>\n",
       "  <tbody>\n",
       "    <tr>\n",
       "      <th>0</th>\n",
       "      <td>def get_vid_from_url(url):\\n    \"\"\"Extracts video ID from URL.\\n    \"\"\"\\n    return match1(url, r'youtu\\.be/([^?/]+)') or \\\\n        match1(url, r'youtube\\.com/embed/([^/?]+)') or \\\\n        match1(url, r'youtube\\.com/v/([^/?]+)') or \\\\n        match1(url, r'youtube\\.com/watch/([^/?]+)') or \\\\n        parse_query_param(url, 'v') or \\\\n        parse_query_param(parse_query_param(url, 'u'), 'v')\\n\\n\\ndef sina_xml_to_url_list(xml_data):\\n    \"\"\"str-&gt;list\\n    Convert XML to URL List.\\n    From Biligrab.\\n    \"\"\"\\n    rawurl = []\\n    dom = parseString(xml_data)\\n    for node in dom.getElement...</td>\n",
       "    </tr>\n",
       "  </tbody>\n",
       "</table>\n",
       "</div>"
      ],
      "text/plain": [
       "                                                                                                                                                                                                                                                                                                                                                                                                                                                                                                                                                                                                                      text\n",
       "0  def get_vid_from_url(url):\\n    \"\"\"Extracts video ID from URL.\\n    \"\"\"\\n    return match1(url, r'youtu\\.be/([^?/]+)') or \\\\n        match1(url, r'youtube\\.com/embed/([^/?]+)') or \\\\n        match1(url, r'youtube\\.com/v/([^/?]+)') or \\\\n        match1(url, r'youtube\\.com/watch/([^/?]+)') or \\\\n        parse_query_param(url, 'v') or \\\\n        parse_query_param(parse_query_param(url, 'u'), 'v')\\n\\n\\ndef sina_xml_to_url_list(xml_data):\\n    \"\"\"str->list\\n    Convert XML to URL List.\\n    From Biligrab.\\n    \"\"\"\\n    rawurl = []\\n    dom = parseString(xml_data)\\n    for node in dom.getElement..."
      ]
     },
     "execution_count": 36,
     "metadata": {},
     "output_type": "execute_result"
    }
   ],
   "source": [
    "df_valid.head(1)"
   ]
  },
  {
   "cell_type": "code",
   "execution_count": 37,
   "metadata": {},
   "outputs": [],
   "source": [
    "prompt = \"\\n = Unicorn = \\n \\n A unicorn is a magical creature with a rainbow tail and a horn\""
   ]
  },
  {
   "cell_type": "code",
   "execution_count": 38,
   "metadata": {},
   "outputs": [
    {
     "data": {
      "text/plain": [
       "torch.Size([1, 20])"
      ]
     },
     "execution_count": 38,
     "metadata": {},
     "output_type": "execute_result"
    }
   ],
   "source": [
    "prompt_ids = tokenizer.encode(prompt)\n",
    "inp = tensor(prompt_ids)[None].cuda()\n",
    "inp.shape"
   ]
  },
  {
   "cell_type": "code",
   "execution_count": 39,
   "metadata": {},
   "outputs": [],
   "source": [
    "preds = learn.model.generate(inp, max_length=40, num_beams=5, temperature=1.5)"
   ]
  },
  {
   "cell_type": "code",
   "execution_count": 40,
   "metadata": {},
   "outputs": [
    {
     "data": {
      "text/plain": [
       "'[CLS] = Unicorn = A unicorn is a magical creature with a rainbow tail and a horn [SEP] = = = = = = = = = = = = = = = = = = = ='"
      ]
     },
     "execution_count": 40,
     "metadata": {},
     "output_type": "execute_result"
    }
   ],
   "source": [
    "tokenizer.decode(preds[0].cpu().numpy())\n",
    "# tokenizer.decode(preds[0])"
   ]
  },
  {
   "cell_type": "code",
   "execution_count": 41,
   "metadata": {},
   "outputs": [
    {
     "data": {
      "text/plain": [
       "tensor([[  101,   134, 12118, 23941,   134,   138,  8362, 23941,  1110,   170,\n",
       "          9214,  6093,  1114,   170, 21489,  5287,  1105,   170,  9621,   102,\n",
       "           134,   134,   134,   134,   134,   134,   134,   134,   134,   134,\n",
       "           134,   134,   134,   134,   134,   134,   134,   134,   134,   134]],\n",
       "       device='cuda:0')"
      ]
     },
     "execution_count": 41,
     "metadata": {},
     "output_type": "execute_result"
    }
   ],
   "source": [
    "preds"
   ]
  },
  {
   "cell_type": "code",
   "execution_count": 42,
   "metadata": {},
   "outputs": [
    {
     "data": {
      "text/plain": [
       "tensor([  101,   134, 12118, 23941,   134,   138,  8362, 23941,  1110,   170,\n",
       "         9214,  6093,  1114,   170, 21489,  5287,  1105,   170,  9621,   102,\n",
       "          134,   134,   134,   134,   134,   134,   134,   134,   134,   134,\n",
       "          134,   134,   134,   134,   134,   134,   134,   134,   134,   134],\n",
       "       device='cuda:0')"
      ]
     },
     "execution_count": 42,
     "metadata": {},
     "output_type": "execute_result"
    }
   ],
   "source": [
    "preds[0]"
   ]
  },
  {
   "cell_type": "code",
   "execution_count": 43,
   "metadata": {},
   "outputs": [
    {
     "data": {
      "text/plain": [
       "'[CLS] import [SEP] import import import import import import import import import import import import import import import import import import import import import import import import import import import import import import import import import import import import import'"
      ]
     },
     "execution_count": 43,
     "metadata": {},
     "output_type": "execute_result"
    }
   ],
   "source": [
    "prompt = \"import\"\n",
    "prompt_ids = tokenizer.encode(prompt)\n",
    "inp = tensor(prompt_ids)[None].cuda()\n",
    "inp.shape\n",
    "preds = learn.model.generate(inp, max_length=40, num_beams=5, temperature=1.5)\n",
    "tokenizer.decode(preds[0].cpu().numpy())"
   ]
  },
  {
   "cell_type": "code",
   "execution_count": 44,
   "metadata": {},
   "outputs": [
    {
     "data": {
      "text/plain": [
       "'[CLS] = import = import [SEP] = import = import import = import import = import import import import import import import import import import import import import import import import import import import import import import import import import'"
      ]
     },
     "execution_count": 44,
     "metadata": {},
     "output_type": "execute_result"
    }
   ],
   "source": [
    "prompt = \"\\n = import = \\n \\n import\"\n",
    "prompt_ids = tokenizer.encode(prompt)\n",
    "inp = tensor(prompt_ids)[None].cuda()\n",
    "inp.shape\n",
    "preds = learn.model.generate(inp, max_length=40, num_beams=5, temperature=1.5)\n",
    "tokenizer.decode(preds[0].cpu().numpy())"
   ]
  },
  {
   "cell_type": "code",
   "execution_count": 45,
   "metadata": {},
   "outputs": [],
   "source": [
    "# learn.save('fine_tuned')\n",
    "learn.save('20200817_fit_head_bert_model')"
   ]
  },
  {
   "cell_type": "code",
   "execution_count": 46,
   "metadata": {},
   "outputs": [],
   "source": [
    "learn.load('20200817_fit_head_bert_model');"
   ]
  },
  {
   "cell_type": "code",
   "execution_count": 47,
   "metadata": {},
   "outputs": [],
   "source": [
    "learn.unfreeze()"
   ]
  },
  {
   "cell_type": "code",
   "execution_count": 48,
   "metadata": {},
   "outputs": [
    {
     "data": {
      "text/html": [
       "<table border=\"1\" class=\"dataframe\">\n",
       "  <thead>\n",
       "    <tr style=\"text-align: left;\">\n",
       "      <th>epoch</th>\n",
       "      <th>train_loss</th>\n",
       "      <th>valid_loss</th>\n",
       "      <th>perplexity</th>\n",
       "      <th>accuracy</th>\n",
       "      <th>time</th>\n",
       "    </tr>\n",
       "  </thead>\n",
       "  <tbody>\n",
       "    <tr>\n",
       "      <td>0</td>\n",
       "      <td>0.012979</td>\n",
       "      <td>0.005226</td>\n",
       "      <td>1.005240</td>\n",
       "      <td>0.999091</td>\n",
       "      <td>1:24:08</td>\n",
       "    </tr>\n",
       "    <tr>\n",
       "      <td>1</td>\n",
       "      <td>0.013667</td>\n",
       "      <td>0.005298</td>\n",
       "      <td>1.005312</td>\n",
       "      <td>0.999102</td>\n",
       "      <td>1:24:17</td>\n",
       "    </tr>\n",
       "    <tr>\n",
       "      <td>2</td>\n",
       "      <td>0.014761</td>\n",
       "      <td>0.005193</td>\n",
       "      <td>1.005206</td>\n",
       "      <td>0.999108</td>\n",
       "      <td>1:24:21</td>\n",
       "    </tr>\n",
       "    <tr>\n",
       "      <td>3</td>\n",
       "      <td>0.014986</td>\n",
       "      <td>0.005010</td>\n",
       "      <td>1.005023</td>\n",
       "      <td>0.999125</td>\n",
       "      <td>1:24:31</td>\n",
       "    </tr>\n",
       "    <tr>\n",
       "      <td>4</td>\n",
       "      <td>0.017401</td>\n",
       "      <td>0.004751</td>\n",
       "      <td>1.004762</td>\n",
       "      <td>0.999166</td>\n",
       "      <td>1:24:47</td>\n",
       "    </tr>\n",
       "    <tr>\n",
       "      <td>5</td>\n",
       "      <td>0.016076</td>\n",
       "      <td>0.004615</td>\n",
       "      <td>1.004626</td>\n",
       "      <td>0.999179</td>\n",
       "      <td>1:24:51</td>\n",
       "    </tr>\n",
       "    <tr>\n",
       "      <td>6</td>\n",
       "      <td>0.014559</td>\n",
       "      <td>0.004412</td>\n",
       "      <td>1.004422</td>\n",
       "      <td>0.999205</td>\n",
       "      <td>1:24:45</td>\n",
       "    </tr>\n",
       "    <tr>\n",
       "      <td>7</td>\n",
       "      <td>0.010650</td>\n",
       "      <td>0.004264</td>\n",
       "      <td>1.004274</td>\n",
       "      <td>0.999221</td>\n",
       "      <td>1:24:52</td>\n",
       "    </tr>\n",
       "    <tr>\n",
       "      <td>8</td>\n",
       "      <td>0.014061</td>\n",
       "      <td>0.004177</td>\n",
       "      <td>1.004186</td>\n",
       "      <td>0.999235</td>\n",
       "      <td>1:24:46</td>\n",
       "    </tr>\n",
       "    <tr>\n",
       "      <td>9</td>\n",
       "      <td>0.014755</td>\n",
       "      <td>0.004155</td>\n",
       "      <td>1.004164</td>\n",
       "      <td>0.999238</td>\n",
       "      <td>1:24:47</td>\n",
       "    </tr>\n",
       "  </tbody>\n",
       "</table>"
      ],
      "text/plain": [
       "<IPython.core.display.HTML object>"
      ]
     },
     "metadata": {},
     "output_type": "display_data"
    }
   ],
   "source": [
    "learn.fit_one_cycle(10, 1e-4)"
   ]
  },
  {
   "cell_type": "code",
   "execution_count": 49,
   "metadata": {
    "scrolled": false
   },
   "outputs": [
    {
     "name": "stdout",
     "output_type": "stream",
     "text": [
      "BertForMaskedLM (Input shape: ['16 x 512'])\n",
      "================================================================\n",
      "Layer (type)         Output Shape         Param #    Trainable \n",
      "================================================================\n",
      "Embedding            16 x 512 x 768       22,268,928 True      \n",
      "________________________________________________________________\n",
      "Embedding            16 x 512 x 768       393,216    True      \n",
      "________________________________________________________________\n",
      "Embedding            16 x 512 x 768       1,536      True      \n",
      "________________________________________________________________\n",
      "LayerNorm            16 x 512 x 768       1,536      True      \n",
      "________________________________________________________________\n",
      "Dropout              16 x 512 x 768       0          False     \n",
      "________________________________________________________________\n",
      "Linear               16 x 512 x 768       590,592    True      \n",
      "________________________________________________________________\n",
      "Linear               16 x 512 x 768       590,592    True      \n",
      "________________________________________________________________\n",
      "Linear               16 x 512 x 768       590,592    True      \n",
      "________________________________________________________________\n",
      "Dropout              16 x 12 x 512 x 512  0          False     \n",
      "________________________________________________________________\n",
      "Linear               16 x 512 x 768       590,592    True      \n",
      "________________________________________________________________\n",
      "LayerNorm            16 x 512 x 768       1,536      True      \n",
      "________________________________________________________________\n",
      "Dropout              16 x 512 x 768       0          False     \n",
      "________________________________________________________________\n",
      "Linear               16 x 512 x 3072      2,362,368  True      \n",
      "________________________________________________________________\n",
      "Linear               16 x 512 x 768       2,360,064  True      \n",
      "________________________________________________________________\n",
      "LayerNorm            16 x 512 x 768       1,536      True      \n",
      "________________________________________________________________\n",
      "Dropout              16 x 512 x 768       0          False     \n",
      "________________________________________________________________\n",
      "Linear               16 x 512 x 768       590,592    True      \n",
      "________________________________________________________________\n",
      "Linear               16 x 512 x 768       590,592    True      \n",
      "________________________________________________________________\n",
      "Linear               16 x 512 x 768       590,592    True      \n",
      "________________________________________________________________\n",
      "Dropout              16 x 12 x 512 x 512  0          False     \n",
      "________________________________________________________________\n",
      "Linear               16 x 512 x 768       590,592    True      \n",
      "________________________________________________________________\n",
      "LayerNorm            16 x 512 x 768       1,536      True      \n",
      "________________________________________________________________\n",
      "Dropout              16 x 512 x 768       0          False     \n",
      "________________________________________________________________\n",
      "Linear               16 x 512 x 3072      2,362,368  True      \n",
      "________________________________________________________________\n",
      "Linear               16 x 512 x 768       2,360,064  True      \n",
      "________________________________________________________________\n",
      "LayerNorm            16 x 512 x 768       1,536      True      \n",
      "________________________________________________________________\n",
      "Dropout              16 x 512 x 768       0          False     \n",
      "________________________________________________________________\n",
      "Linear               16 x 512 x 768       590,592    True      \n",
      "________________________________________________________________\n",
      "Linear               16 x 512 x 768       590,592    True      \n",
      "________________________________________________________________\n",
      "Linear               16 x 512 x 768       590,592    True      \n",
      "________________________________________________________________\n",
      "Dropout              16 x 12 x 512 x 512  0          False     \n",
      "________________________________________________________________\n",
      "Linear               16 x 512 x 768       590,592    True      \n",
      "________________________________________________________________\n",
      "LayerNorm            16 x 512 x 768       1,536      True      \n",
      "________________________________________________________________\n",
      "Dropout              16 x 512 x 768       0          False     \n",
      "________________________________________________________________\n",
      "Linear               16 x 512 x 3072      2,362,368  True      \n",
      "________________________________________________________________\n",
      "Linear               16 x 512 x 768       2,360,064  True      \n",
      "________________________________________________________________\n",
      "LayerNorm            16 x 512 x 768       1,536      True      \n",
      "________________________________________________________________\n",
      "Dropout              16 x 512 x 768       0          False     \n",
      "________________________________________________________________\n",
      "Linear               16 x 512 x 768       590,592    True      \n",
      "________________________________________________________________\n",
      "Linear               16 x 512 x 768       590,592    True      \n",
      "________________________________________________________________\n",
      "Linear               16 x 512 x 768       590,592    True      \n",
      "________________________________________________________________\n",
      "Dropout              16 x 12 x 512 x 512  0          False     \n",
      "________________________________________________________________\n",
      "Linear               16 x 512 x 768       590,592    True      \n",
      "________________________________________________________________\n",
      "LayerNorm            16 x 512 x 768       1,536      True      \n",
      "________________________________________________________________\n",
      "Dropout              16 x 512 x 768       0          False     \n",
      "________________________________________________________________\n",
      "Linear               16 x 512 x 3072      2,362,368  True      \n",
      "________________________________________________________________\n",
      "Linear               16 x 512 x 768       2,360,064  True      \n",
      "________________________________________________________________\n",
      "LayerNorm            16 x 512 x 768       1,536      True      \n",
      "________________________________________________________________\n",
      "Dropout              16 x 512 x 768       0          False     \n",
      "________________________________________________________________\n",
      "Linear               16 x 512 x 768       590,592    True      \n",
      "________________________________________________________________\n",
      "Linear               16 x 512 x 768       590,592    True      \n",
      "________________________________________________________________\n",
      "Linear               16 x 512 x 768       590,592    True      \n",
      "________________________________________________________________\n",
      "Dropout              16 x 12 x 512 x 512  0          False     \n",
      "________________________________________________________________\n",
      "Linear               16 x 512 x 768       590,592    True      \n",
      "________________________________________________________________\n",
      "LayerNorm            16 x 512 x 768       1,536      True      \n",
      "________________________________________________________________\n",
      "Dropout              16 x 512 x 768       0          False     \n",
      "________________________________________________________________\n",
      "Linear               16 x 512 x 3072      2,362,368  True      \n",
      "________________________________________________________________\n",
      "Linear               16 x 512 x 768       2,360,064  True      \n",
      "________________________________________________________________\n",
      "LayerNorm            16 x 512 x 768       1,536      True      \n",
      "________________________________________________________________\n",
      "Dropout              16 x 512 x 768       0          False     \n",
      "________________________________________________________________\n",
      "Linear               16 x 512 x 768       590,592    True      \n",
      "________________________________________________________________\n",
      "Linear               16 x 512 x 768       590,592    True      \n",
      "________________________________________________________________\n",
      "Linear               16 x 512 x 768       590,592    True      \n",
      "________________________________________________________________\n",
      "Dropout              16 x 12 x 512 x 512  0          False     \n",
      "________________________________________________________________\n",
      "Linear               16 x 512 x 768       590,592    True      \n",
      "________________________________________________________________\n",
      "LayerNorm            16 x 512 x 768       1,536      True      \n",
      "________________________________________________________________\n",
      "Dropout              16 x 512 x 768       0          False     \n",
      "________________________________________________________________\n",
      "Linear               16 x 512 x 3072      2,362,368  True      \n",
      "________________________________________________________________\n",
      "Linear               16 x 512 x 768       2,360,064  True      \n",
      "________________________________________________________________\n",
      "LayerNorm            16 x 512 x 768       1,536      True      \n",
      "________________________________________________________________\n",
      "Dropout              16 x 512 x 768       0          False     \n",
      "________________________________________________________________\n",
      "Linear               16 x 512 x 768       590,592    True      \n",
      "________________________________________________________________\n",
      "Linear               16 x 512 x 768       590,592    True      \n",
      "________________________________________________________________\n",
      "Linear               16 x 512 x 768       590,592    True      \n",
      "________________________________________________________________\n",
      "Dropout              16 x 12 x 512 x 512  0          False     \n",
      "________________________________________________________________\n",
      "Linear               16 x 512 x 768       590,592    True      \n",
      "________________________________________________________________\n",
      "LayerNorm            16 x 512 x 768       1,536      True      \n",
      "________________________________________________________________\n",
      "Dropout              16 x 512 x 768       0          False     \n",
      "________________________________________________________________\n",
      "Linear               16 x 512 x 3072      2,362,368  True      \n",
      "________________________________________________________________\n",
      "Linear               16 x 512 x 768       2,360,064  True      \n",
      "________________________________________________________________\n",
      "LayerNorm            16 x 512 x 768       1,536      True      \n",
      "________________________________________________________________\n",
      "Dropout              16 x 512 x 768       0          False     \n",
      "________________________________________________________________\n",
      "Linear               16 x 512 x 768       590,592    True      \n",
      "________________________________________________________________\n",
      "Linear               16 x 512 x 768       590,592    True      \n",
      "________________________________________________________________\n",
      "Linear               16 x 512 x 768       590,592    True      \n",
      "________________________________________________________________\n",
      "Dropout              16 x 12 x 512 x 512  0          False     \n",
      "________________________________________________________________\n",
      "Linear               16 x 512 x 768       590,592    True      \n",
      "________________________________________________________________\n",
      "LayerNorm            16 x 512 x 768       1,536      True      \n",
      "________________________________________________________________\n",
      "Dropout              16 x 512 x 768       0          False     \n",
      "________________________________________________________________\n",
      "Linear               16 x 512 x 3072      2,362,368  True      \n",
      "________________________________________________________________\n",
      "Linear               16 x 512 x 768       2,360,064  True      \n",
      "________________________________________________________________\n",
      "LayerNorm            16 x 512 x 768       1,536      True      \n",
      "________________________________________________________________\n",
      "Dropout              16 x 512 x 768       0          False     \n",
      "________________________________________________________________\n",
      "Linear               16 x 512 x 768       590,592    True      \n",
      "________________________________________________________________\n",
      "Linear               16 x 512 x 768       590,592    True      \n",
      "________________________________________________________________\n",
      "Linear               16 x 512 x 768       590,592    True      \n",
      "________________________________________________________________\n",
      "Dropout              16 x 12 x 512 x 512  0          False     \n",
      "________________________________________________________________\n",
      "Linear               16 x 512 x 768       590,592    True      \n",
      "________________________________________________________________\n",
      "LayerNorm            16 x 512 x 768       1,536      True      \n",
      "________________________________________________________________\n",
      "Dropout              16 x 512 x 768       0          False     \n",
      "________________________________________________________________\n",
      "Linear               16 x 512 x 3072      2,362,368  True      \n",
      "________________________________________________________________\n",
      "Linear               16 x 512 x 768       2,360,064  True      \n",
      "________________________________________________________________\n",
      "LayerNorm            16 x 512 x 768       1,536      True      \n",
      "________________________________________________________________\n",
      "Dropout              16 x 512 x 768       0          False     \n",
      "________________________________________________________________\n",
      "Linear               16 x 512 x 768       590,592    True      \n",
      "________________________________________________________________\n",
      "Linear               16 x 512 x 768       590,592    True      \n",
      "________________________________________________________________\n",
      "Linear               16 x 512 x 768       590,592    True      \n",
      "________________________________________________________________\n",
      "Dropout              16 x 12 x 512 x 512  0          False     \n",
      "________________________________________________________________\n",
      "Linear               16 x 512 x 768       590,592    True      \n",
      "________________________________________________________________\n",
      "LayerNorm            16 x 512 x 768       1,536      True      \n",
      "________________________________________________________________\n",
      "Dropout              16 x 512 x 768       0          False     \n",
      "________________________________________________________________\n",
      "Linear               16 x 512 x 3072      2,362,368  True      \n",
      "________________________________________________________________\n",
      "Linear               16 x 512 x 768       2,360,064  True      \n",
      "________________________________________________________________\n",
      "LayerNorm            16 x 512 x 768       1,536      True      \n",
      "________________________________________________________________\n",
      "Dropout              16 x 512 x 768       0          False     \n",
      "________________________________________________________________\n",
      "Linear               16 x 512 x 768       590,592    True      \n",
      "________________________________________________________________\n",
      "Linear               16 x 512 x 768       590,592    True      \n",
      "________________________________________________________________\n",
      "Linear               16 x 512 x 768       590,592    True      \n",
      "________________________________________________________________\n",
      "Dropout              16 x 12 x 512 x 512  0          False     \n",
      "________________________________________________________________\n",
      "Linear               16 x 512 x 768       590,592    True      \n",
      "________________________________________________________________\n",
      "LayerNorm            16 x 512 x 768       1,536      True      \n",
      "________________________________________________________________\n",
      "Dropout              16 x 512 x 768       0          False     \n",
      "________________________________________________________________\n",
      "Linear               16 x 512 x 3072      2,362,368  True      \n",
      "________________________________________________________________\n",
      "Linear               16 x 512 x 768       2,360,064  True      \n",
      "________________________________________________________________\n",
      "LayerNorm            16 x 512 x 768       1,536      True      \n",
      "________________________________________________________________\n",
      "Dropout              16 x 512 x 768       0          False     \n",
      "________________________________________________________________\n",
      "Linear               16 x 512 x 768       590,592    True      \n",
      "________________________________________________________________\n",
      "Linear               16 x 512 x 768       590,592    True      \n",
      "________________________________________________________________\n",
      "Linear               16 x 512 x 768       590,592    True      \n",
      "________________________________________________________________\n",
      "Dropout              16 x 12 x 512 x 512  0          False     \n",
      "________________________________________________________________\n",
      "Linear               16 x 512 x 768       590,592    True      \n",
      "________________________________________________________________\n",
      "LayerNorm            16 x 512 x 768       1,536      True      \n",
      "________________________________________________________________\n",
      "Dropout              16 x 512 x 768       0          False     \n",
      "________________________________________________________________\n",
      "Linear               16 x 512 x 3072      2,362,368  True      \n",
      "________________________________________________________________\n",
      "Linear               16 x 512 x 768       2,360,064  True      \n",
      "________________________________________________________________\n",
      "LayerNorm            16 x 512 x 768       1,536      True      \n",
      "________________________________________________________________\n",
      "Dropout              16 x 512 x 768       0          False     \n",
      "________________________________________________________________\n",
      "Linear               16 x 768             590,592    True      \n",
      "________________________________________________________________\n",
      "Tanh                 16 x 768             0          False     \n",
      "________________________________________________________________\n",
      "Linear               16 x 512 x 768       590,592    True      \n",
      "________________________________________________________________\n",
      "LayerNorm            16 x 512 x 768       1,536      True      \n",
      "________________________________________________________________\n",
      "Linear               16 x 512 x 28996     22,297,924 True      \n",
      "________________________________________________________________\n",
      "\n",
      "Total params: 131,200,324\n",
      "Total trainable params: 131,200,324\n",
      "Total non-trainable params: 0\n",
      "\n",
      "Optimizer used: <function Adam at 0x7f81f4298840>\n",
      "Loss function: FlattenedLoss of CrossEntropyLoss()\n",
      "\n",
      "Model unfrozen\n",
      "\n",
      "Callbacks:\n",
      "  - DropOutput\n",
      "  - TerminateOnNaNCallback\n",
      "  - ModelToHalf\n",
      "  - TrainEvalCallback\n",
      "  - Recorder\n",
      "  - ProgressCallback\n",
      "  - MixedPrecision\n"
     ]
    }
   ],
   "source": [
    "print(learn.summary()) "
   ]
  },
  {
   "cell_type": "code",
   "execution_count": 51,
   "metadata": {},
   "outputs": [],
   "source": [
    "learn.save('20200817_fine_tuned_bert_model')"
   ]
  },
  {
   "cell_type": "code",
   "execution_count": 55,
   "metadata": {},
   "outputs": [
    {
     "data": {
      "text/plain": [
       "'[CLS] def get _ vid _ from _ url [SEP] # [SEP] # # # # # # # # # # # # # # # # # # # # # # # # # #'"
      ]
     },
     "execution_count": 55,
     "metadata": {},
     "output_type": "execute_result"
    }
   ],
   "source": [
    "prompt = \"def get_vid_from_url\"\n",
    "prompt_ids = tokenizer.encode(prompt)\n",
    "inp = tensor(prompt_ids)[None].cuda()\n",
    "inp.shape\n",
    "preds = learn.model.generate(inp, max_length=40, num_beams=5, temperature=1.5)\n",
    "tokenizer.decode(preds[0].cpu().numpy())"
   ]
  },
  {
   "cell_type": "code",
   "execution_count": 56,
   "metadata": {},
   "outputs": [
    {
     "data": {
      "text/plain": [
       "'[CLS] [CLS] [MASK] [SEP] and and [SEP] and and and and and and and and and and and and and and and and and and and and and and and and and and and and and and and, and'"
      ]
     },
     "execution_count": 56,
     "metadata": {},
     "output_type": "execute_result"
    }
   ],
   "source": [
    "prompt = \"[CLS] [MASK]\"\n",
    "prompt_ids = tokenizer.encode(prompt)\n",
    "inp = tensor(prompt_ids)[None].cuda()\n",
    "inp.shape\n",
    "preds = learn.model.generate(inp, max_length=40, num_beams=5, temperature=1.5)\n",
    "tokenizer.decode(preds[0].cpu().numpy())"
   ]
  },
  {
   "cell_type": "code",
   "execution_count": 60,
   "metadata": {},
   "outputs": [
    {
     "data": {
      "text/plain": [
       "'[CLS] [CLS] [SEP] [SEP] Campeonato [SEP] [SEP] # [SEP] # # [SEP] # # # # # # # # # # # # # # # # # # [SEP] # [SEP] [SEP] # [SEP] [SEP] [SEP] [SEP] [SEP]'"
      ]
     },
     "execution_count": 60,
     "metadata": {},
     "output_type": "execute_result"
    }
   ],
   "source": [
    "prompt = \"[CLS]\"\n",
    "prompt_ids = tokenizer.encode(prompt)\n",
    "inp = tensor(prompt_ids)[None].cuda()\n",
    "inp.shape\n",
    "preds = learn.model.generate(inp, max_length=40, num_beams=5, temperature=1.5)\n",
    "tokenizer.decode(preds[0].cpu().numpy())"
   ]
  },
  {
   "cell_type": "code",
   "execution_count": 61,
   "metadata": {},
   "outputs": [
    {
     "name": "stdout",
     "output_type": "stream",
     "text": [
      "mkdir: cannot create directory ‘20200817_fit_head_bert_model-CodeSearchNet’: File exists\r\n"
     ]
    },
    {
     "data": {
      "text/plain": [
       "('20200817_fit_head_bert_model-CodeSearchNet/vocab.txt',\n",
       " '20200817_fit_head_bert_model-CodeSearchNet/special_tokens_map.json',\n",
       " '20200817_fit_head_bert_model-CodeSearchNet/added_tokens.json')"
      ]
     },
     "execution_count": 61,
     "metadata": {},
     "output_type": "execute_result"
    }
   ],
   "source": [
    "learn.load('20200817_fit_head_bert_model');\n",
    "_model_bert_fit = learn.model\n",
    "# save tokenizer and model\n",
    "model_path= '20200817_fit_head_bert_model-CodeSearchNet'\n",
    "!mkdir {model_path}\n",
    "_model_bert_fit.save_pretrained(f\"{str(model_path)}\")\n",
    "tokenizer.save_pretrained(f\"{str(model_path)}\")"
   ]
  },
  {
   "cell_type": "code",
   "execution_count": 63,
   "metadata": {},
   "outputs": [
    {
     "data": {
      "text/plain": [
       "[{'sequence': '[CLS] def ( ( : [SEP]',\n",
       "  'score': 0.9995617270469666,\n",
       "  'token': 113,\n",
       "  'token_str': '('},\n",
       " {'sequence': '[CLS] def ) ( : [SEP]',\n",
       "  'score': 5.696003790944815e-05,\n",
       "  'token': 114,\n",
       "  'token_str': ')'},\n",
       " {'sequence': '[CLS] def. ( : [SEP]',\n",
       "  'score': 5.5757423979230225e-05,\n",
       "  'token': 119,\n",
       "  'token_str': '.'},\n",
       " {'sequence': '[CLS] def _ ( : [SEP]',\n",
       "  'score': 3.494691918604076e-05,\n",
       "  'token': 168,\n",
       "  'token_str': '_'},\n",
       " {'sequence': '[CLS] def, ( : [SEP]',\n",
       "  'score': 2.6676145353121683e-05,\n",
       "  'token': 117,\n",
       "  'token_str': ','}]"
      ]
     },
     "execution_count": 63,
     "metadata": {},
     "output_type": "execute_result"
    }
   ],
   "source": [
    "from transformers import pipeline\n",
    "\n",
    "fill_mask = pipeline(\n",
    "    \"fill-mask\",\n",
    "    model=\"./20200817_fit_head_bert_model-CodeSearchNet\",\n",
    "    tokenizer=\"./20200817_fit_head_bert_model-CodeSearchNet\"\n",
    ")\n",
    "\n",
    "fill_mask(\"def [MASK] (:\")"
   ]
  },
  {
   "cell_type": "code",
   "execution_count": 64,
   "metadata": {},
   "outputs": [
    {
     "data": {
      "text/plain": [
       "('20200817_fine_tuned_bert_model-CodeSearchNet/vocab.txt',\n",
       " '20200817_fine_tuned_bert_model-CodeSearchNet/special_tokens_map.json',\n",
       " '20200817_fine_tuned_bert_model-CodeSearchNet/added_tokens.json')"
      ]
     },
     "execution_count": 64,
     "metadata": {},
     "output_type": "execute_result"
    }
   ],
   "source": [
    "learn.load('20200817_fine_tuned_bert_model');\n",
    "_model_bert_fit = learn.model\n",
    "# save tokenizer and model\n",
    "model_path= '20200817_fine_tuned_bert_model-CodeSearchNet'\n",
    "!mkdir {model_path}\n",
    "_model_bert_fit.save_pretrained(f\"{str(model_path)}\")\n",
    "tokenizer.save_pretrained(f\"{str(model_path)}\")"
   ]
  },
  {
   "cell_type": "code",
   "execution_count": 65,
   "metadata": {},
   "outputs": [
    {
     "data": {
      "text/plain": [
       "[{'sequence': '[CLS] def ( ( [SEP]',\n",
       "  'score': 0.9934437274932861,\n",
       "  'token': 113,\n",
       "  'token_str': '('},\n",
       " {'sequence': '[CLS] def [CLS] ( [SEP]',\n",
       "  'score': 0.0010817724978551269,\n",
       "  'token': 101,\n",
       "  'token_str': '[CLS]'},\n",
       " {'sequence': '[CLS] def, ( [SEP]',\n",
       "  'score': 0.0007386057986877859,\n",
       "  'token': 117,\n",
       "  'token_str': ','},\n",
       " {'sequence': '[CLS] def where ( [SEP]',\n",
       "  'score': 0.0005967014585621655,\n",
       "  'token': 1187,\n",
       "  'token_str': 'where'},\n",
       " {'sequence': '[CLS] def with ( [SEP]',\n",
       "  'score': 0.00032101187389343977,\n",
       "  'token': 1114,\n",
       "  'token_str': 'with'}]"
      ]
     },
     "execution_count": 65,
     "metadata": {},
     "output_type": "execute_result"
    }
   ],
   "source": [
    "from transformers import pipeline\n",
    "\n",
    "fill_mask = pipeline(\n",
    "    \"fill-mask\",\n",
    "    model=\"./20200817_fine_tuned_bert_model-CodeSearchNet\",\n",
    "    tokenizer=\"./20200817_fine_tuned_bert_model-CodeSearchNet\"\n",
    ")\n",
    "\n",
    "fill_mask(\"def [MASK] (\")"
   ]
  },
  {
   "cell_type": "code",
   "execution_count": 67,
   "metadata": {},
   "outputs": [
    {
     "data": {
      "text/plain": [
       "[{'sequence': '[CLS] def get _ vid _ from _ url ( url ) : [SEP] [SEP]',\n",
       "  'score': 0.9957885146141052,\n",
       "  'token': 102,\n",
       "  'token_str': '[SEP]'},\n",
       " {'sequence': '[CLS] def get _ vid _ from _ url ( url ) : [CLS] [SEP]',\n",
       "  'score': 0.0012085170019418001,\n",
       "  'token': 101,\n",
       "  'token_str': '[CLS]'},\n",
       " {'sequence': '[CLS] def get _ vid _ from _ url ( url ) :. [SEP]',\n",
       "  'score': 0.0007131644524633884,\n",
       "  'token': 119,\n",
       "  'token_str': '.'},\n",
       " {'sequence': '[CLS] def get _ vid _ from _ url ( url ) : def [SEP]',\n",
       "  'score': 0.0007044895901344717,\n",
       "  'token': 19353,\n",
       "  'token_str': 'def'},\n",
       " {'sequence': '[CLS] def get _ vid _ from _ url ( url ) : ; [SEP]',\n",
       "  'score': 0.00013354521070141345,\n",
       "  'token': 132,\n",
       "  'token_str': ';'}]"
      ]
     },
     "execution_count": 67,
     "metadata": {},
     "output_type": "execute_result"
    }
   ],
   "source": [
    "fill_mask(\"def get_vid_from_url(url):\\n [MASK]\")"
   ]
  },
  {
   "cell_type": "code",
   "execution_count": 68,
   "metadata": {},
   "outputs": [
    {
     "data": {
      "text/plain": [
       "[{'sequence': '[CLS] from pandas import [SEP] [SEP]',\n",
       "  'score': 0.9969683289527893,\n",
       "  'token': 102,\n",
       "  'token_str': '[SEP]'},\n",
       " {'sequence': '[CLS] from pandas import [CLS] [SEP]',\n",
       "  'score': 0.0010887219104915857,\n",
       "  'token': 101,\n",
       "  'token_str': '[CLS]'},\n",
       " {'sequence': '[CLS] from pandas import. [SEP]',\n",
       "  'score': 0.0004200416151434183,\n",
       "  'token': 119,\n",
       "  'token_str': '.'},\n",
       " {'sequence': '[CLS] from pandas import ; [SEP]',\n",
       "  'score': 0.00027348980074748397,\n",
       "  'token': 132,\n",
       "  'token_str': ';'},\n",
       " {'sequence': '[CLS] from pandas import def [SEP]',\n",
       "  'score': 8.858884393703192e-05,\n",
       "  'token': 19353,\n",
       "  'token_str': 'def'}]"
      ]
     },
     "execution_count": 68,
     "metadata": {},
     "output_type": "execute_result"
    }
   ],
   "source": [
    "fill_mask(\"from pandas import [MASK]\") "
   ]
  },
  {
   "cell_type": "code",
   "execution_count": 1,
   "metadata": {},
   "outputs": [
    {
     "name": "stderr",
     "output_type": "stream",
     "text": [
      "/opt/tljh/user/lib/python3.7/site-packages/transformers/modeling_auto.py:798: FutureWarning: The class `AutoModelWithLMHead` is deprecated and will be removed in a future version. Please use `AutoModelForCausalLM` for causal language models, `AutoModelForMaskedLM` for masked language models and `AutoModelForSeq2SeqLM` for encoder-decoder models.\n",
      "  FutureWarning,\n"
     ]
    },
    {
     "ename": "NotImplementedError",
     "evalue": "Generation is currently not supported for BertForMaskedLM. Please select a model from ['XLNetLMHeadModel', 'TransfoXLLMHeadModel', 'ReformerModelWithLMHead', 'GPT2LMHeadModel', 'OpenAIGPTLMHeadModel', 'CTRLLMHeadModel', 'TFXLNetLMHeadModel', 'TFTransfoXLLMHeadModel', 'TFGPT2LMHeadModel', 'TFOpenAIGPTLMHeadModel', 'TFCTRLLMHeadModel'] for generation.",
     "output_type": "error",
     "traceback": [
      "\u001b[0;31m---------------------------------------------------------------------------\u001b[0m",
      "\u001b[0;31mNotImplementedError\u001b[0m                       Traceback (most recent call last)",
      "\u001b[0;32m<ipython-input-1-9f4a6c708c90>\u001b[0m in \u001b[0;36m<module>\u001b[0;34m\u001b[0m\n\u001b[1;32m      7\u001b[0m )\n\u001b[1;32m      8\u001b[0m \u001b[0;34m\u001b[0m\u001b[0m\n\u001b[0;32m----> 9\u001b[0;31m \u001b[0mtext_generation\u001b[0m\u001b[0;34m(\u001b[0m\u001b[0;34m\"def [MASK] (\"\u001b[0m\u001b[0;34m)\u001b[0m\u001b[0;34m\u001b[0m\u001b[0;34m\u001b[0m\u001b[0m\n\u001b[0m",
      "\u001b[0;32m/opt/tljh/user/lib/python3.7/site-packages/transformers/pipelines.py\u001b[0m in \u001b[0;36m__call__\u001b[0;34m(self, return_tensors, return_text, clean_up_tokenization_spaces, *args, **generate_kwargs)\u001b[0m\n\u001b[1;32m    644\u001b[0m             raise NotImplementedError(\n\u001b[1;32m    645\u001b[0m                 \"Generation is currently not supported for {}. Please select a model from {} for generation.\".format(\n\u001b[0;32m--> 646\u001b[0;31m                     \u001b[0mself\u001b[0m\u001b[0;34m.\u001b[0m\u001b[0mmodel\u001b[0m\u001b[0;34m.\u001b[0m\u001b[0m__class__\u001b[0m\u001b[0;34m.\u001b[0m\u001b[0m__name__\u001b[0m\u001b[0;34m,\u001b[0m \u001b[0mself\u001b[0m\u001b[0;34m.\u001b[0m\u001b[0mALLOWED_MODELS\u001b[0m\u001b[0;34m\u001b[0m\u001b[0;34m\u001b[0m\u001b[0m\n\u001b[0m\u001b[1;32m    647\u001b[0m                 )\n\u001b[1;32m    648\u001b[0m             )\n",
      "\u001b[0;31mNotImplementedError\u001b[0m: Generation is currently not supported for BertForMaskedLM. Please select a model from ['XLNetLMHeadModel', 'TransfoXLLMHeadModel', 'ReformerModelWithLMHead', 'GPT2LMHeadModel', 'OpenAIGPTLMHeadModel', 'CTRLLMHeadModel', 'TFXLNetLMHeadModel', 'TFTransfoXLLMHeadModel', 'TFGPT2LMHeadModel', 'TFOpenAIGPTLMHeadModel', 'TFCTRLLMHeadModel'] for generation."
     ]
    }
   ],
   "source": [
    "from transformers import pipeline\n",
    "\n",
    "text_generation = pipeline(\n",
    "    \"text-generation\",\n",
    "    model=\"./20200817_fine_tuned_bert_model-CodeSearchNet\",\n",
    "    tokenizer=\"./20200817_fine_tuned_bert_model-CodeSearchNet\"\n",
    ")\n",
    "\n",
    "text_generation(\"def [MASK] (\")"
   ]
  },
  {
   "cell_type": "code",
   "execution_count": null,
   "metadata": {},
   "outputs": [],
   "source": []
  }
 ],
 "metadata": {
  "kernelspec": {
   "display_name": "Python 3",
   "language": "python",
   "name": "python3"
  },
  "language_info": {
   "codemirror_mode": {
    "name": "ipython",
    "version": 3
   },
   "file_extension": ".py",
   "mimetype": "text/x-python",
   "name": "python",
   "nbconvert_exporter": "python",
   "pygments_lexer": "ipython3",
   "version": "3.7.3"
  }
 },
 "nbformat": 4,
 "nbformat_minor": 4
}
