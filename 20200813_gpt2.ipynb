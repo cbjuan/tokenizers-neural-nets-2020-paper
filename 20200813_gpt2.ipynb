{
 "cells": [
  {
   "cell_type": "code",
   "execution_count": 1,
   "metadata": {},
   "outputs": [],
   "source": [
    "%reload_ext autoreload\n",
    "%autoreload 2\n",
    "%matplotlib inline"
   ]
  },
  {
   "cell_type": "markdown",
   "metadata": {},
   "source": [
    "## Download the codeSearchNetChallenge dataset \n",
    "_If needed_"
   ]
  },
  {
   "cell_type": "code",
   "execution_count": 2,
   "metadata": {},
   "outputs": [
    {
     "name": "stdout",
     "output_type": "stream",
     "text": [
      "CodeSearchNet challenge dataset ready to use!\n"
     ]
    }
   ],
   "source": [
    "%run downloading_cleaning_codeSearchNetChallenge_dataset.ipynb"
   ]
  },
  {
   "cell_type": "markdown",
   "metadata": {},
   "source": [
    "## Exporting the codeSearchNetChallenge dataset to CSV files\n",
    "\n",
    "_If needed_"
   ]
  },
  {
   "cell_type": "code",
   "execution_count": 3,
   "metadata": {},
   "outputs": [
    {
     "name": "stdout",
     "output_type": "stream",
     "text": [
      "Total lines of Python code in the dataset (after removing empty lines)\n",
      "11206193\n",
      "\n",
      "\n",
      "Total lines of Python code in the dataset's train folder (after removing empty lines)\n",
      "10054266\n",
      "\n",
      "\n",
      "Total lines of Python in the dataset's test folder (after removing empty lines)\n",
      "541338\n",
      "\n",
      "\n",
      "Total lines of Python in the dataset's valid folder\n",
      "610589\n"
     ]
    }
   ],
   "source": [
    "%run preparing_csv_files_from_codeSearchNetChallenge_dataset.ipynb"
   ]
  },
  {
   "cell_type": "markdown",
   "metadata": {},
   "source": [
    "Source: https://dev.fast.ai/tutorial.transformers"
   ]
  },
  {
   "cell_type": "code",
   "execution_count": 4,
   "metadata": {},
   "outputs": [
    {
     "name": "stdout",
     "output_type": "stream",
     "text": [
      "Current cuda device  1\n"
     ]
    }
   ],
   "source": [
    "import torch\n",
    "torch.cuda.set_device(1)\n",
    "print ('Current cuda device ', torch.cuda.current_device())"
   ]
  },
  {
   "cell_type": "code",
   "execution_count": 5,
   "metadata": {},
   "outputs": [],
   "source": [
    "from transformers import GPT2LMHeadModel, GPT2TokenizerFast"
   ]
  },
  {
   "cell_type": "code",
   "execution_count": 6,
   "metadata": {},
   "outputs": [
    {
     "name": "stderr",
     "output_type": "stream",
     "text": [
      "Some weights of GPT2LMHeadModel were not initialized from the model checkpoint at gpt2 and are newly initialized: ['h.0.attn.masked_bias', 'h.1.attn.masked_bias', 'h.2.attn.masked_bias', 'h.3.attn.masked_bias', 'h.4.attn.masked_bias', 'h.5.attn.masked_bias', 'h.6.attn.masked_bias', 'h.7.attn.masked_bias', 'h.8.attn.masked_bias', 'h.9.attn.masked_bias', 'h.10.attn.masked_bias', 'h.11.attn.masked_bias', 'lm_head.weight']\n",
      "You should probably TRAIN this model on a down-stream task to be able to use it for predictions and inference.\n"
     ]
    }
   ],
   "source": [
    "pretrained_weights = 'gpt2'\n",
    "tokenizer = GPT2TokenizerFast.from_pretrained(pretrained_weights)\n",
    "model = GPT2LMHeadModel.from_pretrained(pretrained_weights)"
   ]
  },
  {
   "cell_type": "code",
   "execution_count": 7,
   "metadata": {},
   "outputs": [
    {
     "data": {
      "text/plain": [
       "[1212, 318, 281, 1672, 286, 2420, 11, 290]"
      ]
     },
     "execution_count": 7,
     "metadata": {},
     "output_type": "execute_result"
    }
   ],
   "source": [
    "ids = tokenizer.encode('This is an example of text, and')\n",
    "ids"
   ]
  },
  {
   "cell_type": "code",
   "execution_count": 8,
   "metadata": {},
   "outputs": [
    {
     "data": {
      "text/plain": [
       "'This is an example of text, and'"
      ]
     },
     "execution_count": 8,
     "metadata": {},
     "output_type": "execute_result"
    }
   ],
   "source": [
    "tokenizer.decode(ids)"
   ]
  },
  {
   "cell_type": "code",
   "execution_count": 9,
   "metadata": {},
   "outputs": [
    {
     "name": "stderr",
     "output_type": "stream",
     "text": [
      "Setting `pad_token_id` to 50256 (first `eos_token_id`) to generate sequence\n"
     ]
    }
   ],
   "source": [
    "import torch\n",
    "t = torch.LongTensor(ids)[None]\n",
    "preds = model.generate(t)"
   ]
  },
  {
   "cell_type": "code",
   "execution_count": 10,
   "metadata": {},
   "outputs": [
    {
     "data": {
      "text/plain": [
       "(torch.Size([1, 20]),\n",
       " tensor([1212,  318,  281, 1672,  286, 2420,   11,  290,  340,  338,  407,  257,\n",
       "          922,  530,   13,  198,  198,  464,  717, 1517]))"
      ]
     },
     "execution_count": 10,
     "metadata": {},
     "output_type": "execute_result"
    }
   ],
   "source": [
    "preds.shape,preds[0]"
   ]
  },
  {
   "cell_type": "code",
   "execution_count": 11,
   "metadata": {},
   "outputs": [
    {
     "data": {
      "text/plain": [
       "\"This is an example of text, and it's not a good one.\\n\\nThe first thing\""
      ]
     },
     "execution_count": 11,
     "metadata": {},
     "output_type": "execute_result"
    }
   ],
   "source": [
    "tokenizer.decode(preds[0].numpy())"
   ]
  },
  {
   "cell_type": "code",
   "execution_count": 12,
   "metadata": {},
   "outputs": [],
   "source": [
    "from fastai2.text.all import *"
   ]
  },
  {
   "cell_type": "code",
   "execution_count": 13,
   "metadata": {},
   "outputs": [],
   "source": [
    "codeSearchNet_challenge_path = './CodeSearchNet_challenge_dataset'\n",
    "all_csv_path = './CodeSearchNet_challenge_dataset/CodeSearchNet_challenge_dataset.csv'\n",
    "train_csv_path = './CodeSearchNet_challenge_dataset/python/final/jsonl/train/train_CodeSearchNet_challenge_dataset.csv'\n",
    "test_csv_path = './CodeSearchNet_challenge_dataset/python/final/jsonl/test/test_CodeSearchNet_challenge_dataset.csv'\n",
    "valid_csv_path = './CodeSearchNet_challenge_dataset/python/final/jsonl/valid/valid_CodeSearchNet_challenge_dataset.csv'"
   ]
  },
  {
   "cell_type": "code",
   "execution_count": 14,
   "metadata": {},
   "outputs": [
    {
     "data": {
      "text/html": [
       "<div>\n",
       "<style scoped>\n",
       "    .dataframe tbody tr th:only-of-type {\n",
       "        vertical-align: middle;\n",
       "    }\n",
       "\n",
       "    .dataframe tbody tr th {\n",
       "        vertical-align: top;\n",
       "    }\n",
       "\n",
       "    .dataframe thead th {\n",
       "        text-align: right;\n",
       "    }\n",
       "</style>\n",
       "<table border=\"1\" class=\"dataframe\">\n",
       "  <thead>\n",
       "    <tr style=\"text-align: right;\">\n",
       "      <th></th>\n",
       "      <th>filename</th>\n",
       "      <th>text</th>\n",
       "    </tr>\n",
       "  </thead>\n",
       "  <tbody>\n",
       "    <tr>\n",
       "      <th>0</th>\n",
       "      <td>CodeSearchNet_challenge_dataset/python/final/jsonl/train/python_train_11.py</td>\n",
       "      <td>def show_slug_with_level(context, page, lang=None, fallback=True):\\n    \"\"\"Display slug with level by language.\"\"\"\\n    if not lang:\\n        lang = context.get('lang', pages_settings.PAGE_DEFAULT_LANGUAGE)\\n\\n    page = get_page_from_string_or_id(page, lang)\\n    if not page:\\n        return ''\\n\\n    return {'content': page.slug_with_level(lang)}\\n\\n\\ndef show_revisions(context, page, content_type, lang=None):\\n    \"\"\"Render the last 10 revisions of a page content with a list using\\n        the ``pages/revisions.html`` template\"\"\"\\n    if not pages_settings.PAGE_CONTENT_REVISION:\\n      ...</td>\n",
       "    </tr>\n",
       "    <tr>\n",
       "      <th>1</th>\n",
       "      <td>CodeSearchNet_challenge_dataset/python/final/jsonl/train/python_train_8.py</td>\n",
       "      <td>def public(self):\\n    \"\"\"True if the Slot is public.\"\"\"\\n    return bool(lib.EnvSlotPublicP(self._env, self._cls, self._name))\\n\\n\\ndef initializable(self):\\n    \"\"\"True if the Slot is initializable.\"\"\"\\n    return bool(lib.EnvSlotInitableP(self._env, self._cls, self._name))\\n\\n\\ndef writable(self):\\n    \"\"\"True if the Slot is writable.\"\"\"\\n    return bool(lib.EnvSlotWritableP(self._env, self._cls, self._name))\\n\\n\\ndef accessible(self):\\n    \"\"\"True if the Slot is directly accessible.\"\"\"\\n    return bool(lib.EnvSlotDirectAccessP(self._env, self._cls, self._name))\\n\\n\\ndef types(self):\\n ...</td>\n",
       "    </tr>\n",
       "    <tr>\n",
       "      <th>2</th>\n",
       "      <td>CodeSearchNet_challenge_dataset/python/final/jsonl/train/python_train_1.py</td>\n",
       "      <td>def zmq_device(self):\\n    '''\\n    Multiprocessing target for the zmq queue device\\n    '''\\n    self.__setup_signals()\\n    salt.utils.process.appendproctitle('MWorkerQueue')\\n    self.context = zmq.Context(self.opts['worker_threads'])\\n    # Prepare the zeromq sockets\\n    self.uri = 'tcp://{interface}:{ret_port}'.format(**self.opts)\\n    self.clients = self.context.socket(zmq.ROUTER)\\n    if self.opts['ipv6'] is True and hasattr(zmq, 'IPV4ONLY'):\\n        # IPv6 sockets work for both IPv6 and IPv4 addresses\\n        self.clients.setsockopt(zmq.IPV4ONLY, 0)\\n    self.clients.setsockopt(...</td>\n",
       "    </tr>\n",
       "    <tr>\n",
       "      <th>3</th>\n",
       "      <td>CodeSearchNet_challenge_dataset/python/final/jsonl/train/python_train_13.py</td>\n",
       "      <td>def get_datetime_sorted_rows(dbconn, table_name, uuid=None, column=None):\\n    \"\"\"\\n    Get a list of datetime sorted rows from a table in the database\\n    :param dbconn: database connection\\n    :param table_name: name of table in the database\\n    :param uuid: optional uuid to pull from\\n    :param column: optional column/field in the table to pull instead of rows\\n    :returns: a list of tuples containing (datetime, row) pairs or (datetime, column) pairs if columns is specified.\\n    \"\"\"\\n    rows = get_rows(dbconn, table_name, uuid=uuid)\\n    data = []\\n    for r in rows:\\n        dt ...</td>\n",
       "    </tr>\n",
       "    <tr>\n",
       "      <th>4</th>\n",
       "      <td>CodeSearchNet_challenge_dataset/python/final/jsonl/train/python_train_5.py</td>\n",
       "      <td>def export_ruptures_csv(ekey, dstore):\\n    \"\"\"\\n    :param ekey: export key, i.e. a pair (datastore key, fmt)\\n    :param dstore: datastore object\\n    \"\"\"\\n    oq = dstore['oqparam']\\n    if 'scenario' in oq.calculation_mode:\\n        return []\\n    dest = dstore.export_path('ruptures.csv')\\n    header = ('rupid multiplicity mag centroid_lon centroid_lat '\\n              'centroid_depth trt strike dip rake boundary').split()\\n    rows = []\\n    for rgetter in gen_rupture_getters(dstore):\\n        rups = rgetter.get_ruptures()\\n        rup_data = calc.RuptureData(rgetter.trt, rgetter.rlzs...</td>\n",
       "    </tr>\n",
       "  </tbody>\n",
       "</table>\n",
       "</div>"
      ],
      "text/plain": [
       "                                                                      filename  \\\n",
       "0  CodeSearchNet_challenge_dataset/python/final/jsonl/train/python_train_11.py   \n",
       "1   CodeSearchNet_challenge_dataset/python/final/jsonl/train/python_train_8.py   \n",
       "2   CodeSearchNet_challenge_dataset/python/final/jsonl/train/python_train_1.py   \n",
       "3  CodeSearchNet_challenge_dataset/python/final/jsonl/train/python_train_13.py   \n",
       "4   CodeSearchNet_challenge_dataset/python/final/jsonl/train/python_train_5.py   \n",
       "\n",
       "                                                                                                                                                                                                                                                                                                                                                                                                                                                                                                                                                                                                                      text  \n",
       "0  def show_slug_with_level(context, page, lang=None, fallback=True):\\n    \"\"\"Display slug with level by language.\"\"\"\\n    if not lang:\\n        lang = context.get('lang', pages_settings.PAGE_DEFAULT_LANGUAGE)\\n\\n    page = get_page_from_string_or_id(page, lang)\\n    if not page:\\n        return ''\\n\\n    return {'content': page.slug_with_level(lang)}\\n\\n\\ndef show_revisions(context, page, content_type, lang=None):\\n    \"\"\"Render the last 10 revisions of a page content with a list using\\n        the ``pages/revisions.html`` template\"\"\"\\n    if not pages_settings.PAGE_CONTENT_REVISION:\\n      ...  \n",
       "1  def public(self):\\n    \"\"\"True if the Slot is public.\"\"\"\\n    return bool(lib.EnvSlotPublicP(self._env, self._cls, self._name))\\n\\n\\ndef initializable(self):\\n    \"\"\"True if the Slot is initializable.\"\"\"\\n    return bool(lib.EnvSlotInitableP(self._env, self._cls, self._name))\\n\\n\\ndef writable(self):\\n    \"\"\"True if the Slot is writable.\"\"\"\\n    return bool(lib.EnvSlotWritableP(self._env, self._cls, self._name))\\n\\n\\ndef accessible(self):\\n    \"\"\"True if the Slot is directly accessible.\"\"\"\\n    return bool(lib.EnvSlotDirectAccessP(self._env, self._cls, self._name))\\n\\n\\ndef types(self):\\n ...  \n",
       "2  def zmq_device(self):\\n    '''\\n    Multiprocessing target for the zmq queue device\\n    '''\\n    self.__setup_signals()\\n    salt.utils.process.appendproctitle('MWorkerQueue')\\n    self.context = zmq.Context(self.opts['worker_threads'])\\n    # Prepare the zeromq sockets\\n    self.uri = 'tcp://{interface}:{ret_port}'.format(**self.opts)\\n    self.clients = self.context.socket(zmq.ROUTER)\\n    if self.opts['ipv6'] is True and hasattr(zmq, 'IPV4ONLY'):\\n        # IPv6 sockets work for both IPv6 and IPv4 addresses\\n        self.clients.setsockopt(zmq.IPV4ONLY, 0)\\n    self.clients.setsockopt(...  \n",
       "3  def get_datetime_sorted_rows(dbconn, table_name, uuid=None, column=None):\\n    \"\"\"\\n    Get a list of datetime sorted rows from a table in the database\\n    :param dbconn: database connection\\n    :param table_name: name of table in the database\\n    :param uuid: optional uuid to pull from\\n    :param column: optional column/field in the table to pull instead of rows\\n    :returns: a list of tuples containing (datetime, row) pairs or (datetime, column) pairs if columns is specified.\\n    \"\"\"\\n    rows = get_rows(dbconn, table_name, uuid=uuid)\\n    data = []\\n    for r in rows:\\n        dt ...  \n",
       "4  def export_ruptures_csv(ekey, dstore):\\n    \"\"\"\\n    :param ekey: export key, i.e. a pair (datastore key, fmt)\\n    :param dstore: datastore object\\n    \"\"\"\\n    oq = dstore['oqparam']\\n    if 'scenario' in oq.calculation_mode:\\n        return []\\n    dest = dstore.export_path('ruptures.csv')\\n    header = ('rupid multiplicity mag centroid_lon centroid_lat '\\n              'centroid_depth trt strike dip rake boundary').split()\\n    rows = []\\n    for rgetter in gen_rupture_getters(dstore):\\n        rups = rgetter.get_ruptures()\\n        rup_data = calc.RuptureData(rgetter.trt, rgetter.rlzs...  "
      ]
     },
     "execution_count": 14,
     "metadata": {},
     "output_type": "execute_result"
    }
   ],
   "source": [
    "df_train = pd.read_csv(train_csv_path)\n",
    "df_valid = pd.read_csv(test_csv_path)\n",
    "df_train.head()"
   ]
  },
  {
   "cell_type": "code",
   "execution_count": 15,
   "metadata": {
    "scrolled": false
   },
   "outputs": [
    {
     "data": {
      "text/html": [
       "<div>\n",
       "<style scoped>\n",
       "    .dataframe tbody tr th:only-of-type {\n",
       "        vertical-align: middle;\n",
       "    }\n",
       "\n",
       "    .dataframe tbody tr th {\n",
       "        vertical-align: top;\n",
       "    }\n",
       "\n",
       "    .dataframe thead th {\n",
       "        text-align: right;\n",
       "    }\n",
       "</style>\n",
       "<table border=\"1\" class=\"dataframe\">\n",
       "  <thead>\n",
       "    <tr style=\"text-align: right;\">\n",
       "      <th></th>\n",
       "      <th>text</th>\n",
       "    </tr>\n",
       "  </thead>\n",
       "  <tbody>\n",
       "    <tr>\n",
       "      <th>0</th>\n",
       "      <td>def show_slug_with_level(context, page, lang=None, fallback=True):\\n    \"\"\"Display slug with level by language.\"\"\"\\n    if not lang:\\n        lang = context.get('lang', pages_settings.PAGE_DEFAULT_LANGUAGE)\\n\\n    page = get_page_from_string_or_id(page, lang)\\n    if not page:\\n        return ''\\n\\n    return {'content': page.slug_with_level(lang)}\\n\\n\\ndef show_revisions(context, page, content_type, lang=None):\\n    \"\"\"Render the last 10 revisions of a page content with a list using\\n        the ``pages/revisions.html`` template\"\"\"\\n    if not pages_settings.PAGE_CONTENT_REVISION:\\n      ...</td>\n",
       "    </tr>\n",
       "    <tr>\n",
       "      <th>1</th>\n",
       "      <td>def public(self):\\n    \"\"\"True if the Slot is public.\"\"\"\\n    return bool(lib.EnvSlotPublicP(self._env, self._cls, self._name))\\n\\n\\ndef initializable(self):\\n    \"\"\"True if the Slot is initializable.\"\"\"\\n    return bool(lib.EnvSlotInitableP(self._env, self._cls, self._name))\\n\\n\\ndef writable(self):\\n    \"\"\"True if the Slot is writable.\"\"\"\\n    return bool(lib.EnvSlotWritableP(self._env, self._cls, self._name))\\n\\n\\ndef accessible(self):\\n    \"\"\"True if the Slot is directly accessible.\"\"\"\\n    return bool(lib.EnvSlotDirectAccessP(self._env, self._cls, self._name))\\n\\n\\ndef types(self):\\n ...</td>\n",
       "    </tr>\n",
       "    <tr>\n",
       "      <th>2</th>\n",
       "      <td>def zmq_device(self):\\n    '''\\n    Multiprocessing target for the zmq queue device\\n    '''\\n    self.__setup_signals()\\n    salt.utils.process.appendproctitle('MWorkerQueue')\\n    self.context = zmq.Context(self.opts['worker_threads'])\\n    # Prepare the zeromq sockets\\n    self.uri = 'tcp://{interface}:{ret_port}'.format(**self.opts)\\n    self.clients = self.context.socket(zmq.ROUTER)\\n    if self.opts['ipv6'] is True and hasattr(zmq, 'IPV4ONLY'):\\n        # IPv6 sockets work for both IPv6 and IPv4 addresses\\n        self.clients.setsockopt(zmq.IPV4ONLY, 0)\\n    self.clients.setsockopt(...</td>\n",
       "    </tr>\n",
       "    <tr>\n",
       "      <th>3</th>\n",
       "      <td>def get_datetime_sorted_rows(dbconn, table_name, uuid=None, column=None):\\n    \"\"\"\\n    Get a list of datetime sorted rows from a table in the database\\n    :param dbconn: database connection\\n    :param table_name: name of table in the database\\n    :param uuid: optional uuid to pull from\\n    :param column: optional column/field in the table to pull instead of rows\\n    :returns: a list of tuples containing (datetime, row) pairs or (datetime, column) pairs if columns is specified.\\n    \"\"\"\\n    rows = get_rows(dbconn, table_name, uuid=uuid)\\n    data = []\\n    for r in rows:\\n        dt ...</td>\n",
       "    </tr>\n",
       "    <tr>\n",
       "      <th>4</th>\n",
       "      <td>def export_ruptures_csv(ekey, dstore):\\n    \"\"\"\\n    :param ekey: export key, i.e. a pair (datastore key, fmt)\\n    :param dstore: datastore object\\n    \"\"\"\\n    oq = dstore['oqparam']\\n    if 'scenario' in oq.calculation_mode:\\n        return []\\n    dest = dstore.export_path('ruptures.csv')\\n    header = ('rupid multiplicity mag centroid_lon centroid_lat '\\n              'centroid_depth trt strike dip rake boundary').split()\\n    rows = []\\n    for rgetter in gen_rupture_getters(dstore):\\n        rups = rgetter.get_ruptures()\\n        rup_data = calc.RuptureData(rgetter.trt, rgetter.rlzs...</td>\n",
       "    </tr>\n",
       "  </tbody>\n",
       "</table>\n",
       "</div>"
      ],
      "text/plain": [
       "                                                                                                                                                                                                                                                                                                                                                                                                                                                                                                                                                                                                                      text\n",
       "0  def show_slug_with_level(context, page, lang=None, fallback=True):\\n    \"\"\"Display slug with level by language.\"\"\"\\n    if not lang:\\n        lang = context.get('lang', pages_settings.PAGE_DEFAULT_LANGUAGE)\\n\\n    page = get_page_from_string_or_id(page, lang)\\n    if not page:\\n        return ''\\n\\n    return {'content': page.slug_with_level(lang)}\\n\\n\\ndef show_revisions(context, page, content_type, lang=None):\\n    \"\"\"Render the last 10 revisions of a page content with a list using\\n        the ``pages/revisions.html`` template\"\"\"\\n    if not pages_settings.PAGE_CONTENT_REVISION:\\n      ...\n",
       "1  def public(self):\\n    \"\"\"True if the Slot is public.\"\"\"\\n    return bool(lib.EnvSlotPublicP(self._env, self._cls, self._name))\\n\\n\\ndef initializable(self):\\n    \"\"\"True if the Slot is initializable.\"\"\"\\n    return bool(lib.EnvSlotInitableP(self._env, self._cls, self._name))\\n\\n\\ndef writable(self):\\n    \"\"\"True if the Slot is writable.\"\"\"\\n    return bool(lib.EnvSlotWritableP(self._env, self._cls, self._name))\\n\\n\\ndef accessible(self):\\n    \"\"\"True if the Slot is directly accessible.\"\"\"\\n    return bool(lib.EnvSlotDirectAccessP(self._env, self._cls, self._name))\\n\\n\\ndef types(self):\\n ...\n",
       "2  def zmq_device(self):\\n    '''\\n    Multiprocessing target for the zmq queue device\\n    '''\\n    self.__setup_signals()\\n    salt.utils.process.appendproctitle('MWorkerQueue')\\n    self.context = zmq.Context(self.opts['worker_threads'])\\n    # Prepare the zeromq sockets\\n    self.uri = 'tcp://{interface}:{ret_port}'.format(**self.opts)\\n    self.clients = self.context.socket(zmq.ROUTER)\\n    if self.opts['ipv6'] is True and hasattr(zmq, 'IPV4ONLY'):\\n        # IPv6 sockets work for both IPv6 and IPv4 addresses\\n        self.clients.setsockopt(zmq.IPV4ONLY, 0)\\n    self.clients.setsockopt(...\n",
       "3  def get_datetime_sorted_rows(dbconn, table_name, uuid=None, column=None):\\n    \"\"\"\\n    Get a list of datetime sorted rows from a table in the database\\n    :param dbconn: database connection\\n    :param table_name: name of table in the database\\n    :param uuid: optional uuid to pull from\\n    :param column: optional column/field in the table to pull instead of rows\\n    :returns: a list of tuples containing (datetime, row) pairs or (datetime, column) pairs if columns is specified.\\n    \"\"\"\\n    rows = get_rows(dbconn, table_name, uuid=uuid)\\n    data = []\\n    for r in rows:\\n        dt ...\n",
       "4  def export_ruptures_csv(ekey, dstore):\\n    \"\"\"\\n    :param ekey: export key, i.e. a pair (datastore key, fmt)\\n    :param dstore: datastore object\\n    \"\"\"\\n    oq = dstore['oqparam']\\n    if 'scenario' in oq.calculation_mode:\\n        return []\\n    dest = dstore.export_path('ruptures.csv')\\n    header = ('rupid multiplicity mag centroid_lon centroid_lat '\\n              'centroid_depth trt strike dip rake boundary').split()\\n    rows = []\\n    for rgetter in gen_rupture_getters(dstore):\\n        rups = rgetter.get_ruptures()\\n        rup_data = calc.RuptureData(rgetter.trt, rgetter.rlzs..."
      ]
     },
     "metadata": {},
     "output_type": "display_data"
    },
    {
     "data": {
      "text/html": [
       "<div>\n",
       "<style scoped>\n",
       "    .dataframe tbody tr th:only-of-type {\n",
       "        vertical-align: middle;\n",
       "    }\n",
       "\n",
       "    .dataframe tbody tr th {\n",
       "        vertical-align: top;\n",
       "    }\n",
       "\n",
       "    .dataframe thead th {\n",
       "        text-align: right;\n",
       "    }\n",
       "</style>\n",
       "<table border=\"1\" class=\"dataframe\">\n",
       "  <thead>\n",
       "    <tr style=\"text-align: right;\">\n",
       "      <th></th>\n",
       "      <th>text</th>\n",
       "    </tr>\n",
       "  </thead>\n",
       "  <tbody>\n",
       "    <tr>\n",
       "      <th>0</th>\n",
       "      <td>def get_vid_from_url(url):\\n    \"\"\"Extracts video ID from URL.\\n    \"\"\"\\n    return match1(url, r'youtu\\.be/([^?/]+)') or \\\\n        match1(url, r'youtube\\.com/embed/([^/?]+)') or \\\\n        match1(url, r'youtube\\.com/v/([^/?]+)') or \\\\n        match1(url, r'youtube\\.com/watch/([^/?]+)') or \\\\n        parse_query_param(url, 'v') or \\\\n        parse_query_param(parse_query_param(url, 'u'), 'v')\\n\\n\\ndef sina_xml_to_url_list(xml_data):\\n    \"\"\"str-&gt;list\\n    Convert XML to URL List.\\n    From Biligrab.\\n    \"\"\"\\n    rawurl = []\\n    dom = parseString(xml_data)\\n    for node in dom.getElement...</td>\n",
       "    </tr>\n",
       "  </tbody>\n",
       "</table>\n",
       "</div>"
      ],
      "text/plain": [
       "                                                                                                                                                                                                                                                                                                                                                                                                                                                                                                                                                                                                                      text\n",
       "0  def get_vid_from_url(url):\\n    \"\"\"Extracts video ID from URL.\\n    \"\"\"\\n    return match1(url, r'youtu\\.be/([^?/]+)') or \\\\n        match1(url, r'youtube\\.com/embed/([^/?]+)') or \\\\n        match1(url, r'youtube\\.com/v/([^/?]+)') or \\\\n        match1(url, r'youtube\\.com/watch/([^/?]+)') or \\\\n        parse_query_param(url, 'v') or \\\\n        parse_query_param(parse_query_param(url, 'u'), 'v')\\n\\n\\ndef sina_xml_to_url_list(xml_data):\\n    \"\"\"str->list\\n    Convert XML to URL List.\\n    From Biligrab.\\n    \"\"\"\\n    rawurl = []\\n    dom = parseString(xml_data)\\n    for node in dom.getElement..."
      ]
     },
     "metadata": {},
     "output_type": "display_data"
    }
   ],
   "source": [
    "df_train = df_train[[\"text\"]]\n",
    "df_valid = df_valid[[\"text\"]]\n",
    "\n",
    "display(df_train.head())\n",
    "display(df_valid.head())"
   ]
  },
  {
   "cell_type": "code",
   "execution_count": 16,
   "metadata": {},
   "outputs": [],
   "source": [
    "all_texts = np.concatenate([df_train[\"text\"].values, df_valid[\"text\"].values])"
   ]
  },
  {
   "cell_type": "code",
   "execution_count": 17,
   "metadata": {},
   "outputs": [],
   "source": [
    "class TransformersTokenizer(Transform):\n",
    "    def __init__(self, tokenizer): self.tokenizer = tokenizer\n",
    "    def encodes(self, x): \n",
    "        toks = self.tokenizer.tokenize(x)\n",
    "        return tensor(self.tokenizer.convert_tokens_to_ids(toks))\n",
    "    def decodes(self, x): return TitledStr(self.tokenizer.decode(x.cpu().numpy()))"
   ]
  },
  {
   "cell_type": "code",
   "execution_count": 18,
   "metadata": {},
   "outputs": [],
   "source": [
    "splits = [list(range_of(df_train)), list(range(len(df_train), len(all_texts)))]\n",
    "tls = TfmdLists(all_texts, TransformersTokenizer(tokenizer), splits=splits, dl_type=LMDataLoader)"
   ]
  },
  {
   "cell_type": "code",
   "execution_count": 19,
   "metadata": {},
   "outputs": [
    {
     "data": {
      "text/plain": [
       "(tensor([ 4299,   905,    62,  ..., 11250,     8,   198]),\n",
       " tensor([ 4299,   651,    62,  ...,    62, 11600,   198]))"
      ]
     },
     "execution_count": 19,
     "metadata": {},
     "output_type": "execute_result"
    }
   ],
   "source": [
    "tls.train[0],tls.valid[0]"
   ]
  },
  {
   "cell_type": "code",
   "execution_count": 20,
   "metadata": {},
   "outputs": [
    {
     "data": {
      "text/plain": [
       "(torch.Size([11983779]), torch.Size([10037607]))"
      ]
     },
     "execution_count": 20,
     "metadata": {},
     "output_type": "execute_result"
    }
   ],
   "source": [
    "tls.tfms(tls.train.items[0]).shape, tls.tfms(tls.valid.items[0]).shape"
   ]
  },
  {
   "cell_type": "code",
   "execution_count": 21,
   "metadata": {},
   "outputs": [
    {
     "name": "stderr",
     "output_type": "stream",
     "text": [
      "IOPub data rate exceeded.\n",
      "The notebook server will temporarily stop sending output\n",
      "to the client in order to avoid crashing it.\n",
      "To change this limit, set the config variable\n",
      "`--NotebookApp.iopub_data_rate_limit`.\n",
      "\n",
      "Current values:\n",
      "NotebookApp.iopub_data_rate_limit=1000000.0 (bytes/sec)\n",
      "NotebookApp.rate_limit_window=3.0 (secs)\n",
      "\n"
     ]
    }
   ],
   "source": [
    "show_at(tls.train, 0)"
   ]
  },
  {
   "cell_type": "code",
   "execution_count": 22,
   "metadata": {},
   "outputs": [
    {
     "name": "stderr",
     "output_type": "stream",
     "text": [
      "IOPub data rate exceeded.\n",
      "The notebook server will temporarily stop sending output\n",
      "to the client in order to avoid crashing it.\n",
      "To change this limit, set the config variable\n",
      "`--NotebookApp.iopub_data_rate_limit`.\n",
      "\n",
      "Current values:\n",
      "NotebookApp.iopub_data_rate_limit=1000000.0 (bytes/sec)\n",
      "NotebookApp.rate_limit_window=3.0 (secs)\n",
      "\n"
     ]
    }
   ],
   "source": [
    "show_at(tls.valid, 0)"
   ]
  },
  {
   "cell_type": "code",
   "execution_count": 23,
   "metadata": {},
   "outputs": [],
   "source": [
    "bs,sl = 4,1024\n",
    "dls = tls.dataloaders(bs=bs, seq_len=sl)"
   ]
  },
  {
   "cell_type": "code",
   "execution_count": 24,
   "metadata": {},
   "outputs": [
    {
     "data": {
      "text/html": [
       "<table border=\"1\" class=\"dataframe\">\n",
       "  <thead>\n",
       "    <tr style=\"text-align: right;\">\n",
       "      <th></th>\n",
       "      <th>text</th>\n",
       "      <th>text_</th>\n",
       "    </tr>\n",
       "  </thead>\n",
       "  <tbody>\n",
       "    <tr>\n",
       "      <th>0</th>\n",
       "      <td>def findArgs(args, prefixes):\\n    \"\"\"\\n    Extracts the list of arguments that start with any of the specified prefix values\\n    \"\"\"\\n    return list([\\n        arg for arg in args\\n        if len([p for p in prefixes if arg.lower().startswith(p.lower())]) &gt; 0\\n    ])\\n\\n\\ndef stripArgs(args, blacklist):\\n    \"\"\"\\n    Removes any arguments in the supplied list that are contained in the specified blacklist\\n    \"\"\"\\n    blacklist = [b.lower() for b in blacklist]\\n    return list([arg for arg in args if arg.lower() not in blacklist])\\n\\n\\ndef capture(command, input=None, cwd=None, shell=False, raiseOnError=False):\\n    \"\"\"\\n    Executes a child process and captures its output\\n    \"\"\"\\n\\n    # Attempt to execute the child</td>\n",
       "      <td>findArgs(args, prefixes):\\n    \"\"\"\\n    Extracts the list of arguments that start with any of the specified prefix values\\n    \"\"\"\\n    return list([\\n        arg for arg in args\\n        if len([p for p in prefixes if arg.lower().startswith(p.lower())]) &gt; 0\\n    ])\\n\\n\\ndef stripArgs(args, blacklist):\\n    \"\"\"\\n    Removes any arguments in the supplied list that are contained in the specified blacklist\\n    \"\"\"\\n    blacklist = [b.lower() for b in blacklist]\\n    return list([arg for arg in args if arg.lower() not in blacklist])\\n\\n\\ndef capture(command, input=None, cwd=None, shell=False, raiseOnError=False):\\n    \"\"\"\\n    Executes a child process and captures its output\\n    \"\"\"\\n\\n    # Attempt to execute the child</td>\n",
       "    </tr>\n",
       "    <tr>\n",
       "      <th>1</th>\n",
       "      <td>\\n\\n    - `Dominique Makowski &lt;https://dominiquemakowski.github.io/&gt;`_\\n\\n    *Dependencies*\\n\\n    - pandas\\n    - bioread\\n    - datetime\\n\\n    *See Also*\\n\\n    - bioread package: https://github.com/njvack/bioread\\n\\n    \"\"\"\\n\\n    # Check path\\n    file = path + filename\\n    if \".acq\" not in file:\\n        file += \".acq\"\\n    if os.path.exists(file) is False:\\n        print(\\n            \"NeuroKit Error: read_acqknowledge(): couldn't find the following file: \" +\\n            filename)\\n        return()\\n\\n    # Convert creation date\\n    creation_date = find_creation_date(file)\\n    creation_date = datetime.datetime.fromtimestamp(creation_date)\\n\\n</td>\n",
       "      <td>- `Dominique Makowski &lt;https://dominiquemakowski.github.io/&gt;`_\\n\\n    *Dependencies*\\n\\n    - pandas\\n    - bioread\\n    - datetime\\n\\n    *See Also*\\n\\n    - bioread package: https://github.com/njvack/bioread\\n\\n    \"\"\"\\n\\n    # Check path\\n    file = path + filename\\n    if \".acq\" not in file:\\n        file += \".acq\"\\n    if os.path.exists(file) is False:\\n        print(\\n            \"NeuroKit Error: read_acqknowledge(): couldn't find the following file: \" +\\n            filename)\\n        return()\\n\\n    # Convert creation date\\n    creation_date = find_creation_date(file)\\n    creation_date = datetime.datetime.fromtimestamp(creation_date)\\n\\n</td>\n",
       "    </tr>\n",
       "    <tr>\n",
       "      <th>2</th>\n",
       "      <td>id}\\n    if isinstance(user_id, (tuple, list)):\\n        data['openid_list'] = user_id\\n    else:\\n        data['openid_list'] = [user_id, ]\\n    return self._post('tags/members/batchtagging', data=data)\\n\\n\\ndef get_user_tag(self, user_id):\\n    \"\"\"\\n    获取用户身上的标签列表\\n\\n    :param user_id: 用户 ID, 可以是单个或者列表\\n    :return: 返回的 JSON 数据包\\n    \"\"\"\\n    return self._post(\\n        'tags/getidlist',\\n        data={\\n            'openid': user_id\\n        },\\n        result_processor=lambda x: x['tagid_list']\\n    )\\n\\n\\ndef get_tag_users(self, tag_id, first_user_id=None):\\n    \"\"\"\\n    获取标签下粉丝列表\\n\\n    :param tag_id: 标签 ID\\n    :param first_user_id: 可选。第一个拉取的 OPENID，不填默认从头开始拉取\\n</td>\n",
       "      <td>}\\n    if isinstance(user_id, (tuple, list)):\\n        data['openid_list'] = user_id\\n    else:\\n        data['openid_list'] = [user_id, ]\\n    return self._post('tags/members/batchtagging', data=data)\\n\\n\\ndef get_user_tag(self, user_id):\\n    \"\"\"\\n    获取用户身上的标签列表\\n\\n    :param user_id: 用户 ID, 可以是单个或者列表\\n    :return: 返回的 JSON 数据包\\n    \"\"\"\\n    return self._post(\\n        'tags/getidlist',\\n        data={\\n            'openid': user_id\\n        },\\n        result_processor=lambda x: x['tagid_list']\\n    )\\n\\n\\ndef get_tag_users(self, tag_id, first_user_id=None):\\n    \"\"\"\\n    获取标签下粉丝列表\\n\\n    :param tag_id: 标签 ID\\n    :param first_user_id: 可选。第一个拉取的 OPENID，不填默认从头开始拉取\\n</td>\n",
       "    </tr>\n",
       "    <tr>\n",
       "      <th>3</th>\n",
       "      <td>_adata[:, gene_pool].X.toarray(), axis=0), index=gene_pool)  # average expression of genes\\n    else:\\n        obs_avg = pd.Series(\\n            np.nanmean(_adata[:, gene_pool].X, axis=0), index=gene_pool)  # average expression of genes\\n\\n    # Sometimes (and I don't know how) missing data may be there, with nansfor\\n    obs_avg = obs_avg[np.isfinite(obs_avg)]\\n\\n    n_items = int(np.round(len(obs_avg) / (n_bins - 1)))\\n    obs_cut = obs_avg.rank(method='min') // n_items\\n    control_genes = set()\\n\\n    # now pick `ctrl_size` genes from every cut\\n    for cut in np.unique(obs_cut.loc[gene_list]):\\n        r_genes = np.array(obs_cut[obs_cut == cut].index)\\n        np.random.shuffle(r_genes)\\n        # uses full r_genes if ctrl_size &gt; len(r_genes)\\n</td>\n",
       "      <td>_adata[:, gene_pool].X.toarray(), axis=0), index=gene_pool)  # average expression of genes\\n    else:\\n        obs_avg = pd.Series(\\n            np.nanmean(_adata[:, gene_pool].X, axis=0), index=gene_pool)  # average expression of genes\\n\\n    # Sometimes (and I don't know how) missing data may be there, with nansfor\\n    obs_avg = obs_avg[np.isfinite(obs_avg)]\\n\\n    n_items = int(np.round(len(obs_avg) / (n_bins - 1)))\\n    obs_cut = obs_avg.rank(method='min') // n_items\\n    control_genes = set()\\n\\n    # now pick `ctrl_size` genes from every cut\\n    for cut in np.unique(obs_cut.loc[gene_list]):\\n        r_genes = np.array(obs_cut[obs_cut == cut].index)\\n        np.random.shuffle(r_genes)\\n        # uses full r_genes if ctrl_size &gt; len(r_genes)\\n</td>\n",
       "    </tr>\n",
       "  </tbody>\n",
       "</table>"
      ],
      "text/plain": [
       "<IPython.core.display.HTML object>"
      ]
     },
     "metadata": {},
     "output_type": "display_data"
    }
   ],
   "source": [
    "dls.show_batch(max_n=5)"
   ]
  },
  {
   "cell_type": "code",
   "execution_count": 25,
   "metadata": {},
   "outputs": [
    {
     "data": {
      "text/html": [
       "\n",
       "    <div>\n",
       "        <style>\n",
       "            /* Turns off some styling */\n",
       "            progress {\n",
       "                /* gets rid of default border in Firefox and Opera. */\n",
       "                border: none;\n",
       "                /* Needs to be in here for Safari polyfill so background images work as expected. */\n",
       "                background-size: auto;\n",
       "            }\n",
       "            .progress-bar-interrupted, .progress-bar-interrupted::-webkit-progress-bar {\n",
       "                background: #F44336;\n",
       "            }\n",
       "        </style>\n",
       "      <progress value='15' class='' max='15', style='width:300px; height:20px; vertical-align: middle;'></progress>\n",
       "      100.00% [15/15 12:30<00:00]\n",
       "    </div>\n",
       "    "
      ],
      "text/plain": [
       "<IPython.core.display.HTML object>"
      ]
     },
     "metadata": {},
     "output_type": "display_data"
    }
   ],
   "source": [
    "def tokenize(text):\n",
    "    toks = tokenizer.tokenize(text)\n",
    "    return tensor(tokenizer.convert_tokens_to_ids(toks))\n",
    "\n",
    "tokenized = [tokenize(t) for t in progress_bar(all_texts)]"
   ]
  },
  {
   "cell_type": "code",
   "execution_count": 26,
   "metadata": {},
   "outputs": [],
   "source": [
    "class TransformersTokenizer(Transform):\n",
    "    def __init__(self, tokenizer): self.tokenizer = tokenizer\n",
    "    def encodes(self, x): \n",
    "        return x if isinstance(x, Tensor) else tokenize(x)\n",
    "        \n",
    "    def decodes(self, x): return TitledStr(self.tokenizer.decode(x.cpu().numpy()))"
   ]
  },
  {
   "cell_type": "code",
   "execution_count": 27,
   "metadata": {},
   "outputs": [],
   "source": [
    "tls = TfmdLists(tokenized, TransformersTokenizer(tokenizer), splits=splits, dl_type=LMDataLoader)\n",
    "dls = tls.dataloaders(bs=bs, seq_len=sl)"
   ]
  },
  {
   "cell_type": "code",
   "execution_count": 28,
   "metadata": {},
   "outputs": [
    {
     "data": {
      "text/html": [
       "<table border=\"1\" class=\"dataframe\">\n",
       "  <thead>\n",
       "    <tr style=\"text-align: right;\">\n",
       "      <th></th>\n",
       "      <th>text</th>\n",
       "      <th>text_</th>\n",
       "    </tr>\n",
       "  </thead>\n",
       "  <tbody>\n",
       "    <tr>\n",
       "      <th>0</th>\n",
       "      <td>def show_clock_output_clock_time_timezone(self, **kwargs):\\n    \"\"\"Auto Generated Code\\n    \"\"\"\\n    config = ET.Element(\"config\")\\n    show_clock = ET.Element(\"show_clock\")\\n    config = show_clock\\n    output = ET.SubElement(show_clock, \"output\")\\n    clock_time = ET.SubElement(output, \"clock-time\")\\n    timezone = ET.SubElement(clock_time, \"timezone\")\\n    timezone.text = kwargs.pop('timezone')\\n\\n    callback = kwargs.pop('callback', self._callback)\\n    return callback(config)\\n\\n\\ndef get_system_uptime_input_rbridge_id(self, **kwargs):\\n    \"\"\"Auto Generated Code\\n    \"\"\"\\n    config = ET.Element(\"config\")\\n    get_system_uptime = ET.Element(\"get_system_uptime\")\\n    config = get_system_uptime\\n    input = ET.SubElement(get_system_uptime, \"input\")\\n    rbridge_id = ET.SubElement(input, \"rbridge-id\")\\n    rbridge_id.text = kwargs.pop('rbridge_id')\\n\\n    callback = kwargs.pop('callback', self._callback)\\n    return callback(config)\\n\\n\\ndef get_system_uptime_output_show_system_uptime_rbridge_id(self, **kwargs):\\n    \"\"\"Auto Generated Code\\n    \"\"\"\\n    config = ET.Element(\"config\")\\n</td>\n",
       "      <td>show_clock_output_clock_time_timezone(self, **kwargs):\\n    \"\"\"Auto Generated Code\\n    \"\"\"\\n    config = ET.Element(\"config\")\\n    show_clock = ET.Element(\"show_clock\")\\n    config = show_clock\\n    output = ET.SubElement(show_clock, \"output\")\\n    clock_time = ET.SubElement(output, \"clock-time\")\\n    timezone = ET.SubElement(clock_time, \"timezone\")\\n    timezone.text = kwargs.pop('timezone')\\n\\n    callback = kwargs.pop('callback', self._callback)\\n    return callback(config)\\n\\n\\ndef get_system_uptime_input_rbridge_id(self, **kwargs):\\n    \"\"\"Auto Generated Code\\n    \"\"\"\\n    config = ET.Element(\"config\")\\n    get_system_uptime = ET.Element(\"get_system_uptime\")\\n    config = get_system_uptime\\n    input = ET.SubElement(get_system_uptime, \"input\")\\n    rbridge_id = ET.SubElement(input, \"rbridge-id\")\\n    rbridge_id.text = kwargs.pop('rbridge_id')\\n\\n    callback = kwargs.pop('callback', self._callback)\\n    return callback(config)\\n\\n\\ndef get_system_uptime_output_show_system_uptime_rbridge_id(self, **kwargs):\\n    \"\"\"Auto Generated Code\\n    \"\"\"\\n    config = ET.Element(\"config\")\\n</td>\n",
       "    </tr>\n",
       "    <tr>\n",
       "      <th>1</th>\n",
       "      <td>a \"\\n\\t\\t\\t\"device that allows you to stab people in the face over the \"\\n\\t\\t\\t\"internet\")\\n\\telse:\\n\\t\\tkarma.Karma.store.change(nick, -1)\\n\\t\\treturn (\\n\\t\\t\\t\"/me turns on its master and shivs %s. This is reality man, \"\\n\\t\\t\\t\"and you never know what you're going to get!\" % nick)\\n\\ndef disembowel(rest):\\n\\t\"Disembowel some(one|thing)!\"\\n\\tif rest:\\n\\t\\tstabee = rest\\n\\t\\tkarma.Karma.store.change(stabee, -1)\\n\\telse:\\n\\t\\tstabee = \"someone nearby\"\\n\\treturn (\\n\\t\\t\"/me takes %s, brings them down to the basement, ties them to a \"\\n\\t\\t\"leaky pipe, and once bored of playing with them mercifully \"\\n\\t\\t\"ritually disembowels them...\" % stabee)\\n\\ndef embowel(rest):\\n\\t\"Embowel some(one|thing)!\"\\n\\tif rest:\\n\\t\\tstabee = rest\\n\\t\\tkarma.Karma.store.change(stabee, 1)\\n\\telse:\\n\\t\\tstabee = \"someone nearby\"\\n\\treturn (\\n\\t\\t\"/me (wearing a bright pink cape and yellow tights) swoops in \"\\n\\t\\t\"through an open window, snatches %s, races out of the basement, \"\\n\\t\\t\"takes them to the hospital with entrails on ice, and mercifully \"\\n\\t\\t\"embowels them, saving the day...\" % stabee)\\n\\ndef chain(rest, nick):\\n\\t\"Chain some(one|thing) down.\"\\n\\tchainee = rest or \"someone nearby\"\\n\\tif chainee == 'cperry':\\n\\t\\ttmpl = \"/me ties the chains extra tight around {chainee}\"\\n\\telif random.random() &lt;.9:\\n\\t\\ttmpl = (\\n\\t\\t\\t\"/me</td>\n",
       "      <td>\"\\n\\t\\t\\t\"device that allows you to stab people in the face over the \"\\n\\t\\t\\t\"internet\")\\n\\telse:\\n\\t\\tkarma.Karma.store.change(nick, -1)\\n\\t\\treturn (\\n\\t\\t\\t\"/me turns on its master and shivs %s. This is reality man, \"\\n\\t\\t\\t\"and you never know what you're going to get!\" % nick)\\n\\ndef disembowel(rest):\\n\\t\"Disembowel some(one|thing)!\"\\n\\tif rest:\\n\\t\\tstabee = rest\\n\\t\\tkarma.Karma.store.change(stabee, -1)\\n\\telse:\\n\\t\\tstabee = \"someone nearby\"\\n\\treturn (\\n\\t\\t\"/me takes %s, brings them down to the basement, ties them to a \"\\n\\t\\t\"leaky pipe, and once bored of playing with them mercifully \"\\n\\t\\t\"ritually disembowels them...\" % stabee)\\n\\ndef embowel(rest):\\n\\t\"Embowel some(one|thing)!\"\\n\\tif rest:\\n\\t\\tstabee = rest\\n\\t\\tkarma.Karma.store.change(stabee, 1)\\n\\telse:\\n\\t\\tstabee = \"someone nearby\"\\n\\treturn (\\n\\t\\t\"/me (wearing a bright pink cape and yellow tights) swoops in \"\\n\\t\\t\"through an open window, snatches %s, races out of the basement, \"\\n\\t\\t\"takes them to the hospital with entrails on ice, and mercifully \"\\n\\t\\t\"embowels them, saving the day...\" % stabee)\\n\\ndef chain(rest, nick):\\n\\t\"Chain some(one|thing) down.\"\\n\\tchainee = rest or \"someone nearby\"\\n\\tif chainee == 'cperry':\\n\\t\\ttmpl = \"/me ties the chains extra tight around {chainee}\"\\n\\telif random.random() &lt;.9:\\n\\t\\ttmpl = (\\n\\t\\t\\t\"/me chains</td>\n",
       "    </tr>\n",
       "    <tr>\n",
       "      <th>2</th>\n",
       "      <td>'''\\n   .. versionadded:: 0.17.0\\n\\n    Delete a previous version of a file that was backed up using Salt's\\n    :ref:`file state backup &lt;file-state-backups&gt;` system.\\n\\n    path\\n        The path on the minion to check for backups\\n    backup_id\\n        The numeric id for the backup you wish to delete, as found using\\n        :mod:`file.list_backups &lt;salt.modules.file.list_backups&gt;`\\n\\n    CLI Example:\\n\\n   .. code-block:: bash\\n\\n        salt '*' file.delete_backup /var/cache/salt/minion/file_backup/home/foo/bar/baz.txt 0\\n    '''\\n    path = os.path.expanduser(path)\\n\\n    ret = {'result': False,\\n           'comment': 'Invalid backup_id \\'{0}\\''.format(backup_id)}\\n    try:\\n        if len(six.text_type(backup_id))</td>\n",
       "      <td>''\\n   .. versionadded:: 0.17.0\\n\\n    Delete a previous version of a file that was backed up using Salt's\\n    :ref:`file state backup &lt;file-state-backups&gt;` system.\\n\\n    path\\n        The path on the minion to check for backups\\n    backup_id\\n        The numeric id for the backup you wish to delete, as found using\\n        :mod:`file.list_backups &lt;salt.modules.file.list_backups&gt;`\\n\\n    CLI Example:\\n\\n   .. code-block:: bash\\n\\n        salt '*' file.delete_backup /var/cache/salt/minion/file_backup/home/foo/bar/baz.txt 0\\n    '''\\n    path = os.path.expanduser(path)\\n\\n    ret = {'result': False,\\n           'comment': 'Invalid backup_id \\'{0}\\''.format(backup_id)}\\n    try:\\n        if len(six.text_type(backup_id)) ==</td>\n",
       "    </tr>\n",
       "    <tr>\n",
       "      <th>3</th>\n",
       "      <td>\"initialize_dynamic_attributes\",\\n                                 None)\\n        if init_dyn_attrs and callable(init_dyn_attrs):\\n            try:\\n                init_dyn_attrs()\\n            except Exception:\\n                dev.warn_stream(\"Failed to initialize dynamic attributes\")\\n                dev.debug_stream(\"Details: \" + traceback.format_exc())\\n\\n\\ndef run_server(cls, args=None, **kwargs):\\n    \"\"\"Run the class as a device server.\\n    It</td>\n",
       "      <td>\"initialize_dynamic_attributes\",\\n                                 None)\\n        if init_dyn_attrs and callable(init_dyn_attrs):\\n            try:\\n                init_dyn_attrs()\\n            except Exception:\\n                dev.warn_stream(\"Failed to initialize dynamic attributes\")\\n                dev.debug_stream(\"Details: \" + traceback.format_exc())\\n\\n\\ndef run_server(cls, args=None, **kwargs):\\n    \"\"\"Run the class as a device server.\\n    It is</td>\n",
       "    </tr>\n",
       "  </tbody>\n",
       "</table>"
      ],
      "text/plain": [
       "<IPython.core.display.HTML object>"
      ]
     },
     "metadata": {},
     "output_type": "display_data"
    }
   ],
   "source": [
    "dls.show_batch(max_n=5)"
   ]
  },
  {
   "cell_type": "code",
   "execution_count": 29,
   "metadata": {},
   "outputs": [],
   "source": [
    "class DropOutput(Callback):\n",
    "    def after_pred(self): self.learn.pred = self.pred[0]"
   ]
  },
  {
   "cell_type": "code",
   "execution_count": 30,
   "metadata": {},
   "outputs": [],
   "source": [
    "learn = Learner(dls, model, \n",
    "                loss_func=CrossEntropyLossFlat(), \n",
    "                cbs=[DropOutput,TerminateOnNaNCallback()], \n",
    "                metrics=[Perplexity(),accuracy]\n",
    "               ).to_fp16()"
   ]
  },
  {
   "cell_type": "code",
   "execution_count": 31,
   "metadata": {
    "scrolled": false
   },
   "outputs": [
    {
     "data": {
      "text/html": [],
      "text/plain": [
       "<IPython.core.display.HTML object>"
      ]
     },
     "metadata": {},
     "output_type": "display_data"
    },
    {
     "data": {
      "text/plain": [
       "(#3) [2.0279176235198975,7.598247528076172,0.6411146521568298]"
      ]
     },
     "execution_count": 31,
     "metadata": {},
     "output_type": "execute_result"
    }
   ],
   "source": [
    "learn.validate()"
   ]
  },
  {
   "cell_type": "code",
   "execution_count": 32,
   "metadata": {
    "scrolled": false
   },
   "outputs": [
    {
     "name": "stdout",
     "output_type": "stream",
     "text": [
      "GPT2LMHeadModel(\n",
      "  (transformer): GPT2Model(\n",
      "    (wte): Embedding(50257, 768)\n",
      "    (wpe): Embedding(1024, 768)\n",
      "    (drop): Dropout(p=0.1, inplace=False)\n",
      "    (h): ModuleList(\n",
      "      (0): Block(\n",
      "        (ln_1): LayerNorm((768,), eps=1e-05, elementwise_affine=True)\n",
      "        (attn): Attention(\n",
      "          (c_attn): Conv1D()\n",
      "          (c_proj): Conv1D()\n",
      "          (attn_dropout): Dropout(p=0.1, inplace=False)\n",
      "          (resid_dropout): Dropout(p=0.1, inplace=False)\n",
      "        )\n",
      "        (ln_2): LayerNorm((768,), eps=1e-05, elementwise_affine=True)\n",
      "        (mlp): MLP(\n",
      "          (c_fc): Conv1D()\n",
      "          (c_proj): Conv1D()\n",
      "          (dropout): Dropout(p=0.1, inplace=False)\n",
      "        )\n",
      "      )\n",
      "      (1): Block(\n",
      "        (ln_1): LayerNorm((768,), eps=1e-05, elementwise_affine=True)\n",
      "        (attn): Attention(\n",
      "          (c_attn): Conv1D()\n",
      "          (c_proj): Conv1D()\n",
      "          (attn_dropout): Dropout(p=0.1, inplace=False)\n",
      "          (resid_dropout): Dropout(p=0.1, inplace=False)\n",
      "        )\n",
      "        (ln_2): LayerNorm((768,), eps=1e-05, elementwise_affine=True)\n",
      "        (mlp): MLP(\n",
      "          (c_fc): Conv1D()\n",
      "          (c_proj): Conv1D()\n",
      "          (dropout): Dropout(p=0.1, inplace=False)\n",
      "        )\n",
      "      )\n",
      "      (2): Block(\n",
      "        (ln_1): LayerNorm((768,), eps=1e-05, elementwise_affine=True)\n",
      "        (attn): Attention(\n",
      "          (c_attn): Conv1D()\n",
      "          (c_proj): Conv1D()\n",
      "          (attn_dropout): Dropout(p=0.1, inplace=False)\n",
      "          (resid_dropout): Dropout(p=0.1, inplace=False)\n",
      "        )\n",
      "        (ln_2): LayerNorm((768,), eps=1e-05, elementwise_affine=True)\n",
      "        (mlp): MLP(\n",
      "          (c_fc): Conv1D()\n",
      "          (c_proj): Conv1D()\n",
      "          (dropout): Dropout(p=0.1, inplace=False)\n",
      "        )\n",
      "      )\n",
      "      (3): Block(\n",
      "        (ln_1): LayerNorm((768,), eps=1e-05, elementwise_affine=True)\n",
      "        (attn): Attention(\n",
      "          (c_attn): Conv1D()\n",
      "          (c_proj): Conv1D()\n",
      "          (attn_dropout): Dropout(p=0.1, inplace=False)\n",
      "          (resid_dropout): Dropout(p=0.1, inplace=False)\n",
      "        )\n",
      "        (ln_2): LayerNorm((768,), eps=1e-05, elementwise_affine=True)\n",
      "        (mlp): MLP(\n",
      "          (c_fc): Conv1D()\n",
      "          (c_proj): Conv1D()\n",
      "          (dropout): Dropout(p=0.1, inplace=False)\n",
      "        )\n",
      "      )\n",
      "      (4): Block(\n",
      "        (ln_1): LayerNorm((768,), eps=1e-05, elementwise_affine=True)\n",
      "        (attn): Attention(\n",
      "          (c_attn): Conv1D()\n",
      "          (c_proj): Conv1D()\n",
      "          (attn_dropout): Dropout(p=0.1, inplace=False)\n",
      "          (resid_dropout): Dropout(p=0.1, inplace=False)\n",
      "        )\n",
      "        (ln_2): LayerNorm((768,), eps=1e-05, elementwise_affine=True)\n",
      "        (mlp): MLP(\n",
      "          (c_fc): Conv1D()\n",
      "          (c_proj): Conv1D()\n",
      "          (dropout): Dropout(p=0.1, inplace=False)\n",
      "        )\n",
      "      )\n",
      "      (5): Block(\n",
      "        (ln_1): LayerNorm((768,), eps=1e-05, elementwise_affine=True)\n",
      "        (attn): Attention(\n",
      "          (c_attn): Conv1D()\n",
      "          (c_proj): Conv1D()\n",
      "          (attn_dropout): Dropout(p=0.1, inplace=False)\n",
      "          (resid_dropout): Dropout(p=0.1, inplace=False)\n",
      "        )\n",
      "        (ln_2): LayerNorm((768,), eps=1e-05, elementwise_affine=True)\n",
      "        (mlp): MLP(\n",
      "          (c_fc): Conv1D()\n",
      "          (c_proj): Conv1D()\n",
      "          (dropout): Dropout(p=0.1, inplace=False)\n",
      "        )\n",
      "      )\n",
      "      (6): Block(\n",
      "        (ln_1): LayerNorm((768,), eps=1e-05, elementwise_affine=True)\n",
      "        (attn): Attention(\n",
      "          (c_attn): Conv1D()\n",
      "          (c_proj): Conv1D()\n",
      "          (attn_dropout): Dropout(p=0.1, inplace=False)\n",
      "          (resid_dropout): Dropout(p=0.1, inplace=False)\n",
      "        )\n",
      "        (ln_2): LayerNorm((768,), eps=1e-05, elementwise_affine=True)\n",
      "        (mlp): MLP(\n",
      "          (c_fc): Conv1D()\n",
      "          (c_proj): Conv1D()\n",
      "          (dropout): Dropout(p=0.1, inplace=False)\n",
      "        )\n",
      "      )\n",
      "      (7): Block(\n",
      "        (ln_1): LayerNorm((768,), eps=1e-05, elementwise_affine=True)\n",
      "        (attn): Attention(\n",
      "          (c_attn): Conv1D()\n",
      "          (c_proj): Conv1D()\n",
      "          (attn_dropout): Dropout(p=0.1, inplace=False)\n",
      "          (resid_dropout): Dropout(p=0.1, inplace=False)\n",
      "        )\n",
      "        (ln_2): LayerNorm((768,), eps=1e-05, elementwise_affine=True)\n",
      "        (mlp): MLP(\n",
      "          (c_fc): Conv1D()\n",
      "          (c_proj): Conv1D()\n",
      "          (dropout): Dropout(p=0.1, inplace=False)\n",
      "        )\n",
      "      )\n",
      "      (8): Block(\n",
      "        (ln_1): LayerNorm((768,), eps=1e-05, elementwise_affine=True)\n",
      "        (attn): Attention(\n",
      "          (c_attn): Conv1D()\n",
      "          (c_proj): Conv1D()\n",
      "          (attn_dropout): Dropout(p=0.1, inplace=False)\n",
      "          (resid_dropout): Dropout(p=0.1, inplace=False)\n",
      "        )\n",
      "        (ln_2): LayerNorm((768,), eps=1e-05, elementwise_affine=True)\n",
      "        (mlp): MLP(\n",
      "          (c_fc): Conv1D()\n",
      "          (c_proj): Conv1D()\n",
      "          (dropout): Dropout(p=0.1, inplace=False)\n",
      "        )\n",
      "      )\n",
      "      (9): Block(\n",
      "        (ln_1): LayerNorm((768,), eps=1e-05, elementwise_affine=True)\n",
      "        (attn): Attention(\n",
      "          (c_attn): Conv1D()\n",
      "          (c_proj): Conv1D()\n",
      "          (attn_dropout): Dropout(p=0.1, inplace=False)\n",
      "          (resid_dropout): Dropout(p=0.1, inplace=False)\n",
      "        )\n",
      "        (ln_2): LayerNorm((768,), eps=1e-05, elementwise_affine=True)\n",
      "        (mlp): MLP(\n",
      "          (c_fc): Conv1D()\n",
      "          (c_proj): Conv1D()\n",
      "          (dropout): Dropout(p=0.1, inplace=False)\n",
      "        )\n",
      "      )\n",
      "      (10): Block(\n",
      "        (ln_1): LayerNorm((768,), eps=1e-05, elementwise_affine=True)\n",
      "        (attn): Attention(\n",
      "          (c_attn): Conv1D()\n",
      "          (c_proj): Conv1D()\n",
      "          (attn_dropout): Dropout(p=0.1, inplace=False)\n",
      "          (resid_dropout): Dropout(p=0.1, inplace=False)\n",
      "        )\n",
      "        (ln_2): LayerNorm((768,), eps=1e-05, elementwise_affine=True)\n",
      "        (mlp): MLP(\n",
      "          (c_fc): Conv1D()\n",
      "          (c_proj): Conv1D()\n",
      "          (dropout): Dropout(p=0.1, inplace=False)\n",
      "        )\n",
      "      )\n",
      "      (11): Block(\n",
      "        (ln_1): LayerNorm((768,), eps=1e-05, elementwise_affine=True)\n",
      "        (attn): Attention(\n",
      "          (c_attn): Conv1D()\n",
      "          (c_proj): Conv1D()\n",
      "          (attn_dropout): Dropout(p=0.1, inplace=False)\n",
      "          (resid_dropout): Dropout(p=0.1, inplace=False)\n",
      "        )\n",
      "        (ln_2): LayerNorm((768,), eps=1e-05, elementwise_affine=True)\n",
      "        (mlp): MLP(\n",
      "          (c_fc): Conv1D()\n",
      "          (c_proj): Conv1D()\n",
      "          (dropout): Dropout(p=0.1, inplace=False)\n",
      "        )\n",
      "      )\n",
      "    )\n",
      "    (ln_f): LayerNorm((768,), eps=1e-05, elementwise_affine=True)\n",
      "  )\n",
      "  (lm_head): Linear(in_features=768, out_features=50257, bias=False)\n",
      ")\n"
     ]
    }
   ],
   "source": [
    "print(learn.model)"
   ]
  },
  {
   "cell_type": "code",
   "execution_count": 33,
   "metadata": {
    "scrolled": false
   },
   "outputs": [
    {
     "name": "stdout",
     "output_type": "stream",
     "text": [
      "GPT2LMHeadModel (Input shape: ['4 x 1024'])\n",
      "================================================================\n",
      "Layer (type)         Output Shape         Param #    Trainable \n",
      "================================================================\n",
      "Embedding            4 x 1024 x 768       38,597,376 True      \n",
      "________________________________________________________________\n",
      "Embedding            4 x 1024 x 768       786,432    True      \n",
      "________________________________________________________________\n",
      "Dropout              4 x 1024 x 768       0          False     \n",
      "________________________________________________________________\n",
      "LayerNorm            4 x 1024 x 768       1,536      True      \n",
      "________________________________________________________________\n",
      "Conv1D               4 x 1024 x 2304      1,771,776  True      \n",
      "________________________________________________________________\n",
      "Conv1D               4 x 1024 x 768       590,592    True      \n",
      "________________________________________________________________\n",
      "Dropout              4 x 12 x 1024 x 102  0          False     \n",
      "________________________________________________________________\n",
      "Dropout              4 x 1024 x 768       0          False     \n",
      "________________________________________________________________\n",
      "LayerNorm            4 x 1024 x 768       1,536      True      \n",
      "________________________________________________________________\n",
      "Conv1D               4 x 1024 x 3072      2,362,368  True      \n",
      "________________________________________________________________\n",
      "Conv1D               4 x 1024 x 768       2,360,064  True      \n",
      "________________________________________________________________\n",
      "Dropout              4 x 1024 x 768       0          False     \n",
      "________________________________________________________________\n",
      "LayerNorm            4 x 1024 x 768       1,536      True      \n",
      "________________________________________________________________\n",
      "Conv1D               4 x 1024 x 2304      1,771,776  True      \n",
      "________________________________________________________________\n",
      "Conv1D               4 x 1024 x 768       590,592    True      \n",
      "________________________________________________________________\n",
      "Dropout              4 x 12 x 1024 x 102  0          False     \n",
      "________________________________________________________________\n",
      "Dropout              4 x 1024 x 768       0          False     \n",
      "________________________________________________________________\n",
      "LayerNorm            4 x 1024 x 768       1,536      True      \n",
      "________________________________________________________________\n",
      "Conv1D               4 x 1024 x 3072      2,362,368  True      \n",
      "________________________________________________________________\n",
      "Conv1D               4 x 1024 x 768       2,360,064  True      \n",
      "________________________________________________________________\n",
      "Dropout              4 x 1024 x 768       0          False     \n",
      "________________________________________________________________\n",
      "LayerNorm            4 x 1024 x 768       1,536      True      \n",
      "________________________________________________________________\n",
      "Conv1D               4 x 1024 x 2304      1,771,776  True      \n",
      "________________________________________________________________\n",
      "Conv1D               4 x 1024 x 768       590,592    True      \n",
      "________________________________________________________________\n",
      "Dropout              4 x 12 x 1024 x 102  0          False     \n",
      "________________________________________________________________\n",
      "Dropout              4 x 1024 x 768       0          False     \n",
      "________________________________________________________________\n",
      "LayerNorm            4 x 1024 x 768       1,536      True      \n",
      "________________________________________________________________\n",
      "Conv1D               4 x 1024 x 3072      2,362,368  True      \n",
      "________________________________________________________________\n",
      "Conv1D               4 x 1024 x 768       2,360,064  True      \n",
      "________________________________________________________________\n",
      "Dropout              4 x 1024 x 768       0          False     \n",
      "________________________________________________________________\n",
      "LayerNorm            4 x 1024 x 768       1,536      True      \n",
      "________________________________________________________________\n",
      "Conv1D               4 x 1024 x 2304      1,771,776  True      \n",
      "________________________________________________________________\n",
      "Conv1D               4 x 1024 x 768       590,592    True      \n",
      "________________________________________________________________\n",
      "Dropout              4 x 12 x 1024 x 102  0          False     \n",
      "________________________________________________________________\n",
      "Dropout              4 x 1024 x 768       0          False     \n",
      "________________________________________________________________\n",
      "LayerNorm            4 x 1024 x 768       1,536      True      \n",
      "________________________________________________________________\n",
      "Conv1D               4 x 1024 x 3072      2,362,368  True      \n",
      "________________________________________________________________\n",
      "Conv1D               4 x 1024 x 768       2,360,064  True      \n",
      "________________________________________________________________\n",
      "Dropout              4 x 1024 x 768       0          False     \n",
      "________________________________________________________________\n",
      "LayerNorm            4 x 1024 x 768       1,536      True      \n",
      "________________________________________________________________\n",
      "Conv1D               4 x 1024 x 2304      1,771,776  True      \n",
      "________________________________________________________________\n",
      "Conv1D               4 x 1024 x 768       590,592    True      \n",
      "________________________________________________________________\n",
      "Dropout              4 x 12 x 1024 x 102  0          False     \n",
      "________________________________________________________________\n",
      "Dropout              4 x 1024 x 768       0          False     \n",
      "________________________________________________________________\n",
      "LayerNorm            4 x 1024 x 768       1,536      True      \n",
      "________________________________________________________________\n",
      "Conv1D               4 x 1024 x 3072      2,362,368  True      \n",
      "________________________________________________________________\n",
      "Conv1D               4 x 1024 x 768       2,360,064  True      \n",
      "________________________________________________________________\n",
      "Dropout              4 x 1024 x 768       0          False     \n",
      "________________________________________________________________\n",
      "LayerNorm            4 x 1024 x 768       1,536      True      \n",
      "________________________________________________________________\n",
      "Conv1D               4 x 1024 x 2304      1,771,776  True      \n",
      "________________________________________________________________\n",
      "Conv1D               4 x 1024 x 768       590,592    True      \n",
      "________________________________________________________________\n",
      "Dropout              4 x 12 x 1024 x 102  0          False     \n",
      "________________________________________________________________\n",
      "Dropout              4 x 1024 x 768       0          False     \n",
      "________________________________________________________________\n",
      "LayerNorm            4 x 1024 x 768       1,536      True      \n",
      "________________________________________________________________\n",
      "Conv1D               4 x 1024 x 3072      2,362,368  True      \n",
      "________________________________________________________________\n",
      "Conv1D               4 x 1024 x 768       2,360,064  True      \n",
      "________________________________________________________________\n",
      "Dropout              4 x 1024 x 768       0          False     \n",
      "________________________________________________________________\n",
      "LayerNorm            4 x 1024 x 768       1,536      True      \n",
      "________________________________________________________________\n",
      "Conv1D               4 x 1024 x 2304      1,771,776  True      \n",
      "________________________________________________________________\n",
      "Conv1D               4 x 1024 x 768       590,592    True      \n",
      "________________________________________________________________\n",
      "Dropout              4 x 12 x 1024 x 102  0          False     \n",
      "________________________________________________________________\n",
      "Dropout              4 x 1024 x 768       0          False     \n",
      "________________________________________________________________\n",
      "LayerNorm            4 x 1024 x 768       1,536      True      \n",
      "________________________________________________________________\n",
      "Conv1D               4 x 1024 x 3072      2,362,368  True      \n",
      "________________________________________________________________\n",
      "Conv1D               4 x 1024 x 768       2,360,064  True      \n",
      "________________________________________________________________\n",
      "Dropout              4 x 1024 x 768       0          False     \n",
      "________________________________________________________________\n",
      "LayerNorm            4 x 1024 x 768       1,536      True      \n",
      "________________________________________________________________\n",
      "Conv1D               4 x 1024 x 2304      1,771,776  True      \n",
      "________________________________________________________________\n",
      "Conv1D               4 x 1024 x 768       590,592    True      \n",
      "________________________________________________________________\n",
      "Dropout              4 x 12 x 1024 x 102  0          False     \n",
      "________________________________________________________________\n",
      "Dropout              4 x 1024 x 768       0          False     \n",
      "________________________________________________________________\n",
      "LayerNorm            4 x 1024 x 768       1,536      True      \n",
      "________________________________________________________________\n",
      "Conv1D               4 x 1024 x 3072      2,362,368  True      \n",
      "________________________________________________________________\n",
      "Conv1D               4 x 1024 x 768       2,360,064  True      \n",
      "________________________________________________________________\n",
      "Dropout              4 x 1024 x 768       0          False     \n",
      "________________________________________________________________\n",
      "LayerNorm            4 x 1024 x 768       1,536      True      \n",
      "________________________________________________________________\n",
      "Conv1D               4 x 1024 x 2304      1,771,776  True      \n",
      "________________________________________________________________\n",
      "Conv1D               4 x 1024 x 768       590,592    True      \n",
      "________________________________________________________________\n",
      "Dropout              4 x 12 x 1024 x 102  0          False     \n",
      "________________________________________________________________\n",
      "Dropout              4 x 1024 x 768       0          False     \n",
      "________________________________________________________________\n",
      "LayerNorm            4 x 1024 x 768       1,536      True      \n",
      "________________________________________________________________\n",
      "Conv1D               4 x 1024 x 3072      2,362,368  True      \n",
      "________________________________________________________________\n",
      "Conv1D               4 x 1024 x 768       2,360,064  True      \n",
      "________________________________________________________________\n",
      "Dropout              4 x 1024 x 768       0          False     \n",
      "________________________________________________________________\n",
      "LayerNorm            4 x 1024 x 768       1,536      True      \n",
      "________________________________________________________________\n",
      "Conv1D               4 x 1024 x 2304      1,771,776  True      \n",
      "________________________________________________________________\n",
      "Conv1D               4 x 1024 x 768       590,592    True      \n",
      "________________________________________________________________\n",
      "Dropout              4 x 12 x 1024 x 102  0          False     \n",
      "________________________________________________________________\n",
      "Dropout              4 x 1024 x 768       0          False     \n",
      "________________________________________________________________\n",
      "LayerNorm            4 x 1024 x 768       1,536      True      \n",
      "________________________________________________________________\n",
      "Conv1D               4 x 1024 x 3072      2,362,368  True      \n",
      "________________________________________________________________\n",
      "Conv1D               4 x 1024 x 768       2,360,064  True      \n",
      "________________________________________________________________\n",
      "Dropout              4 x 1024 x 768       0          False     \n",
      "________________________________________________________________\n",
      "LayerNorm            4 x 1024 x 768       1,536      True      \n",
      "________________________________________________________________\n",
      "Conv1D               4 x 1024 x 2304      1,771,776  True      \n",
      "________________________________________________________________\n",
      "Conv1D               4 x 1024 x 768       590,592    True      \n",
      "________________________________________________________________\n",
      "Dropout              4 x 12 x 1024 x 102  0          False     \n",
      "________________________________________________________________\n",
      "Dropout              4 x 1024 x 768       0          False     \n",
      "________________________________________________________________\n",
      "LayerNorm            4 x 1024 x 768       1,536      True      \n",
      "________________________________________________________________\n",
      "Conv1D               4 x 1024 x 3072      2,362,368  True      \n",
      "________________________________________________________________\n",
      "Conv1D               4 x 1024 x 768       2,360,064  True      \n",
      "________________________________________________________________\n",
      "Dropout              4 x 1024 x 768       0          False     \n",
      "________________________________________________________________\n",
      "LayerNorm            4 x 1024 x 768       1,536      True      \n",
      "________________________________________________________________\n",
      "Conv1D               4 x 1024 x 2304      1,771,776  True      \n",
      "________________________________________________________________\n",
      "Conv1D               4 x 1024 x 768       590,592    True      \n",
      "________________________________________________________________\n",
      "Dropout              4 x 12 x 1024 x 102  0          False     \n",
      "________________________________________________________________\n",
      "Dropout              4 x 1024 x 768       0          False     \n",
      "________________________________________________________________\n",
      "LayerNorm            4 x 1024 x 768       1,536      True      \n",
      "________________________________________________________________\n",
      "Conv1D               4 x 1024 x 3072      2,362,368  True      \n",
      "________________________________________________________________\n",
      "Conv1D               4 x 1024 x 768       2,360,064  True      \n",
      "________________________________________________________________\n",
      "Dropout              4 x 1024 x 768       0          False     \n",
      "________________________________________________________________\n",
      "LayerNorm            4 x 1024 x 768       1,536      True      \n",
      "________________________________________________________________\n",
      "Linear               4 x 1024 x 50257     38,597,376 True      \n",
      "________________________________________________________________\n",
      "\n",
      "Total params: 163,037,184\n",
      "Total trainable params: 163,037,184\n",
      "Total non-trainable params: 0\n",
      "\n",
      "Optimizer used: <function Adam at 0x7f0095c4ac80>\n",
      "Loss function: FlattenedLoss of CrossEntropyLoss()\n",
      "\n",
      "Model unfrozen\n",
      "\n",
      "Callbacks:\n",
      "  - DropOutput\n",
      "  - TerminateOnNaNCallback\n",
      "  - ModelToHalf\n",
      "  - TrainEvalCallback\n",
      "  - Recorder\n",
      "  - ProgressCallback\n",
      "  - MixedPrecision\n"
     ]
    }
   ],
   "source": [
    "print(learn.summary()) "
   ]
  },
  {
   "cell_type": "code",
   "execution_count": 34,
   "metadata": {},
   "outputs": [
    {
     "data": {
      "text/html": [],
      "text/plain": [
       "<IPython.core.display.HTML object>"
      ]
     },
     "metadata": {},
     "output_type": "display_data"
    },
    {
     "data": {
      "text/plain": [
       "SuggestedLRs(lr_min=5.754399462603033e-05, lr_steep=3.630780702224001e-05)"
      ]
     },
     "execution_count": 34,
     "metadata": {},
     "output_type": "execute_result"
    },
    {
     "data": {
      "image/png": "[encoded data removed]",
      "text/plain": [
       "<Figure size 432x288 with 1 Axes>"
      ]
     },
     "metadata": {
      "needs_background": "light"
     },
     "output_type": "display_data"
    }
   ],
   "source": [
    "learn.lr_find()"
   ]
  },
  {
   "cell_type": "code",
   "execution_count": 35,
   "metadata": {},
   "outputs": [
    {
     "data": {
      "text/html": [
       "<table border=\"1\" class=\"dataframe\">\n",
       "  <thead>\n",
       "    <tr style=\"text-align: left;\">\n",
       "      <th>epoch</th>\n",
       "      <th>train_loss</th>\n",
       "      <th>valid_loss</th>\n",
       "      <th>perplexity</th>\n",
       "      <th>accuracy</th>\n",
       "      <th>time</th>\n",
       "    </tr>\n",
       "  </thead>\n",
       "  <tbody>\n",
       "    <tr>\n",
       "      <td>0</td>\n",
       "      <td>1.463899</td>\n",
       "      <td>1.402743</td>\n",
       "      <td>4.066340</td>\n",
       "      <td>0.722965</td>\n",
       "      <td>3:28:45</td>\n",
       "    </tr>\n",
       "  </tbody>\n",
       "</table>"
      ],
      "text/plain": [
       "<IPython.core.display.HTML object>"
      ]
     },
     "metadata": {},
     "output_type": "display_data"
    },
    {
     "name": "stderr",
     "output_type": "stream",
     "text": [
      "/opt/tljh/user/lib/python3.7/site-packages/fastai2/callback/schedule.py:68: UserWarning: This overload of nonzero is deprecated:\n",
      "\tnonzero()\n",
      "Consider using one of the following signatures instead:\n",
      "\tnonzero(*, bool as_tuple) (Triggered internally at  /pytorch/torch/csrc/utils/python_arg_parser.cpp:766.)\n",
      "  idx = (pos >= pcts).nonzero().max()\n"
     ]
    }
   ],
   "source": [
    "learn.fit_one_cycle(1, 1e-6)"
   ]
  },
  {
   "cell_type": "code",
   "execution_count": 36,
   "metadata": {},
   "outputs": [
    {
     "data": {
      "text/html": [
       "<div>\n",
       "<style scoped>\n",
       "    .dataframe tbody tr th:only-of-type {\n",
       "        vertical-align: middle;\n",
       "    }\n",
       "\n",
       "    .dataframe tbody tr th {\n",
       "        vertical-align: top;\n",
       "    }\n",
       "\n",
       "    .dataframe thead th {\n",
       "        text-align: right;\n",
       "    }\n",
       "</style>\n",
       "<table border=\"1\" class=\"dataframe\">\n",
       "  <thead>\n",
       "    <tr style=\"text-align: right;\">\n",
       "      <th></th>\n",
       "      <th>text</th>\n",
       "    </tr>\n",
       "  </thead>\n",
       "  <tbody>\n",
       "    <tr>\n",
       "      <th>0</th>\n",
       "      <td>def get_vid_from_url(url):\\n    \"\"\"Extracts video ID from URL.\\n    \"\"\"\\n    return match1(url, r'youtu\\.be/([^?/]+)') or \\\\n        match1(url, r'youtube\\.com/embed/([^/?]+)') or \\\\n        match1(url, r'youtube\\.com/v/([^/?]+)') or \\\\n        match1(url, r'youtube\\.com/watch/([^/?]+)') or \\\\n        parse_query_param(url, 'v') or \\\\n        parse_query_param(parse_query_param(url, 'u'), 'v')\\n\\n\\ndef sina_xml_to_url_list(xml_data):\\n    \"\"\"str-&gt;list\\n    Convert XML to URL List.\\n    From Biligrab.\\n    \"\"\"\\n    rawurl = []\\n    dom = parseString(xml_data)\\n    for node in dom.getElement...</td>\n",
       "    </tr>\n",
       "  </tbody>\n",
       "</table>\n",
       "</div>"
      ],
      "text/plain": [
       "                                                                                                                                                                                                                                                                                                                                                                                                                                                                                                                                                                                                                      text\n",
       "0  def get_vid_from_url(url):\\n    \"\"\"Extracts video ID from URL.\\n    \"\"\"\\n    return match1(url, r'youtu\\.be/([^?/]+)') or \\\\n        match1(url, r'youtube\\.com/embed/([^/?]+)') or \\\\n        match1(url, r'youtube\\.com/v/([^/?]+)') or \\\\n        match1(url, r'youtube\\.com/watch/([^/?]+)') or \\\\n        parse_query_param(url, 'v') or \\\\n        parse_query_param(parse_query_param(url, 'u'), 'v')\\n\\n\\ndef sina_xml_to_url_list(xml_data):\\n    \"\"\"str->list\\n    Convert XML to URL List.\\n    From Biligrab.\\n    \"\"\"\\n    rawurl = []\\n    dom = parseString(xml_data)\\n    for node in dom.getElement..."
      ]
     },
     "execution_count": 36,
     "metadata": {},
     "output_type": "execute_result"
    }
   ],
   "source": [
    "df_valid.head(1)"
   ]
  },
  {
   "cell_type": "code",
   "execution_count": 37,
   "metadata": {},
   "outputs": [],
   "source": [
    "prompt = \"\\n = Unicorn = \\n \\n A unicorn is a magical creature with a rainbow tail and a horn\""
   ]
  },
  {
   "cell_type": "code",
   "execution_count": 38,
   "metadata": {},
   "outputs": [
    {
     "data": {
      "text/plain": [
       "torch.Size([1, 21])"
      ]
     },
     "execution_count": 38,
     "metadata": {},
     "output_type": "execute_result"
    }
   ],
   "source": [
    "prompt_ids = tokenizer.encode(prompt)\n",
    "inp = tensor(prompt_ids)[None].cuda()\n",
    "inp.shape"
   ]
  },
  {
   "cell_type": "code",
   "execution_count": 39,
   "metadata": {},
   "outputs": [
    {
     "name": "stderr",
     "output_type": "stream",
     "text": [
      "Setting `pad_token_id` to 50256 (first `eos_token_id`) to generate sequence\n"
     ]
    }
   ],
   "source": [
    "preds = learn.model.generate(inp, max_length=40, num_beams=5, temperature=1.5)"
   ]
  },
  {
   "cell_type": "code",
   "execution_count": 40,
   "metadata": {},
   "outputs": [
    {
     "data": {
      "text/plain": [
       "'\\n = Unicorn = \\n \\n A unicorn is a magical creature with a rainbow tail and a horn.\\n                 '"
      ]
     },
     "execution_count": 40,
     "metadata": {},
     "output_type": "execute_result"
    }
   ],
   "source": [
    "tokenizer.decode(preds[0].cpu().numpy())\n",
    "# tokenizer.decode(preds[0])"
   ]
  },
  {
   "cell_type": "code",
   "execution_count": 41,
   "metadata": {},
   "outputs": [
    {
     "data": {
      "text/plain": [
       "tensor([[  198,   796, 39481,   796,   220,   198,   220,   198,   317, 44986,\n",
       "           318,   257, 10883,  7185,   351,   257, 27223,  7894,   290,   257,\n",
       "         12718,    13,   198,   220,   220,   220,   220,   220,   220,   220,\n",
       "           220,   220,   220,   220,   220,   220,   220,   220,   220,   220]],\n",
       "       device='cuda:1')"
      ]
     },
     "execution_count": 41,
     "metadata": {},
     "output_type": "execute_result"
    }
   ],
   "source": [
    "preds"
   ]
  },
  {
   "cell_type": "code",
   "execution_count": 42,
   "metadata": {},
   "outputs": [
    {
     "data": {
      "text/plain": [
       "tensor([  198,   796, 39481,   796,   220,   198,   220,   198,   317, 44986,\n",
       "          318,   257, 10883,  7185,   351,   257, 27223,  7894,   290,   257,\n",
       "        12718,    13,   198,   220,   220,   220,   220,   220,   220,   220,\n",
       "          220,   220,   220,   220,   220,   220,   220,   220,   220,   220],\n",
       "       device='cuda:1')"
      ]
     },
     "execution_count": 42,
     "metadata": {},
     "output_type": "execute_result"
    }
   ],
   "source": [
    "preds[0]"
   ]
  },
  {
   "cell_type": "code",
   "execution_count": 43,
   "metadata": {},
   "outputs": [
    {
     "name": "stderr",
     "output_type": "stream",
     "text": [
      "Setting `pad_token_id` to 50256 (first `eos_token_id`) to generate sequence\n"
     ]
    },
    {
     "data": {
      "text/plain": [
       "'import,\\n                                     '"
      ]
     },
     "execution_count": 43,
     "metadata": {},
     "output_type": "execute_result"
    }
   ],
   "source": [
    "prompt = \"import\"\n",
    "prompt_ids = tokenizer.encode(prompt)\n",
    "inp = tensor(prompt_ids)[None].cuda()\n",
    "inp.shape\n",
    "preds = learn.model.generate(inp, max_length=40, num_beams=5, temperature=1.5)\n",
    "tokenizer.decode(preds[0].cpu().numpy())"
   ]
  },
  {
   "cell_type": "code",
   "execution_count": 44,
   "metadata": {},
   "outputs": [
    {
     "name": "stderr",
     "output_type": "stream",
     "text": [
      "Setting `pad_token_id` to 50256 (first `eos_token_id`) to generate sequence\n"
     ]
    },
    {
     "data": {
      "text/plain": [
       "'\\n = import = \\n \\n import os.path.join(os.path.join(os.path.join(os.path.join(os.path.join(os'"
      ]
     },
     "execution_count": 44,
     "metadata": {},
     "output_type": "execute_result"
    }
   ],
   "source": [
    "prompt = \"\\n = import = \\n \\n import\"\n",
    "prompt_ids = tokenizer.encode(prompt)\n",
    "inp = tensor(prompt_ids)[None].cuda()\n",
    "inp.shape\n",
    "preds = learn.model.generate(inp, max_length=40, num_beams=5, temperature=1.5)\n",
    "tokenizer.decode(preds[0].cpu().numpy())"
   ]
  },
  {
   "cell_type": "code",
   "execution_count": 45,
   "metadata": {},
   "outputs": [],
   "source": [
    "# learn.save('fine_tuned')\n",
    "learn.save('20200813_fit_head_gpt2_model')"
   ]
  },
  {
   "cell_type": "code",
   "execution_count": 46,
   "metadata": {},
   "outputs": [],
   "source": [
    "learn.load('20200813_fit_head_gpt2_model');"
   ]
  },
  {
   "cell_type": "code",
   "execution_count": 47,
   "metadata": {},
   "outputs": [],
   "source": [
    "learn.unfreeze()"
   ]
  },
  {
   "cell_type": "code",
   "execution_count": 48,
   "metadata": {},
   "outputs": [
    {
     "data": {
      "text/html": [
       "<table border=\"1\" class=\"dataframe\">\n",
       "  <thead>\n",
       "    <tr style=\"text-align: left;\">\n",
       "      <th>epoch</th>\n",
       "      <th>train_loss</th>\n",
       "      <th>valid_loss</th>\n",
       "      <th>perplexity</th>\n",
       "      <th>accuracy</th>\n",
       "      <th>time</th>\n",
       "    </tr>\n",
       "  </thead>\n",
       "  <tbody>\n",
       "    <tr>\n",
       "      <td>0</td>\n",
       "      <td>1.474935</td>\n",
       "      <td>1.387162</td>\n",
       "      <td>4.003471</td>\n",
       "      <td>0.725250</td>\n",
       "      <td>3:29:45</td>\n",
       "    </tr>\n",
       "    <tr>\n",
       "      <td>1</td>\n",
       "      <td>1.445614</td>\n",
       "      <td>1.346338</td>\n",
       "      <td>3.843327</td>\n",
       "      <td>0.731403</td>\n",
       "      <td>3:30:46</td>\n",
       "    </tr>\n",
       "    <tr>\n",
       "      <td>2</td>\n",
       "      <td>1.403791</td>\n",
       "      <td>1.317798</td>\n",
       "      <td>3.735186</td>\n",
       "      <td>0.735842</td>\n",
       "      <td>3:30:50</td>\n",
       "    </tr>\n",
       "    <tr>\n",
       "      <td>3</td>\n",
       "      <td>1.314907</td>\n",
       "      <td>1.298929</td>\n",
       "      <td>3.665368</td>\n",
       "      <td>0.738622</td>\n",
       "      <td>3:31:25</td>\n",
       "    </tr>\n",
       "    <tr>\n",
       "      <td>4</td>\n",
       "      <td>1.282093</td>\n",
       "      <td>1.285895</td>\n",
       "      <td>3.617904</td>\n",
       "      <td>0.740896</td>\n",
       "      <td>3:31:11</td>\n",
       "    </tr>\n",
       "    <tr>\n",
       "      <td>5</td>\n",
       "      <td>1.195681</td>\n",
       "      <td>1.278974</td>\n",
       "      <td>3.592950</td>\n",
       "      <td>0.742029</td>\n",
       "      <td>3:31:17</td>\n",
       "    </tr>\n",
       "    <tr>\n",
       "      <td>6</td>\n",
       "      <td>1.112404</td>\n",
       "      <td>1.273516</td>\n",
       "      <td>3.573396</td>\n",
       "      <td>0.743075</td>\n",
       "      <td>3:31:36</td>\n",
       "    </tr>\n",
       "    <tr>\n",
       "      <td>7</td>\n",
       "      <td>1.230429</td>\n",
       "      <td>1.269817</td>\n",
       "      <td>3.560201</td>\n",
       "      <td>0.743438</td>\n",
       "      <td>3:31:22</td>\n",
       "    </tr>\n",
       "    <tr>\n",
       "      <td>8</td>\n",
       "      <td>1.345940</td>\n",
       "      <td>1.268315</td>\n",
       "      <td>3.554858</td>\n",
       "      <td>0.743686</td>\n",
       "      <td>3:31:09</td>\n",
       "    </tr>\n",
       "    <tr>\n",
       "      <td>9</td>\n",
       "      <td>1.407818</td>\n",
       "      <td>1.268246</td>\n",
       "      <td>3.554613</td>\n",
       "      <td>0.743738</td>\n",
       "      <td>3:31:04</td>\n",
       "    </tr>\n",
       "  </tbody>\n",
       "</table>"
      ],
      "text/plain": [
       "<IPython.core.display.HTML object>"
      ]
     },
     "metadata": {},
     "output_type": "display_data"
    }
   ],
   "source": [
    "learn.fit_one_cycle(10, 1e-6)"
   ]
  },
  {
   "cell_type": "code",
   "execution_count": 49,
   "metadata": {},
   "outputs": [],
   "source": [
    "learn.save('20200813_fine_tuned_gpt2_model')"
   ]
  },
  {
   "cell_type": "code",
   "execution_count": 50,
   "metadata": {
    "scrolled": false
   },
   "outputs": [
    {
     "name": "stdout",
     "output_type": "stream",
     "text": [
      "GPT2LMHeadModel (Input shape: ['4 x 1024'])\n",
      "================================================================\n",
      "Layer (type)         Output Shape         Param #    Trainable \n",
      "================================================================\n",
      "Embedding            4 x 1024 x 768       38,597,376 True      \n",
      "________________________________________________________________\n",
      "Embedding            4 x 1024 x 768       786,432    True      \n",
      "________________________________________________________________\n",
      "Dropout              4 x 1024 x 768       0          False     \n",
      "________________________________________________________________\n",
      "LayerNorm            4 x 1024 x 768       1,536      True      \n",
      "________________________________________________________________\n",
      "Conv1D               4 x 1024 x 2304      1,771,776  True      \n",
      "________________________________________________________________\n",
      "Conv1D               4 x 1024 x 768       590,592    True      \n",
      "________________________________________________________________\n",
      "Dropout              4 x 12 x 1024 x 102  0          False     \n",
      "________________________________________________________________\n",
      "Dropout              4 x 1024 x 768       0          False     \n",
      "________________________________________________________________\n",
      "LayerNorm            4 x 1024 x 768       1,536      True      \n",
      "________________________________________________________________\n",
      "Conv1D               4 x 1024 x 3072      2,362,368  True      \n",
      "________________________________________________________________\n",
      "Conv1D               4 x 1024 x 768       2,360,064  True      \n",
      "________________________________________________________________\n",
      "Dropout              4 x 1024 x 768       0          False     \n",
      "________________________________________________________________\n",
      "LayerNorm            4 x 1024 x 768       1,536      True      \n",
      "________________________________________________________________\n",
      "Conv1D               4 x 1024 x 2304      1,771,776  True      \n",
      "________________________________________________________________\n",
      "Conv1D               4 x 1024 x 768       590,592    True      \n",
      "________________________________________________________________\n",
      "Dropout              4 x 12 x 1024 x 102  0          False     \n",
      "________________________________________________________________\n",
      "Dropout              4 x 1024 x 768       0          False     \n",
      "________________________________________________________________\n",
      "LayerNorm            4 x 1024 x 768       1,536      True      \n",
      "________________________________________________________________\n",
      "Conv1D               4 x 1024 x 3072      2,362,368  True      \n",
      "________________________________________________________________\n",
      "Conv1D               4 x 1024 x 768       2,360,064  True      \n",
      "________________________________________________________________\n",
      "Dropout              4 x 1024 x 768       0          False     \n",
      "________________________________________________________________\n",
      "LayerNorm            4 x 1024 x 768       1,536      True      \n",
      "________________________________________________________________\n",
      "Conv1D               4 x 1024 x 2304      1,771,776  True      \n",
      "________________________________________________________________\n",
      "Conv1D               4 x 1024 x 768       590,592    True      \n",
      "________________________________________________________________\n",
      "Dropout              4 x 12 x 1024 x 102  0          False     \n",
      "________________________________________________________________\n",
      "Dropout              4 x 1024 x 768       0          False     \n",
      "________________________________________________________________\n",
      "LayerNorm            4 x 1024 x 768       1,536      True      \n",
      "________________________________________________________________\n",
      "Conv1D               4 x 1024 x 3072      2,362,368  True      \n",
      "________________________________________________________________\n",
      "Conv1D               4 x 1024 x 768       2,360,064  True      \n",
      "________________________________________________________________\n",
      "Dropout              4 x 1024 x 768       0          False     \n",
      "________________________________________________________________\n",
      "LayerNorm            4 x 1024 x 768       1,536      True      \n",
      "________________________________________________________________\n",
      "Conv1D               4 x 1024 x 2304      1,771,776  True      \n",
      "________________________________________________________________\n",
      "Conv1D               4 x 1024 x 768       590,592    True      \n",
      "________________________________________________________________\n",
      "Dropout              4 x 12 x 1024 x 102  0          False     \n",
      "________________________________________________________________\n",
      "Dropout              4 x 1024 x 768       0          False     \n",
      "________________________________________________________________\n",
      "LayerNorm            4 x 1024 x 768       1,536      True      \n",
      "________________________________________________________________\n",
      "Conv1D               4 x 1024 x 3072      2,362,368  True      \n",
      "________________________________________________________________\n",
      "Conv1D               4 x 1024 x 768       2,360,064  True      \n",
      "________________________________________________________________\n",
      "Dropout              4 x 1024 x 768       0          False     \n",
      "________________________________________________________________\n",
      "LayerNorm            4 x 1024 x 768       1,536      True      \n",
      "________________________________________________________________\n",
      "Conv1D               4 x 1024 x 2304      1,771,776  True      \n",
      "________________________________________________________________\n",
      "Conv1D               4 x 1024 x 768       590,592    True      \n",
      "________________________________________________________________\n",
      "Dropout              4 x 12 x 1024 x 102  0          False     \n",
      "________________________________________________________________\n",
      "Dropout              4 x 1024 x 768       0          False     \n",
      "________________________________________________________________\n",
      "LayerNorm            4 x 1024 x 768       1,536      True      \n",
      "________________________________________________________________\n",
      "Conv1D               4 x 1024 x 3072      2,362,368  True      \n",
      "________________________________________________________________\n",
      "Conv1D               4 x 1024 x 768       2,360,064  True      \n",
      "________________________________________________________________\n",
      "Dropout              4 x 1024 x 768       0          False     \n",
      "________________________________________________________________\n",
      "LayerNorm            4 x 1024 x 768       1,536      True      \n",
      "________________________________________________________________\n",
      "Conv1D               4 x 1024 x 2304      1,771,776  True      \n",
      "________________________________________________________________\n",
      "Conv1D               4 x 1024 x 768       590,592    True      \n",
      "________________________________________________________________\n",
      "Dropout              4 x 12 x 1024 x 102  0          False     \n",
      "________________________________________________________________\n",
      "Dropout              4 x 1024 x 768       0          False     \n",
      "________________________________________________________________\n",
      "LayerNorm            4 x 1024 x 768       1,536      True      \n",
      "________________________________________________________________\n",
      "Conv1D               4 x 1024 x 3072      2,362,368  True      \n",
      "________________________________________________________________\n",
      "Conv1D               4 x 1024 x 768       2,360,064  True      \n",
      "________________________________________________________________\n",
      "Dropout              4 x 1024 x 768       0          False     \n",
      "________________________________________________________________\n",
      "LayerNorm            4 x 1024 x 768       1,536      True      \n",
      "________________________________________________________________\n",
      "Conv1D               4 x 1024 x 2304      1,771,776  True      \n",
      "________________________________________________________________\n",
      "Conv1D               4 x 1024 x 768       590,592    True      \n",
      "________________________________________________________________\n",
      "Dropout              4 x 12 x 1024 x 102  0          False     \n",
      "________________________________________________________________\n",
      "Dropout              4 x 1024 x 768       0          False     \n",
      "________________________________________________________________\n",
      "LayerNorm            4 x 1024 x 768       1,536      True      \n",
      "________________________________________________________________\n",
      "Conv1D               4 x 1024 x 3072      2,362,368  True      \n",
      "________________________________________________________________\n",
      "Conv1D               4 x 1024 x 768       2,360,064  True      \n",
      "________________________________________________________________\n",
      "Dropout              4 x 1024 x 768       0          False     \n",
      "________________________________________________________________\n",
      "LayerNorm            4 x 1024 x 768       1,536      True      \n",
      "________________________________________________________________\n",
      "Conv1D               4 x 1024 x 2304      1,771,776  True      \n",
      "________________________________________________________________\n",
      "Conv1D               4 x 1024 x 768       590,592    True      \n",
      "________________________________________________________________\n",
      "Dropout              4 x 12 x 1024 x 102  0          False     \n",
      "________________________________________________________________\n",
      "Dropout              4 x 1024 x 768       0          False     \n",
      "________________________________________________________________\n",
      "LayerNorm            4 x 1024 x 768       1,536      True      \n",
      "________________________________________________________________\n",
      "Conv1D               4 x 1024 x 3072      2,362,368  True      \n",
      "________________________________________________________________\n",
      "Conv1D               4 x 1024 x 768       2,360,064  True      \n",
      "________________________________________________________________\n",
      "Dropout              4 x 1024 x 768       0          False     \n",
      "________________________________________________________________\n",
      "LayerNorm            4 x 1024 x 768       1,536      True      \n",
      "________________________________________________________________\n",
      "Conv1D               4 x 1024 x 2304      1,771,776  True      \n",
      "________________________________________________________________\n",
      "Conv1D               4 x 1024 x 768       590,592    True      \n",
      "________________________________________________________________\n",
      "Dropout              4 x 12 x 1024 x 102  0          False     \n",
      "________________________________________________________________\n",
      "Dropout              4 x 1024 x 768       0          False     \n",
      "________________________________________________________________\n",
      "LayerNorm            4 x 1024 x 768       1,536      True      \n",
      "________________________________________________________________\n",
      "Conv1D               4 x 1024 x 3072      2,362,368  True      \n",
      "________________________________________________________________\n",
      "Conv1D               4 x 1024 x 768       2,360,064  True      \n",
      "________________________________________________________________\n",
      "Dropout              4 x 1024 x 768       0          False     \n",
      "________________________________________________________________\n",
      "LayerNorm            4 x 1024 x 768       1,536      True      \n",
      "________________________________________________________________\n",
      "Conv1D               4 x 1024 x 2304      1,771,776  True      \n",
      "________________________________________________________________\n",
      "Conv1D               4 x 1024 x 768       590,592    True      \n",
      "________________________________________________________________\n",
      "Dropout              4 x 12 x 1024 x 102  0          False     \n",
      "________________________________________________________________\n",
      "Dropout              4 x 1024 x 768       0          False     \n",
      "________________________________________________________________\n",
      "LayerNorm            4 x 1024 x 768       1,536      True      \n",
      "________________________________________________________________\n",
      "Conv1D               4 x 1024 x 3072      2,362,368  True      \n",
      "________________________________________________________________\n",
      "Conv1D               4 x 1024 x 768       2,360,064  True      \n",
      "________________________________________________________________\n",
      "Dropout              4 x 1024 x 768       0          False     \n",
      "________________________________________________________________\n",
      "LayerNorm            4 x 1024 x 768       1,536      True      \n",
      "________________________________________________________________\n",
      "Conv1D               4 x 1024 x 2304      1,771,776  True      \n",
      "________________________________________________________________\n",
      "Conv1D               4 x 1024 x 768       590,592    True      \n",
      "________________________________________________________________\n",
      "Dropout              4 x 12 x 1024 x 102  0          False     \n",
      "________________________________________________________________\n",
      "Dropout              4 x 1024 x 768       0          False     \n",
      "________________________________________________________________\n",
      "LayerNorm            4 x 1024 x 768       1,536      True      \n",
      "________________________________________________________________\n",
      "Conv1D               4 x 1024 x 3072      2,362,368  True      \n",
      "________________________________________________________________\n",
      "Conv1D               4 x 1024 x 768       2,360,064  True      \n",
      "________________________________________________________________\n",
      "Dropout              4 x 1024 x 768       0          False     \n",
      "________________________________________________________________\n",
      "LayerNorm            4 x 1024 x 768       1,536      True      \n",
      "________________________________________________________________\n",
      "Conv1D               4 x 1024 x 2304      1,771,776  True      \n",
      "________________________________________________________________\n",
      "Conv1D               4 x 1024 x 768       590,592    True      \n",
      "________________________________________________________________\n",
      "Dropout              4 x 12 x 1024 x 102  0          False     \n",
      "________________________________________________________________\n",
      "Dropout              4 x 1024 x 768       0          False     \n",
      "________________________________________________________________\n",
      "LayerNorm            4 x 1024 x 768       1,536      True      \n",
      "________________________________________________________________\n",
      "Conv1D               4 x 1024 x 3072      2,362,368  True      \n",
      "________________________________________________________________\n",
      "Conv1D               4 x 1024 x 768       2,360,064  True      \n",
      "________________________________________________________________\n",
      "Dropout              4 x 1024 x 768       0          False     \n",
      "________________________________________________________________\n",
      "LayerNorm            4 x 1024 x 768       1,536      True      \n",
      "________________________________________________________________\n",
      "Linear               4 x 1024 x 50257     38,597,376 True      \n",
      "________________________________________________________________\n",
      "\n",
      "Total params: 163,037,184\n",
      "Total trainable params: 163,037,184\n",
      "Total non-trainable params: 0\n",
      "\n",
      "Optimizer used: <function Adam at 0x7f0095c4ac80>\n",
      "Loss function: FlattenedLoss of CrossEntropyLoss()\n",
      "\n",
      "Model unfrozen\n",
      "\n",
      "Callbacks:\n",
      "  - DropOutput\n",
      "  - TerminateOnNaNCallback\n",
      "  - ModelToHalf\n",
      "  - TrainEvalCallback\n",
      "  - Recorder\n",
      "  - ProgressCallback\n",
      "  - MixedPrecision\n"
     ]
    }
   ],
   "source": [
    "print(learn.summary()) "
   ]
  },
  {
   "cell_type": "code",
   "execution_count": null,
   "metadata": {},
   "outputs": [],
   "source": []
  }
 ],
 "metadata": {
  "kernelspec": {
   "display_name": "Python 3",
   "language": "python",
   "name": "python3"
  },
  "language_info": {
   "codemirror_mode": {
    "name": "ipython",
    "version": 3
   },
   "file_extension": ".py",
   "mimetype": "text/x-python",
   "name": "python",
   "nbconvert_exporter": "python",
   "pygments_lexer": "ipython3",
   "version": "3.7.3"
  }
 },
 "nbformat": 4,
 "nbformat_minor": 4
}
